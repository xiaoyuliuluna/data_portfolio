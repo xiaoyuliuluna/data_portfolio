{
 "cells": [
  {
   "cell_type": "markdown",
   "id": "f305407b",
   "metadata": {
    "id": "_UIlFEeYA56j",
    "papermill": {
     "duration": 0.0221,
     "end_time": "2024-11-05T02:39:34.541938",
     "exception": false,
     "start_time": "2024-11-05T02:39:34.519838",
     "status": "completed"
    },
    "tags": []
   },
   "source": [
    "# Loan Prediction Problem\n",
    "A Finance company wants to automate the loan eligibility process based on the customer details provided while filling application form. These details are Gender,Marital Status, Education, Number of Dependents, Income, Loan Amount, Credit History and others. To automate this process, they have given a problem to identify the customers segments, those are eligible for loan amount so that they can specifically target these customers."
   ]
  },
  {
   "cell_type": "markdown",
   "id": "f1a17932",
   "metadata": {
    "id": "xCl80E3qBEsr",
    "papermill": {
     "duration": 0.018123,
     "end_time": "2024-11-05T02:39:34.579061",
     "exception": false,
     "start_time": "2024-11-05T02:39:34.560938",
     "status": "completed"
    },
    "tags": []
   },
   "source": [
    "# Importing Libraries\n"
   ]
  },
  {
   "cell_type": "code",
   "execution_count": 1,
   "id": "b635edda",
   "metadata": {
    "execution": {
     "iopub.execute_input": "2024-11-05T02:39:34.619178Z",
     "iopub.status.busy": "2024-11-05T02:39:34.618668Z",
     "iopub.status.idle": "2024-11-05T02:39:37.946726Z",
     "shell.execute_reply": "2024-11-05T02:39:37.945272Z"
    },
    "id": "O--8hlQu7Rew",
    "papermill": {
     "duration": 3.351156,
     "end_time": "2024-11-05T02:39:37.949439",
     "exception": false,
     "start_time": "2024-11-05T02:39:34.598283",
     "status": "completed"
    },
    "tags": []
   },
   "outputs": [],
   "source": [
    "import numpy as np\n",
    "import pandas as pd\n",
    "import matplotlib.pyplot as plt\n",
    "import seaborn as sns\n",
    "import warnings\n",
    "\n",
    "warnings.filterwarnings(\"ignore\")\n",
    "\n",
    "%matplotlib inline"
   ]
  },
  {
   "cell_type": "markdown",
   "id": "ce30006c",
   "metadata": {
    "id": "a6if9CzLBegk",
    "papermill": {
     "duration": 0.018435,
     "end_time": "2024-11-05T02:39:37.986816",
     "exception": false,
     "start_time": "2024-11-05T02:39:37.968381",
     "status": "completed"
    },
    "tags": []
   },
   "source": [
    "# Data loading and cleaning"
   ]
  },
  {
   "cell_type": "code",
   "execution_count": 2,
   "id": "b2edc295",
   "metadata": {
    "execution": {
     "iopub.execute_input": "2024-11-05T02:39:38.025902Z",
     "iopub.status.busy": "2024-11-05T02:39:38.025285Z",
     "iopub.status.idle": "2024-11-05T02:39:38.064772Z",
     "shell.execute_reply": "2024-11-05T02:39:38.063606Z"
    },
    "id": "38eC4ExhBY9V",
    "papermill": {
     "duration": 0.062307,
     "end_time": "2024-11-05T02:39:38.067596",
     "exception": false,
     "start_time": "2024-11-05T02:39:38.005289",
     "status": "completed"
    },
    "tags": []
   },
   "outputs": [],
   "source": [
    "# Loading dataset\n",
    "train = pd.read_csv('/kaggle/input/loan-data/train_u6lujuX_CVtuZ9i (2).csv')\n",
    "predict = pd.read_csv('/kaggle/input/loan-data/test_Y3wMUE5_7gLdaTN (1).csv')"
   ]
  },
  {
   "cell_type": "markdown",
   "id": "ad45ed5f",
   "metadata": {
    "id": "6GcsZCKu7oXv",
    "papermill": {
     "duration": 0.018267,
     "end_time": "2024-11-05T02:39:38.105455",
     "exception": false,
     "start_time": "2024-11-05T02:39:38.087188",
     "status": "completed"
    },
    "tags": []
   },
   "source": [
    "Make copy of the original datasets so we do not hamper the original datasets."
   ]
  },
  {
   "cell_type": "code",
   "execution_count": 3,
   "id": "8ad05644",
   "metadata": {
    "execution": {
     "iopub.execute_input": "2024-11-05T02:39:38.146072Z",
     "iopub.status.busy": "2024-11-05T02:39:38.145526Z",
     "iopub.status.idle": "2024-11-05T02:39:38.152030Z",
     "shell.execute_reply": "2024-11-05T02:39:38.150825Z"
    },
    "id": "OjBg99q37jd9",
    "papermill": {
     "duration": 0.029878,
     "end_time": "2024-11-05T02:39:38.154678",
     "exception": false,
     "start_time": "2024-11-05T02:39:38.124800",
     "status": "completed"
    },
    "tags": []
   },
   "outputs": [],
   "source": [
    "train_original = train.copy()\n",
    "predict_original = predict.copy()"
   ]
  },
  {
   "cell_type": "code",
   "execution_count": 4,
   "id": "78fd5b54",
   "metadata": {
    "execution": {
     "iopub.execute_input": "2024-11-05T02:39:38.194244Z",
     "iopub.status.busy": "2024-11-05T02:39:38.193756Z",
     "iopub.status.idle": "2024-11-05T02:39:38.225940Z",
     "shell.execute_reply": "2024-11-05T02:39:38.224822Z"
    },
    "id": "P4ip-6BPAPSJ",
    "outputId": "c896e91c-f467-4397-a3a4-2354f0e86efb",
    "papermill": {
     "duration": 0.054399,
     "end_time": "2024-11-05T02:39:38.228279",
     "exception": false,
     "start_time": "2024-11-05T02:39:38.173880",
     "status": "completed"
    },
    "tags": []
   },
   "outputs": [
    {
     "data": {
      "text/html": [
       "<div>\n",
       "<style scoped>\n",
       "    .dataframe tbody tr th:only-of-type {\n",
       "        vertical-align: middle;\n",
       "    }\n",
       "\n",
       "    .dataframe tbody tr th {\n",
       "        vertical-align: top;\n",
       "    }\n",
       "\n",
       "    .dataframe thead th {\n",
       "        text-align: right;\n",
       "    }\n",
       "</style>\n",
       "<table border=\"1\" class=\"dataframe\">\n",
       "  <thead>\n",
       "    <tr style=\"text-align: right;\">\n",
       "      <th></th>\n",
       "      <th>Loan_ID</th>\n",
       "      <th>Gender</th>\n",
       "      <th>Married</th>\n",
       "      <th>Dependents</th>\n",
       "      <th>Education</th>\n",
       "      <th>Self_Employed</th>\n",
       "      <th>ApplicantIncome</th>\n",
       "      <th>CoapplicantIncome</th>\n",
       "      <th>LoanAmount</th>\n",
       "      <th>Loan_Amount_Term</th>\n",
       "      <th>Credit_History</th>\n",
       "      <th>Property_Area</th>\n",
       "      <th>Loan_Status</th>\n",
       "    </tr>\n",
       "  </thead>\n",
       "  <tbody>\n",
       "    <tr>\n",
       "      <th>0</th>\n",
       "      <td>LP001002</td>\n",
       "      <td>Male</td>\n",
       "      <td>No</td>\n",
       "      <td>0</td>\n",
       "      <td>Graduate</td>\n",
       "      <td>No</td>\n",
       "      <td>5849</td>\n",
       "      <td>0.0</td>\n",
       "      <td>NaN</td>\n",
       "      <td>360.0</td>\n",
       "      <td>1.0</td>\n",
       "      <td>Urban</td>\n",
       "      <td>Y</td>\n",
       "    </tr>\n",
       "    <tr>\n",
       "      <th>1</th>\n",
       "      <td>LP001003</td>\n",
       "      <td>Male</td>\n",
       "      <td>Yes</td>\n",
       "      <td>1</td>\n",
       "      <td>Graduate</td>\n",
       "      <td>No</td>\n",
       "      <td>4583</td>\n",
       "      <td>1508.0</td>\n",
       "      <td>128.0</td>\n",
       "      <td>360.0</td>\n",
       "      <td>1.0</td>\n",
       "      <td>Rural</td>\n",
       "      <td>N</td>\n",
       "    </tr>\n",
       "    <tr>\n",
       "      <th>2</th>\n",
       "      <td>LP001005</td>\n",
       "      <td>Male</td>\n",
       "      <td>Yes</td>\n",
       "      <td>0</td>\n",
       "      <td>Graduate</td>\n",
       "      <td>Yes</td>\n",
       "      <td>3000</td>\n",
       "      <td>0.0</td>\n",
       "      <td>66.0</td>\n",
       "      <td>360.0</td>\n",
       "      <td>1.0</td>\n",
       "      <td>Urban</td>\n",
       "      <td>Y</td>\n",
       "    </tr>\n",
       "  </tbody>\n",
       "</table>\n",
       "</div>"
      ],
      "text/plain": [
       "    Loan_ID Gender Married Dependents Education Self_Employed  \\\n",
       "0  LP001002   Male      No          0  Graduate            No   \n",
       "1  LP001003   Male     Yes          1  Graduate            No   \n",
       "2  LP001005   Male     Yes          0  Graduate           Yes   \n",
       "\n",
       "   ApplicantIncome  CoapplicantIncome  LoanAmount  Loan_Amount_Term  \\\n",
       "0             5849                0.0         NaN             360.0   \n",
       "1             4583             1508.0       128.0             360.0   \n",
       "2             3000                0.0        66.0             360.0   \n",
       "\n",
       "   Credit_History Property_Area Loan_Status  \n",
       "0             1.0         Urban           Y  \n",
       "1             1.0         Rural           N  \n",
       "2             1.0         Urban           Y  "
      ]
     },
     "execution_count": 4,
     "metadata": {},
     "output_type": "execute_result"
    }
   ],
   "source": [
    "train.head(3)"
   ]
  },
  {
   "cell_type": "code",
   "execution_count": 5,
   "id": "d557cbf1",
   "metadata": {
    "execution": {
     "iopub.execute_input": "2024-11-05T02:39:38.267556Z",
     "iopub.status.busy": "2024-11-05T02:39:38.266594Z",
     "iopub.status.idle": "2024-11-05T02:39:38.282348Z",
     "shell.execute_reply": "2024-11-05T02:39:38.281083Z"
    },
    "id": "NY7Vr6AxAYww",
    "outputId": "8e3d305a-fef7-4029-f91f-15a26f132d4b",
    "papermill": {
     "duration": 0.037954,
     "end_time": "2024-11-05T02:39:38.284812",
     "exception": false,
     "start_time": "2024-11-05T02:39:38.246858",
     "status": "completed"
    },
    "tags": []
   },
   "outputs": [
    {
     "data": {
      "text/html": [
       "<div>\n",
       "<style scoped>\n",
       "    .dataframe tbody tr th:only-of-type {\n",
       "        vertical-align: middle;\n",
       "    }\n",
       "\n",
       "    .dataframe tbody tr th {\n",
       "        vertical-align: top;\n",
       "    }\n",
       "\n",
       "    .dataframe thead th {\n",
       "        text-align: right;\n",
       "    }\n",
       "</style>\n",
       "<table border=\"1\" class=\"dataframe\">\n",
       "  <thead>\n",
       "    <tr style=\"text-align: right;\">\n",
       "      <th></th>\n",
       "      <th>Loan_ID</th>\n",
       "      <th>Gender</th>\n",
       "      <th>Married</th>\n",
       "      <th>Dependents</th>\n",
       "      <th>Education</th>\n",
       "      <th>Self_Employed</th>\n",
       "      <th>ApplicantIncome</th>\n",
       "      <th>CoapplicantIncome</th>\n",
       "      <th>LoanAmount</th>\n",
       "      <th>Loan_Amount_Term</th>\n",
       "      <th>Credit_History</th>\n",
       "      <th>Property_Area</th>\n",
       "    </tr>\n",
       "  </thead>\n",
       "  <tbody>\n",
       "    <tr>\n",
       "      <th>0</th>\n",
       "      <td>LP001015</td>\n",
       "      <td>Male</td>\n",
       "      <td>Yes</td>\n",
       "      <td>0</td>\n",
       "      <td>Graduate</td>\n",
       "      <td>No</td>\n",
       "      <td>5720</td>\n",
       "      <td>0</td>\n",
       "      <td>110.0</td>\n",
       "      <td>360.0</td>\n",
       "      <td>1.0</td>\n",
       "      <td>Urban</td>\n",
       "    </tr>\n",
       "    <tr>\n",
       "      <th>1</th>\n",
       "      <td>LP001022</td>\n",
       "      <td>Male</td>\n",
       "      <td>Yes</td>\n",
       "      <td>1</td>\n",
       "      <td>Graduate</td>\n",
       "      <td>No</td>\n",
       "      <td>3076</td>\n",
       "      <td>1500</td>\n",
       "      <td>126.0</td>\n",
       "      <td>360.0</td>\n",
       "      <td>1.0</td>\n",
       "      <td>Urban</td>\n",
       "    </tr>\n",
       "    <tr>\n",
       "      <th>2</th>\n",
       "      <td>LP001031</td>\n",
       "      <td>Male</td>\n",
       "      <td>Yes</td>\n",
       "      <td>2</td>\n",
       "      <td>Graduate</td>\n",
       "      <td>No</td>\n",
       "      <td>5000</td>\n",
       "      <td>1800</td>\n",
       "      <td>208.0</td>\n",
       "      <td>360.0</td>\n",
       "      <td>1.0</td>\n",
       "      <td>Urban</td>\n",
       "    </tr>\n",
       "  </tbody>\n",
       "</table>\n",
       "</div>"
      ],
      "text/plain": [
       "    Loan_ID Gender Married Dependents Education Self_Employed  \\\n",
       "0  LP001015   Male     Yes          0  Graduate            No   \n",
       "1  LP001022   Male     Yes          1  Graduate            No   \n",
       "2  LP001031   Male     Yes          2  Graduate            No   \n",
       "\n",
       "   ApplicantIncome  CoapplicantIncome  LoanAmount  Loan_Amount_Term  \\\n",
       "0             5720                  0       110.0             360.0   \n",
       "1             3076               1500       126.0             360.0   \n",
       "2             5000               1800       208.0             360.0   \n",
       "\n",
       "   Credit_History Property_Area  \n",
       "0             1.0         Urban  \n",
       "1             1.0         Urban  \n",
       "2             1.0         Urban  "
      ]
     },
     "execution_count": 5,
     "metadata": {},
     "output_type": "execute_result"
    }
   ],
   "source": [
    "predict.head(3)"
   ]
  },
  {
   "cell_type": "markdown",
   "id": "a1e9f708",
   "metadata": {
    "id": "HWlS5YdfDlXL",
    "papermill": {
     "duration": 0.018586,
     "end_time": "2024-11-05T02:39:38.322517",
     "exception": false,
     "start_time": "2024-11-05T02:39:38.303931",
     "status": "completed"
    },
    "tags": []
   },
   "source": [
    "## Data Cleaning - Checking and working with missing value"
   ]
  },
  {
   "cell_type": "code",
   "execution_count": 6,
   "id": "d8689a8b",
   "metadata": {
    "execution": {
     "iopub.execute_input": "2024-11-05T02:39:38.362732Z",
     "iopub.status.busy": "2024-11-05T02:39:38.362284Z",
     "iopub.status.idle": "2024-11-05T02:39:38.398228Z",
     "shell.execute_reply": "2024-11-05T02:39:38.396741Z"
    },
    "id": "Bcgb6LQVEUy4",
    "outputId": "588d3145-d19c-4ce0-ff3f-c12edff68af8",
    "papermill": {
     "duration": 0.059727,
     "end_time": "2024-11-05T02:39:38.401114",
     "exception": false,
     "start_time": "2024-11-05T02:39:38.341387",
     "status": "completed"
    },
    "tags": []
   },
   "outputs": [
    {
     "name": "stdout",
     "output_type": "stream",
     "text": [
      "<class 'pandas.core.frame.DataFrame'>\n",
      "RangeIndex: 614 entries, 0 to 613\n",
      "Data columns (total 13 columns):\n",
      " #   Column             Non-Null Count  Dtype  \n",
      "---  ------             --------------  -----  \n",
      " 0   Loan_ID            614 non-null    object \n",
      " 1   Gender             601 non-null    object \n",
      " 2   Married            611 non-null    object \n",
      " 3   Dependents         599 non-null    object \n",
      " 4   Education          614 non-null    object \n",
      " 5   Self_Employed      582 non-null    object \n",
      " 6   ApplicantIncome    614 non-null    int64  \n",
      " 7   CoapplicantIncome  614 non-null    float64\n",
      " 8   LoanAmount         592 non-null    float64\n",
      " 9   Loan_Amount_Term   600 non-null    float64\n",
      " 10  Credit_History     564 non-null    float64\n",
      " 11  Property_Area      614 non-null    object \n",
      " 12  Loan_Status        614 non-null    object \n",
      "dtypes: float64(4), int64(1), object(8)\n",
      "memory usage: 62.5+ KB\n"
     ]
    }
   ],
   "source": [
    "train.info()"
   ]
  },
  {
   "cell_type": "code",
   "execution_count": 7,
   "id": "d9852eba",
   "metadata": {
    "execution": {
     "iopub.execute_input": "2024-11-05T02:39:38.440892Z",
     "iopub.status.busy": "2024-11-05T02:39:38.440466Z",
     "iopub.status.idle": "2024-11-05T02:39:38.452973Z",
     "shell.execute_reply": "2024-11-05T02:39:38.451826Z"
    },
    "id": "ifc8k-2-EWQM",
    "outputId": "8560ba8f-a48e-48a6-e32e-509ca66c1355",
    "papermill": {
     "duration": 0.035698,
     "end_time": "2024-11-05T02:39:38.455942",
     "exception": false,
     "start_time": "2024-11-05T02:39:38.420244",
     "status": "completed"
    },
    "tags": []
   },
   "outputs": [
    {
     "name": "stdout",
     "output_type": "stream",
     "text": [
      "<class 'pandas.core.frame.DataFrame'>\n",
      "RangeIndex: 367 entries, 0 to 366\n",
      "Data columns (total 12 columns):\n",
      " #   Column             Non-Null Count  Dtype  \n",
      "---  ------             --------------  -----  \n",
      " 0   Loan_ID            367 non-null    object \n",
      " 1   Gender             356 non-null    object \n",
      " 2   Married            367 non-null    object \n",
      " 3   Dependents         357 non-null    object \n",
      " 4   Education          367 non-null    object \n",
      " 5   Self_Employed      344 non-null    object \n",
      " 6   ApplicantIncome    367 non-null    int64  \n",
      " 7   CoapplicantIncome  367 non-null    int64  \n",
      " 8   LoanAmount         362 non-null    float64\n",
      " 9   Loan_Amount_Term   361 non-null    float64\n",
      " 10  Credit_History     338 non-null    float64\n",
      " 11  Property_Area      367 non-null    object \n",
      "dtypes: float64(3), int64(2), object(7)\n",
      "memory usage: 34.5+ KB\n"
     ]
    }
   ],
   "source": [
    "predict.info()"
   ]
  },
  {
   "cell_type": "code",
   "execution_count": 8,
   "id": "cc0731bc",
   "metadata": {
    "execution": {
     "iopub.execute_input": "2024-11-05T02:39:38.496121Z",
     "iopub.status.busy": "2024-11-05T02:39:38.495387Z",
     "iopub.status.idle": "2024-11-05T02:39:38.506433Z",
     "shell.execute_reply": "2024-11-05T02:39:38.505281Z"
    },
    "papermill": {
     "duration": 0.033697,
     "end_time": "2024-11-05T02:39:38.508759",
     "exception": false,
     "start_time": "2024-11-05T02:39:38.475062",
     "status": "completed"
    },
    "tags": []
   },
   "outputs": [],
   "source": [
    "train.drop('Loan_ID',axis=1,inplace=True)"
   ]
  },
  {
   "cell_type": "code",
   "execution_count": 9,
   "id": "dfa9bb84",
   "metadata": {
    "execution": {
     "iopub.execute_input": "2024-11-05T02:39:38.549930Z",
     "iopub.status.busy": "2024-11-05T02:39:38.549508Z",
     "iopub.status.idle": "2024-11-05T02:39:38.558988Z",
     "shell.execute_reply": "2024-11-05T02:39:38.557732Z"
    },
    "papermill": {
     "duration": 0.033214,
     "end_time": "2024-11-05T02:39:38.561351",
     "exception": false,
     "start_time": "2024-11-05T02:39:38.528137",
     "status": "completed"
    },
    "tags": []
   },
   "outputs": [
    {
     "data": {
      "text/plain": [
       "Gender               13\n",
       "Married               3\n",
       "Dependents           15\n",
       "Education             0\n",
       "Self_Employed        32\n",
       "ApplicantIncome       0\n",
       "CoapplicantIncome     0\n",
       "LoanAmount           22\n",
       "Loan_Amount_Term     14\n",
       "Credit_History       50\n",
       "Property_Area         0\n",
       "Loan_Status           0\n",
       "dtype: int64"
      ]
     },
     "execution_count": 9,
     "metadata": {},
     "output_type": "execute_result"
    }
   ],
   "source": [
    "train.isnull().sum()"
   ]
  },
  {
   "cell_type": "code",
   "execution_count": 10,
   "id": "e3defe40",
   "metadata": {
    "execution": {
     "iopub.execute_input": "2024-11-05T02:39:38.602535Z",
     "iopub.status.busy": "2024-11-05T02:39:38.601690Z",
     "iopub.status.idle": "2024-11-05T02:39:38.938437Z",
     "shell.execute_reply": "2024-11-05T02:39:38.937156Z"
    },
    "papermill": {
     "duration": 0.360467,
     "end_time": "2024-11-05T02:39:38.941084",
     "exception": false,
     "start_time": "2024-11-05T02:39:38.580617",
     "status": "completed"
    },
    "tags": []
   },
   "outputs": [
    {
     "data": {
      "text/plain": [
       "<Axes: >"
      ]
     },
     "execution_count": 10,
     "metadata": {},
     "output_type": "execute_result"
    },
    {
     "data": {
      "image/png": "[encoded data removed]",
      "text/plain": [
       "<Figure size 640x480 with 1 Axes>"
      ]
     },
     "metadata": {},
     "output_type": "display_data"
    }
   ],
   "source": [
    "train.LoanAmount.hist()"
   ]
  },
  {
   "cell_type": "code",
   "execution_count": 11,
   "id": "68e23e5b",
   "metadata": {
    "execution": {
     "iopub.execute_input": "2024-11-05T02:39:38.982915Z",
     "iopub.status.busy": "2024-11-05T02:39:38.982494Z",
     "iopub.status.idle": "2024-11-05T02:39:38.999001Z",
     "shell.execute_reply": "2024-11-05T02:39:38.997794Z"
    },
    "papermill": {
     "duration": 0.040084,
     "end_time": "2024-11-05T02:39:39.001668",
     "exception": false,
     "start_time": "2024-11-05T02:39:38.961584",
     "status": "completed"
    },
    "tags": []
   },
   "outputs": [],
   "source": [
    "train=train.replace(\"\",np.nan)\n",
    "train['Gender']=train['Gender'].fillna(train['Gender'].mode()[0])\n",
    "train['Married']=train['Married'].fillna(train['Married'].mode()[0])\n",
    "train['Dependents']=train['Dependents'].fillna(train['Dependents'].mode()[0])\n",
    "train['Self_Employed']=train['Self_Employed'].fillna(train['Self_Employed'].mode()[0])\n",
    "train['Loan_Amount_Term']=train['Loan_Amount_Term'].fillna(train['Loan_Amount_Term'].mode()[0])\n",
    "train['Credit_History']=train['Credit_History'].fillna(train['Credit_History'].mode()[0])"
   ]
  },
  {
   "cell_type": "markdown",
   "id": "f776dea4",
   "metadata": {
    "papermill": {
     "duration": 0.019347,
     "end_time": "2024-11-05T02:39:39.040841",
     "exception": false,
     "start_time": "2024-11-05T02:39:39.021494",
     "status": "completed"
    },
    "tags": []
   },
   "source": [
    "**Use KNN to predict missing value for train dataset**"
   ]
  },
  {
   "cell_type": "code",
   "execution_count": 12,
   "id": "04a3046e",
   "metadata": {
    "execution": {
     "iopub.execute_input": "2024-11-05T02:39:39.081657Z",
     "iopub.status.busy": "2024-11-05T02:39:39.081238Z",
     "iopub.status.idle": "2024-11-05T02:39:39.678185Z",
     "shell.execute_reply": "2024-11-05T02:39:39.677064Z"
    },
    "papermill": {
     "duration": 0.620696,
     "end_time": "2024-11-05T02:39:39.680947",
     "exception": false,
     "start_time": "2024-11-05T02:39:39.060251",
     "status": "completed"
    },
    "tags": []
   },
   "outputs": [],
   "source": [
    "from sklearn.impute import KNNImputer\n",
    "imputer = KNNImputer(n_neighbors=5) \n",
    "train[['LoanAmount']] = imputer.fit_transform(train[['LoanAmount']])"
   ]
  },
  {
   "cell_type": "code",
   "execution_count": 13,
   "id": "8694aa4f",
   "metadata": {
    "execution": {
     "iopub.execute_input": "2024-11-05T02:39:39.724823Z",
     "iopub.status.busy": "2024-11-05T02:39:39.724398Z",
     "iopub.status.idle": "2024-11-05T02:39:39.735254Z",
     "shell.execute_reply": "2024-11-05T02:39:39.733714Z"
    },
    "papermill": {
     "duration": 0.036023,
     "end_time": "2024-11-05T02:39:39.738500",
     "exception": false,
     "start_time": "2024-11-05T02:39:39.702477",
     "status": "completed"
    },
    "tags": []
   },
   "outputs": [
    {
     "data": {
      "text/plain": [
       "Gender               0\n",
       "Married              0\n",
       "Dependents           0\n",
       "Education            0\n",
       "Self_Employed        0\n",
       "ApplicantIncome      0\n",
       "CoapplicantIncome    0\n",
       "LoanAmount           0\n",
       "Loan_Amount_Term     0\n",
       "Credit_History       0\n",
       "Property_Area        0\n",
       "Loan_Status          0\n",
       "dtype: int64"
      ]
     },
     "execution_count": 13,
     "metadata": {},
     "output_type": "execute_result"
    }
   ],
   "source": [
    "train.isnull().sum()"
   ]
  },
  {
   "cell_type": "code",
   "execution_count": 14,
   "id": "5d659598",
   "metadata": {
    "execution": {
     "iopub.execute_input": "2024-11-05T02:39:39.795849Z",
     "iopub.status.busy": "2024-11-05T02:39:39.794684Z",
     "iopub.status.idle": "2024-11-05T02:39:39.803728Z",
     "shell.execute_reply": "2024-11-05T02:39:39.801756Z"
    },
    "papermill": {
     "duration": 0.04325,
     "end_time": "2024-11-05T02:39:39.807742",
     "exception": false,
     "start_time": "2024-11-05T02:39:39.764492",
     "status": "completed"
    },
    "tags": []
   },
   "outputs": [],
   "source": [
    "predict.drop('Loan_ID',axis=1,inplace=True)"
   ]
  },
  {
   "cell_type": "code",
   "execution_count": 15,
   "id": "f0f642a4",
   "metadata": {
    "execution": {
     "iopub.execute_input": "2024-11-05T02:39:39.867775Z",
     "iopub.status.busy": "2024-11-05T02:39:39.867294Z",
     "iopub.status.idle": "2024-11-05T02:39:39.877135Z",
     "shell.execute_reply": "2024-11-05T02:39:39.875870Z"
    },
    "papermill": {
     "duration": 0.043374,
     "end_time": "2024-11-05T02:39:39.879602",
     "exception": false,
     "start_time": "2024-11-05T02:39:39.836228",
     "status": "completed"
    },
    "tags": []
   },
   "outputs": [
    {
     "data": {
      "text/plain": [
       "Gender               11\n",
       "Married               0\n",
       "Dependents           10\n",
       "Education             0\n",
       "Self_Employed        23\n",
       "ApplicantIncome       0\n",
       "CoapplicantIncome     0\n",
       "LoanAmount            5\n",
       "Loan_Amount_Term      6\n",
       "Credit_History       29\n",
       "Property_Area         0\n",
       "dtype: int64"
      ]
     },
     "execution_count": 15,
     "metadata": {},
     "output_type": "execute_result"
    }
   ],
   "source": [
    "predict.isnull().sum()"
   ]
  },
  {
   "cell_type": "code",
   "execution_count": 16,
   "id": "488962ad",
   "metadata": {
    "execution": {
     "iopub.execute_input": "2024-11-05T02:39:39.921248Z",
     "iopub.status.busy": "2024-11-05T02:39:39.920766Z",
     "iopub.status.idle": "2024-11-05T02:39:40.203280Z",
     "shell.execute_reply": "2024-11-05T02:39:40.202204Z"
    },
    "papermill": {
     "duration": 0.306313,
     "end_time": "2024-11-05T02:39:40.205847",
     "exception": false,
     "start_time": "2024-11-05T02:39:39.899534",
     "status": "completed"
    },
    "tags": []
   },
   "outputs": [
    {
     "data": {
      "text/plain": [
       "<Axes: >"
      ]
     },
     "execution_count": 16,
     "metadata": {},
     "output_type": "execute_result"
    },
    {
     "data": {
      "image/png": "[encoded data removed]",
      "text/plain": [
       "<Figure size 640x480 with 1 Axes>"
      ]
     },
     "metadata": {},
     "output_type": "display_data"
    }
   ],
   "source": [
    "predict.LoanAmount.hist()"
   ]
  },
  {
   "cell_type": "code",
   "execution_count": 17,
   "id": "1ab94a42",
   "metadata": {
    "execution": {
     "iopub.execute_input": "2024-11-05T02:39:40.248239Z",
     "iopub.status.busy": "2024-11-05T02:39:40.247800Z",
     "iopub.status.idle": "2024-11-05T02:39:40.260068Z",
     "shell.execute_reply": "2024-11-05T02:39:40.259022Z"
    },
    "papermill": {
     "duration": 0.036428,
     "end_time": "2024-11-05T02:39:40.262485",
     "exception": false,
     "start_time": "2024-11-05T02:39:40.226057",
     "status": "completed"
    },
    "tags": []
   },
   "outputs": [],
   "source": [
    "predict=predict.replace(\"\",np.nan)\n",
    "predict['Gender']=predict['Gender'].fillna(predict['Gender'].mode()[0])\n",
    "predict['Dependents']=predict['Dependents'].fillna(predict['Dependents'].mode()[0])\n",
    "predict['Self_Employed']=predict['Self_Employed'].fillna(predict['Self_Employed'].mode()[0])\n",
    "predict['Loan_Amount_Term']=predict['Loan_Amount_Term'].fillna(predict['Loan_Amount_Term'].mode()[0])\n",
    "predict['Credit_History']=predict['Credit_History'].fillna(predict['Credit_History'].mode()[0])"
   ]
  },
  {
   "cell_type": "markdown",
   "id": "cc9f560e",
   "metadata": {
    "papermill": {
     "duration": 0.020053,
     "end_time": "2024-11-05T02:39:40.302769",
     "exception": false,
     "start_time": "2024-11-05T02:39:40.282716",
     "status": "completed"
    },
    "tags": []
   },
   "source": [
    "**Use linear Regression to predict missing value for predict dataset**"
   ]
  },
  {
   "cell_type": "code",
   "execution_count": 18,
   "id": "a9e1a50e",
   "metadata": {
    "execution": {
     "iopub.execute_input": "2024-11-05T02:39:40.345525Z",
     "iopub.status.busy": "2024-11-05T02:39:40.345093Z",
     "iopub.status.idle": "2024-11-05T02:39:40.400832Z",
     "shell.execute_reply": "2024-11-05T02:39:40.399449Z"
    },
    "papermill": {
     "duration": 0.080242,
     "end_time": "2024-11-05T02:39:40.403492",
     "exception": false,
     "start_time": "2024-11-05T02:39:40.323250",
     "status": "completed"
    },
    "tags": []
   },
   "outputs": [
    {
     "name": "stdout",
     "output_type": "stream",
     "text": [
      "0      110.0\n",
      "1      126.0\n",
      "2      208.0\n",
      "3      100.0\n",
      "4       78.0\n",
      "       ...  \n",
      "362    113.0\n",
      "363    115.0\n",
      "364    126.0\n",
      "365    158.0\n",
      "366     98.0\n",
      "Name: LoanAmount, Length: 367, dtype: float64\n"
     ]
    }
   ],
   "source": [
    "from sklearn.linear_model import LinearRegression\n",
    "\n",
    "# 1. get_dummies to process categorical column\n",
    "predict_encoded = pd.get_dummies(predict)\n",
    "\n",
    "# 2. seperate null and nonull into two column\n",
    "predict_with_loan = predict_encoded[predict_encoded['LoanAmount'].notnull()]\n",
    "predict_without_loan = predict_encoded[predict_encoded['LoanAmount'].isnull()]\n",
    "\n",
    "# 3. define predictor column ( no loanamount)\n",
    "predictor_columns = predict_encoded.columns.drop('LoanAmount')\n",
    "\n",
    "# 4. train model\n",
    "X_train = predict_with_loan[predictor_columns]\n",
    "y_train = predict_with_loan['LoanAmount']\n",
    "regressor = LinearRegression()\n",
    "regressor.fit(X_train, y_train)\n",
    "\n",
    "# 5. predict missing value\n",
    "X_missing = predict_without_loan[predictor_columns]\n",
    "loan_predicted = regressor.predict(X_missing)\n",
    "\n",
    "# 6. fill value\n",
    "predict.loc[predict['LoanAmount'].isnull(), 'LoanAmount'] = loan_predicted\n",
    "\n",
    "print(predict['LoanAmount'])"
   ]
  },
  {
   "cell_type": "code",
   "execution_count": 19,
   "id": "5868b709",
   "metadata": {
    "execution": {
     "iopub.execute_input": "2024-11-05T02:39:40.446504Z",
     "iopub.status.busy": "2024-11-05T02:39:40.446081Z",
     "iopub.status.idle": "2024-11-05T02:39:40.455868Z",
     "shell.execute_reply": "2024-11-05T02:39:40.454779Z"
    },
    "papermill": {
     "duration": 0.034205,
     "end_time": "2024-11-05T02:39:40.458312",
     "exception": false,
     "start_time": "2024-11-05T02:39:40.424107",
     "status": "completed"
    },
    "tags": []
   },
   "outputs": [
    {
     "data": {
      "text/plain": [
       "Gender               0\n",
       "Married              0\n",
       "Dependents           0\n",
       "Education            0\n",
       "Self_Employed        0\n",
       "ApplicantIncome      0\n",
       "CoapplicantIncome    0\n",
       "LoanAmount           0\n",
       "Loan_Amount_Term     0\n",
       "Credit_History       0\n",
       "Property_Area        0\n",
       "dtype: int64"
      ]
     },
     "execution_count": 19,
     "metadata": {},
     "output_type": "execute_result"
    }
   ],
   "source": [
    "predict.isnull().sum()"
   ]
  },
  {
   "cell_type": "code",
   "execution_count": 20,
   "id": "cb7026dc",
   "metadata": {
    "execution": {
     "iopub.execute_input": "2024-11-05T02:39:40.502272Z",
     "iopub.status.busy": "2024-11-05T02:39:40.501858Z",
     "iopub.status.idle": "2024-11-05T02:39:40.519996Z",
     "shell.execute_reply": "2024-11-05T02:39:40.518781Z"
    },
    "papermill": {
     "duration": 0.043893,
     "end_time": "2024-11-05T02:39:40.522940",
     "exception": false,
     "start_time": "2024-11-05T02:39:40.479047",
     "status": "completed"
    },
    "tags": []
   },
   "outputs": [
    {
     "data": {
      "text/html": [
       "<div>\n",
       "<style scoped>\n",
       "    .dataframe tbody tr th:only-of-type {\n",
       "        vertical-align: middle;\n",
       "    }\n",
       "\n",
       "    .dataframe tbody tr th {\n",
       "        vertical-align: top;\n",
       "    }\n",
       "\n",
       "    .dataframe thead th {\n",
       "        text-align: right;\n",
       "    }\n",
       "</style>\n",
       "<table border=\"1\" class=\"dataframe\">\n",
       "  <thead>\n",
       "    <tr style=\"text-align: right;\">\n",
       "      <th></th>\n",
       "      <th>Gender</th>\n",
       "      <th>Married</th>\n",
       "      <th>Dependents</th>\n",
       "      <th>Education</th>\n",
       "      <th>Self_Employed</th>\n",
       "      <th>ApplicantIncome</th>\n",
       "      <th>CoapplicantIncome</th>\n",
       "      <th>LoanAmount</th>\n",
       "      <th>Loan_Amount_Term</th>\n",
       "      <th>Credit_History</th>\n",
       "      <th>Property_Area</th>\n",
       "    </tr>\n",
       "  </thead>\n",
       "  <tbody>\n",
       "    <tr>\n",
       "      <th>0</th>\n",
       "      <td>Male</td>\n",
       "      <td>Yes</td>\n",
       "      <td>0</td>\n",
       "      <td>Graduate</td>\n",
       "      <td>No</td>\n",
       "      <td>5720</td>\n",
       "      <td>0</td>\n",
       "      <td>110.0</td>\n",
       "      <td>360.0</td>\n",
       "      <td>1.0</td>\n",
       "      <td>Urban</td>\n",
       "    </tr>\n",
       "    <tr>\n",
       "      <th>1</th>\n",
       "      <td>Male</td>\n",
       "      <td>Yes</td>\n",
       "      <td>1</td>\n",
       "      <td>Graduate</td>\n",
       "      <td>No</td>\n",
       "      <td>3076</td>\n",
       "      <td>1500</td>\n",
       "      <td>126.0</td>\n",
       "      <td>360.0</td>\n",
       "      <td>1.0</td>\n",
       "      <td>Urban</td>\n",
       "    </tr>\n",
       "    <tr>\n",
       "      <th>2</th>\n",
       "      <td>Male</td>\n",
       "      <td>Yes</td>\n",
       "      <td>2</td>\n",
       "      <td>Graduate</td>\n",
       "      <td>No</td>\n",
       "      <td>5000</td>\n",
       "      <td>1800</td>\n",
       "      <td>208.0</td>\n",
       "      <td>360.0</td>\n",
       "      <td>1.0</td>\n",
       "      <td>Urban</td>\n",
       "    </tr>\n",
       "    <tr>\n",
       "      <th>3</th>\n",
       "      <td>Male</td>\n",
       "      <td>Yes</td>\n",
       "      <td>2</td>\n",
       "      <td>Graduate</td>\n",
       "      <td>No</td>\n",
       "      <td>2340</td>\n",
       "      <td>2546</td>\n",
       "      <td>100.0</td>\n",
       "      <td>360.0</td>\n",
       "      <td>1.0</td>\n",
       "      <td>Urban</td>\n",
       "    </tr>\n",
       "    <tr>\n",
       "      <th>4</th>\n",
       "      <td>Male</td>\n",
       "      <td>No</td>\n",
       "      <td>0</td>\n",
       "      <td>Not Graduate</td>\n",
       "      <td>No</td>\n",
       "      <td>3276</td>\n",
       "      <td>0</td>\n",
       "      <td>78.0</td>\n",
       "      <td>360.0</td>\n",
       "      <td>1.0</td>\n",
       "      <td>Urban</td>\n",
       "    </tr>\n",
       "  </tbody>\n",
       "</table>\n",
       "</div>"
      ],
      "text/plain": [
       "  Gender Married Dependents     Education Self_Employed  ApplicantIncome  \\\n",
       "0   Male     Yes          0      Graduate            No             5720   \n",
       "1   Male     Yes          1      Graduate            No             3076   \n",
       "2   Male     Yes          2      Graduate            No             5000   \n",
       "3   Male     Yes          2      Graduate            No             2340   \n",
       "4   Male      No          0  Not Graduate            No             3276   \n",
       "\n",
       "   CoapplicantIncome  LoanAmount  Loan_Amount_Term  Credit_History  \\\n",
       "0                  0       110.0             360.0             1.0   \n",
       "1               1500       126.0             360.0             1.0   \n",
       "2               1800       208.0             360.0             1.0   \n",
       "3               2546       100.0             360.0             1.0   \n",
       "4                  0        78.0             360.0             1.0   \n",
       "\n",
       "  Property_Area  \n",
       "0         Urban  \n",
       "1         Urban  \n",
       "2         Urban  \n",
       "3         Urban  \n",
       "4         Urban  "
      ]
     },
     "execution_count": 20,
     "metadata": {},
     "output_type": "execute_result"
    }
   ],
   "source": [
    "predict.head()"
   ]
  },
  {
   "cell_type": "markdown",
   "id": "4402dc87",
   "metadata": {
    "id": "peU6VEgzEfwq",
    "papermill": {
     "duration": 0.02126,
     "end_time": "2024-11-05T02:39:40.565182",
     "exception": false,
     "start_time": "2024-11-05T02:39:40.543922",
     "status": "completed"
    },
    "tags": []
   },
   "source": [
    "# Exploratory Data Analysis"
   ]
  },
  {
   "cell_type": "markdown",
   "id": "3830f04b",
   "metadata": {
    "papermill": {
     "duration": 0.02038,
     "end_time": "2024-11-05T02:39:40.606360",
     "exception": false,
     "start_time": "2024-11-05T02:39:40.585980",
     "status": "completed"
    },
    "tags": []
   },
   "source": [
    "**Categorical**"
   ]
  },
  {
   "cell_type": "code",
   "execution_count": 21,
   "id": "e33c819a",
   "metadata": {
    "execution": {
     "iopub.execute_input": "2024-11-05T02:39:40.653486Z",
     "iopub.status.busy": "2024-11-05T02:39:40.653067Z",
     "iopub.status.idle": "2024-11-05T02:39:40.662446Z",
     "shell.execute_reply": "2024-11-05T02:39:40.661347Z"
    },
    "id": "aROlU02zEZO_",
    "outputId": "cfaa1594-9155-4b68-e2ea-d1d3a6fe7c43",
    "papermill": {
     "duration": 0.034863,
     "end_time": "2024-11-05T02:39:40.665141",
     "exception": false,
     "start_time": "2024-11-05T02:39:40.630278",
     "status": "completed"
    },
    "tags": []
   },
   "outputs": [
    {
     "data": {
      "text/plain": [
       "Loan_Status\n",
       "Y    422\n",
       "N    192\n",
       "Name: count, dtype: int64"
      ]
     },
     "execution_count": 21,
     "metadata": {},
     "output_type": "execute_result"
    }
   ],
   "source": [
    "train['Loan_Status'].value_counts()"
   ]
  },
  {
   "cell_type": "code",
   "execution_count": 22,
   "id": "774f7130",
   "metadata": {
    "execution": {
     "iopub.execute_input": "2024-11-05T02:39:40.709061Z",
     "iopub.status.busy": "2024-11-05T02:39:40.708616Z",
     "iopub.status.idle": "2024-11-05T02:39:41.002353Z",
     "shell.execute_reply": "2024-11-05T02:39:41.000993Z"
    },
    "id": "-GJtLHyfF72d",
    "outputId": "78a64f36-eff6-49f0-8395-ab504dfce7b4",
    "papermill": {
     "duration": 0.318456,
     "end_time": "2024-11-05T02:39:41.005023",
     "exception": false,
     "start_time": "2024-11-05T02:39:40.686567",
     "status": "completed"
    },
    "tags": []
   },
   "outputs": [
    {
     "data": {
      "text/plain": [
       "<Axes: title={'center': 'Loan Status'}, xlabel='Loan_Status'>"
      ]
     },
     "execution_count": 22,
     "metadata": {},
     "output_type": "execute_result"
    },
    {
     "data": {
      "image/png": "[encoded data removed]",
      "text/plain": [
       "<Figure size 1000x600 with 1 Axes>"
      ]
     },
     "metadata": {},
     "output_type": "display_data"
    }
   ],
   "source": [
    "train['Loan_Status'].value_counts().plot.bar(figsize=(10,6), title='Loan Status')"
   ]
  },
  {
   "cell_type": "markdown",
   "id": "379c769c",
   "metadata": {
    "papermill": {
     "duration": 0.02207,
     "end_time": "2024-11-05T02:39:41.048954",
     "exception": false,
     "start_time": "2024-11-05T02:39:41.026884",
     "status": "completed"
    },
    "tags": []
   },
   "source": [
    "**The loan of 422(around 69%) people out of 614 was approved.**"
   ]
  },
  {
   "cell_type": "code",
   "execution_count": 23,
   "id": "11a6d057",
   "metadata": {
    "execution": {
     "iopub.execute_input": "2024-11-05T02:39:41.092932Z",
     "iopub.status.busy": "2024-11-05T02:39:41.092497Z",
     "iopub.status.idle": "2024-11-05T02:39:42.006973Z",
     "shell.execute_reply": "2024-11-05T02:39:42.005612Z"
    },
    "id": "LNx-7FvNF-wk",
    "outputId": "c48173ae-8fd3-4d15-a922-3c3da2dfaae3",
    "papermill": {
     "duration": 0.939573,
     "end_time": "2024-11-05T02:39:42.009622",
     "exception": false,
     "start_time": "2024-11-05T02:39:41.070049",
     "status": "completed"
    },
    "tags": []
   },
   "outputs": [
    {
     "data": {
      "text/plain": [
       "<Axes: title={'center': 'Credit_History'}, xlabel='Credit_History'>"
      ]
     },
     "execution_count": 23,
     "metadata": {},
     "output_type": "execute_result"
    },
    {
     "data": {
      "image/png": "[encoded data removed]",
      "text/plain": [
       "<Figure size 2000x1000 with 4 Axes>"
      ]
     },
     "metadata": {},
     "output_type": "display_data"
    }
   ],
   "source": [
    "plt.figure(figsize=(10,8))\n",
    "plt.subplot(221)\n",
    "train['Gender'].value_counts(normalize=True).plot.bar(figsize=(20,10), title= 'Gender')\n",
    "plt.subplot(222)\n",
    "train['Married'].value_counts(normalize=True).plot.bar(title= 'Married')\n",
    "plt.subplot(223)\n",
    "train['Self_Employed'].value_counts(normalize=True).plot.bar(title= 'Self Employed')\n",
    "plt.subplot(224)\n",
    "train['Credit_History'].value_counts(normalize=True).plot.bar(title= 'Credit_History')"
   ]
  },
  {
   "cell_type": "markdown",
   "id": "504e6181",
   "metadata": {
    "id": "cWtHO__vGE7J",
    "papermill": {
     "duration": 0.021822,
     "end_time": "2024-11-05T02:39:42.053901",
     "exception": false,
     "start_time": "2024-11-05T02:39:42.032079",
     "status": "completed"
    },
    "tags": []
   },
   "source": [
    "- 80% applicants in the dataset are male.\n",
    "- Around 65% people are married.\n",
    "- Around 15% applicants in the dataset are self employed.\n",
    "- Around 85% applicants have repaid their debts."
   ]
  },
  {
   "cell_type": "code",
   "execution_count": 24,
   "id": "967356ab",
   "metadata": {
    "execution": {
     "iopub.execute_input": "2024-11-05T02:39:42.102615Z",
     "iopub.status.busy": "2024-11-05T02:39:42.102173Z",
     "iopub.status.idle": "2024-11-05T02:39:42.926950Z",
     "shell.execute_reply": "2024-11-05T02:39:42.925494Z"
    },
    "id": "uykGUh4PHheE",
    "outputId": "6c0e227b-7a3a-4edb-a4aa-b93787c68e36",
    "papermill": {
     "duration": 0.852641,
     "end_time": "2024-11-05T02:39:42.929510",
     "exception": false,
     "start_time": "2024-11-05T02:39:42.076869",
     "status": "completed"
    },
    "tags": []
   },
   "outputs": [
    {
     "data": {
      "text/plain": [
       "<Axes: title={'center': 'Property Area'}, xlabel='Property_Area'>"
      ]
     },
     "execution_count": 24,
     "metadata": {},
     "output_type": "execute_result"
    },
    {
     "data": {
      "image/png": "[encoded data removed]",
      "text/plain": [
       "<Figure size 2400x600 with 3 Axes>"
      ]
     },
     "metadata": {},
     "output_type": "display_data"
    }
   ],
   "source": [
    "plt.figure(1)\n",
    "plt.subplot(131)\n",
    "train['Dependents'].value_counts(normalize=True).plot.bar(figsize=(24,6), title='Dependents')\n",
    "plt.subplot(132)\n",
    "train['Education'].value_counts(normalize=True).plot.bar(title='Education')\n",
    "plt.subplot(133)\n",
    "train['Property_Area'].value_counts(normalize=True).plot.bar(title='Property Area')"
   ]
  },
  {
   "cell_type": "markdown",
   "id": "db038ea7",
   "metadata": {
    "id": "KA7uVdKdHm3q",
    "papermill": {
     "duration": 0.023239,
     "end_time": "2024-11-05T02:39:42.975561",
     "exception": false,
     "start_time": "2024-11-05T02:39:42.952322",
     "status": "completed"
    },
    "tags": []
   },
   "source": [
    "- Most of the applicants don't have dependents.\n",
    "- Around 80% of the applicants are graduate.\n",
    "- Most of the applicants are from Semiurban area."
   ]
  },
  {
   "cell_type": "markdown",
   "id": "66b80312",
   "metadata": {
    "papermill": {
     "duration": 0.022756,
     "end_time": "2024-11-05T02:39:43.021447",
     "exception": false,
     "start_time": "2024-11-05T02:39:42.998691",
     "status": "completed"
    },
    "tags": []
   },
   "source": [
    "**Numerical**"
   ]
  },
  {
   "cell_type": "code",
   "execution_count": 25,
   "id": "fdca7937",
   "metadata": {
    "execution": {
     "iopub.execute_input": "2024-11-05T02:39:43.071628Z",
     "iopub.status.busy": "2024-11-05T02:39:43.071197Z",
     "iopub.status.idle": "2024-11-05T02:39:43.761960Z",
     "shell.execute_reply": "2024-11-05T02:39:43.760686Z"
    },
    "papermill": {
     "duration": 0.717709,
     "end_time": "2024-11-05T02:39:43.764671",
     "exception": false,
     "start_time": "2024-11-05T02:39:43.046962",
     "status": "completed"
    },
    "tags": []
   },
   "outputs": [
    {
     "data": {
      "text/plain": [
       "<function matplotlib.pyplot.tight_layout(*, pad=1.08, h_pad=None, w_pad=None, rect=None)>"
      ]
     },
     "execution_count": 25,
     "metadata": {},
     "output_type": "execute_result"
    },
    {
     "data": {
      "image/png": "[encoded data removed]",
      "text/plain": [
       "<Figure size 1000x800 with 3 Axes>"
      ]
     },
     "metadata": {},
     "output_type": "display_data"
    }
   ],
   "source": [
    "plt.figure(figsize=(10, 8))\n",
    "plt.subplot(221)\n",
    "train['ApplicantIncome'].hist()\n",
    "plt.title('ApplicantIncome')\n",
    "plt.subplot(222)\n",
    "train['CoapplicantIncome'].hist()\n",
    "plt.title('CoapplicantIncome')\n",
    "plt.subplot(223)\n",
    "train['LoanAmount'].hist()\n",
    "plt.title('LoanAmount')\n",
    "plt.tight_layout"
   ]
  },
  {
   "cell_type": "code",
   "execution_count": 26,
   "id": "c7bf9af6",
   "metadata": {
    "execution": {
     "iopub.execute_input": "2024-11-05T02:39:43.815110Z",
     "iopub.status.busy": "2024-11-05T02:39:43.813812Z",
     "iopub.status.idle": "2024-11-05T02:39:44.328519Z",
     "shell.execute_reply": "2024-11-05T02:39:44.327174Z"
    },
    "id": "oOktqGJGHmVx",
    "outputId": "ca143cf6-1c3b-441b-8cb8-1d49b43c2669",
    "papermill": {
     "duration": 0.542229,
     "end_time": "2024-11-05T02:39:44.330965",
     "exception": false,
     "start_time": "2024-11-05T02:39:43.788736",
     "status": "completed"
    },
    "tags": []
   },
   "outputs": [
    {
     "data": {
      "text/plain": [
       "<Axes: >"
      ]
     },
     "execution_count": 26,
     "metadata": {},
     "output_type": "execute_result"
    },
    {
     "data": {
      "image/png": "[encoded data removed]",
      "text/plain": [
       "<Figure size 1600x500 with 2 Axes>"
      ]
     },
     "metadata": {},
     "output_type": "display_data"
    }
   ],
   "source": [
    "plt.figure(1)\n",
    "plt.subplot(121)\n",
    "sns.distplot(train['ApplicantIncome'])\n",
    "plt.subplot(122)\n",
    "train['ApplicantIncome'].plot.box(figsize=(16,5))"
   ]
  },
  {
   "cell_type": "code",
   "execution_count": 27,
   "id": "2f3d077d",
   "metadata": {
    "execution": {
     "iopub.execute_input": "2024-11-05T02:39:44.382513Z",
     "iopub.status.busy": "2024-11-05T02:39:44.381892Z",
     "iopub.status.idle": "2024-11-05T02:39:44.662762Z",
     "shell.execute_reply": "2024-11-05T02:39:44.661551Z"
    },
    "id": "1Z6DyT_6HuH0",
    "outputId": "86bb6161-dd4f-4968-956e-6c21879f3dbe",
    "papermill": {
     "duration": 0.309283,
     "end_time": "2024-11-05T02:39:44.665277",
     "exception": false,
     "start_time": "2024-11-05T02:39:44.355994",
     "status": "completed"
    },
    "tags": []
   },
   "outputs": [
    {
     "data": {
      "image/png": "[encoded data removed]",
      "text/plain": [
       "<Figure size 640x480 with 1 Axes>"
      ]
     },
     "metadata": {},
     "output_type": "display_data"
    }
   ],
   "source": [
    "train.boxplot(column= 'ApplicantIncome', by='Education')\n",
    "plt.tight_layout()"
   ]
  },
  {
   "cell_type": "markdown",
   "id": "e2172335",
   "metadata": {
    "papermill": {
     "duration": 0.025276,
     "end_time": "2024-11-05T02:39:44.715436",
     "exception": false,
     "start_time": "2024-11-05T02:39:44.690160",
     "status": "completed"
    },
    "tags": []
   },
   "source": [
    "**There are higher number of graduates with very high incomes which are appearing to be outliers.**"
   ]
  },
  {
   "cell_type": "code",
   "execution_count": 28,
   "id": "bf64fc24",
   "metadata": {
    "execution": {
     "iopub.execute_input": "2024-11-05T02:39:44.770540Z",
     "iopub.status.busy": "2024-11-05T02:39:44.769633Z",
     "iopub.status.idle": "2024-11-05T02:39:45.031320Z",
     "shell.execute_reply": "2024-11-05T02:39:45.030169Z"
    },
    "id": "wYnmV9WmHx-Y",
    "outputId": "fc928b01-22a8-4264-df25-e686af5ac165",
    "papermill": {
     "duration": 0.290539,
     "end_time": "2024-11-05T02:39:45.033895",
     "exception": false,
     "start_time": "2024-11-05T02:39:44.743356",
     "status": "completed"
    },
    "tags": []
   },
   "outputs": [
    {
     "data": {
      "text/plain": [
       "<matplotlib.legend.Legend at 0x7b0e5a9d6e60>"
      ]
     },
     "execution_count": 28,
     "metadata": {},
     "output_type": "execute_result"
    },
    {
     "data": {
      "image/png": "[encoded data removed]",
      "text/plain": [
       "<Figure size 600x400 with 1 Axes>"
      ]
     },
     "metadata": {},
     "output_type": "display_data"
    }
   ],
   "source": [
    "Married = pd.crosstab(train['Married'], train['Loan_Status'])\n",
    "Married.div(Married.sum(1).astype(float), axis=0).plot(kind='bar', stacked=True, figsize=(6,4))\n",
    "plt.legend(loc = 'best')"
   ]
  },
  {
   "cell_type": "markdown",
   "id": "50344ed6",
   "metadata": {
    "papermill": {
     "duration": 0.025171,
     "end_time": "2024-11-05T02:39:45.084544",
     "exception": false,
     "start_time": "2024-11-05T02:39:45.059373",
     "status": "completed"
    },
    "tags": []
   },
   "source": [
    "**The approval rate for married applicants is 10% higher than for non-married applicants.**"
   ]
  },
  {
   "cell_type": "code",
   "execution_count": 29,
   "id": "3a1aeb17",
   "metadata": {
    "execution": {
     "iopub.execute_input": "2024-11-05T02:39:45.201332Z",
     "iopub.status.busy": "2024-11-05T02:39:45.200917Z",
     "iopub.status.idle": "2024-11-05T02:39:45.450069Z",
     "shell.execute_reply": "2024-11-05T02:39:45.448708Z"
    },
    "id": "RGeNcx7lH9Ne",
    "outputId": "32f90533-c7b5-4926-f239-5034a1ed80b3",
    "papermill": {
     "duration": 0.278648,
     "end_time": "2024-11-05T02:39:45.452562",
     "exception": false,
     "start_time": "2024-11-05T02:39:45.173914",
     "status": "completed"
    },
    "tags": []
   },
   "outputs": [
    {
     "data": {
      "text/plain": [
       "<matplotlib.legend.Legend at 0x7b0e5a86f940>"
      ]
     },
     "execution_count": 29,
     "metadata": {},
     "output_type": "execute_result"
    },
    {
     "data": {
      "image/png": "[encoded data removed]",
      "text/plain": [
       "<Figure size 600x400 with 1 Axes>"
      ]
     },
     "metadata": {},
     "output_type": "display_data"
    }
   ],
   "source": [
    "Credit_History = pd.crosstab(train['Credit_History'], train['Loan_Status'])\n",
    "Credit_History.div(Credit_History.sum(1).astype(float), axis=0).plot(kind='bar', stacked=True, figsize=(6,4))\n",
    "plt.legend(loc = 'best')"
   ]
  },
  {
   "cell_type": "code",
   "execution_count": 30,
   "id": "45d89628",
   "metadata": {
    "execution": {
     "iopub.execute_input": "2024-11-05T02:39:45.506347Z",
     "iopub.status.busy": "2024-11-05T02:39:45.505924Z",
     "iopub.status.idle": "2024-11-05T02:39:45.772781Z",
     "shell.execute_reply": "2024-11-05T02:39:45.771543Z"
    },
    "id": "2x-qgIc_H_zP",
    "outputId": "a945b531-3cfe-4daf-d4a4-f774e70347a2",
    "papermill": {
     "duration": 0.297069,
     "end_time": "2024-11-05T02:39:45.775335",
     "exception": false,
     "start_time": "2024-11-05T02:39:45.478266",
     "status": "completed"
    },
    "tags": []
   },
   "outputs": [
    {
     "data": {
      "text/plain": [
       "<matplotlib.legend.Legend at 0x7b0e5a7be3b0>"
      ]
     },
     "execution_count": 30,
     "metadata": {},
     "output_type": "execute_result"
    },
    {
     "data": {
      "image/png": "[encoded data removed]",
      "text/plain": [
       "<Figure size 600x400 with 1 Axes>"
      ]
     },
     "metadata": {},
     "output_type": "display_data"
    }
   ],
   "source": [
    "Property_Area = pd.crosstab(train['Property_Area'], train['Loan_Status'])\n",
    "Property_Area.div(Property_Area.sum(1).astype(float), axis=0).plot(kind='bar', stacked=True, figsize=(6,4))\n",
    "plt.legend(bbox_to_anchor=(1.05,1.0),loc='best')"
   ]
  },
  {
   "cell_type": "markdown",
   "id": "c3ae2958",
   "metadata": {
    "id": "3siVaXBSIitJ",
    "papermill": {
     "duration": 0.026578,
     "end_time": "2024-11-05T02:39:45.828821",
     "exception": false,
     "start_time": "2024-11-05T02:39:45.802243",
     "status": "completed"
    },
    "tags": []
   },
   "source": [
    "- Proportion of married applicants is higher for the approved loans.\n",
    "- People with credit history as 1 are more likely to get their loan approved.\n",
    "- Proportion of loans getting approved in semiurban area is higher compared to rural or urban area."
   ]
  },
  {
   "cell_type": "markdown",
   "id": "307e93d8",
   "metadata": {
    "papermill": {
     "duration": 0.02599,
     "end_time": "2024-11-05T02:39:45.881215",
     "exception": false,
     "start_time": "2024-11-05T02:39:45.855225",
     "status": "completed"
    },
    "tags": []
   },
   "source": [
    "**Customer Segmentation**"
   ]
  },
  {
   "cell_type": "code",
   "execution_count": 31,
   "id": "ad2f830e",
   "metadata": {
    "execution": {
     "iopub.execute_input": "2024-11-05T02:39:45.935657Z",
     "iopub.status.busy": "2024-11-05T02:39:45.935243Z",
     "iopub.status.idle": "2024-11-05T02:39:45.941254Z",
     "shell.execute_reply": "2024-11-05T02:39:45.940172Z"
    },
    "papermill": {
     "duration": 0.036181,
     "end_time": "2024-11-05T02:39:45.943571",
     "exception": false,
     "start_time": "2024-11-05T02:39:45.907390",
     "status": "completed"
    },
    "tags": []
   },
   "outputs": [],
   "source": [
    "# Create new dataset while add more column \n",
    "train_seg=train.copy()"
   ]
  },
  {
   "cell_type": "code",
   "execution_count": 32,
   "id": "a647ee10",
   "metadata": {
    "execution": {
     "iopub.execute_input": "2024-11-05T02:39:45.998822Z",
     "iopub.status.busy": "2024-11-05T02:39:45.998266Z",
     "iopub.status.idle": "2024-11-05T02:39:46.028431Z",
     "shell.execute_reply": "2024-11-05T02:39:46.027046Z"
    },
    "id": "JSiq2wcGImCT",
    "outputId": "d98b7602-f931-44af-cfad-8574d9a848ba",
    "papermill": {
     "duration": 0.061108,
     "end_time": "2024-11-05T02:39:46.030888",
     "exception": false,
     "start_time": "2024-11-05T02:39:45.969780",
     "status": "completed"
    },
    "tags": []
   },
   "outputs": [
    {
     "data": {
      "text/html": [
       "<div>\n",
       "<style scoped>\n",
       "    .dataframe tbody tr th:only-of-type {\n",
       "        vertical-align: middle;\n",
       "    }\n",
       "\n",
       "    .dataframe tbody tr th {\n",
       "        vertical-align: top;\n",
       "    }\n",
       "\n",
       "    .dataframe thead th {\n",
       "        text-align: right;\n",
       "    }\n",
       "</style>\n",
       "<table border=\"1\" class=\"dataframe\">\n",
       "  <thead>\n",
       "    <tr style=\"text-align: right;\">\n",
       "      <th></th>\n",
       "      <th>Gender</th>\n",
       "      <th>Married</th>\n",
       "      <th>Dependents</th>\n",
       "      <th>Education</th>\n",
       "      <th>Self_Employed</th>\n",
       "      <th>ApplicantIncome</th>\n",
       "      <th>CoapplicantIncome</th>\n",
       "      <th>LoanAmount</th>\n",
       "      <th>Loan_Amount_Term</th>\n",
       "      <th>Credit_History</th>\n",
       "      <th>Property_Area</th>\n",
       "      <th>Loan_Status</th>\n",
       "      <th>Total_Income</th>\n",
       "      <th>Total_Income_bin</th>\n",
       "    </tr>\n",
       "  </thead>\n",
       "  <tbody>\n",
       "    <tr>\n",
       "      <th>0</th>\n",
       "      <td>Male</td>\n",
       "      <td>No</td>\n",
       "      <td>0</td>\n",
       "      <td>Graduate</td>\n",
       "      <td>No</td>\n",
       "      <td>5849</td>\n",
       "      <td>0.0</td>\n",
       "      <td>146.412162</td>\n",
       "      <td>360.0</td>\n",
       "      <td>1.0</td>\n",
       "      <td>Urban</td>\n",
       "      <td>Y</td>\n",
       "      <td>5849.0</td>\n",
       "      <td>High</td>\n",
       "    </tr>\n",
       "    <tr>\n",
       "      <th>1</th>\n",
       "      <td>Male</td>\n",
       "      <td>Yes</td>\n",
       "      <td>1</td>\n",
       "      <td>Graduate</td>\n",
       "      <td>No</td>\n",
       "      <td>4583</td>\n",
       "      <td>1508.0</td>\n",
       "      <td>128.000000</td>\n",
       "      <td>360.0</td>\n",
       "      <td>1.0</td>\n",
       "      <td>Rural</td>\n",
       "      <td>N</td>\n",
       "      <td>6091.0</td>\n",
       "      <td>Very High</td>\n",
       "    </tr>\n",
       "    <tr>\n",
       "      <th>2</th>\n",
       "      <td>Male</td>\n",
       "      <td>Yes</td>\n",
       "      <td>0</td>\n",
       "      <td>Graduate</td>\n",
       "      <td>Yes</td>\n",
       "      <td>3000</td>\n",
       "      <td>0.0</td>\n",
       "      <td>66.000000</td>\n",
       "      <td>360.0</td>\n",
       "      <td>1.0</td>\n",
       "      <td>Urban</td>\n",
       "      <td>Y</td>\n",
       "      <td>3000.0</td>\n",
       "      <td>Average</td>\n",
       "    </tr>\n",
       "    <tr>\n",
       "      <th>3</th>\n",
       "      <td>Male</td>\n",
       "      <td>Yes</td>\n",
       "      <td>0</td>\n",
       "      <td>Not Graduate</td>\n",
       "      <td>No</td>\n",
       "      <td>2583</td>\n",
       "      <td>2358.0</td>\n",
       "      <td>120.000000</td>\n",
       "      <td>360.0</td>\n",
       "      <td>1.0</td>\n",
       "      <td>Urban</td>\n",
       "      <td>Y</td>\n",
       "      <td>4941.0</td>\n",
       "      <td>High</td>\n",
       "    </tr>\n",
       "    <tr>\n",
       "      <th>4</th>\n",
       "      <td>Male</td>\n",
       "      <td>No</td>\n",
       "      <td>0</td>\n",
       "      <td>Graduate</td>\n",
       "      <td>No</td>\n",
       "      <td>6000</td>\n",
       "      <td>0.0</td>\n",
       "      <td>141.000000</td>\n",
       "      <td>360.0</td>\n",
       "      <td>1.0</td>\n",
       "      <td>Urban</td>\n",
       "      <td>Y</td>\n",
       "      <td>6000.0</td>\n",
       "      <td>High</td>\n",
       "    </tr>\n",
       "    <tr>\n",
       "      <th>...</th>\n",
       "      <td>...</td>\n",
       "      <td>...</td>\n",
       "      <td>...</td>\n",
       "      <td>...</td>\n",
       "      <td>...</td>\n",
       "      <td>...</td>\n",
       "      <td>...</td>\n",
       "      <td>...</td>\n",
       "      <td>...</td>\n",
       "      <td>...</td>\n",
       "      <td>...</td>\n",
       "      <td>...</td>\n",
       "      <td>...</td>\n",
       "      <td>...</td>\n",
       "    </tr>\n",
       "    <tr>\n",
       "      <th>609</th>\n",
       "      <td>Female</td>\n",
       "      <td>No</td>\n",
       "      <td>0</td>\n",
       "      <td>Graduate</td>\n",
       "      <td>No</td>\n",
       "      <td>2900</td>\n",
       "      <td>0.0</td>\n",
       "      <td>71.000000</td>\n",
       "      <td>360.0</td>\n",
       "      <td>1.0</td>\n",
       "      <td>Rural</td>\n",
       "      <td>Y</td>\n",
       "      <td>2900.0</td>\n",
       "      <td>Average</td>\n",
       "    </tr>\n",
       "    <tr>\n",
       "      <th>610</th>\n",
       "      <td>Male</td>\n",
       "      <td>Yes</td>\n",
       "      <td>3+</td>\n",
       "      <td>Graduate</td>\n",
       "      <td>No</td>\n",
       "      <td>4106</td>\n",
       "      <td>0.0</td>\n",
       "      <td>40.000000</td>\n",
       "      <td>180.0</td>\n",
       "      <td>1.0</td>\n",
       "      <td>Rural</td>\n",
       "      <td>Y</td>\n",
       "      <td>4106.0</td>\n",
       "      <td>High</td>\n",
       "    </tr>\n",
       "    <tr>\n",
       "      <th>611</th>\n",
       "      <td>Male</td>\n",
       "      <td>Yes</td>\n",
       "      <td>1</td>\n",
       "      <td>Graduate</td>\n",
       "      <td>No</td>\n",
       "      <td>8072</td>\n",
       "      <td>240.0</td>\n",
       "      <td>253.000000</td>\n",
       "      <td>360.0</td>\n",
       "      <td>1.0</td>\n",
       "      <td>Urban</td>\n",
       "      <td>Y</td>\n",
       "      <td>8312.0</td>\n",
       "      <td>Very High</td>\n",
       "    </tr>\n",
       "    <tr>\n",
       "      <th>612</th>\n",
       "      <td>Male</td>\n",
       "      <td>Yes</td>\n",
       "      <td>2</td>\n",
       "      <td>Graduate</td>\n",
       "      <td>No</td>\n",
       "      <td>7583</td>\n",
       "      <td>0.0</td>\n",
       "      <td>187.000000</td>\n",
       "      <td>360.0</td>\n",
       "      <td>1.0</td>\n",
       "      <td>Urban</td>\n",
       "      <td>Y</td>\n",
       "      <td>7583.0</td>\n",
       "      <td>Very High</td>\n",
       "    </tr>\n",
       "    <tr>\n",
       "      <th>613</th>\n",
       "      <td>Female</td>\n",
       "      <td>No</td>\n",
       "      <td>0</td>\n",
       "      <td>Graduate</td>\n",
       "      <td>Yes</td>\n",
       "      <td>4583</td>\n",
       "      <td>0.0</td>\n",
       "      <td>133.000000</td>\n",
       "      <td>360.0</td>\n",
       "      <td>0.0</td>\n",
       "      <td>Semiurban</td>\n",
       "      <td>N</td>\n",
       "      <td>4583.0</td>\n",
       "      <td>High</td>\n",
       "    </tr>\n",
       "  </tbody>\n",
       "</table>\n",
       "<p>614 rows × 14 columns</p>\n",
       "</div>"
      ],
      "text/plain": [
       "     Gender Married Dependents     Education Self_Employed  ApplicantIncome  \\\n",
       "0      Male      No          0      Graduate            No             5849   \n",
       "1      Male     Yes          1      Graduate            No             4583   \n",
       "2      Male     Yes          0      Graduate           Yes             3000   \n",
       "3      Male     Yes          0  Not Graduate            No             2583   \n",
       "4      Male      No          0      Graduate            No             6000   \n",
       "..      ...     ...        ...           ...           ...              ...   \n",
       "609  Female      No          0      Graduate            No             2900   \n",
       "610    Male     Yes         3+      Graduate            No             4106   \n",
       "611    Male     Yes          1      Graduate            No             8072   \n",
       "612    Male     Yes          2      Graduate            No             7583   \n",
       "613  Female      No          0      Graduate           Yes             4583   \n",
       "\n",
       "     CoapplicantIncome  LoanAmount  Loan_Amount_Term  Credit_History  \\\n",
       "0                  0.0  146.412162             360.0             1.0   \n",
       "1               1508.0  128.000000             360.0             1.0   \n",
       "2                  0.0   66.000000             360.0             1.0   \n",
       "3               2358.0  120.000000             360.0             1.0   \n",
       "4                  0.0  141.000000             360.0             1.0   \n",
       "..                 ...         ...               ...             ...   \n",
       "609                0.0   71.000000             360.0             1.0   \n",
       "610                0.0   40.000000             180.0             1.0   \n",
       "611              240.0  253.000000             360.0             1.0   \n",
       "612                0.0  187.000000             360.0             1.0   \n",
       "613                0.0  133.000000             360.0             0.0   \n",
       "\n",
       "    Property_Area Loan_Status  Total_Income Total_Income_bin  \n",
       "0           Urban           Y        5849.0             High  \n",
       "1           Rural           N        6091.0        Very High  \n",
       "2           Urban           Y        3000.0          Average  \n",
       "3           Urban           Y        4941.0             High  \n",
       "4           Urban           Y        6000.0             High  \n",
       "..            ...         ...           ...              ...  \n",
       "609         Rural           Y        2900.0          Average  \n",
       "610         Rural           Y        4106.0             High  \n",
       "611         Urban           Y        8312.0        Very High  \n",
       "612         Urban           Y        7583.0        Very High  \n",
       "613     Semiurban           N        4583.0             High  \n",
       "\n",
       "[614 rows x 14 columns]"
      ]
     },
     "execution_count": 32,
     "metadata": {},
     "output_type": "execute_result"
    }
   ],
   "source": [
    "train_seg['Total_Income'] = train_seg['ApplicantIncome'] + train_seg['CoapplicantIncome']\n",
    "bins = [0,2500,4000,6000,81000]\n",
    "group= ['Low', 'Average', 'High', 'Very High']\n",
    "train_seg['Total_Income_bin'] = pd.cut(train_seg['Total_Income'], bins, labels=group)\n",
    "train_seg"
   ]
  },
  {
   "cell_type": "code",
   "execution_count": 33,
   "id": "fa78cf6d",
   "metadata": {
    "execution": {
     "iopub.execute_input": "2024-11-05T02:39:46.087677Z",
     "iopub.status.busy": "2024-11-05T02:39:46.087240Z",
     "iopub.status.idle": "2024-11-05T02:39:46.394354Z",
     "shell.execute_reply": "2024-11-05T02:39:46.393064Z"
    },
    "id": "Iat5pvdiIuDw",
    "outputId": "66fc8b45-4a7e-494c-9879-dd7df338467e",
    "papermill": {
     "duration": 0.338417,
     "end_time": "2024-11-05T02:39:46.397240",
     "exception": false,
     "start_time": "2024-11-05T02:39:46.058823",
     "status": "completed"
    },
    "tags": []
   },
   "outputs": [
    {
     "data": {
      "text/plain": [
       "<matplotlib.legend.Legend at 0x7b0e5a923be0>"
      ]
     },
     "execution_count": 33,
     "metadata": {},
     "output_type": "execute_result"
    },
    {
     "data": {
      "image/png": "[encoded data removed]",
      "text/plain": [
       "<Figure size 640x480 with 1 Axes>"
      ]
     },
     "metadata": {},
     "output_type": "display_data"
    }
   ],
   "source": [
    "Total_Income_bin = pd.crosstab(train_seg['Total_Income_bin'], train_seg['Loan_Status'])\n",
    "Total_Income_bin.div(Total_Income_bin.sum(1).astype(float), axis=0).plot(kind='bar', stacked=True)\n",
    "plt.xlabel('Total Income')\n",
    "plt.ylabel('Percentage')\n",
    "plt.legend(bbox_to_anchor=(1.05,1.0),loc='best')"
   ]
  },
  {
   "cell_type": "markdown",
   "id": "c842d0c2",
   "metadata": {
    "id": "_ZEqc58TI1VI",
    "papermill": {
     "duration": 0.028,
     "end_time": "2024-11-05T02:39:46.453391",
     "exception": false,
     "start_time": "2024-11-05T02:39:46.425391",
     "status": "completed"
    },
    "tags": []
   },
   "source": [
    "**Proportions of loan getting approvals for applicants having low Total_Income is very less compared to that of applicants with Average, High and Very High income.**"
   ]
  },
  {
   "cell_type": "code",
   "execution_count": 34,
   "id": "4da8d21f",
   "metadata": {
    "execution": {
     "iopub.execute_input": "2024-11-05T02:39:46.510751Z",
     "iopub.status.busy": "2024-11-05T02:39:46.509583Z",
     "iopub.status.idle": "2024-11-05T02:39:47.522850Z",
     "shell.execute_reply": "2024-11-05T02:39:47.521627Z"
    },
    "papermill": {
     "duration": 1.044719,
     "end_time": "2024-11-05T02:39:47.525394",
     "exception": false,
     "start_time": "2024-11-05T02:39:46.480675",
     "status": "completed"
    },
    "tags": []
   },
   "outputs": [
    {
     "data": {
      "text/plain": [
       "<seaborn.axisgrid.JointGrid at 0x7b0e5a6d7760>"
      ]
     },
     "execution_count": 34,
     "metadata": {},
     "output_type": "execute_result"
    },
    {
     "data": {
      "image/png": "[encoded data removed]",
      "text/plain": [
       "<Figure size 600x600 with 3 Axes>"
      ]
     },
     "metadata": {},
     "output_type": "display_data"
    }
   ],
   "source": [
    "sns.jointplot(x=train['ApplicantIncome'],y=train['LoanAmount'])"
   ]
  },
  {
   "cell_type": "code",
   "execution_count": 35,
   "id": "2bb49397",
   "metadata": {
    "execution": {
     "iopub.execute_input": "2024-11-05T02:39:47.584098Z",
     "iopub.status.busy": "2024-11-05T02:39:47.583599Z",
     "iopub.status.idle": "2024-11-05T02:39:47.847612Z",
     "shell.execute_reply": "2024-11-05T02:39:47.846495Z"
    },
    "papermill": {
     "duration": 0.296507,
     "end_time": "2024-11-05T02:39:47.850297",
     "exception": false,
     "start_time": "2024-11-05T02:39:47.553790",
     "status": "completed"
    },
    "tags": []
   },
   "outputs": [
    {
     "data": {
      "image/png": "[encoded data removed]",
      "text/plain": [
       "<Figure size 640x480 with 1 Axes>"
      ]
     },
     "metadata": {},
     "output_type": "display_data"
    }
   ],
   "source": [
    "gender_loan_status = pd.crosstab(train['Gender'], train['Loan_Status'])\n",
    "gender_loan_status.div(gender_loan_status.sum(1).astype(float), axis=0).plot(kind='bar', stacked=True)\n",
    "plt.title('Proportion of Loan Status by Gender')\n",
    "plt.xlabel('Gender')\n",
    "plt.ylabel('Proportion')\n",
    "plt.show()"
   ]
  },
  {
   "cell_type": "code",
   "execution_count": 36,
   "id": "229955ad",
   "metadata": {
    "execution": {
     "iopub.execute_input": "2024-11-05T02:39:47.909613Z",
     "iopub.status.busy": "2024-11-05T02:39:47.909165Z",
     "iopub.status.idle": "2024-11-05T02:39:47.917286Z",
     "shell.execute_reply": "2024-11-05T02:39:47.916083Z"
    },
    "papermill": {
     "duration": 0.040822,
     "end_time": "2024-11-05T02:39:47.919898",
     "exception": false,
     "start_time": "2024-11-05T02:39:47.879076",
     "status": "completed"
    },
    "tags": []
   },
   "outputs": [],
   "source": [
    "#Create copy dataset while process data into numberical\n",
    "train_heatmap=train.copy()\n",
    "predict_heatmap=predict.copy()"
   ]
  },
  {
   "cell_type": "code",
   "execution_count": 37,
   "id": "b0f3cfd1",
   "metadata": {
    "execution": {
     "iopub.execute_input": "2024-11-05T02:39:47.979484Z",
     "iopub.status.busy": "2024-11-05T02:39:47.979034Z",
     "iopub.status.idle": "2024-11-05T02:39:47.989207Z",
     "shell.execute_reply": "2024-11-05T02:39:47.987926Z"
    },
    "papermill": {
     "duration": 0.043269,
     "end_time": "2024-11-05T02:39:47.991817",
     "exception": false,
     "start_time": "2024-11-05T02:39:47.948548",
     "status": "completed"
    },
    "tags": []
   },
   "outputs": [],
   "source": [
    "train_heatmap['Dependents'].replace('3+', 3, inplace=True)\n",
    "predict_heatmap['Dependents'].replace('3+', 3, inplace=True)\n",
    "train_heatmap['Loan_Status'].replace('N', 0, inplace=True)\n",
    "train_heatmap['Loan_Status'].replace('Y', 1, inplace=True)"
   ]
  },
  {
   "cell_type": "code",
   "execution_count": 38,
   "id": "78d54974",
   "metadata": {
    "execution": {
     "iopub.execute_input": "2024-11-05T02:39:48.052032Z",
     "iopub.status.busy": "2024-11-05T02:39:48.051570Z",
     "iopub.status.idle": "2024-11-05T02:39:48.070098Z",
     "shell.execute_reply": "2024-11-05T02:39:48.068941Z"
    },
    "papermill": {
     "duration": 0.051159,
     "end_time": "2024-11-05T02:39:48.072449",
     "exception": false,
     "start_time": "2024-11-05T02:39:48.021290",
     "status": "completed"
    },
    "tags": []
   },
   "outputs": [
    {
     "data": {
      "text/html": [
       "<div>\n",
       "<style scoped>\n",
       "    .dataframe tbody tr th:only-of-type {\n",
       "        vertical-align: middle;\n",
       "    }\n",
       "\n",
       "    .dataframe tbody tr th {\n",
       "        vertical-align: top;\n",
       "    }\n",
       "\n",
       "    .dataframe thead th {\n",
       "        text-align: right;\n",
       "    }\n",
       "</style>\n",
       "<table border=\"1\" class=\"dataframe\">\n",
       "  <thead>\n",
       "    <tr style=\"text-align: right;\">\n",
       "      <th></th>\n",
       "      <th>Gender</th>\n",
       "      <th>Married</th>\n",
       "      <th>Dependents</th>\n",
       "      <th>Education</th>\n",
       "      <th>Self_Employed</th>\n",
       "      <th>ApplicantIncome</th>\n",
       "      <th>CoapplicantIncome</th>\n",
       "      <th>LoanAmount</th>\n",
       "      <th>Loan_Amount_Term</th>\n",
       "      <th>Credit_History</th>\n",
       "      <th>Property_Area</th>\n",
       "      <th>Loan_Status</th>\n",
       "    </tr>\n",
       "  </thead>\n",
       "  <tbody>\n",
       "    <tr>\n",
       "      <th>0</th>\n",
       "      <td>Male</td>\n",
       "      <td>No</td>\n",
       "      <td>0</td>\n",
       "      <td>Graduate</td>\n",
       "      <td>No</td>\n",
       "      <td>5849</td>\n",
       "      <td>0.0</td>\n",
       "      <td>146.412162</td>\n",
       "      <td>360.0</td>\n",
       "      <td>1.0</td>\n",
       "      <td>Urban</td>\n",
       "      <td>1</td>\n",
       "    </tr>\n",
       "    <tr>\n",
       "      <th>1</th>\n",
       "      <td>Male</td>\n",
       "      <td>Yes</td>\n",
       "      <td>1</td>\n",
       "      <td>Graduate</td>\n",
       "      <td>No</td>\n",
       "      <td>4583</td>\n",
       "      <td>1508.0</td>\n",
       "      <td>128.000000</td>\n",
       "      <td>360.0</td>\n",
       "      <td>1.0</td>\n",
       "      <td>Rural</td>\n",
       "      <td>0</td>\n",
       "    </tr>\n",
       "    <tr>\n",
       "      <th>2</th>\n",
       "      <td>Male</td>\n",
       "      <td>Yes</td>\n",
       "      <td>0</td>\n",
       "      <td>Graduate</td>\n",
       "      <td>Yes</td>\n",
       "      <td>3000</td>\n",
       "      <td>0.0</td>\n",
       "      <td>66.000000</td>\n",
       "      <td>360.0</td>\n",
       "      <td>1.0</td>\n",
       "      <td>Urban</td>\n",
       "      <td>1</td>\n",
       "    </tr>\n",
       "    <tr>\n",
       "      <th>3</th>\n",
       "      <td>Male</td>\n",
       "      <td>Yes</td>\n",
       "      <td>0</td>\n",
       "      <td>Not Graduate</td>\n",
       "      <td>No</td>\n",
       "      <td>2583</td>\n",
       "      <td>2358.0</td>\n",
       "      <td>120.000000</td>\n",
       "      <td>360.0</td>\n",
       "      <td>1.0</td>\n",
       "      <td>Urban</td>\n",
       "      <td>1</td>\n",
       "    </tr>\n",
       "    <tr>\n",
       "      <th>4</th>\n",
       "      <td>Male</td>\n",
       "      <td>No</td>\n",
       "      <td>0</td>\n",
       "      <td>Graduate</td>\n",
       "      <td>No</td>\n",
       "      <td>6000</td>\n",
       "      <td>0.0</td>\n",
       "      <td>141.000000</td>\n",
       "      <td>360.0</td>\n",
       "      <td>1.0</td>\n",
       "      <td>Urban</td>\n",
       "      <td>1</td>\n",
       "    </tr>\n",
       "  </tbody>\n",
       "</table>\n",
       "</div>"
      ],
      "text/plain": [
       "  Gender Married Dependents     Education Self_Employed  ApplicantIncome  \\\n",
       "0   Male      No          0      Graduate            No             5849   \n",
       "1   Male     Yes          1      Graduate            No             4583   \n",
       "2   Male     Yes          0      Graduate           Yes             3000   \n",
       "3   Male     Yes          0  Not Graduate            No             2583   \n",
       "4   Male      No          0      Graduate            No             6000   \n",
       "\n",
       "   CoapplicantIncome  LoanAmount  Loan_Amount_Term  Credit_History  \\\n",
       "0                0.0  146.412162             360.0             1.0   \n",
       "1             1508.0  128.000000             360.0             1.0   \n",
       "2                0.0   66.000000             360.0             1.0   \n",
       "3             2358.0  120.000000             360.0             1.0   \n",
       "4                0.0  141.000000             360.0             1.0   \n",
       "\n",
       "  Property_Area  Loan_Status  \n",
       "0         Urban            1  \n",
       "1         Rural            0  \n",
       "2         Urban            1  \n",
       "3         Urban            1  \n",
       "4         Urban            1  "
      ]
     },
     "execution_count": 38,
     "metadata": {},
     "output_type": "execute_result"
    }
   ],
   "source": [
    "train_heatmap.head()"
   ]
  },
  {
   "cell_type": "code",
   "execution_count": 39,
   "id": "7c7d1c40",
   "metadata": {
    "execution": {
     "iopub.execute_input": "2024-11-05T02:39:48.133606Z",
     "iopub.status.busy": "2024-11-05T02:39:48.133178Z",
     "iopub.status.idle": "2024-11-05T02:39:48.145191Z",
     "shell.execute_reply": "2024-11-05T02:39:48.143804Z"
    },
    "papermill": {
     "duration": 0.046005,
     "end_time": "2024-11-05T02:39:48.147819",
     "exception": false,
     "start_time": "2024-11-05T02:39:48.101814",
     "status": "completed"
    },
    "tags": []
   },
   "outputs": [],
   "source": [
    "from sklearn.preprocessing import LabelEncoder\n",
    "\n",
    "# Encode categorical columns\n",
    "label_encoder = LabelEncoder()\n",
    "train_heatmap['Gender'] = label_encoder.fit_transform(train_heatmap['Gender'])\n",
    "train_heatmap['Married'] = label_encoder.fit_transform(train_heatmap['Married'])\n",
    "train_heatmap['Education'] = label_encoder.fit_transform(train_heatmap['Education'])\n",
    "train_heatmap['Self_Employed'] = label_encoder.fit_transform(train_heatmap['Self_Employed'])\n",
    "train_heatmap['Property_Area'] = label_encoder.fit_transform(train_heatmap['Gender'])"
   ]
  },
  {
   "cell_type": "code",
   "execution_count": 40,
   "id": "5378ce25",
   "metadata": {
    "execution": {
     "iopub.execute_input": "2024-11-05T02:39:48.209198Z",
     "iopub.status.busy": "2024-11-05T02:39:48.208313Z",
     "iopub.status.idle": "2024-11-05T02:39:49.192457Z",
     "shell.execute_reply": "2024-11-05T02:39:49.190977Z"
    },
    "id": "PMw0o5FVJaEq",
    "outputId": "dcdcbdc4-5360-473e-fec2-f78d8782b570",
    "papermill": {
     "duration": 1.01835,
     "end_time": "2024-11-05T02:39:49.195218",
     "exception": false,
     "start_time": "2024-11-05T02:39:48.176868",
     "status": "completed"
    },
    "tags": []
   },
   "outputs": [
    {
     "data": {
      "text/plain": [
       "<Axes: >"
      ]
     },
     "execution_count": 40,
     "metadata": {},
     "output_type": "execute_result"
    },
    {
     "data": {
      "image/png": "[encoded data removed]",
      "text/plain": [
       "<Figure size 1200x800 with 2 Axes>"
      ]
     },
     "metadata": {},
     "output_type": "display_data"
    }
   ],
   "source": [
    "correlation_matrix = train_heatmap.corr()\n",
    "\n",
    "# Plot the heatmap\n",
    "plt.figure(figsize=(12, 8))\n",
    "sns.heatmap(correlation_matrix, annot=True, cmap='BuPu', vmax=0.8, square=True)"
   ]
  },
  {
   "cell_type": "markdown",
   "id": "4880d041",
   "metadata": {
    "papermill": {
     "duration": 0.031325,
     "end_time": "2024-11-05T02:39:49.258873",
     "exception": false,
     "start_time": "2024-11-05T02:39:49.227548",
     "status": "completed"
    },
    "tags": []
   },
   "source": [
    "**We can see that most correlated variables are (ApplicantIncome-LoanAmount) and (Credit_History-Loan_Status). LoanAmount is also correlated with CoapplicantIncome.**"
   ]
  },
  {
   "cell_type": "markdown",
   "id": "c99991be",
   "metadata": {
    "id": "ydaKjz1mLxJn",
    "papermill": {
     "duration": 0.032275,
     "end_time": "2024-11-05T02:39:49.323205",
     "exception": false,
     "start_time": "2024-11-05T02:39:49.290930",
     "status": "completed"
    },
    "tags": []
   },
   "source": [
    "# Model Building"
   ]
  },
  {
   "cell_type": "code",
   "execution_count": 41,
   "id": "f05da785",
   "metadata": {
    "execution": {
     "iopub.execute_input": "2024-11-05T02:39:49.389382Z",
     "iopub.status.busy": "2024-11-05T02:39:49.388905Z",
     "iopub.status.idle": "2024-11-05T02:39:49.397095Z",
     "shell.execute_reply": "2024-11-05T02:39:49.395808Z"
    },
    "papermill": {
     "duration": 0.044458,
     "end_time": "2024-11-05T02:39:49.399761",
     "exception": false,
     "start_time": "2024-11-05T02:39:49.355303",
     "status": "completed"
    },
    "tags": []
   },
   "outputs": [],
   "source": [
    "# Create copy for ml model to save the dataset after missing value haddling\n",
    "train_ml=train.copy()\n",
    "predict_ml=predict.copy()"
   ]
  },
  {
   "cell_type": "code",
   "execution_count": 42,
   "id": "6277bf9b",
   "metadata": {
    "execution": {
     "iopub.execute_input": "2024-11-05T02:39:49.466742Z",
     "iopub.status.busy": "2024-11-05T02:39:49.466284Z",
     "iopub.status.idle": "2024-11-05T02:39:49.484947Z",
     "shell.execute_reply": "2024-11-05T02:39:49.483622Z"
    },
    "papermill": {
     "duration": 0.055496,
     "end_time": "2024-11-05T02:39:49.487522",
     "exception": false,
     "start_time": "2024-11-05T02:39:49.432026",
     "status": "completed"
    },
    "tags": []
   },
   "outputs": [
    {
     "data": {
      "text/html": [
       "<div>\n",
       "<style scoped>\n",
       "    .dataframe tbody tr th:only-of-type {\n",
       "        vertical-align: middle;\n",
       "    }\n",
       "\n",
       "    .dataframe tbody tr th {\n",
       "        vertical-align: top;\n",
       "    }\n",
       "\n",
       "    .dataframe thead th {\n",
       "        text-align: right;\n",
       "    }\n",
       "</style>\n",
       "<table border=\"1\" class=\"dataframe\">\n",
       "  <thead>\n",
       "    <tr style=\"text-align: right;\">\n",
       "      <th></th>\n",
       "      <th>Gender</th>\n",
       "      <th>Married</th>\n",
       "      <th>Dependents</th>\n",
       "      <th>Education</th>\n",
       "      <th>Self_Employed</th>\n",
       "      <th>ApplicantIncome</th>\n",
       "      <th>CoapplicantIncome</th>\n",
       "      <th>LoanAmount</th>\n",
       "      <th>Loan_Amount_Term</th>\n",
       "      <th>Credit_History</th>\n",
       "      <th>Property_Area</th>\n",
       "    </tr>\n",
       "  </thead>\n",
       "  <tbody>\n",
       "    <tr>\n",
       "      <th>0</th>\n",
       "      <td>Male</td>\n",
       "      <td>Yes</td>\n",
       "      <td>0</td>\n",
       "      <td>Graduate</td>\n",
       "      <td>No</td>\n",
       "      <td>5720</td>\n",
       "      <td>0</td>\n",
       "      <td>110.0</td>\n",
       "      <td>360.0</td>\n",
       "      <td>1.0</td>\n",
       "      <td>Urban</td>\n",
       "    </tr>\n",
       "    <tr>\n",
       "      <th>1</th>\n",
       "      <td>Male</td>\n",
       "      <td>Yes</td>\n",
       "      <td>1</td>\n",
       "      <td>Graduate</td>\n",
       "      <td>No</td>\n",
       "      <td>3076</td>\n",
       "      <td>1500</td>\n",
       "      <td>126.0</td>\n",
       "      <td>360.0</td>\n",
       "      <td>1.0</td>\n",
       "      <td>Urban</td>\n",
       "    </tr>\n",
       "    <tr>\n",
       "      <th>2</th>\n",
       "      <td>Male</td>\n",
       "      <td>Yes</td>\n",
       "      <td>2</td>\n",
       "      <td>Graduate</td>\n",
       "      <td>No</td>\n",
       "      <td>5000</td>\n",
       "      <td>1800</td>\n",
       "      <td>208.0</td>\n",
       "      <td>360.0</td>\n",
       "      <td>1.0</td>\n",
       "      <td>Urban</td>\n",
       "    </tr>\n",
       "    <tr>\n",
       "      <th>3</th>\n",
       "      <td>Male</td>\n",
       "      <td>Yes</td>\n",
       "      <td>2</td>\n",
       "      <td>Graduate</td>\n",
       "      <td>No</td>\n",
       "      <td>2340</td>\n",
       "      <td>2546</td>\n",
       "      <td>100.0</td>\n",
       "      <td>360.0</td>\n",
       "      <td>1.0</td>\n",
       "      <td>Urban</td>\n",
       "    </tr>\n",
       "    <tr>\n",
       "      <th>4</th>\n",
       "      <td>Male</td>\n",
       "      <td>No</td>\n",
       "      <td>0</td>\n",
       "      <td>Not Graduate</td>\n",
       "      <td>No</td>\n",
       "      <td>3276</td>\n",
       "      <td>0</td>\n",
       "      <td>78.0</td>\n",
       "      <td>360.0</td>\n",
       "      <td>1.0</td>\n",
       "      <td>Urban</td>\n",
       "    </tr>\n",
       "  </tbody>\n",
       "</table>\n",
       "</div>"
      ],
      "text/plain": [
       "  Gender Married Dependents     Education Self_Employed  ApplicantIncome  \\\n",
       "0   Male     Yes          0      Graduate            No             5720   \n",
       "1   Male     Yes          1      Graduate            No             3076   \n",
       "2   Male     Yes          2      Graduate            No             5000   \n",
       "3   Male     Yes          2      Graduate            No             2340   \n",
       "4   Male      No          0  Not Graduate            No             3276   \n",
       "\n",
       "   CoapplicantIncome  LoanAmount  Loan_Amount_Term  Credit_History  \\\n",
       "0                  0       110.0             360.0             1.0   \n",
       "1               1500       126.0             360.0             1.0   \n",
       "2               1800       208.0             360.0             1.0   \n",
       "3               2546       100.0             360.0             1.0   \n",
       "4                  0        78.0             360.0             1.0   \n",
       "\n",
       "  Property_Area  \n",
       "0         Urban  \n",
       "1         Urban  \n",
       "2         Urban  \n",
       "3         Urban  \n",
       "4         Urban  "
      ]
     },
     "execution_count": 42,
     "metadata": {},
     "output_type": "execute_result"
    }
   ],
   "source": [
    "predict_ml.head()"
   ]
  },
  {
   "cell_type": "code",
   "execution_count": 43,
   "id": "33037c63",
   "metadata": {
    "execution": {
     "iopub.execute_input": "2024-11-05T02:39:49.556127Z",
     "iopub.status.busy": "2024-11-05T02:39:49.555690Z",
     "iopub.status.idle": "2024-11-05T02:39:49.565236Z",
     "shell.execute_reply": "2024-11-05T02:39:49.564009Z"
    },
    "papermill": {
     "duration": 0.046501,
     "end_time": "2024-11-05T02:39:49.567785",
     "exception": false,
     "start_time": "2024-11-05T02:39:49.521284",
     "status": "completed"
    },
    "tags": []
   },
   "outputs": [],
   "source": [
    "train_ml['Dependents'].replace('3+', 3, inplace=True)\n",
    "predict_ml['Dependents'].replace('3+', 3, inplace=True)\n",
    "train_ml['Loan_Status'].replace('N', 0, inplace=True)\n",
    "train_ml['Loan_Status'].replace('Y', 1, inplace=True)"
   ]
  },
  {
   "cell_type": "code",
   "execution_count": 44,
   "id": "588390ab",
   "metadata": {
    "execution": {
     "iopub.execute_input": "2024-11-05T02:39:49.644604Z",
     "iopub.status.busy": "2024-11-05T02:39:49.643671Z",
     "iopub.status.idle": "2024-11-05T02:39:49.650263Z",
     "shell.execute_reply": "2024-11-05T02:39:49.649081Z"
    },
    "papermill": {
     "duration": 0.044722,
     "end_time": "2024-11-05T02:39:49.652781",
     "exception": false,
     "start_time": "2024-11-05T02:39:49.608059",
     "status": "completed"
    },
    "tags": []
   },
   "outputs": [],
   "source": [
    "X = train_ml.drop('Loan_Status', axis = 1)\n",
    "y = train_ml['Loan_Status']"
   ]
  },
  {
   "cell_type": "code",
   "execution_count": 45,
   "id": "a11168ea",
   "metadata": {
    "execution": {
     "iopub.execute_input": "2024-11-05T02:39:49.723338Z",
     "iopub.status.busy": "2024-11-05T02:39:49.722886Z",
     "iopub.status.idle": "2024-11-05T02:39:49.752018Z",
     "shell.execute_reply": "2024-11-05T02:39:49.750066Z"
    },
    "papermill": {
     "duration": 0.068608,
     "end_time": "2024-11-05T02:39:49.756394",
     "exception": false,
     "start_time": "2024-11-05T02:39:49.687786",
     "status": "completed"
    },
    "tags": []
   },
   "outputs": [],
   "source": [
    "X = pd.get_dummies(X)\n",
    "train_ml = pd.get_dummies(train_ml)\n",
    "predict_ml = pd.get_dummies(predict_ml)"
   ]
  },
  {
   "cell_type": "code",
   "execution_count": 46,
   "id": "ab006268",
   "metadata": {
    "execution": {
     "iopub.execute_input": "2024-11-05T02:39:49.844985Z",
     "iopub.status.busy": "2024-11-05T02:39:49.844532Z",
     "iopub.status.idle": "2024-11-05T02:39:49.874268Z",
     "shell.execute_reply": "2024-11-05T02:39:49.872847Z"
    },
    "papermill": {
     "duration": 0.076224,
     "end_time": "2024-11-05T02:39:49.876978",
     "exception": false,
     "start_time": "2024-11-05T02:39:49.800754",
     "status": "completed"
    },
    "tags": []
   },
   "outputs": [
    {
     "data": {
      "text/html": [
       "<div>\n",
       "<style scoped>\n",
       "    .dataframe tbody tr th:only-of-type {\n",
       "        vertical-align: middle;\n",
       "    }\n",
       "\n",
       "    .dataframe tbody tr th {\n",
       "        vertical-align: top;\n",
       "    }\n",
       "\n",
       "    .dataframe thead th {\n",
       "        text-align: right;\n",
       "    }\n",
       "</style>\n",
       "<table border=\"1\" class=\"dataframe\">\n",
       "  <thead>\n",
       "    <tr style=\"text-align: right;\">\n",
       "      <th></th>\n",
       "      <th>ApplicantIncome</th>\n",
       "      <th>CoapplicantIncome</th>\n",
       "      <th>LoanAmount</th>\n",
       "      <th>Loan_Amount_Term</th>\n",
       "      <th>Credit_History</th>\n",
       "      <th>Loan_Status</th>\n",
       "      <th>Gender_Female</th>\n",
       "      <th>Gender_Male</th>\n",
       "      <th>Married_No</th>\n",
       "      <th>Married_Yes</th>\n",
       "      <th>...</th>\n",
       "      <th>Dependents_0</th>\n",
       "      <th>Dependents_1</th>\n",
       "      <th>Dependents_2</th>\n",
       "      <th>Education_Graduate</th>\n",
       "      <th>Education_Not Graduate</th>\n",
       "      <th>Self_Employed_No</th>\n",
       "      <th>Self_Employed_Yes</th>\n",
       "      <th>Property_Area_Rural</th>\n",
       "      <th>Property_Area_Semiurban</th>\n",
       "      <th>Property_Area_Urban</th>\n",
       "    </tr>\n",
       "  </thead>\n",
       "  <tbody>\n",
       "    <tr>\n",
       "      <th>0</th>\n",
       "      <td>5849</td>\n",
       "      <td>0.0</td>\n",
       "      <td>146.412162</td>\n",
       "      <td>360.0</td>\n",
       "      <td>1.0</td>\n",
       "      <td>1</td>\n",
       "      <td>False</td>\n",
       "      <td>True</td>\n",
       "      <td>True</td>\n",
       "      <td>False</td>\n",
       "      <td>...</td>\n",
       "      <td>True</td>\n",
       "      <td>False</td>\n",
       "      <td>False</td>\n",
       "      <td>True</td>\n",
       "      <td>False</td>\n",
       "      <td>True</td>\n",
       "      <td>False</td>\n",
       "      <td>False</td>\n",
       "      <td>False</td>\n",
       "      <td>True</td>\n",
       "    </tr>\n",
       "    <tr>\n",
       "      <th>1</th>\n",
       "      <td>4583</td>\n",
       "      <td>1508.0</td>\n",
       "      <td>128.000000</td>\n",
       "      <td>360.0</td>\n",
       "      <td>1.0</td>\n",
       "      <td>0</td>\n",
       "      <td>False</td>\n",
       "      <td>True</td>\n",
       "      <td>False</td>\n",
       "      <td>True</td>\n",
       "      <td>...</td>\n",
       "      <td>False</td>\n",
       "      <td>True</td>\n",
       "      <td>False</td>\n",
       "      <td>True</td>\n",
       "      <td>False</td>\n",
       "      <td>True</td>\n",
       "      <td>False</td>\n",
       "      <td>True</td>\n",
       "      <td>False</td>\n",
       "      <td>False</td>\n",
       "    </tr>\n",
       "    <tr>\n",
       "      <th>2</th>\n",
       "      <td>3000</td>\n",
       "      <td>0.0</td>\n",
       "      <td>66.000000</td>\n",
       "      <td>360.0</td>\n",
       "      <td>1.0</td>\n",
       "      <td>1</td>\n",
       "      <td>False</td>\n",
       "      <td>True</td>\n",
       "      <td>False</td>\n",
       "      <td>True</td>\n",
       "      <td>...</td>\n",
       "      <td>True</td>\n",
       "      <td>False</td>\n",
       "      <td>False</td>\n",
       "      <td>True</td>\n",
       "      <td>False</td>\n",
       "      <td>False</td>\n",
       "      <td>True</td>\n",
       "      <td>False</td>\n",
       "      <td>False</td>\n",
       "      <td>True</td>\n",
       "    </tr>\n",
       "    <tr>\n",
       "      <th>3</th>\n",
       "      <td>2583</td>\n",
       "      <td>2358.0</td>\n",
       "      <td>120.000000</td>\n",
       "      <td>360.0</td>\n",
       "      <td>1.0</td>\n",
       "      <td>1</td>\n",
       "      <td>False</td>\n",
       "      <td>True</td>\n",
       "      <td>False</td>\n",
       "      <td>True</td>\n",
       "      <td>...</td>\n",
       "      <td>True</td>\n",
       "      <td>False</td>\n",
       "      <td>False</td>\n",
       "      <td>False</td>\n",
       "      <td>True</td>\n",
       "      <td>True</td>\n",
       "      <td>False</td>\n",
       "      <td>False</td>\n",
       "      <td>False</td>\n",
       "      <td>True</td>\n",
       "    </tr>\n",
       "    <tr>\n",
       "      <th>4</th>\n",
       "      <td>6000</td>\n",
       "      <td>0.0</td>\n",
       "      <td>141.000000</td>\n",
       "      <td>360.0</td>\n",
       "      <td>1.0</td>\n",
       "      <td>1</td>\n",
       "      <td>False</td>\n",
       "      <td>True</td>\n",
       "      <td>True</td>\n",
       "      <td>False</td>\n",
       "      <td>...</td>\n",
       "      <td>True</td>\n",
       "      <td>False</td>\n",
       "      <td>False</td>\n",
       "      <td>True</td>\n",
       "      <td>False</td>\n",
       "      <td>True</td>\n",
       "      <td>False</td>\n",
       "      <td>False</td>\n",
       "      <td>False</td>\n",
       "      <td>True</td>\n",
       "    </tr>\n",
       "  </tbody>\n",
       "</table>\n",
       "<p>5 rows × 21 columns</p>\n",
       "</div>"
      ],
      "text/plain": [
       "   ApplicantIncome  CoapplicantIncome  LoanAmount  Loan_Amount_Term  \\\n",
       "0             5849                0.0  146.412162             360.0   \n",
       "1             4583             1508.0  128.000000             360.0   \n",
       "2             3000                0.0   66.000000             360.0   \n",
       "3             2583             2358.0  120.000000             360.0   \n",
       "4             6000                0.0  141.000000             360.0   \n",
       "\n",
       "   Credit_History  Loan_Status  Gender_Female  Gender_Male  Married_No  \\\n",
       "0             1.0            1          False         True        True   \n",
       "1             1.0            0          False         True       False   \n",
       "2             1.0            1          False         True       False   \n",
       "3             1.0            1          False         True       False   \n",
       "4             1.0            1          False         True        True   \n",
       "\n",
       "   Married_Yes  ...  Dependents_0  Dependents_1  Dependents_2  \\\n",
       "0        False  ...          True         False         False   \n",
       "1         True  ...         False          True         False   \n",
       "2         True  ...          True         False         False   \n",
       "3         True  ...          True         False         False   \n",
       "4        False  ...          True         False         False   \n",
       "\n",
       "   Education_Graduate  Education_Not Graduate  Self_Employed_No  \\\n",
       "0                True                   False              True   \n",
       "1                True                   False              True   \n",
       "2                True                   False             False   \n",
       "3               False                    True              True   \n",
       "4                True                   False              True   \n",
       "\n",
       "   Self_Employed_Yes  Property_Area_Rural  Property_Area_Semiurban  \\\n",
       "0              False                False                    False   \n",
       "1              False                 True                    False   \n",
       "2               True                False                    False   \n",
       "3              False                False                    False   \n",
       "4              False                False                    False   \n",
       "\n",
       "   Property_Area_Urban  \n",
       "0                 True  \n",
       "1                False  \n",
       "2                 True  \n",
       "3                 True  \n",
       "4                 True  \n",
       "\n",
       "[5 rows x 21 columns]"
      ]
     },
     "execution_count": 46,
     "metadata": {},
     "output_type": "execute_result"
    }
   ],
   "source": [
    "train_ml.head()"
   ]
  },
  {
   "cell_type": "markdown",
   "id": "f3962732",
   "metadata": {
    "papermill": {
     "duration": 0.032503,
     "end_time": "2024-11-05T02:39:49.943558",
     "exception": false,
     "start_time": "2024-11-05T02:39:49.911055",
     "status": "completed"
    },
    "tags": []
   },
   "source": [
    "**Training a Decision Tree Classifier**"
   ]
  },
  {
   "cell_type": "code",
   "execution_count": 47,
   "id": "77ab5f64",
   "metadata": {
    "execution": {
     "iopub.execute_input": "2024-11-05T02:39:50.011868Z",
     "iopub.status.busy": "2024-11-05T02:39:50.011400Z",
     "iopub.status.idle": "2024-11-05T02:39:50.016612Z",
     "shell.execute_reply": "2024-11-05T02:39:50.015448Z"
    },
    "id": "n8NrpZBcL6Cc",
    "papermill": {
     "duration": 0.043087,
     "end_time": "2024-11-05T02:39:50.019185",
     "exception": false,
     "start_time": "2024-11-05T02:39:49.976098",
     "status": "completed"
    },
    "tags": []
   },
   "outputs": [],
   "source": [
    "from sklearn.model_selection import train_test_split"
   ]
  },
  {
   "cell_type": "code",
   "execution_count": 48,
   "id": "d27519b2",
   "metadata": {
    "execution": {
     "iopub.execute_input": "2024-11-05T02:39:50.087254Z",
     "iopub.status.busy": "2024-11-05T02:39:50.086827Z",
     "iopub.status.idle": "2024-11-05T02:39:50.097669Z",
     "shell.execute_reply": "2024-11-05T02:39:50.096626Z"
    },
    "id": "HlUY4lntL8a6",
    "papermill": {
     "duration": 0.047948,
     "end_time": "2024-11-05T02:39:50.100235",
     "exception": false,
     "start_time": "2024-11-05T02:39:50.052287",
     "status": "completed"
    },
    "tags": []
   },
   "outputs": [],
   "source": [
    "#X contains the features, and y is the target variable (or label)\n",
    "#30% of the data will be used for testing, and 70% for training.\n",
    "#This split helps evaluate model performance on unseen data (X_test and y_test)\n",
    "X_train, X_test, y_train, y_test = train_test_split(X, y, test_size=0.3)"
   ]
  },
  {
   "cell_type": "code",
   "execution_count": 49,
   "id": "97d22040",
   "metadata": {
    "execution": {
     "iopub.execute_input": "2024-11-05T02:39:50.168528Z",
     "iopub.status.busy": "2024-11-05T02:39:50.167488Z",
     "iopub.status.idle": "2024-11-05T02:39:50.228349Z",
     "shell.execute_reply": "2024-11-05T02:39:50.227103Z"
    },
    "id": "1gTStq_aMA8e",
    "papermill": {
     "duration": 0.097738,
     "end_time": "2024-11-05T02:39:50.230880",
     "exception": false,
     "start_time": "2024-11-05T02:39:50.133142",
     "status": "completed"
    },
    "tags": []
   },
   "outputs": [
    {
     "data": {
      "text/html": [
       "<style>#sk-container-id-1 {color: black;background-color: white;}#sk-container-id-1 pre{padding: 0;}#sk-container-id-1 div.sk-toggleable {background-color: white;}#sk-container-id-1 label.sk-toggleable__label {cursor: pointer;display: block;width: 100%;margin-bottom: 0;padding: 0.3em;box-sizing: border-box;text-align: center;}#sk-container-id-1 label.sk-toggleable__label-arrow:before {content: \"▸\";float: left;margin-right: 0.25em;color: #696969;}#sk-container-id-1 label.sk-toggleable__label-arrow:hover:before {color: black;}#sk-container-id-1 div.sk-estimator:hover label.sk-toggleable__label-arrow:before {color: black;}#sk-container-id-1 div.sk-toggleable__content {max-height: 0;max-width: 0;overflow: hidden;text-align: left;background-color: #f0f8ff;}#sk-container-id-1 div.sk-toggleable__content pre {margin: 0.2em;color: black;border-radius: 0.25em;background-color: #f0f8ff;}#sk-container-id-1 input.sk-toggleable__control:checked~div.sk-toggleable__content {max-height: 200px;max-width: 100%;overflow: auto;}#sk-container-id-1 input.sk-toggleable__control:checked~label.sk-toggleable__label-arrow:before {content: \"▾\";}#sk-container-id-1 div.sk-estimator input.sk-toggleable__control:checked~label.sk-toggleable__label {background-color: #d4ebff;}#sk-container-id-1 div.sk-label input.sk-toggleable__control:checked~label.sk-toggleable__label {background-color: #d4ebff;}#sk-container-id-1 input.sk-hidden--visually {border: 0;clip: rect(1px 1px 1px 1px);clip: rect(1px, 1px, 1px, 1px);height: 1px;margin: -1px;overflow: hidden;padding: 0;position: absolute;width: 1px;}#sk-container-id-1 div.sk-estimator {font-family: monospace;background-color: #f0f8ff;border: 1px dotted black;border-radius: 0.25em;box-sizing: border-box;margin-bottom: 0.5em;}#sk-container-id-1 div.sk-estimator:hover {background-color: #d4ebff;}#sk-container-id-1 div.sk-parallel-item::after {content: \"\";width: 100%;border-bottom: 1px solid gray;flex-grow: 1;}#sk-container-id-1 div.sk-label:hover label.sk-toggleable__label {background-color: #d4ebff;}#sk-container-id-1 div.sk-serial::before {content: \"\";position: absolute;border-left: 1px solid gray;box-sizing: border-box;top: 0;bottom: 0;left: 50%;z-index: 0;}#sk-container-id-1 div.sk-serial {display: flex;flex-direction: column;align-items: center;background-color: white;padding-right: 0.2em;padding-left: 0.2em;position: relative;}#sk-container-id-1 div.sk-item {position: relative;z-index: 1;}#sk-container-id-1 div.sk-parallel {display: flex;align-items: stretch;justify-content: center;background-color: white;position: relative;}#sk-container-id-1 div.sk-item::before, #sk-container-id-1 div.sk-parallel-item::before {content: \"\";position: absolute;border-left: 1px solid gray;box-sizing: border-box;top: 0;bottom: 0;left: 50%;z-index: -1;}#sk-container-id-1 div.sk-parallel-item {display: flex;flex-direction: column;z-index: 1;position: relative;background-color: white;}#sk-container-id-1 div.sk-parallel-item:first-child::after {align-self: flex-end;width: 50%;}#sk-container-id-1 div.sk-parallel-item:last-child::after {align-self: flex-start;width: 50%;}#sk-container-id-1 div.sk-parallel-item:only-child::after {width: 0;}#sk-container-id-1 div.sk-dashed-wrapped {border: 1px dashed gray;margin: 0 0.4em 0.5em 0.4em;box-sizing: border-box;padding-bottom: 0.4em;background-color: white;}#sk-container-id-1 div.sk-label label {font-family: monospace;font-weight: bold;display: inline-block;line-height: 1.2em;}#sk-container-id-1 div.sk-label-container {text-align: center;}#sk-container-id-1 div.sk-container {/* jupyter's `normalize.less` sets `[hidden] { display: none; }` but bootstrap.min.css set `[hidden] { display: none !important; }` so we also need the `!important` here to be able to override the default hidden behavior on the sphinx rendered scikit-learn.org. See: https://github.com/scikit-learn/scikit-learn/issues/21755 */display: inline-block !important;position: relative;}#sk-container-id-1 div.sk-text-repr-fallback {display: none;}</style><div id=\"sk-container-id-1\" class=\"sk-top-container\"><div class=\"sk-text-repr-fallback\"><pre>DecisionTreeClassifier(random_state=1)</pre><b>In a Jupyter environment, please rerun this cell to show the HTML representation or trust the notebook. <br />On GitHub, the HTML representation is unable to render, please try loading this page with nbviewer.org.</b></div><div class=\"sk-container\" hidden><div class=\"sk-item\"><div class=\"sk-estimator sk-toggleable\"><input class=\"sk-toggleable__control sk-hidden--visually\" id=\"sk-estimator-id-1\" type=\"checkbox\" checked><label for=\"sk-estimator-id-1\" class=\"sk-toggleable__label sk-toggleable__label-arrow\">DecisionTreeClassifier</label><div class=\"sk-toggleable__content\"><pre>DecisionTreeClassifier(random_state=1)</pre></div></div></div></div></div>"
      ],
      "text/plain": [
       "DecisionTreeClassifier(random_state=1)"
      ]
     },
     "execution_count": 49,
     "metadata": {},
     "output_type": "execute_result"
    }
   ],
   "source": [
    "from sklearn.tree import DecisionTreeClassifier\n",
    "model = DecisionTreeClassifier(random_state=1)\n",
    "#Train model in known data\n",
    "model.fit(X_train,y_train)"
   ]
  },
  {
   "cell_type": "code",
   "execution_count": 50,
   "id": "91c46210",
   "metadata": {
    "execution": {
     "iopub.execute_input": "2024-11-05T02:39:50.301474Z",
     "iopub.status.busy": "2024-11-05T02:39:50.301045Z",
     "iopub.status.idle": "2024-11-05T02:39:50.309259Z",
     "shell.execute_reply": "2024-11-05T02:39:50.307893Z"
    },
    "id": "y8vmGW2oMG0D",
    "papermill": {
     "duration": 0.046165,
     "end_time": "2024-11-05T02:39:50.311858",
     "exception": false,
     "start_time": "2024-11-05T02:39:50.265693",
     "status": "completed"
    },
    "tags": []
   },
   "outputs": [],
   "source": [
    "# Predict labels for X_test\n",
    "predictions = model.predict(X_test)"
   ]
  },
  {
   "cell_type": "markdown",
   "id": "3cf8929e",
   "metadata": {
    "papermill": {
     "duration": 0.033667,
     "end_time": "2024-11-05T02:39:50.379328",
     "exception": false,
     "start_time": "2024-11-05T02:39:50.345661",
     "status": "completed"
    },
    "tags": []
   },
   "source": [
    "**Evaluating the Decision Tree Classifier**"
   ]
  },
  {
   "cell_type": "code",
   "execution_count": 51,
   "id": "803857c7",
   "metadata": {
    "execution": {
     "iopub.execute_input": "2024-11-05T02:39:50.448334Z",
     "iopub.status.busy": "2024-11-05T02:39:50.447925Z",
     "iopub.status.idle": "2024-11-05T02:39:50.453176Z",
     "shell.execute_reply": "2024-11-05T02:39:50.452010Z"
    },
    "id": "pqQMgQ-DMI5f",
    "papermill": {
     "duration": 0.042087,
     "end_time": "2024-11-05T02:39:50.455525",
     "exception": false,
     "start_time": "2024-11-05T02:39:50.413438",
     "status": "completed"
    },
    "tags": []
   },
   "outputs": [],
   "source": [
    "from sklearn.metrics import accuracy_score, classification_report"
   ]
  },
  {
   "cell_type": "code",
   "execution_count": 52,
   "id": "b060f7dc",
   "metadata": {
    "execution": {
     "iopub.execute_input": "2024-11-05T02:39:50.523477Z",
     "iopub.status.busy": "2024-11-05T02:39:50.523054Z",
     "iopub.status.idle": "2024-11-05T02:39:50.538862Z",
     "shell.execute_reply": "2024-11-05T02:39:50.537598Z"
    },
    "id": "mLqK0BFLMLi5",
    "outputId": "c50951cc-1933-4f81-b261-842e71bb6223",
    "papermill": {
     "duration": 0.052507,
     "end_time": "2024-11-05T02:39:50.541381",
     "exception": false,
     "start_time": "2024-11-05T02:39:50.488874",
     "status": "completed"
    },
    "tags": []
   },
   "outputs": [
    {
     "name": "stdout",
     "output_type": "stream",
     "text": [
      "              precision    recall  f1-score   support\n",
      "\n",
      "           0       0.54      0.55      0.54        64\n",
      "           1       0.76      0.75      0.76       121\n",
      "\n",
      "    accuracy                           0.68       185\n",
      "   macro avg       0.65      0.65      0.65       185\n",
      "weighted avg       0.68      0.68      0.68       185\n",
      "\n"
     ]
    }
   ],
   "source": [
    "print(classification_report(y_test, predictions))"
   ]
  },
  {
   "cell_type": "markdown",
   "id": "a06eee68",
   "metadata": {
    "id": "5gCgMmjTRywR",
    "papermill": {
     "duration": 0.03324,
     "end_time": "2024-11-05T02:39:50.608529",
     "exception": false,
     "start_time": "2024-11-05T02:39:50.575289",
     "status": "completed"
    },
    "tags": []
   },
   "source": [
    "![image.png](data:image/png;base64,iVBORw0KGgoAAAANSUhEUgAACA8AAAHFCAYAAACXEUJpAAAAAXNSR0IArs4c6QAAAGJlWElmTU0AKgAAAAgAAYdpAAQAAAABAAAAGgAAAAAABJKGAAcAAAASAAAAUKABAAMAAAABAAEAAKACAAQAAAABAAAID6ADAAQAAAABAAABxQAAAABBU0NJSQAAAFNjcmVlbnNob3S4Thk5AAAB12lUWHRYTUw6Y29tLmFkb2JlLnhtcAAAAAAAPHg6eG1wbWV0YSB4bWxuczp4PSJhZG9iZTpuczptZXRhLyIgeDp4bXB0az0iWE1QIENvcmUgNi4wLjAiPgogICA8cmRmOlJERiB4bWxuczpyZGY9Imh0dHA6Ly93d3cudzMub3JnLzE5OTkvMDIvMjItcmRmLXN5bnRheC1ucyMiPgogICAgICA8cmRmOkRlc2NyaXB0aW9uIHJkZjphYm91dD0iIgogICAgICAgICAgICB4bWxuczpleGlmPSJodHRwOi8vbnMuYWRvYmUuY29tL2V4aWYvMS4wLyI+CiAgICAgICAgIDxleGlmOlBpeGVsWURpbWVuc2lvbj40NTM8L2V4aWY6UGl4ZWxZRGltZW5zaW9uPgogICAgICAgICA8ZXhpZjpQaXhlbFhEaW1lbnNpb24+MjA2MzwvZXhpZjpQaXhlbFhEaW1lbnNpb24+CiAgICAgICAgIDxleGlmOlVzZXJDb21tZW50PlNjcmVlbnNob3Q8L2V4aWY6VXNlckNvbW1lbnQ+CiAgICAgIDwvcmRmOkRlc2NyaXB0aW9uPgogICA8L3JkZjpSREY+CjwveDp4bXBtZXRhPgosmRYDAABAAElEQVR4AezdB9wUNcLH8TyAIkWlCCJVimBFQRTEsx7I4SnonVhBwcLZz4ainL13BTsWRKyIFfQVEDl7BQRUBEVAEBBQQKSq+84/d8nN7s4+bZ+y5ZfP52EzmSQz890ddmeSSQpiQTAEBBDwAgsWLLDx5s2b+zQiCCCAAAIIIIAAAggggAACmS/A9Vzmv0fsYeULcJ5U/nvAHmS+QEFBgd1Jbp1n/nvFHlaeAN8nlWfPlrNHgPMke94r9vR/AlX+FyWGAAIIIIAAAggggAACCCCAAAIIIIAAAggggAACCCCAAAIIIIAAAvkoQOeBfHzXOWYEEEAAAQQQQAABBBBAAAEEEEAAAQQQQAABBBBAAAEEEEAAAQRCAnQeCGEQRQABBBBAAAEEEEAAAQQQQAABBBBAAAEEEEAAAQQQQAABBBBAIB8F6DyQj+86x4wAAggggAACCCCAAAIIIIAAAggggAACCCCAAAIIIIAAAggggEBIoFooThQBBPJAYMOGDWb06NH2SHfZZRfToUMHG//tt9/M888/b/Tavn17+5etHGPHjjUrV6409evXNz179szWw2C/EUAAAQQQQAABBBBAAIE4Aa7n4jhYQAABBBBAAAEEEEAAAQQQKGMBRh4oY1CqQyDTBX799VfTr18/+6fOAi788MMP5rjjjrPpr776qktO6/Wbb74xvXr1MgsXLkyrnpIWHjJkiD2OK6+8sqRFyY8AAggggAACCCCAAAIIZKwA13MZ+9awYwgggAACCCCAAAIIIIBATgjQeSAn3kYOAoHMExg3bpzZYYcdjDoi6AYXAQEEEEAAAQQQQAABBBBAIDsEuJ7LjveJvUQAAQQQQAABBBBAAAEEylqAaQvKWpT6EMhSgdq1a5uzzz7b7n3Hjh3TPoq5c+emXQcVIIAAAggggAACCCCAAAIIFC3A9VzRRuRAAAEEEEAAAQQQQAABBBAoWoDOA0UbkQOBvBCoV6+eGTZsWF4cKweJAAIIIIAAAggggAACCOSSANdzufRuciwIIIAAAggggAACCCCAQOUJ0Hmg8uzZchYLaBj+FStWmM0339w0atTIxGIx8+2335pPP/3Uxlu3bm06depkqlRJnhlk+fLlZu3atWaLLbYwDRs2NN9884159913TYcOHUz79u1NQUFBnMzvv/9uvvvuOzNjxgzzyy+/mJ133tn+1axZMy5f1MIXX3xhvvrqK7u9Pffc0+y0005R2Wzab7/9Zn744Qcb135p/6LCvHnzzMyZM83ixYvt/utYd911V59106ZNdp18XJg/f76pUaOGzR9Vr7arOr///nvTpk0bW1/9+vVd8ZSvKjdlyhSzdOlSs8suu5g99tgj5X6nrKSIFRs3bjRLliyxufQ0j27KpQqLFi0yer+23npr+xfOV9r3cc2aNWb69OnGjeTQtm1bo786deqEqyeOAAIIIIAAAggggAACxRTgei5/rufcR0LXjrrmdde6iutaeerUqaZu3br2Wrx58+ZJ1+OuvHtduHCh+frrr42uixs3bmyvQ5s1a1ZkOVeeVwQQQAABBBBAAAEEEEAg4wWCRk8CAgiEBIKG7pj+CgtPPPFELDi57V9wwyEWNOb6ZZceNPLHgobtpGr69u1r8/bs2TN21VVXxZVr2rRp7KeffvJlXnvttVhwcyMuj6v/2muvjQUN9T5vOBLcGIkdeOCBSeVU14QJE3z6ZZdd5ovpmF3dN910k093kTlz5sR69Ojh87i8et13331jn332mc0adFiIzKN8119/vavOvs6aNSu21157ReY/+uijY0EHhLj8bkHHffrpp0eWGzVqVCzohGHXqe50Q9BJwm9H9aYKwc0jn++cc86Jy1ba91FeYedwvF+/fnGflbgNsoAAAggggAACCCCAQJ4KcD1nYlzPJX/4da2t66kbb7wx9vzzz0deZx188MExXUtHhaDTf6x3796R5XTt766Ho8pmYlpxzpNM3G/2CYGKFHD3YCpym2wLgWwT4Psk294x9rcyBDhPKkOdbaYrkPxYdPDLiIAAAsUX2Hvvvc3s2bNtgaCx2my55ZY2/uWXX5q//OUv5scff4ys7PXXXzdB54G4dXoKQk89KFxxxRXm0EMP9eVVb3DDw+e//PLLTdBBwGzYsMGnKaLlPn36mMmTJ/t01augfenevbtPTxXRUxjhoKcxOnbsaN544w2fHN6X9957z+6LnsDQCAOpgp6+d2Hs2LFmxx13NJ988olLMq1atfLx5557zo6UoJEZEsO//vUv88ADD/hkd3xKCDpn2Cf1/co0IxpZ4vDDD7e1aAQAjQARFZ555hmffOyxx/p4ad/Hu+66ywwZMsTXI5vwcQYdWOzTMRoZgYAAAggggAACCCCAAAKlE+B6zphcvp5L/FTccMMN5qijjkpMtsuTJk0y+jwkXg9//vnndoS8l19+2ZcLXw/r2l8j/T322GN+PREEEEAAAQQQQAABBBBAIFsF6DyQre8c+50xAppKIHjy3g6d//HHH5tVq1aZm2++2e6fGuuPOeYYo6H8U4XgCXvzyCOPmIEDB5qLLrrIZtP0B8HIAjauBuPgyXWzevVqO6y/hkkMnoiw63ST5957742r+vzzz7c3f5SoRuyff/7Z7pumEVCngpIG3Tjp37+/nTJBZRUPRkew+xL0mjNnn322rVIOwRP3pmXLlnbqhqFDh/pNBSMM2DR1eFBQ3lNOOcWvv/POO62Rpn7QMP0XXnihXSe/8847z+dTRI30zlfTPKhuTVuwfv16EzxFEpe3rBZOPvlkX1W4k4BPDCKPPvqoXVQj/z777GPjpX0f//jjD9t5RJXo/deUBbLR9AnqwLDffvvZ+vVZCHfosIn8gwACCCCAAAIIIIAAAsUW4Hou96/nwh8Gvd8Kuo5WXJ3v33rrLf8QgK6xxo0b54vo+lTX7C4EI+DZa2xNubdu3Tqja1kXdN2o8gQEEEAAAQQQQAABBBBAIKsF0h26gPII5JpAcYaRCU9bEIwIEAtuOiQxBJ0B/JCGwSgDfr2btiD4jyMWPNHu08ORLl26+LJBh4TwKhvXsP1uaH7Vs3z5cpseHjo/GCkgFjRCx5UNnvyPhetONW3Bdddd58tp+9qG/jTVQmIIGu1jbghI5Vm0aJHNEnQe8OU0PUE4BJ0I/LrgZkt4lY9r6H+3XU214EJ4W0Fjukv2r5deeqkvVxbTFqhiHaPeZ+1P0JgfCzpU+O0p8tFHH/ltahhMF8LWJXkfNSSmO/bBgwe76vyrhsR0+xLens9ABAEEEEAAAQQQQACBPBXges7EuJ5L/vCHryPvueeepAwvvviivwYbNGiQX//ggw/69JNOOsmnhyP33Xefz6Pr/WwIxTlPsuE42EcEylPA3Zcpz21QNwLZLsD3Sba/g+x/RQhwnlSEMtsoawFGHgh+CRIQSEfgyiuvNLVr106qIrjh4NM0zGFUcE/th9dppIAPP/zQJgVzKhpNhZAYqlWrFvdEvqYVUJg5c6bPGnQMMAUFBX5ZkSpVqsQNhR+3MsWCnnR3QUPwJ4bq1aubkSNHGg3/OGbMGFOrVq3ELEnLbrhHTcUQZaACGsXAhbfffttGV65c6Z/k0Pptt93WZfGv//znP328rCI6xtNOO81Wp9EQ3n333biqn3zySb98/PHH23g672Pjxo19fXoi5tlnn7VPtbhETSGhJ2Q04kLQucAl84oAAggggAACCCCAAAIlFOB6Lvev5xI/Ev/4xz8Sk8zuu+/u09zoBEp45513fLo+K1FBo+q5aQzGjx8flYU0BBBAAAEEEEAAAQQQQCBrBKplzZ6yowhkqIAbQj5x99q0aeOTpkyZ4uPhiIa4Twwaot6F7777zg9f79Lca7ijQPCkuunWrZuZMWOGW206dOjg4+GIG1I/nFZYfNq0aX51+IaKTwwiBx10kP0Lp6WKa0j+cIeEa665JjJrMEqCT//6669tXHNJuhDVqULr1KFA0xmEt+HKpPN64oknmjvuuMNW8dRTT5kDDjjAxtWI7+a27N69u2nevLlNT+d9rFGjhp1iYvTo0XYoTU0/oRCMVGEOO+ww06NHD9OiRQubxj8IIIAAAggggAACCCBQegGu5/Ljes59QnQNrs74iaFJkyY+KTztoOsMoM4BmqIvKmy++eb2ejgYodCos7k6ktetWzcqK2kIIIAAAggggAACCCCAQMYLJF8xZfwus4MIZJaAe8Igaq/atm1rZs+ebT799NOo1ZENwOFGZzWAF6cRXJ0HFMIjHGy33XaR26xXr15keqpEt+8aJUCN2umGYKoBX4We6Lj22mv9cqpIMO2BXRXuMNGgQYNU2a1rcdxSVhCxQh0nXKeEp59+2tx1113WQzeT3JMpAwYM8CXTeR9VyYgRI0wwPYIJhs/0db766qtGfwral9tvv912GvEZiCCAAAIIIIAAAggggECJBLieKxGXydbrOXeU22+/vYvGvW622WZxy1oIhv60nQEUL6rzdrjeYDpBOg8IjYAAAggggAACCCCAAAJZKUDngax829jpbBFYu3at3dX69etH7nLUDYrwE/canl4dEIoKO+20k82i4fVdUMNzVEicyiAqTzgtvD/h9NLGw/XpRt2f/vSnIqtyHSH0RIcLupGTKoTzpcpTmnQNb3nWWWfZzgKvv/66+dvf/mb0dIkLvXr1clETPs6Svo+qpGbNmub55583mrJBHQZeeuklk9ghQSMdDB8+3Jx66ql+u0QQQAABBBBAAAEEEECgbAS4nkt2DF/nZNv1nI6matWqyQeVIqUk184bN270tURd5/uVRBBAAAEEEEAAAQQQQACBDBeg80CGv0HsXuYLLF682ITnqHd7rMb7hQsX2sXOnTu75CJfw1MZqHF6yJAhRZZxGTSU/+OPP24XtW3XqcCt1+uqVavCi0XG27VrZz755BPbYK6bZ2rUTgxr1qyxc0FqqMfWrVubWrVqJWbxy2ErdYzQU/zFDeGpGJxtVFlN91Ae4eijj7adB1T3mDFjzCGHHGI0tYDCwIED4447nffRVhj8U6VKFXPggQfaP40yoOkb3nzzTTsqgd4ThauvvprOA1aCfxBAAAEEEEAAAQQQKLkA13PG5Mv1XMk/HcboGlvXXnPmzCm0ePgadJtttik0LysRQAABBBBAAAEEEEAAgUwWqJLJO8e+IZANAu+++27kbr7zzjs+fc899/TxoiJqfHdBT7enCqr/qKOOMhdccIFtuFe+cOP6pEmTIot+9NFHkempEnfYYQe/6sMPP/TxcET7eeihhxoN7R8eZj+cx8X1pIeG3FfQPmo+yKiwbNky+2T/mWeeaUaOHGmzhDtDvPHGG1HFzIoVK8yUKVMi16WbqJtA6kCg8NRTT5mxY8f6Kvv16+fjiqTzPr7//vvm3HPPtZ0TZsyY4etVRw55vPfee8Z1TlAnivCIBD4zEQQQQAABBBBAAAEEEChSgOs5Y/Lleq7ID0NEhh133NGm/vjjjymnFFTnC3ftrun+6DwQAUkSAggggAACCCCAAAIIZI0AnQey5q1iRzNV4IYbbvBz3rt91KgDV155pVs0Gra+uEFTHOy77742uxqJn3nmmaSi69evNxdeeKF9+v3OO+80bjjF3Xbbzee95pprzOrVq/2yIhpiMrxfcStTLHTr1s2vufbaa80ff/zhlxVRnffdd59P69Gjh41Xq/a/gU1Wrlzp1yvSu3dvv3zZZZf5eDhy3XXX2Y4I999/vx/BQdMRdOnSxWbTk//u6ftwudtuuy28WObx/v37+zqPO+44G1dDvnvP3Mp03scFCxaYYcOGmQkTJtiRBVyd7lW2tWvXdoumYcOGPk4EAQQQQAABBBBAAAEEii/A9Vx+Xc8V/5Pxn5zqJO+Crl3D0za49DvuuMPfEzj22GNN+FrY5eEVAQQQQAABBBBAAAEEEMgWAToPZMs7xX5mrICeQPjTn/5kPv30U7Np0yY7tHyvXr38aACXXnqpf9K+uAcxdOhQn1UN1DfffLPRcJq//vqrefXVV43qdw3nGkZR21fQUw4PPPCAjWu/9tlnH/Pxxx/b/dIwi4cffrhJNXqALRTxT9euXf3T9pMnT7bb1vD5ummiRu4BAwYYpSv07dvXNGjQwMa1Ly7ceOONdnj/6dOn26SLL77YN3hrf/XU/jfffGP3U0/dn3XWWSZscMopp7iqzL333uvjf/7zn20HCk2nsGTJEqObOTfddJNfXx6R7t27+3139Wv/XAcOl6bX8DGU5H0M36BSJ4nBgwfb0QbUKUUjNagTh7NUR4xwR4Lw9okjgAACCCCAAAIIIIBA4QJcz+XX9Vzhn4bktcccc4zvKD5u3Dh7TT1z5kyja7P58+fbkQBdB/2mTZvaa9LkWkhBAAEEEEAAAQQQQAABBLJIIEZAAIE4geAGQEx/hYUnnngiFpzmRf716dMnFjSyx1UVNLD7cnErEhZuvfVWny/VtoKbE7Hvv/8+oWQsdv7556csGzTq+3VBY7svq2N22wme+vfpigSdBGJt27b1612+8KvWByMd+HKff/55Uv7jjz/er584cWIsvC/husJx5UsML7zwQlLd4TKu3qBjRWLRMlmWW3h7wfyWKest7fs4evTouG2Et+fiwYgDsWCKhpTbZgUCCCCAAAIIIIAAAvkmwPWciXE9l/yp17WzrqOCzuDJK4OUYIQ9f/0VdA6Py/Pll1/GXHl3LZb4qmuzoEN8XLlMXijOeZLJ+8++IVARAu48r4htsQ0EslWA75NsfefY74oU4DypSG22VVYCjDwQ/BIkIJCOwHPPPWf0NHpiOOecc8yIESNMlSqlO80uuugiO7qARhaICueee6756KOPjJ5uSAy33HKLufzyyxOT7QgIGrHAjQpQvXr1pDxRCc2aNTNTp041QaeEqNVm0KBBdl9cvcrUvn17OwpCOG3WrFm+vEYN0AgGRx99tE8LRzRKQtAwbpQvMRx55JHm6aefTjp2Dd//0ksv2adBVGaLLbZILFomy0EnCF/PwQcfbLbffnu/nBgp7ft41FFHmbFjx0aOWiHToGOKmTFjhunQoUPiJllGAAEEEEAAAQQQQACBYgpwPWfy4npOU+ApuNdifjxstp122skEHQjM2WefHVlM16eacrB169aR60lEAAEEEEAAAQQQQAABBLJJoEC9ELJph9lXBMpbQEPxKzRv3jzlpkaNGmWH2lcG3STQ0P6rVq0ywdP2platWiZ4Ct830KespAQr1q9fb2bPnm2WLVtmG8y1bzVq1CiyBg3nrwb6lStX2kbo+vXrF1mmqAzBExl2eMa5c+eaRo0a2RskhTXSayqHefPmGXVU2G677cxmm22WtAlNgRA8vW/zadqDFi1amDp16iTlS0zQUJHffvutWbhwod2PwhrxE8ums/zOO++Y/fff31ahz8IJJ5xQrOpK+z7qfdf7v27dOn+cUdMkFGsnyIQAAggggAACCCCAQA4LcD1X+JvL9VzhPkWtlZ8+Y7oO1TVrq1atTN26dYsqlnHri3OeZNxOs0MIVLCAu+/CrfMKhmdzWSXA90lWvV3sbCUJcJ5UEjybTUuAzgNp8VE4FwWK8595VOeBXLTgmKIFBgwYYEeV0AgAS5YsMTVr1ozOSCoCCCCAAAIIIIAAAghUqADXcxXKzcayVKA450mWHhq7jUCZCdB5oMwoqSiHBfg+yeE3l0MrMwHOkzKjpKIKFKhWgdtiUwgggEBWCujpEtdJ4Nlnn7UdB3Qgp59+Oh0HsvIdZacRQAABBBBAAAEEEEAAAQQQQAABBBBAAAEEEEAAAQQSBeg8kCjCMgII5JzA4MGDzTfffFPq47rsssvMnnvuGVdeow6cd955cWksIIAAAggggAACCCCAAAIIlK1AutdzzzzzjKlWjdtfZfuuUBsCCCCAAAIIIIAAAgjkqgBXT7n6znJcCCDgBSZNmmQ++eQTv1zSyF133ZVUZPz48aZx48ZJ6SQggAACCCCAAAIIIIAAAgiUnUC613O///47nQfK7u2gJgQQQAABBBBAAAEEEMhxAToP5PgbzOGVj0CPHj3MhAkTbOW77757+WyEWstMYNiwYeaXX34pVX1Vq1Y1TZo0MY888oiZNWuW2XHHHU337t1Ns2bNSlUfhRBAAAEEEEAAAQQQQKByBbieq1z/km493eu56tWrl3ST5EcAAQQQQAABBBBAAAEE8lagIBaEvD16DhyBCIEFCxbY1ObNm0esJQkBBBBAAAEEEEAAAQQQQCBTBbiey9R3hv3KJAHOk0x6N9iXTBUoKCiwu8at80x9h9ivTBDg+yQT3gX2IdMFOE8y/R1i/6IEqkQlkoYAAggggAACCCCAAAIIIIAAAggggAACCCCAAAIIIIAAAggggAAC+SNA54H8ea85UgQQQAABBBBAAAEEEEAAAQQQQAABBBBAAAEEEEAAAQQQQAABBCIF6DwQyUIiAggggAACCCCAAAIIIIAAAggggAACCCCAAAIIIIAAAggggAAC+SNQMH/+/Fj+HC5HigACCCCAAAIIIIAAAggggAACCCCAAAIIIIBAaoEWLVrYlcG989SZWIMAAggggAACCOSgACMP5OCbyiEhgAACCCCAAAIIIIAAAggggAACCCCAAAIIIIAAAggggAACCCBQEoGCWBBKUoC8COS6wIIFC+whNm/ePNcPleNDAAEEEEAAAQQQQAABBHJKgOu5nHo7OZhyEuA8KSdYqs0pgYKCAns83DrPqbeVgyljAb5PyhiU6nJSgPMkJ9/WnD8oRh7I+beYA0QAAQQQQAABBBBAAAEEEEAAAQQQQAABBBBAAAEEEEAAAQQQQKBwAToPFO7DWgQQQAABBBBAAAEEEEAAAQQQQAABBBBAAAEEEEAAAQQQQAABBHJegM4DOf8Wc4AIIIAAAggggAACCCCAAAIIIIAAAggggAACCCCAAAIIIIAAAggULkDngcJ9WIsAAggggAACCCCAAAIIIIAAAggggAACCCCAAAIIIIAAAggggEDOC9B5IOffYg4QAQQQQAABBBBAAAEEEEAAAQQQQAABBBBAAAEEEEAAAQQQQACBwgXoPFC4D2sRQAABBBBAAAEEEEAAAQQQQAABBBBAAAEEEEAAAQQQQAABBBDIeQE6D+T8W8wBIoAAAggggAACCCCAAAIIIIAAAggggAACCCCAAAIIIIAAAgggULgAnQcK92EtAggggAACCCCAAAIIIIAAAggggAACCCCAAAIIIIAAAggggAACOS9A54Gcf4s5QAQQQAABBBBAAAEEEEAAAQQQQAABBBBAAAEEEEAAAQQQQAABBAoXqFb46vxcu379ejNmzBgTi8VMp06dzI477pifEBw1AggggAACCCCAAAIIIIBATgisXr3aPPbYY6Z+/fqmb9++RR7TTz/9ZKZMmWK+/fZb06BBA9O5c2fTpEmTIsspw7x588yMGTPM999/b9q2bWuvq+vUqVPuZYu1ATIhUIhASc+TH374wXz99df2PKlWrZr9vOseUr169QrZyn9WcZ4USUSGDBJYuXKlmTVrlvnmm2/Mr7/+alq3bm3atWtnmjVrVuRecp4USUSG/wp8+umn9nO22WabmWOOOca7pEr3GYgggAACOSKwYsUKM2nSJPPuu++aJUuW2Ouvo48+2nTp0iVHjpDDyBqBoIE8I8LEiRNjhx9+eEbsy+effx4L3kD7d88992TEPrETFScwf/78mP4ICCCAAAIIIIAAAggggECuCJx++un2Grd9+/aFHtIff/wRu/XWW/01sbs21mvQESA2Z86clOWDxqXYaaedFlm2d+/esV9++aVcyoYr5XourEG8pALFPU8WLVoUO+WUUyI/6zpXrr322tjatWsjN895EslCYoYK6HN80003pfysB53RYjofokK2nyfu+y/q2EgrH4E+ffr4z1p4C6nSw3mIV45AcX93bdq0KXb//ffHLr300srZUbaKQCUKFPc80W9EXW+57x/3+txzz1Xi3rPpfBXIiGkLhgwZYrp162YmT54cnA8EBBBAAAEEEEAAAQQQQAABBBAoK4Gbb77ZPPDAA8Wq7pprrjGDBg3yeRs2bOjjs2fPNh07djTTp0/3aS6yceNGE9zcN8OHD3dJpmnTpj7+8ssvm+7du5uff/7Zp7lIOmVdHbwikK5Acc8TPYGtkTgeeeQRv8lWrVqZ8Lly+eWXmyOPPNIEnXF8HkXS+aynUzZuJ1hAoAQCJ510khk8eLAvoc+5Pu8ujBo1ynTo0MEsW7bMJdlXzpM4DhYQyHuBrl27mjPOOMOOSpX3GAAgkELghhtuMLreciHo9G30t+uuu7okXhGoMIGM6DzwxRdf2AOuUaNGhR04G0IAAQQQQAABBBBAAAEEEEAglwXUUD9w4MC4hp/CjlfTFFx11VU2ixqIpk2bZpYuXWo2bNhg1LCqEIweYAYMGGDj4X+Cp8nMhAkTbNKBBx5oG5I0bYH24e9//7tN//DDD82NN94YLmbj6ZRNqowEBEooUNLz5LzzzjMLFy60W1EHgcWLF9tpC3SufPbZZ2bnnXe269544w2jz3Y4pPNZT6dseB+II1BcgREjRpjRo0fb7Ppc6/Otz7mms9HnXp9/hR9//NE2CtqF//7DefI/DU3zQEAg3wU++eQTS1BQUJDvFBw/AikFXDupMmi6lmCEdPu30047pSzDCgTKS6BAQy6UV+XFrfeII44wegpBNyf0I7Syg56i2H333e1uBNMWmLPOOquyd4ntV6DAggUL7NaaN29egVtlUwgggAACCCCAAAIIIIBA2Qm8+uqr5tRTT7WNOuFa9fSKbkRFBc0vHAyLaVdpns199903LtuFF15o7rjjDpv2wQcf+Lk31blA109qQFJYs2aNqVWrlo3rn99++80+qa3OCVtuuaWdv7NmzZp2fTpl/QZCEa7nQhhEixQo6Xmybt064z67wbCydhSO6tWrx21Hc8LvsMMONk3nkM4lhXQ+6+mUtRtP+IfzJAGExUiBgw46yI8Sqych3efaZV6/fr3Zc889zZdffmmT1Eiu8yNXzhPXyJnurXN9t+qc++c//2k7XCT+n+E8eTVG83q7Dith91TpmFW+QHG/T9z51K9fPzNy5MjK33H2AIEKFCjueaI2SbVNZko7aQUSsakMFCh05IHff//dzJs3z0ycONE8/PDDRj1O//3vf5vVq1cXeSgaTk0XSBq+SuXefvvtpOEJ9cSCTpxg/ixbn240aFl/7geCenNrWXmjgoaAc2Wihj90ZbTPulHxzDPP2GEU9UMkmKvRb8flK49XDd3l9lE3TVIF3WBRPj2dERU05Nf7779vHnvsMTNu3Dib1zlF5Veatjd16lQzZswY8+ijj9r3T72DCQgggAACCCCAAAIIIIAAArkpoOHUe/Xq5RvzNRKAbkIVFoK5aH3HAQ1JreFlE0P//v190oMPPujjuuZ0HQc00kG444AyVatWzXZkUFzX9q6DgpbTKavyBARKK1Ca80RPgbmgzjlRjYBt2rTxHW/ee+89o3trCul81tMp6/aXVwRKIqAOAG562Z49eyZ1HFBdW2yxhW3sdfW6JyY5T5zIf15171Yj7xx33HGmQYMG5uqrr/ajl8TnLPnS8uXL7f1h9x2szku6D69OglH3jPX/kfK8+OKLtgFX75W7L1/U1nXfffz48fa+tO6vf/zxx7ZTVGHl0mlbKKxe1mWPgPuMuj127T9LlixxSeaHH36wn2P9v6OgNhK1Qak96vXXX8+Ih039zhJBoBwEFi1aZM8BdcpTaNSokV1WW+GqVatsmjtPXB61+82YMcP+X67OsPPnz4/8f98W5h8ESiMQ/JBICsEHMHbbbbdpRIKUf3fddVcsuLmQVDZozI9pXfA0QWTZ4AeSLxfcbIjMo+2+8847tm5XT9DDMGlbSlixYoWv45JLLknKE/xYigU3SnyexGPab7/9YrNmzYorpzIuXzDyQNy60iycf/75vr5ghIWUVQQ3WXy+4D8Dny/oNBAL5hjz69y+6TV4aiQW/Cfh84YjY8eOjQU3iCLLBfNUxr766qtwduL/FQj+o43pj4AAAggggAACCCCAAAIIZKPATTfd5K8Dg7kz7TX4XnvtZdN0DRkVgs72vkwwdUFUFpsWPG1t8zVt2tTnGTp0qC/75ptv+vRwRNe47lr2lFNO8avSKesrCUW4ngthEC1UoDTnSdDoFrv33ntj//rXv2LBEO4p63fnmz7zwc1dmy+dz3o6ZaN2kvMkSoW0sEDQ0SsWNNzFdB836PAVXhUXHzx4sP+/3Z0TuXKeuO+suAMuxULQUSnyPrnudQcNpDHdSy9t6Nu3r/UPOnjE9N3t9lmv+p7+6aeffNWvvfZayvvE1157rb9f7wv8N6LPQjBXfVzdbjvaRtTno7RtC3369PHbCe9HqvRwHuKVI1DU98mxxx7r31P3uXGvwcOndqf1OVKa/r8JpreKzD9o0KC0zpXK0WGrCPxHoKjzJFUbns6LYOo4W4k7T3SOPP/885HnycEHHxwLtyvij0A6AtWCD2BS0JxV6tXlQvDBtMNOaYgqFzR3lXoPXnDBBS7Jvp588sm2h6NL1JCECm7kgCuvvNL2FgsutpKeRnBl9Jr4hL7rqR3OU1RcT+knDrOoYeX0BL/rkRl0UjDBRV3csIlF1VvS9SeccIK58847bTGNxKAnQBKDenk+9NBDNrl79+5mu+22s3HNI6anRNx8ekrUUyBz58616zWMyW677WZeeukl07t3b5umf9Sj9bDDDvPLesqkdu3avpxGYdBcKeqdtOuuu/p8RBBAAAEEEEAAAQQQQAABBLJboEmTJiZo3DTnnnuufcqxOEcTdKr32Vq2bOnjiZF27doZ3RvQNaqeDNN15syZM322Fi1a+Hg44q5xlabrWBfSKevq4BWB0giU5jxp3bq1OfPMMwvdnJ7qdXM7BzdxTdWqVW3+dD7r6ZQtdGdZiUAKAf3fHnT0SrH2P8kadTY8kswuu+xiV3CexLPpXnnQyG+n7L3vvvv8iA6y09/OO+9s768HjayF3iuPrzV+Sffxw/fytVb3guvWrWszXnHFFSboIOAL6X791ltv7e83X3755eb//u//TNABMG5EFT3xqpGI3NQUrl53X12/BTSlgI4jaOD39afTtuArIZITAq5tKOpggkatuGS1G7mgz6/apNSGoXDrrbea+vXrm+DhUZeFVwRyRqBOnTq+vTLxoNyUHy496Bju21pdmnudNGmS2Xvvvc13331nR35z6bwiUBqBpGkL9B+y+7ERPJ1uh/bXMPpff/210ZAYrhFcGwt6vcQNhaGh8TU0koL+g3/jjTfssBrB6AA2rjQF/VBSw74a1fUl4Rq9tV7L+lODebrhlltu8VUEIwjYoZR0HEuXLrU3N3R8ConDJvpCZRTR/F/6Iaig6RKiplfQNAQu6EelC8GoBf6HnH60Bz1GjToUaEjJJ554wmUzGhoyPJ1E+H0KepbaY1Y5vZfnnHOOL+feL59ABAEEEEAAAQQQQAABBBBAIKsF1EihRgINj1zcoE72LtSrV89Fk15149YFd23rXpVeWFl3T0D3CFxIp6yrg1cESiNQmvOkqO1oas3wQzbhh0fS+aynU7aofWY9AqUVGDZsmH9ISfd2o6bxiKo7H8+TzTff3Dauv/XWW0bTO+h+r2tUVcO8pkFRJ7uLL77YTisQ5VacNDXka0oW3Se+6KKLbBFNTeA6Duh7WPeJdQ9Z94jV+K9OTgqaZkUP+4WDOhW4jgN6+E6dB3VfXb8Z3ENwyq/tuukP0mlbCG+beG4I6HMS7iTQr18/3/6j8yIqaMpmfc6C0UxsO4hrVwlGOrFTZ0SVIQ2BbBZQm6XOk2CEOHsYXbp08edJMOpG3KG5h7T1/7XiGzZsMPpucd8p+n893NYYV5gFBEogkNR5QA37Ljz55JNGc7W5oB+BGnGgR48eNkm9DN2cG0rQf+wuvPLKK+aQQw4x6hmz2Wab2XgwpIZbbZ5++mkfL4+InswPpgiwVR9//PHmrLPOMuEvJPWGDf8gCj9lUR77c/rpp/tqNUpAYnj88cd9kru4nDhxotF8JQr6Ea55flyPUc0ZqQvdYIgSu17vxe23327j+mfy5Mk2rh92mpvMBfXY0/ugH4v6D0U94gkIIIAAAggggAACCCCAAAL5LRDujF5YB4DwOtdQEC6rJxlTBc3fqbBs2TKfJZ2yvhIiCGSIgBr+3H0cPbCie1EupPNZT6es2z6vCJSlgO5tusZp1RtMrVHs6vP9PFFD6B133GHneVdDv2ssUiOQnq7eYYcdbKNpsUH/m/Hwww83zz77rNFDacFUwea4446za8IPkQVT3MbdJ9YILHr4z+3DhRdeaFwHP40KrA4iCrqHrFEJtG8K+q4/7bTTjBqCXXCNVem0Lbi6eM1fgWAqbdO/f38PoBGY3feqEjWyFgGBfBfQg9IaCUujBKnNUw9ijxw50rOoMxgBgXQFkjoPqEfhhAkT7HBDO+64Y2T9GqbQBQ1R5YIblk2dCzp37uyS/euJJ55oNPyMepyddNJJPr08Iuqtqf3Rk/4amikqhIdiVA+d8gzHHHOMrz58Iitx8eLFvjeQOhnUrFnT5h0/frwvEx62xycGkb/97W+2I4DSwvndVAQyuP766/0PP+WrVauW7V2qi8+ojgzKQ0AAAQQQQAABBBBAAAEEEMgfgfBUgYU9PeqeapGMu47WyHguVKmSdJvBrfJPxPiEIJJO2XA9xBGoTAE9LRbMNx73UIfu/ejBDxfS+aynU9Ztn1cEykpAI9ZqWHoX9DBZ8+bN3WLKV86TeBo1+qih/4MPPrAN8eG17vs1nFZU/Oyzz07KolFLNLWtgh5M00NmiUH/T+lhQRemTp1qoxrB1gU12Ia//126RjTQfXeNjuvqTqdtwdXLa34K6DMWfgDTKagDgWtLUltH+DvR5eEVgXwS+Mc//pF0uLvvvrtPc6MT+AQiCJRC4H9XMf8trPkJ3RyF6mGo+TH0dLp+MHz11Vf2iXY3XJGKaKgpBTWAu/mO9tlnH5uW+I9+jFwVXExVRKhRo4bp1KmT/dP29GNJw3/oOObMmWOmTZvmRybQ+vCNEi2XddCT/vph/eKLL1rD+fPne2c3eoC2qdEEXAiPhqCeoyobFdatW2eTNeyVC0cddZTRHCcK+oGnPw13olEN/vKXv5g99tjDZeUVAQQQQAABBBBAAAEEEEAgzwXCIwYU1mgRHn1QHdMV3Ah5iuseQaoOBG7odV2vu5BOWVcHrwhUpoAaMc444ww7VLjbDw0f6+Z/d2npfNbTKeu2zysCZSEwfPhwOyS+q0tT2oafEnbpia+5eJ4sWrTIDhWdeKxu+a9//Wvc96NLd6+6Ry1PPakfbuhRA2p4lB+Xv6hXNbAmBo3M64Lu8ad6wG7mzJkum20H6Natm5kxY4ZP0z32qKA2hKuvvjpuVWnbFuIqYSEvBfbff3/70GPUwesz6EZu1vQZid+xUWVIQyAXBfR/fbhzqjtGjSTjAh1snASv6QgkdR5QZfrxouGTwsMMFbWRcMO1hsbPhKAOAZoeQUM+TZ8+vdJ3Sb1JXQeA5557zrj5SjQdgYJO/K5du/r9DJvqx3hRQT80f/rpJ/sDUxeumn/qsssu88XU01R/SlNnBvUE1RB6mlqCgAACCCCAAAIIIIAAAgggkL8CGr3PBdfI75bDr244Y6VttdVWdlX4ZpU6F4QbOsNlly9fbhe32WYbn5xOWV8JEQQqSUAjOmqubw37raBGPz2Vve+++ybtUTqf9XTKJu0ICQiUQkAdwzQq6nXXXedLa9jk8NQcfkVCJFfPEzWuh4ftTzhs8/nnnyd9H+pBPf1/cf/99/tRaF05TR2gaQP69Oljwp3s3PqiXt3DgOF84c4DujdenPvjborbcN7w/0Hh+lPFS9O2kKou0vNHoFmzZikPtnHjxn6dHmyl84DnIJJnAttvv33kEWvqeAICZSmQ1HlAT+drmKFwj0dtUPMx7b333ubPf/6zeeWVV+x0AOEd0Y8fF8r7KX63Hb2GtxtOV/z888/3czO5dbqQ0/EdcMABdj6n8DBbLk95vWo6B21ftiNGjLCdB8I/3E499dSUDfnHHntsiXfr0ksvtUNSaWoC/blpJVSRRonQnFcfffSRHVqqxJVTAAEEEEAAAQQQQAABBBBAIGcEGjVq5I+lsM4DrgOAMrvOA+EbuurEHtV5QMNVu9EK69ev77eVTllfCREEKkFATx0feuihvjFOD9JoGtBUU4Cm81lPp2wl0LDJHBPQaDS6Zzlq1Ch/ZHo46ogjjvDLqSK5fJ6kGmUnykLff3pqeujQoWbhwoVxWXTPV1MORHU6istYxEJUw1H4Hn3Hjh1N27Zti6jFmJ122snmCd9zD9dTVAWlbVsoql7W575AYQ84upGXpaD2FQIC+SpQtWrVfD10jruCBZI6D5xyyim+44Aa1vWU+m677WbCcx6+8MILfjfdtAUtW7b0afphmCp89tlnZu3atXbI/uLMh+Xq2bhxo4vGvar3alSYOHGi7zigLxT9OFPjffhpCjeHk8rrRkZ5B/2IO/PMM41GEVAPOU0DoUZ9F44//ngXta/6seZ6iKqzQfg9iMtYyII6fehP76N+qGoqA4164EZA0A9/zU+VqsdSIVWzCgEEEEAAAQQQQAABBBBAIEcEwp0HdK0aFXT974Yx1nWmu0YNN2xqmsDw/QFXj7u21XJ4+ON0yrq6eUWgogXmzZtn9ttvP98IqIdU9KBN+DxK3Kd0PuvplE3cD5YRKImAGux0fzg8usb48ePt1KhF1ZPr54mm7f33v/+dksF1JLrpppuMHvAKB92rvuCCC2ynjPIcwTc8lcHf/vY3M2TIkPBuFBpv3bq1X//DDz/Y+8s+IRTR56FOnTp2RF2NLFTatoVQlUTzVCCxY02YIbwuPLd7OA9xBBBAAIGyE6gSrkoN8e+9955NUk/E559/3l7UuxsCLq+GXXLB9TwMD4305ptvutVJr2og1/w1Ub0pwz3IEgtqOP6o4G5cJK7T/HIuPProo3b+rXDHAa1TT0gXwr0pXVp5vPbt29dX++qrr5oxY8bY5YMPPth2qPArg0i7du384rvvvuvjiRFNUTBgwABzzTXX2JEY9GU6ePBg06tXr7hewZqqQL1Z1flDP+RceOedd1yUVwQQQAABBBBAAAEEEEAAgTwU0FCxumZUGDlypHEPCoQpNA2eu3mr63oX9DSjC5o6MCro/oILGtXQhXTKujp4RaAiBXR/KtxxoHfv3mby5MmFdhzQ/qXzWU+nbEXasK3cEtCDVieccILvOKB7xbon3KVLlyIPNB/OE3UA0Hdhqr/NN9/cOk2ZMsV76Vx+4okn7ANeV111lSnPjgPaaLgDgKZUSRV0b/ioo46yHRrcfeJwxwPXXpBYXp0K9LBe586d7b3odNoWEutmOTcFCnuAU9+leug0KowbN84m67dqYhtPVH7SEEAAAQTSE4jrPBAeflDVRg0Vc/fdd/un4ZVn06ZNejFbbLGF/bGguH5QhBvvlaagTgWzZ8+2cc0J54L7MaXh/BNvULgvA9Wpp/XDQUMpqpE8KixZssQnR30pLV261M7V5TKlGtnArS+r11133dVOm6D6LrnkEj+83cknn5y0iZ49e/q0c88912iYsMSgjgAPPPCAnQZBvV2rVfvPYBIa3UCdEzRXVlSnjK233tpXVd4/VP2GiCCAAAIIIIAAAggggAACCGSkgEbKu+iii+y+qYOAu0nrdlbX1Zqj2QXNyeyC5p11168aNS9xNEJd6z/00EMuu793oIR0yvoKiSBQgQL/+te/fCcanQfqGFOzZs0i9yCdz3o6ZYvcMTIgkEIgPHKpGpLffvvtyJFloopznvxPRd+vephO97Y1Iq8eLNN99IoImibIPcCn7T/zzDNJm12/fr29f6wH3O68807fHqCODm54+Ntvv91EPdgX/m7XQ2zptC0k7RgJOSXgPksrVqxIeVz6vfjggw8mrdcI065Ti6aiJiCAAAIIlL9A3LQF4aHr1ch/6623mhNPPNFsu+229il9XRBdfvnlcXu1atUqv6z8bhgrPUmvIfEPO+ww+4NIvRtVlwv9+/d3UT9PohI0vL6GMFQvbm1XQ2OpIVyhX79+5uqrrzZqgNePLaW7zgg2Q+ifPfbYwy9dd911pkmTJkZPN6j3mp6WOP/88+PKFvbF5Ssqo4jmCfvkk0/iaouaJ6xbt272+DXFgDpOdO3a1dx7772mQ4cO5rvvvrOdAy6++GJfj7vRo84A8tOXqqYqkNtJJ51kDjroINu54LXXXjN33HGHLacv7j/96U++DiIIIIAAAggggAACCCCAAAL5KaBrVXeNqUaAp556yo5op477119/vR/ZTkO065o/HDT8snuqUU+lPvvss/baXiP+DRw40D+EoKGb69atGy5qn3Qsbdm4ilhAoJwFPv7447hONA0aNDBXXHFFyq3qoRw9XezmIuc8SUnFigwT0P1ePcjkgp5g1wNlhQU9GNWmTRvDeRKv9Pjjj/uHveLXVMySpvLdc8897caOO+44M3/+fHuPfquttrLT2w4bNszfp9b3u7tPrAfPdK//9NNPt1Mca52ORa/qcKCOA7pPr6DOJbqPHe4UUZq2BVsZ/+SkgD5P6hyg33vqIKDvz8MPP9x/P7qD1vekHvLUb1J9d2pKILVtKKgdQ59JAgIIIIBABQgETw/EhaCHYSzYbKF/QY9Fv/7hhx+OK3/LLbf4danqeeSRR+LK3HfffUllhg8fbvN8++23seCLIWm9qzv4weLXB0/y+3qD3pCxoBE9ZTmVD+Zo9GWDIW9iwdQFtnwwBJcvd8899/g6yyqifXP7r9fTTjstZdXBDzq7n+H8UfGgg0RcHcEPNH9sUfldWjBUVlw5FmIxmeuPgAACCCCAAAIIIIAAAgjkioCunXUd2L59+0IPSdfi7nox6lXX57pOTwzBKIKxoNN6oWWDTu6xoEN/YtFYOmUTK+N6LlGE5ZIIFHWeBFNAFvoZjzpndA/IhXQ+6+mUddt3r5wnToLXVAK6Xxj1eS4sbezYsba6XDlP3LGmMsqE9GAUA/8+FbY/QYOrz+eOK/FV99G///77uGqCEYdjwdQsRZbVvXQX0mlbCEZz8dty9ek1VXo4D/HKESju90n4PXSfva+++srudFFtOC7/Rx99VDkHyVYRSFOguOeJrtP0eQ86Yidt0Z0n3bt3T1qnBP1OdOeKvocJCKQrEDdtQfDhsr1K1eNQPbkSw4EHHmjntnJPBGi9hjQKh0GDBtlhmIIPejjZxoPGejt1QeIQ/XoKIWhAj8s/Z84cu6yei9OmTbNP0sdlCBY05NOkSZP8kFnVq1f3WfQkg4a0cUMn+hVBRMd20003malTp9oRCLROT+h/+umn4WzlFte+hadtcL3nojbYvHlzo7mxNOJD1HsiU01dMGTIkLjiO+ywg3n//fdtD764Ff9d0JBVOl4NlUVAAAEEEEAAAQQQQAABBBDIDwE31V2qo9WTXpqGMDzXscurud11fRq1Tk9Ya8oCPeEYde2qewWaWq9GjRquOv+aTllfCREEylAg1XmSavTL4m46nc96OmWLu3/kQ8AJzJ0710VL/Mp5UmKyci+g0Wo1Cq5GDYgKGmUiaJg1QeNU3Gr9X6gRcYOHB43mmk8MenJc9/DD7QCqK522hcRtsJwbAhpNWSNThUPQGTW8aIJGURN0Yk36HanP14QJE+yo0nEFWEAgxwRc+6YbsSp8eG7qd/caXkccgfIQKFDvg6iKN2zYYObNm2fncdOPg7Zt2xr34Y3KH5W2Zs0aO9y+hprRsFWNGjWKyubTVq9ebRYvXmzq1Kljh66pUiW+b4Pqmz59ur3ZsNtuuxV7yCd1DNAw/xpSqV27dkXuh9+hcoz8+c9/th0fdNNFP7ISjzXVpn/44QebX8NAtWjRwk7toAvIwoLcNFSkpmZo3LixNYj6D6iwOvJp3YIFC+zhquMGAQEEEEAAAQQQQAABBBDIVwHNXaxr6d9//912GIhqOIiy0W0GXVctWrTIXr/rfkBUh4KyLqv6uJ6LUiUtEwU4TzLxXWGfMk2gMs8Td781xa3zTKMq9v7o/rg6eCxbtsx2FtD9z6iOfVEV6h77rFmzTM2aNY0eXNNQ9KlCWbQtpKqb9MwRKOnvrqVLl5qVK1fazihuGqtmzZrZNih1Hhg/frzROae2DLUTqf2jZcuWxp2PmXPk7AkCxRco6XlS/JrJiUD5CaTsPFB+m6Tmb775xv7AksTNN9/s55REJjME+M88M94H9gIBBBBAAAEEEEAAAQQQKKkA13MlFSN/PgpwnuTju84xl1TANVbmWueBkjqQH4HCBMri+ySx80Bh22MdAtkoUBbnSTYeN/uc3QLVsnv3s2fvgznu7MgNwdxR5sQTT/Q7HswJ6eNEEEAAAQQQQAABBBBAAAEEEEAAAQQQQAABBBBAAAEEEEAAAQQQqAwBOg8UQ33q1Knm+uuvL0bO6Cx9+vQxzz77rJ0jKpzjyiuvtNMOhNOII4AAAggggAACCCCAAAIIIIAAAggggAACCCCAAAIIIIAAAgggUNECdB4ohrjmgBozZkwxckZnad++vZ2fJ7z2yCOPNJdffnk4iTgCCCCAAAIIIIAAAggggAACCCCAAAIIIIAAAggggAACCCCAAAKVIkDngWKwd+7c2UyYMKEYOaOztG3b1qxevdo0aNDAbNiwwRx00EGma9eupmrVqtEFSEUAAQQQQAABBBBAAAEEEEAAAQQQQAABBBBAAAEEclhg9OjRZs2aNaZhw4Y5fJQcGgIIIJBdAnQeKMb7tfXWW5tu3boVI2fhWXbdddfCM7AWAQQQQAABBBBAAAEEEEAAAQQQQAABBBBAAAEEEMgDgS5duuTBUXKICCCAQHYJVMmu3WVvEUAAAQQQQAABBBBAAAEEEEAAAQQQQAABBBBAAAEEEEAAAQQQQKCsBeg8UNai1IcAAggggAACCCCAAAIIIIAAAggggAACCCCAAAIIIIAAAggggECWCdB5IMveMHYXAQQQQAABBBBAAAEEEEAAAQQQQAABBBBAAAEEEEAAAQQQQACBshYomD9/fqysK6U+BBBAAAEEEEAAAQQQQAABBBBAAAEEEEAAAQSyUaBFixZ2t4N759m4++wzAggggAACCCBQagFGHig1HQURQAABBBBAAAEEEEAAAQQQQAABBBBAAAEEEEAAAQQQQAABBBDIDYGCWBBy41A4CgTKRmDBggW2oubNm5dNhdSCAAIIIIAAAggggAACCCBQIQJcz1UIMxvJcgHOkyx/A9n9ChEoKCiw2+HWeYVws5EsFeD7JEvfOHa7QgU4TyqUm42VkQAjD5QRJNUggAACCCCAAAIIIIAAAggggAACCCCAAAIIIIAAAggggAACCCCQrQJ0HsjWd479RgABBBBAAAEEEEAAAQQQQAABBBBAAAEEEEAAAQQQQAABBBBAoIwE6DxQRpBUgwACCCCAAAIIIIAAAggggAACCCCAAAIIIIAAAggggAACCCCAQLYK0HkgW9859hsBBBBAAAEEEEAAAQQQQAABBBBAAAEEEEAAAQQQQAABBBBAAIEyEqDzQBlBUg0CCCCAAAIIIIAAAggggAACCCCAAAIIIIAAAggggAACCCCAAALZKkDngWx959hvBBBAAAEEEEAAAQQQQAABBBBAAAEEEEAAAQQQQAABBBBAAAEEykiAzgNlBEk1CCCAAAIIIIAAAggggAACCCCAAAIIIIAAAggggAACCCCAAAIIZKsAnQey9Z1jvxFAAAEEEEAAAQQQQAABBBBALt2LEQAAQABJREFUAAEEEEAAAQQQQAABBBBAAAEEECgjAToPlBEk1SCAAAIIIIAAAggggAACCCCAAAIIIIAAAggggAACCCCAAAIIIJCtAtWydcfLc7/Xr19vxowZY2KxmOnUqZPZcccdy3Nz1I0AAggggAACCCCAAAIIIIBAuQqsXr3aPPbYY6Z+/fqmb9++RW7rp59+MlOmTDHffvutadCggencubNp0qRJkeWUYd68eWbGjBnm+++/N23btrXX1XXq1Cn3ssXaAJkQKEOBpUuXmi+//NLMmTPH1KpVy7Rr187ssssupkaNGkVuhfOkSCIyZKhASb9POE8y9I1ktxCoYIEVK1aYSZMmmXfffdcsWbLE/q48+uijTZcuXSp4T9gcAggggEBRAhnTeeDNN980d999t3nllVeK2udyXz979mx/M+Wee+6h80C5i7MBBBBAAAEEEEAAAQQQQACB8hS45JJLzAMPPGDat2/vr3ejtqdO9LfffrsZNGhQ0mp1BBg3bpxp06ZN0jolrFq1ypYbPnx40vrevXubUaNGmdq1ayetS7dsZIUkIlCOAmvXrjU333yzueaaa5K20rRpU3P//febww47LGmdEjhPIllIzCKB4n6fcJ5k0ZvKriJQzgL67uvatatRu0s47LPPPnQeCIMQz2uB3377zTz88MNmwYIF5oYbbshrCw6+8gUyYtqCIUOGmG7dupnJkydXvgh7gAACCCCAAAIIIIAAAggggEAOCaiRUx0HihPUGBruONCwYUNfTDd8O3bsaKZPn+7TXGTjxo2mT58+JtxxQI2oLrz88sume/fu5ueff3ZJ/jWdsr4SIghUoMCJJ54Y13FAHWvcubJw4UJz+OGHm2effTZpj9L5rKdTNmlHSECglAIl+T7hPCklMsUQyEEBNYSGOw6oM6v+dt111xw8Wg4JgdIJqIPNGWecYUdvK10NlEKg7AQyovPAF198YY+oOMO6ld2hUxMCCCCAAAIIIIAAAggggAACuSughvqBAweawYMHF+sgNU3BVVddZfOqIXTatGlGw01v2LDBPmWtFb/88osZMGCAzRP+R09aT5gwwSYdeOCBZtmyZfbGl/bh73//u03/8MMPzY033hguZuPplE2qjAQEyllA01zqT0GdBjRtwddff23Pleeee85v/bTTTjPLly/3y4qk81lPp2zcTrCAQCkESvp9wnlSCmSKIJDDAq79R4f46aefms8//9z+7bTTTjl81BwaAiUT+OSTT2yBgoKCkhUkNwLlIJARnQfK4bioEgEEEEAAAQQQQAABBBBAAIG8FXj11VftFHzhkQCKwtATpS688MILZvfdd7eLm2++ubn44ovNBRdcYJfVyUAdAVxQ54Lw0Jpjx44122yzjV1dp04d88wzz9gRC5SgERA0lLUL6ZR1dfCKQEUKjB8/3m9On+1ww4dG37j66qvtenW04TzxVESyWKA03yecJ1n8hrPrCJSDwPfff29rVefUPffcsxy2QJUIIIAAAmUpUGjngd9//93MmzfPTJw40c61MWLECPPvf//brF69ush90HBq7777rp3TUOXefvvtpOEJdSGl+TvcjYMff/zRLitN8ywqaLg3LStvVPjjjz98majhD10Z7bNucOjCTjdPRo8ebebMmeO34/KV1+uvv/7q99NtY8WKFeb//u//jHw+/vhj7+DWR72uW7fO9srT/j/xxBPms88+M6qbgAACCCCAAAIIIIAAAggggIAEHnnkEdOrVy+ja2wFjQTghlS3CRH/bNq0ybinplu1amXnpU3M1r9/f5/04IMP+vjUqVP9tjTSQa1atfw6RapVq2ZOPfVUm6Zre7cdJaRT1lbIPwhUsED46ckOHTokbf2AAw7waRqVwIV0PuvplHXb5xWB0giU5vtE2+E8KY02ZRDIPYFFixbZNpH169fbg2vUqJFvI1m1apVN++GHH2ya2j0U1qxZY9ugNPf766+/bkf2sSv4B4EcFdBIVWoDdcG1ky5ZssQlGXeeuHPpt99+MzNmzDAjR4406uQ3f/78Cmvr9DtFJKcFIjsPqOf/7bffbi/wW7Zsaecl1HBrGppQNx223nprc/fddxt9QBODGv21Tk8Z7LfffqZfv362nC6e6tWrZ+eEc+Wefvpp06JFCz+0oerSsv7ee+89W/XOO+9sl92NhsTtrVy50pcJPyXh8mkuxoMOOsjus3q1HXfccXbYxqOPPtoOL6f90vBy5R1efPFFv5/qNPCXv/zFGvXs2dP6dO7c2d5gUUeCqCAz/WDfdtttzR577GG0/5o7rFOnTqZ27drmiiuusENJRpUlDQEEEEAAAQQQQAABBBBAIH8EwkOla0QATSeg6+zCwsyZM/1qXWtGDZe522672etoZdRDBi64ITa1fMwxx7jkuNcjjjjCL+tBAxfSKevq4BWBihTQ/RsXdKM2MXz33Xc+aZdddvHxdD7r6ZT1O0AEgVIIlOb7RJvhPCkFNkUQyEGBjh072t+gs2fPtkenthrX/uM6our/C6Xdeuut5qabbjJbbrmlbYNSe9Shhx5q1OFAI2C5h01zkIlDynOBc845J+5a7Y033rDL2223nVEHbwV3ntx11112+qzNNtvMtG/f3px00km20/j2229vunXrZhYvXpznmhx+WQlEdh448sgjzUUXXeS30bRpU3+DwCWed955ZujQoW7Rv5588slG69xIAfrPXn8uXHnlleaf//ynXUx8GsHl0avrYODSNApCScP7779vh1mcPHmyL6r56MJPXLzzzjtmr732KtZT/76SNCP777+/0X8AUUEdNKI6EOg/AXWgcK6JZa+99lqz9957G9djL3E9ywgggAACCCCAAAIIIIAAAvkh0KRJE/Ovf/3LjgZw6aWX2gcDijryWbNm+Sx6iCBVaNeunV2lUQL1ZJhCuONBqk4Kuvnlgm4cu5BOWVcHrwhUpIAaMlw466yz/HmgtG+//dZccsklbrV9mMUtpPNZT6es2z6vCJRGoDTfJ9oO50lptCmDQO4JaPqqVCGxo6rajfS7VUHtN+p44II6Ftxyyy1ukVcEckog3H6aeGCJnWbUMfyoo45KzGaXJ02aZNsIE9tWIzOTiEARAkmdBzS0v4aDUdB/0BraX3PS6Ol8DYlx5513+ir1pH/4wztmzBjf8K3/4NVArsZsPWmvuGu0v++++4wa9k844QRbvnfv3rZOrVd9+tMIB+mG8BfKPffcY5/M13EsXbrU3txwX0CJwyamu92iymvYuu7duxvdMNG0C7rpcuaZZ/piYWMlPvroo+app56y62X05ptvGnWmkNNXX31lOz9opepzc+vZzPyDAAIIIIAAAggggAACCCCQdwJ9+/Y16mDeoEGDYh+7RvVzQaMGpgr169f3q9zUge5VKwor6+4J6B6BC+mUdXXwikBFCmgES3XOURg3bpxp3bq1HVFSo260adPGT+GhJ8Nq1qzpdy2dz3o6Zf0OEEGgFAKl+T7RZjhPSoFNEQRyUEBtMWrD0BPSCl26dPHtP4MGDYo84scee8y232i6ZnXK08jUCoMHDzbjx4+PLEMiAtks8NBDD9nzwh2DRnN37aSbb765S7av7uHie++91z5orFHk33rrLf8At9oa9fuUgEC6AkmdB9Sw78KTTz5pL3zccvXq1e2oAj169LBJmnsj/KS7/mN34ZVXXjGHHHKIHepQQ2gofuONN7rVRlMWlGeYO3euefnll+0mjj/+eKPe4OETTUPH6QRzIfyUhUsrr1fdMNE0BhryUT3s1ItXUz24L1F1AnAXhvpPQiM5uPD222+bgw8+2FSp8p+3bscddzQaWcHdhFHHA3UoICCAAAIIIIAAAggggAACCCBQXIHVq1f7rIV1AAivW7t2rS0TLqtpDlMFDTursGzZMp8lnbK+EiIIVKBAtWrVzJAhQ+w0ndqs7o1pBMnnnnvO74U6DrhRN11iOp/1dMq67fOKQEUKcJ5UpDbbQiB3BG677TbTv39/f0CtWrWy87m7BNd5zy3zikA+CuhBaT2MrOnM1eapB7FHjhzpKdyU8D6BCAKlEEjqPHD55Zfb+RB10aOG6ajghinUuo0bN/osbg42dS4Iz23lMmjeRA0/o540Goa/PIOGRNT+jB492lxxxRWRmwoPxageOhUVzj//fJM4ZYN+VGv6BBfc8I+aD8j1JtI8P2F7l1c92TUfkAsffPCBi/KKAAIIIIAAAggggAACCCCAQJEC4akC9eBAqhAeVtNdR7u5OFXGdXSPKh8u69anU9bVwSsCFSnwzTffmB122ME88cQTdrP6XOshj/A9HT0EosaP8LCx6XzW0ylbkTZsCwEnwHniJHhFAIHiCuj79PTTT0/Krg4Eri1J7T3h78SkzCQgkAcC//jHP5KOcvfdd/dprj3RJxBBoBQC1RLLaH5CN0ehLnK+++47ox98GiJGT7TrKXcNu++Cht1XWLx4sR+abZ999nGr417VQH7VVVfFpZXXQo0aNUynTp3sn7ahJ/k1TI6OQ1MxTJs2zY9MoPXhGyVaLs+gIe2iQvPmzX2yu8AMdwTYf//9/frESNeuXX2SjpOAAAIIIIAAAggggAACCCCAQHEFwiMGuE4BUWXDow+6TvF169b1WXWPIFUHAjfCnq7XXUinrKuDVwQqSkCfb029qSFhFdRJ4Prrr/fTE+j+mYaa/fDDD83jjz9u9NCKHqJRSOeznk5Zu3H+QaACBThPKhCbTSGQQwJq+3C/LRMPS+08+l5V0MOWGlWagEA+CqgzjdpZE4NGN3eBDjZOgtd0BJI/ZUFtamC/4447THgKg6I28sUXX/gsTZs29fHKjKhDgKZHuPXWW42mAsiU4IZqTNyf8LQKbt3y5ctd1KQqpwzNmjXz+eg84CmIIIAAAggggAACCCCAAAIIFENAo/e54Br53XL4dcWKFX5xq622svHwzSp1Lgg3dPrMQcRd326zzTY+OZ2yvhIiCFSQwMSJE/0DNX/961+Npo4MhzZt2tgHVfSqp770AM1FF11kG0PS+aynUza8f8QRqAgBzpOKUGYbCOSeQLh9I/HoGjdu7JP0YCudBzwHkTwT2H777SOPWFPHExAoS4GkaQvU8NyhQ4ekjgM777yzHXJNw7L16dMnaR/ck/JaUZFP8Ye3m7hTmh5APb7DHQfccHJXX321efHFFxOLVMhy1apVi72d8BMZBQUFKcuFp48obIjJlBWwAgEEEEAAAQQQQAABBBBAIG8Fwp3VC+s84DoACMp1Hgjf0F25cmWkYSwW86MV1q9f3+dJp6yvhAgCFSQwc+ZMv6UzzjjDx8ORhg0bmlNPPdUnaTQChXQ+6+mU9TtCBIEKEuA8qSBoNoNAjgkU1vaxbt06f7RR02D5lUQQyHGBkrQt5jgFh1fOAkmdB0455RTbO1rbPfLII43mkVm/fr3RyAKPPfaY6du3b9ycbW7aAg3F5sKiRYtcNOn1s88+M++8845ZsGBB0rrCEsKN4+F8q1evDi/6uHq5Dhs2zC7rC0X7/sMPPxjlf/PNN80VV1zhp2dQJt3IyMSgYUhc+P7771006dUNmacV2267bdJ6EhBAAAEEEEAAAQQQQAABBBBIJRDuPKApC6OCrv9nzJhhV+kBA9dxPdywqWkCo8LcuXN9soaedSGdsq4OXhGoKIHwAyyFNV6Ep6VctmyZ3b10PuvplK0oG7aDgBPgPHESvCKAQEkEwu0bieXC68JzuyfmYxkBBBBAoGwE4joPqGH9vffeszW3bdvWPP/880YX9e6GgNvk559/7qJ+lIEWLVr4NDXOpwrHH3+80fw1++67b1KWcA+yxJU//fRTYpJddjcuEle+9dZbPunRRx+1oyaEh2HUyvDw/uEftr5gBkTCnQdee+21lHv0xhtv+HXt2rXzcSIIIIAAAggggAACCCCAAAIIFCWgoWL1xLTCyJEjjXtQIFxO87i7m7e6rnehY8eOLmqnDvQLoYjuL7iw9957u6hJp6yvhAgCFSQQ7hQQvjeWuPnw/SZNYaCQzmc9nbKJ+8YyAuUtwHlS3sLUj0BuCkyePNmsXbs28uDGjRtn0/VbNbGNJ7IAiQhksUCmPuicxaTseikE4joPhIcfVF1RQ8XcfffdJvzEwKZNm+xmt9hiC9OjRw8bVweEcOO9TQz+UaeC2bNn28Wjjz7aJZvNN9/cxjUfXOINCvdloDo1n004aCjFwYMHh5N8fMmSJT4edbItXbrUXHnllT5PqpENfIZKirRu3dqoI4fC6NGjjW7WJAa9b5qGwYXDDjvMRXlFAAEEEEAAAQQQQAABBBBAoEgBzZOpudkV1EHA3aR1BXVdff/997vFuOkMNe9sz5497boRI0aYxNEIda3/0EMP+bLu3oES0inrKySCQAUJhJ92vOuuu+wIl4mbVseBBx54wCarkcPNTZvOZz2dson7xzIC5S3AeVLewtSPQG4K6Pfigw8+mHRwGmFaI1krHHDAAUnrSUAgVwTcqFYrVqzIlUPiOLJYIK7zgLug0fGokf/WW281aoTXTYJZs2aZ6667zpx33nlxh7tq1Sq/rPwuHHzwwebJJ580Wr9hwwbz0ksv2WkQ3Pr+/fu7qJ8nUQmXXXaZHfFAjfsKmjrBhX79+pmxY8eaefPmmTFjxtjOCq4zgsvjXvfYYw8Xtfv9/vvv2+kWNLrC+PHjjfYvXDZTT8hq1aqZ++67zx/LPvvsY3QzRiMxqCeevjw7dOjgp5q46qqr4qZj8AWJIIAAAggggAACCCCAAAIIIFCIQHie9l69etlRBH799VfbmeDMM880o0aNsqX32msve00druqCCy7wi126dDG6BlcnfY0WeMghh/iHEC699FJTt25dn1eRdMrGVcQCAuUssNNOO5nTTjvNbkUP1hx00EH2HpMaPHSPRve+wqNy3HbbbXF7lM5nPZ2ycTvBAgLlLMB5Us7AVI9ADgvou+7mm282aqtRO45+e3bv3t0esRpWw+1POczAoeWpwNZbb22P/PXXX7cdaV544QXjHt7OUxIOuzIFgo4BceHOO++MBftT6F8w5YBf//DDD8eVv+WWW/y6VPU88sgjcWWCxvGkMsOHD7d5vv3221jwxZC03tUd3LTw6y+55BJfb9C4HmvatGnKciofzNHoywa9wWPB1AW2fDD0nC93zz33+DrTiTzxxBO+zmAUhciqbrzxRp8nuAiNy6Njc8ec6jXoeBFXhoXSCcyfPz+mPwICCCCAAAIIIIAAAgggkCsCunbWtWT79u0LPSRdi6e65lS6rs91nZ4YglEEYyeddFKhZffbb79Y0MCaWDSWTtnEyrieSxRhuawFgodk7HlU2HmidUEng6RNp/NZT6ds4o5wniSKsFwSgeJ8n+TCeeLO8ZLYkBeBfBMo7veJfn/qnAo6mCYRFdWG487Fjz76KKksCQhkg0Bxz5M+ffokXUt99dVX9hDdeRJ0pok8ZP1OdOfKKaecEpmHRARKIhA38kDw4TLnnnuuGTZsmHFDZCjNhQMPPNBoTjf1fHFBIwCEw6BBg4ymGAi+EMLJNh401tupC04++eS4dQMHDvQ9t92KOXPm2GirVq3MtGnTTHCTwa3yr8cff7yZNGmSadmypU2rXr26X6cnGfRUvhs60a8IIjq2m266yUydOtWcf/75dtWPP/5oPv3003C2Mo1rCEgXwnGXVtSr9lfHKsPEEPzHYd+z66+/PnEVywgggAACCCCAAAIIIIAAAgh4AY1uV1jQ6AOahlDX4omhd+/eZsqUKZHrNO2hRskbOnRo5P0E3St49dVXTY0aNRKrtVMmlrZsUmUkIFDOAltttZW9fxQ8PBP5Wde588orr8RN1eF2ifPESfCaCwKFfZ9wnuTCO8wxIFB2Aq7dprB2EY0wEHRiTfpuVTvThAkTzN577112O0RNCGSgwL333ms0gls4BJ227aKb+t29hvMQR6A8BArU0yCqYk01oOkBNNeh5mhr27atcf/JR+WPSluzZo358ssv7VCFbdq0MY0aNYrK5tM0FM3ixYtNnTp1TIMGDUyVKvF9G1Tf9OnT7c2G3XbbzRT2I9VXGkTUMeC7774z69evN+3atStyP8JlMzEuB00joVd1HFDniapVq2birmblPi1YsMDud/PmzbNy/9lpBBBAAAEEEEAAAQQQQKAsBJYvX26vpX///XfbYUD3BooTdJtB11WLFi2y1++6HxD1gEJUXemUVX1cz0WpklZeAvq86nOuB2DUMUb3zurVq1eszaXzWU+nrHaO86RYbxGZykggW88TdfZR0P4TEEAgWqAsvk+aNWtm26DUeUDTTeuc+/rrr207UYsWLWzbhzsfo/eCVAQyW6Ck54mmdF+5cqVtl02c7i2zj5S9yyWBlJ0HcukgORYESiJQ0v/MS1I3eRFAAAEEEEAAAQQQQAABBMpPgOu58rOl5twR4DzJnfeSIyk/AddYSeeB8jOm5uwXKIvvk8TOA9mvwhEgEC9QFudJfI0sIVD+AvGP9pf/9tgCAggggAACCCCAAAIIIIAAAggggAACCCCAAAIIIIAAAggggAACCGSYQOGTHWbYzlbW7kydOtVcf/31pd58nz59zDHHHFPq8hREAAEEEEAAAQQQQAABBBBAAAEEEEAAAQQQQAABBBBAAAEEEECgPAXoPFAM3WXLlpkxY8YUI2d0lvbt20evIBUBBBBAAAEEEEAAAQQQQAABBBBAAAEEEEAAAQQQQAABBBBAAIEMEKDzQDHehM6dO5sJEyYUI2d0lrZt20avIBUBBBBAAAEEEEAAAQQQQAABBBBAAAEEEEAAAQQQyEOB0aNHmzVr1piGDRvm4dFzyAgggEBmCtB5oBjvy9Zbb226detWjJxkQQABBBBAAAEEEEAAAQQQQAABBBBAAAEEEEAAAQQQKEqgS5cuRWVhPQIIIIBABQtUqeDtsTkEEEAAAQQQQAABBBBAAAEEEEAAAQQQQAABBBBAAAEEEEAAAQQQyDABOg9k2BvC7iCAAAIIIIAAAggggAACCCCAAAIIIIAAAggggAACCCCAAAIIIFDRAnQeqGhxtocAAggggAACCCCAAAIIIIAAAggggAACCCCAAAIIIIAAAggggECGCRTMnz8/lmH7xO4ggAACCCCAAAIIIIAAAggggAACCCCAAAIIIFApAi1atLDbDe6dV8r22SgCCCCAAAIIIFBZAow8UFnybBcBBBBAAAEEEEAAAQQQQAABBBBAAAEEEEAAAQQQQAABBBBAAIEMESiIBSFD9oXdQCAjBBYsWGD3o3nz5hmxP+wEAggggAACCCCAAAIIIIBA8QS4niueE7nyW4DzJL/ff46+eAIFBQU2I7fOi+dFrvwU4PskP993jrpkApwnJfMid2YIMPJAZrwP7AUCCCCAAAIIIIAAAggggAACCCCAAAIIIIAAAggggAACCCCAAAKVJkDngUqjZ8MIIIAAAggggAACCCCAAAIIIIAAAggggAACCCCAAAIIIIAAAghkhgCdBzLjfWAvEEAAAQQQQAABBBBAAAEEEEAAAQQQQAABBBBAAAEEEEAAAQQQqDQBOg9UGj0bRgABBBBAAAEEEEAAAQQQQAABBBBAAAEEEEAAAQQQQAABBBBAIDME6DyQGe8De4EAAggggAACCCCAAAIIIIAAAggggAACCCCAAAIIIIAAAggggEClCdB5oNLo2TACCCCAAAIIIIAAAggggAACCCCAAAIIIIAAAggggAACCCCAAAKZIUDngcx4H9gLBBBAAAEEEEAAAQQQQAABBBBAAAEEEEAAAQQQQAABBBBAAAEEKk2AzgOVRs+GEUAAAQQQQAABBBBAAAEEEEAAAQQQQAABBBBAAAEEEEAAAQQQyAwBOg9kxvvAXiCAAAIIIIAAAggggAACCCCAAAIIIIAAAggggAACCCCAAAIIIFBpAtUqbctsGAEEEEAAAQQQQAABBBBAAAEEyk1g5cqVZtasWeabb74xv/76q2ndurVp166dadasWZHb/Omnn8yUKVPMt99+axo0aGA6d+5smjRpUmQ5ZZg3b56ZMWOG+f77703btm1Np06dTJ06dcq9bLE2QCYEEgQ4TxJAWEQAAQQQQAABBBBAAIG8FqDzQF6//Rw8AggggAACCCCAAAIIIIBArgmsW7fODB061AwePDjy0Pr27Wtuvvlm07hx46T1sVjM3H777WbQoEFJ69QRYNy4caZNmzZJ65SwatUqW2748OFJ63v37m1GjRplateunbQu3bKRFZKIQBECnCdFALEaAQQQQAABBBBAAAEE8lKAaQvy8m3noBFAAAEEEEAAAQQQQAABBHJV4KSTTorrONCwYUPTqlUrf7hqxO/QoYNZtmyZT3ORa665Jq7jgMq6MHv2bNOxY0czffp0l+RfN27caPr06WPCHQeaNm3q17/88sume/fu5ueff/ZpLpJOWVcHrwiUVIDzpKRi5EcAAQQQQAABBBBAAIF8EKDzQD68yxwjAggggAACCCCAAAIIIIBAXgiMGDHCjB492h7rzjvvbD777DOzdOlSO/3A4sWLzZFHHmnX/fjjj+aMM86IM9E0BVdddZVNU6eBadOm2bIbNmywIxVoxS+//GIGDBhg84T/uf/++82ECRNs0oEHHmg7JmjaAnUW+Pvf/27TP/zwQ3PjjTeGi9l4OmWTKiMBgWIIcJ4UA4ksCCCAAAIIIIAAAgggkJcCBcGQhLG8PHIOGoEUAgsWLLBrmjdvniIHyQgggAACCCCAAAIIIIBAZgocdNBBZvLkyXbnNFLADjvsELej69evN3vuuaf58ssvbfqvv/5qatasaePHHHOMee6552z83XffNfvuu29c2QsvvNDccccdNu2DDz4wXbp0sXF1LtD1kzokKKxZs8bUqlXLxvXPb7/9Zjp37mzUOWHLLbc0S5Ys8dtMp6zfQCjC9VwIg2hKAc4T7nuk/HCwAoH/ChQUFNgYt875SCCQWoDfXaltWIOAE+A8cRK8ZpMAIw9k07vFviKAAAIIIIAAAggggAACCCCQQkBzuLuOAz179kzqOKBiW2yxhTn66KN9DV988YWNb9q0yXcc0BQHXbt29XlcpH///i5qHnzwQR+fOnWq7zgwcODAuI4DylStWjVz6qmn2vwaucB1UFBCOmVthfyDQAkFOE9KCEZ2BBBAAAEEEEAAAQQQyCsBOg/k1dvNwSKAAAIIIIAAAggggAACCOSqwO+//24efvhhc/XVV0dOLeCOW6MPuFC1alUbnTlzpksyJ554onFPXPrEILLbbruZtm3b2qSJEyf6VZ988omPa/SCqHDEEUf4ZI1q4EI6ZV0dvCJQEgHOk5JokRcBBBBAAAEEEEAAAQTyTaBavh0wx4sAAggggAACCCCAAAIIIIBALgrUrl3bnHLKKYUe2saNG+Oe/N9ll11s/lmzZvlyLVu29PHESLt27YymQ1i4cKGdnkDbDHc8aNGiRWIRu7zddtv59OnTp/t4OmV9JUQQKIEA50kJsMiKAAIIIIAAAggggAACeSfAyAN595ZzwAgggAACCCCAAAIIIIAAAvkqMGzYMDN37lx7+L179zbVq1e38ZUrV3qSevXq+XhipH79+j7p559/tnH3qoXCyjZs2NDmX7FihX3VP+mU9ZUQQaCMBThPyhiU6hBAAAEEEEAAAQQQQCBrBOg8kDVvFTuKAAIIIIAAAggggAACCCCAQOkFXnrpJXPRRRf5CoYOHerjq1ev9vHCOgCE161du9aWCZfdeuutfT2JkUaNGtmkZcuW+VXplPWVEEGgDAU4T8oQk6oQQAABBBBAAAEEEEAg6wToPJB1bxk7jAACCCCAAAIIIIAAAggggEDJBF5//XVz5JFH+kKPPfaYad68uV/WPPAuuNEI3HL4dcstt/SLGzZssPFNmzb5tCpVUt9mCJd1BdIp6+rgFYGyEuA8KStJ6kEAAQQQQAABBBBAAIFsFUh9VZ+tR8R+I4AAAggggAACCCCAAAIIIICAFxg+fLg59NBD/fLNN99s+vfv75cVCY8Y4DoFxGX478KqVat8cq1atWy8bt26Pu2PP/7w8cSIm6KgRo0aflU6ZX0lRBAoAwHOkzJApAoEEEAAAQQQQAABBBDIegE6D2T9W8gBIIAAAggggAACCCCAAAIIIJAsoIb8yy+/3AwcONCvvOeee8zFF1/sl11ku+22c1HjGvl9QiiyYsUKv7TVVlvZeJMmTXxauHOBT/xvZPny5Ta2zTbb+FXplPWVEEEgDQHOkzTwKIoAAggggAACCCCAAAI5J1At546IA0IAAQQQQAABBBBAAAEEEEAgzwU0esCpp55qRo0a5SVefPFFc8QRR/jlcKRRo0Z+sbDOA64DgDK7zgONGzf2ZVeuXGnCowm4FbFYzPz44492sX79+i7ZpFPWV0IEgVIKcJ6UEo5iCCCAAAIIIIAAAgggkLMCjDyQs28tB4YAAggggAACCCCAAAIIIJCPAuvWrTO9e/f2HQe23HJL88EHH6TsOCCjcOeBr776KpJNT2jPmDHDrtt5551N9erVbTzcAWDOnDmRZefOnevTO3Xq5OPplPWVEEGgFAKcJ6VAowgCCCCAAAIIIIAAAgjkvACdB3L+LeYAEUAAAQQQQAABBBBAAAEE8kVAT/ifcMIJ5o033rCH3LZtW/P555+bLl26FErQrFkz07BhQ5tn5MiRRh0FEsOHH35oFi5caJP3339/v7pjx44+/vTTT/t4OPL888/7xb333tvH0ynrKyGCQAkFOE9KCEZ2BBBAAAEEEEAAAQQQyBsBOg/kzVvNgSKAAAIIIIAAAggggAACCOS6wHPPPWc0PYFCq1atzNtvv21atmxZ5GFvttlm5qKLLrL51EFg3LhxcWXU2Hr//ff7tD59+vj4LrvsYnr27GmXR4wYYRYtWuTXKfLLL7+Yhx56yKf16NHDx9Mp6yshgkAJBThPSghGdgQQQAABBBBAAAEEEMgbgYLgBkAsb46WA0WgGAILFiywuZo3b16M3GRBAAEEEEAAAQQQQAABBDJDYNWqVUYjDfz44492h7p3727CUwRE7eXJJ59s2rRpY1f9/PPPpl69ej7bU089ZXr16mWUfv3115sHHnjArttrr73Mxx9/7PMpMnHiRKPtKTRt2tQ8++yzdttff/21GThwoNGoBQqXXnqpueGGG2zc/ZNOWVeHe+V6zknwmkqA88QYzpNUnw7SEfifQEFBgV3g1vn/TIghkCjA90miCMsIJAtwniSbkJL5AnQeyPz3iD2sYAH+M69gcDaHAAIIIIAAAggggAACZSIwatQo069fvxLVNXbsWPPXv/7Vl3n44YfNaaed5pcTI1tuuaWZNm2aHdUgvE6NKwMGDDCPP/54ODkuvt9++9npFGrUqBGXnk7ZuIqCBa7nEkVYThTgPOE8SfxMsIxAlACdB6JUSEMgXuD/2TsLeLmK839PQoJDggQnOBQLtEgoVqDBrUhwKVr8jwWnWIq7u1sJHqS4FCjuLRYsQNDiTun+5zs/3unsuWf37u7Ze+/ee5/389mcc8bnmZmzN/u+8w5/d5Xz4AkCeQRYJ3lUCGt1Ahxb0OojRPsgAAEIQAACEIAABCAAAQhAAAI1EHjjjTdqSFU9ybbbbuvuu+++NsYByrX22mu7p59+OjdOShYdWXDqqac6GRhkZcSIEW706NEuazigdEXyZuvhGQLtEWCdtEeIeAhAAAIQgAAEIAABCECgNxPA80BvHn36nksAS7BcLARCAAIQgAAEIAABCEAAAr2MwCeffOLefPNN9/PPPweDgWmmmaYmAvIkoP9Xvffee8FYQMci5BkU5BVWJK/K4/9zeVQJ60gCrJOOpEvZEOg6Ange6Dr21Nx9CPB3V/cZK1radQRYJ13HnpobJ4DxQOPsyNlDCfAy76EDS7cgAAEIQAACEIAABCAAgR5PgP/P9fghpoNNIMA6aQJEiujxBDAe6PFDTAebQIDvkyZApIgeT4B10uOHuEd2kGMLeuSw0ikIQAACEIAABCAAAQhAAAIQgAAEIAABCEAAAhCAAAQgAAEIQAACEIBA7QQwHqidFSkhAAEIQAACEIAABCAAAQhAAAIQgAAEIAABCEAAAhCAAAQgAAEIQAACPZIAxgM9cljpFAQgAAEIQAACEIAABCAAAQhAAAIQgAAEIAABCEAAAhCAAAQgAAEIQKB2AhgP1M6KlBCAAAQgAAEIQAACEIAABCAAAQhAAAIQgAAEIAABCEAAAhCAAAQgAIEeSQDjgR45rHQKAhCAAAQgAAEIQAACEIAABCAAAQhAAAIQgAAEIAABCEAAAhCAAAQgUDsBjAdqZ0VKCEAAAhCAAAQgAAEIQAACEIAABCAAAQhAAAIQgAAEIAABCEAAAhCAQI8kgPFAjxxWOgUBCEAAAhCAAAQgAAEIQAACEIAABCAAAQhAAAIQgAAEIAABCEAAAhConQDGA7WzIiUEIAABCEAAAhCAAAQgAAEIQAACEIAABCAAAQhAAAIQgAAEIAABCECgRxLo43tV6pE9o1MQgAAEIAABCEAAAhCAAAQgAAEIQAACEIAABCAAgQYJvP322w3mJBsEIAABCEAAAhDongTwPNA9x41WQwACEIAABCAAAQhAAAIQgAAEIAABCEAAAhCAAAQgAAEIQAACEIAABJpGoF+phOOBptGkoB5BoE8fOeTwLjlYGz1iPOkEBCAAAQhAAAIQgAAEINB7CIwdOzZ0dvDgwb2n0/QUAnUSYJ3UCYzkvZIA66RXDjudrpMA66ROYCTvlQRYJ71y2Lt9p/E80O2HkA5AAAIQgAAEIAABCEAAAhCAAAQgAAEIQAACEIAABCAAAQhAAAIQgAAEihHAeKAYP3JDAAIQgAAEIAABCEAAAhCAAAQgAAEIQAACEIAABCAAAQhAAAIQgAAEuj0BjAe6/RDSAQhAAAIQgAAEIAABCEAAAhCAAAQgAAEIQAACEIAABCAAAQhAAAIQgEAxAhgPFONHbghAAAIQgAAEIAABCEAAAhCAAAQgAAEIQAACEIAABCAAAQhAAAIQgEC3J4DxQLcfQjoAAQhAAAIQgAAEIAABCEAAAhCAAAQgAAEIQAACEIAABCAAAQhAAAIQKEYA44Fi/MgNAQhAAAIQgAAEIAABCEAAAhCAAAQgAAEIQAACEIAABCAAAQhAAAIQ6PYEMB7o9kNIByAAAQhAAAIQgAAEIAABCEAAAhCAAAQgAAEIQAACEIAABCAAAQhAAALFCGA8UIwfuSEAAQhAAAIQgAAEIAABCEAAAhCAAAQgAAEIQAACEIAABCAAAQhAAALdngDGA91+COkABCAAAQhAAAIQgAAEIAABCEAAAhCAAAQgAAEIQAACEIAABCAAAQhAoBiBfsWykxsCEOgJBJ5//nmnj2TTTTd1ffr0abhbb7zxhnvkkUdC/mHDhrnpppuu4bLICAEIQAACEIAABCAAAQhAAAIQgAAEIAABCEAAAhCAAAQgAAEIdA4BjAc6hzO1QKClCZxxxhnu3HPPDW3caKONXL9+jb8aHnvsMbf55puHsh588EGMB1p65GkcBCAAAQhAAAIQgAAEIAABCEAAAhCAAAQgAAEIQAACEIAABP6PAMcWMBMgAAEIQAACEIAABCAAAQhAAAIQgAAEIAABCEAAAhCAAAQgAAEIQAACvZxA49uLezk4ug+BnkRg2WWXdeOPP37oUt++xWyKfvWrX7lddtkllDX99NP3JEz0BQIQgAAEIAABCEAAAhCAAAQgAAEIQAACEIAABCAAAQhAAAI9lkCfkpce2zs6BoEGCPTp0yfkYmk0AI8sEIAABCAAAQhAAAIQgAAEupDA2LFjQ+2DBw/uwlZQNQRamwDrpLXHh9a1BgHWSWuMA61obQKsk9YeH1rXGgRYJ60xDrSiPgJ4HqiPF6khEAh888037t///nfYrT/ddNM5GRq8/vrr7sknnwz3c8wxh1t00UVd3i7+Tz75xH377bduwgkndNNMM40bM2aMe+ihh9yvf/1rN2TIEGfGC4b6559/dm+++aZ74YUX3FdffeXmm2++8Jl44oktScXrZ5995p544gn33nvvuYkmmsjNPvvsbqGFFnITTDBBWZ5PP/3Uff311yF82mmnLYvTg+Kef/5598Ybb4S4ueee2+kzcODANmmNjSJmnnnmNv1RuPqkfr/22mvuo48+cnPOOWfo09RTT63oNiLWKnfyySePdb711luhbypL3NSefv14pbWBRwAEIAABCEAAAhCAAAQgAAEIQAACEIAABCAAAQhAAAIQgAAEaiCApq0GSCSBQJbADTfc4DbffPMQ/NJLL7m1117bvfrqq2XJpOS//PLLg1FAGrHHHnuE8FVXXdUNHTrUHXrooTF6pplmCkr6KaaYIoTdfvvt7o9//GNQsMdEv9wcccQRbr/99stVmEvZv88++7izzjorm82pjhNPPNENHz48xu2///7u3HPPDc//+c9/3HjjjRfjjjzySHfggQfG5/RGDE455RRn7VXczTff7DbZZJOQ7OGHH3ZLLrlkmsXdf//9buedd3b/+te/ysL1sM4667gzzzzTySAjlX333dddcMEFbsUVVwz1rbHGGtGQwdKpX9ddd51bfPHFLYgrBCAAAQhAAAIQgAAEIAABCEAAAhCAAAQgAAEIQAACEIAABCBQI4Fih5vXWAnJINCTCUhZbYYDiy22mJtssslCd6UcX2WVVXIV/0ogw4DUcEBh8kRgivg///nPbrXVVov5Va4U5CYHH3ywW2655dwPP/xgQeH6xRdfBKOE1HBA5Zq8++67boMNNnCjRo2yoLJrelzDySefXGY4IM8FaVmXXXZZ2PX/448/lpVhD/IKkMp5553nll9++TLDgbRPMsqQB4Gnn346zRbv77rrrtA384AQI/yN+iVjjFdeeSUN5h4CEIAABCAAAQhAAAIQgAAEIAABCEAAAhCAAAQgAAEIQAACEKiBAMYDNUAiCQSqEdBRAksttZT78MMP3eOPP+6kvD/mmGNCFrnk33DDDd1PP/1UsQgp8rWrfvvtt3d77713SKfjD+RZQCJl/W233ea+/PJL98477wQl+QorrBDitLP/jDPOCPf2j4wKbFe/jBlk2KC2ff7559G7gNKqXh2fUEn++9//OhkwSNQGKex1NMMHH3wQvCMss8wyIU5K+zvuuCPcV/tHxy6ojybyMPD999+HPulYgi233DJEied2223n5AEhTxS/2267uXHjxjm18Z///KdbYoklYtJzzjkn3nMDAQhAAAIQgAAEIAABCEAAAhCAAAQgAAEIQAACEIAABCAAAQjURgDjgdo4kQoCFQnII8Df/va3uCO/T58+4cgAU5TLTf8999yTm3/NNdd0f/3rX93WW2/tpPTeeOONQ7pdd901pr/lllucjjgwmXHGGYOyfsiQISFor732clK+S6RwP+2008K92qV655prrvA8YMCAoJS34xYUeOutt4a4vH/efPNNJ0W9RO2bbbbZwr36t+CCCzp5JZDIsEAK/PZExx+YXHTRRW7HHXd0E0wwQQiacsop3cUXXxwMGhQgzwOXXHKJJS+7rrfeeuHogumnn96pLToe4sYbb4xpKrGOCbiBAAQgAAEIQAACEIAABCAAAQhAAAIQgAAEIAABCEAAAhCAAATaEMB4oA0SAiBQH4FDDjnETTrppG0yjRgxIoY999xz8T692WWXXdLHcP/ZZ5+5Rx99NNyvvfbaTt4DstKvXz+3++67x+Bnnnkm3MszgMlBBx0Uj1CwMF3l0UAeBXTkQF7ZlnaGGWaw2+DdQEYO3333XQz7zW9+E45MkFeD/fbbL4bn3egohHvvvTdE6eiDzTbbLC+ZGzlyZAx/4IEH4n16s+eee6aP4X7aaaeNRzp8/fXXbeIJgAAEIAABCEAAAhCAAAQgAAEIQAACEIAABCAAAQhAAAIQgAAEqhPoVz2aWAhAoD0C5r4/m27OOeeMQdpJnydSpGdFxwOYaPe/HR1gYXZ98cUX7daNGTPGDRs2zOloAJNFF13Ubsuus8wyizvssMPKwvIeJppoIjd8+HA3atSo4IFgo402CsnkLWGNNdZwK6+8slNZtYiMGnSEg2T55Zd3Mn7IE3lJkCcDpa3kzWDWWWfNyxo8I+gIhR9//DE3nkAIQAACEIAABCAAAQhAAAIQgAAEIAABCEAAAhCAAAQgAAEIQKAygXwNXuX0xEAAAhkCM800Uybkf49zzz23e/XVV92TTz75v8DkLk/5nhoPPP/8806f9kTGA5I0rY43KCo6SkBHIdxwww2xqNGjRzt9JDo64YQTTgiGCzFBzs2nn34aQ9trlwwqZDxQyeBCxgV5MuGEE+YFEwYBCEAAAhCAAAQgAAEIQAACEIAABCAAAQhAAAIQgAAEIAABCNRAAOOBGiCRBAKNEvj2229D1qmmmiq3iP79+7cJ//nnn2OYjgaQAUJ7Mu+884YkUvSbpOVYWL3XiSee2F177bXuwQcfDAYDN954o8saN6y44oruvPPOc9tuu23F4lPFfp8+fSqmU4R5Dphsssly04033ni54QRCAAIQgAAEIAABCEAAAhCAAAQgAAEIQAACEIAABCAAAQhAAAKNE8B4oHF25IRAIPD++++7GWaYoQ0NKfLlRl8ydOjQNvGVAtKjDNZdd1134IEHVkraJnyOOeaIYePGjXPzzTdffE5v7rzzTjdw4ECnuqaeeuo0qs1937593XLLLRc+8jLwyiuvuHvuucfJK8ETTzwR0usYhGrGA+lRA2+99VabOtKA1157LTxOP/30aTD3EIAABCAAAQhAAAIQgAAEIAABCEAAAhCAAAQgAAEIQAACEIBABxLo24FlUzQEegWBhx56KLeff//732P4IossEu/bu0kNAG6//faKyVX++uuv7/bcc09ndaWGBw8//HBuXhkVrLzyysGgYb/99stNo8BHHnnE7bbbbm6llVZyL7zwQkw3zzzzuJ122smpfKtPRhKpR4KY+JebySef3NlxA+rTd999l00Snh9//HH31Vdfhfv5558/Nw2BEIAABCAAAQhAAAIQgAAEIAABCEAAAhCAAAQgAAEIQAACEIBA8wlgPNB8ppTYywgceeSRUeFtXZfXgUMOOcQenY4fqFV0xMFSSy0VkktBf/XVV7fJ+v3337u99trLXXfdde6kk05ydhSA6jF3//IS8Omnn7bJe+6558awtdZaK95nb8aOHetOO+00d9dddzl5FshKv3793KSTThqDzTggBmRu5EVB8tFHH4VyM9FOzPbff/8YvN5668V7biAAAQhAAAIQgAAEIAABCEAAAhCAAAQgAAEIQAACEIAABCAAgY4lgPFAx/Kl9F5AQMrwpZde2j355JPup59+Cm79pZQ3bwBSiA8ZMqQuEqeeempMv/HGG7tjjjnG6XiEb775xo0ePdqpfDsyYLHFFgv1K8OAAQPccccdF/JqB7/i5Bnhhx9+cF988UWIM0MAeQ0YNmxYrCd7s9pqq8UgGSnIS4GMGaTk/+yzz9wRRxzhnn/++ZBm7bXXLjMkiBmTm8MPPzwaNuy7776hPBkoqDyVI28I9957b8ihe4wHEnjcQgACEIAABCAAAQhAAAIQgAAEIAABCEAAAhCAAAQgAAEIQKCDCfTr4PIpHgK9goCU31LUZ2X48OFu5MiR2eB2n+VBQEYAI0aMCGmluM87YmCmmWZy119/fVl522yzjdPRADfddFM4SmCZZZYpi7eHG264wU088cT22OaqowZGjRrl1AeJDBj0yYo8DqReFrLx9jxo0CB38cUXR6OASuWtsMIKoU8TTjihZeUKAQhAAAIQgAAEIAABCEAAAhCAAAQgAAEIQAACEIAABCAAAQh0MAE8D3QwYIrv+QSuueYat+KKK7bp6K677hqU5X37NrbM9t577+BdIM8oQZXttttu7rHHHnMyIEhFxwnIMOD88893eUcJrLnmmu61116ryRvC+uuv72655ZbctDoeQYYFL7zwgvv1r38dm9C/f/94n73R0QWvv/66W3XVVbNR4Vl9uvnmm9sYNYw//vgxvR3REAO4gQAEIAABCEAAAhCAAAQgAAEIQAACEIAABCAAAQhAAAIQgAAEChPoU/JSuBQKgEAPImDK6WpL4/LLL3ebb7556LVc+S+55JLhWIDnnnvOTTLJJG7uueeOLvqbgeb77793r776qvv444+DscDgwYPdRBNNVFPROlbh5ZdfDgr5ueaaKxxtUFPGTCLVrTZ89913bo455nCzzjqrM1aZpDU96ogHGTGMGzfOTTfddE7HKFTzhFBToSSCAAQgAAEIQAACEIAABHo1AR2NJtH/mRAIQCCfAOsknwuhEEgJsE5SGtxDIJ8A6ySfC6EQSAmwTlIa3HcXAhxb0F1Gina2PIEBAwa4ZZddtkPaKRf+Q4YMaahseR/I80BQb2E6dkCfZok8FMw333zh06wyKQcCEIAABCAAAQhAAAIQgAAEIAABCEAAAhCAAAQgAAEIQAACEGiMQGP+1Buri1wQgAAEIAABCEAAAhCAAAQgAAEIQAACEIAABCAAAQhAAAIQgAAEIAABCLQgAYwHWnBQaBIEIAABCEAAAhCAAAQgAAEIQAACEIAABCAAAQhAAAIQgAAEIAABCECgMwlgPNCZtKkLAhCAAAQgAAEIQAACEIAABCAAAQhAAAIQgAAEIAABCEAAAhCAAAQg0IIE+rVgm2gSBFqewMorr+zuuuuu0M6FFlqo5dtLAyEAAQhAAAIQgAAEIAABCEAAAhCAAAQgAAEIQAACEIAABCAAAQhUI4DxQDU6xEGgAoFBgwa5YcOGVYglGAIQgAAEIAABCEAAAhCAAAQgAAEIQAACEIAABCAAAQhAAAIQgED3IsCxBd1rvGgtBCAAAQhAAAIQgAAEIAABCEAAAhCAAAQgAAEIQAACEIAABCAAAQhAoOkEMB5oOlIKhAAEIAABCEAAAhCAAAQgAAEIQAACEIAABCAAAQhAAAIQgAAEIAABCHQvAhgPdK/xorUQgAAEIAABCEAAAhCAAAQgAAEIQAACEIAABCAAAQhAAAIQgAAEIACBphPo8/bbb5eaXioFQqAbE5hllllC6/3a6Ma9oOkQgAAEIAABCEAAAhCAAAQgAAEIQAACEIAABCAAAQhAAAIQgAAEaieA54HaWZESAhCAAAQgAAEIQAACEIAABCAAAQhAAAIQgAAEIAABCEAAAhCAAAQg0CMJ9Cl56ZE9o1MQaJDA2LFjQ87Bgwc3WALZIAABCEAAAhCAAAQgAAEIQKArCPD/ua6gTp3djQDrpLuNGO3tCgKsk66gTp3djQDrpLuNGO3tCgKsk66gTp1FCeB5oChB8kMAAhCAAAQgAAEIQAACEIAABCAAAQhAAAIQgAAEIAABCEAAAhCAAAS6OQGMB7r5ANJ8CEAAAhCAAAQgAAEIQAACEIAABCAAAQhAAAIQgAAEIAABCEAAAhCAQFECGA8UJUh+CEAAAhCAAAQgAAEIQAACEIAABCAAAQhAAAIQgAAEIAABCEAAAhCAQDcngPFANx9Amg8BCEAAAhCAAAQgAAEIQAACEIAABCAAAQhAAAIQgAAEIAABCEAAAhAoSgDjgaIEyQ8BCEAAAhCAAAQgAAEIQAACEIAABCAAAQhAAAIQgAAEIAABCEAAAhDo5gQwHujmA0jzIQABCEAAAhCAAAQgAAEIQAACEIAABCAAAQhAAAIQgAAEIAABCEAAAkUJYDxQlCD5IQABCEAAAhCAAAQgAAEIQAACEIAABCAAAQhAAAIQgAAEIAABCEAAAt2cAMYD3XwAaT4EIAABCEAAAhCAAAQgAAEIQAACEIAABCAAAQhAAPhtWVQAAEAASURBVAIQgAAEIAABCECgKAGMB4oSJD8EIAABCEAAAhCAAAQgAAEIQAACEIAABCAAAQhAAAIQgAAEIAABCECgmxPo183bT/Mh0HIELrroIvfll1+67bff3k000URV2/fjjz+6xx9/3I0ZM8b17dvXLbbYYm6eeeYJ91Uz+sgieT/99FP39NNPu9dff90NGjTIDR061M0444ztVRnib7rpJqc+zjfffO7II4+sKY8lGjdunNtll11cv3793BVXXOH69+9vUbnXns4yt9MNBtbD6vPPP3cvv/xymHfffPONm2OOOcK8m3nmmdutvcjceeutt9wLL7zg3nnnHTf33HO7RRdd1A0cOLDdOvMSbLPNNu7f//63O+2001wt7c4rg7CuJ/Dkk0+Guah3wYYbbhgbdOutt7rPPvssjO3vfve7GM5NxxOAfXXGen898MADIdHqq6/upphiiuoZCsb+5z//cddee63TdciQIeFTsEiyN0jgv//9r9t4443dDz/84A4//PBeOxbqv9bAww8/7F566SU37bTTuiWXXDKwaRAt2SAAAQhAAAIQgAAEIAABCEAAAhCAAARaiUAJgQAEygi8/fbbJX0akauuuqrk13f4fPLJJ1WLuO2220qzzz57TG/5JptsstLo0aM7JK//4bt03HHHtalTdXtlbum1116rWq8i11lnnZD/gAMOaDdtNkE9eXsDyyyfRp9rZfXtt9+Wjj766Nzx1xzYbLPNSu+9915uM4rMHW+sUNpuu+1y61177bVLX331VW6d1QIPO+ywUJ5X3lVLRlyLExg+fHicF2lT9R7UnFxvvfXS4B55r/fummuuWfJK6ZboX29i3wjwM844I87Z5557rpEicvN4Y5nSHnvsUbruuuvK4vX3iP19MHLkyLK43vhw9913h/XSFX33RpdxLPS9VotUGtda8rZiGv0tsPnmm0cONjd32mmnVmwuberFBIr8f64XY6PrvYwA66SXDTjdbYgA66QhbGTqZQRYJ71swOluQwRYJw1hI1MXE+DYAv+rFwKBZhC4//77a951deedd7rVVlvNvfHGG6Fqr6xx+ki8ItV5RVLYmR8CMv8UyaudciNGjIglTjPNNPH+1Vdfdb/5zW/c888/H8OyN9ptdsMNN4TglVZaKRtd9Vk7J5VX/dxnn32qpu0NLKsCqCOyHlZbbrml22+//WLpGn9vwBKfL7/8cvfrX//affzxxzHMbhqdO/KQ4RXE7rzzzrOi3EwzzRTv5clixRVXDLvMY2ANN3vuuadT+7VLWl4sEAh0RwKav3PNNZfzBmNOXkCQ3klg7NixwfvLSSedVPe7sDcRO/DAA92wYcOcvve6QrzhQqh2ueWWcwMGDGi3CT1xXL3hq7vsssti3/V9Lq9ZSyyxRAzjBgIQgAAEIAABCEAAAhCAAAQgAAEIQKB7E8B4oHuPH61vAQJyJXzyySe75ZdfvqbW+N3fbv31149pr776aic38l988YW7/fbbY7jfBe4++uij+KybInl1TMGhhx4aypPS9dlnn3UffvhhcL97zDHHhHAZLmy11VbhPu+fRx99NAbX80Ox+rb11luHvH/5y18q/ujem1hGkP5GrpD1qUfqZXXxxRe7UaNGhSp05MRTTz0Vxl9HV7z//vvOe4UIcZpzO+64Y1lTisyds846y911112hPClcZJggt99ySe93lYdwzaujjjqqrM72HiaddNLgNlrp1F4dp9AqghK4VUai9dthBmSt31Ja2JEEdASLfd/36dOnrCq963Tcjz4y8OvN8s9//jN0v70joTqKkRTnklVXXbWmKqqNa00FNDFRI39n5FX/yiuvxGD97avvcx2/5b0RxHBuIAABCEAAAhCAAAQgAAEIQAACEIAABLo3AYwHuvf40fouJqAfsnXOq3c1XHNLLr300uBdQBmOPPLIcM533759nRQGq6yyitNObBMpfFMpktcMBFTe9ddf7xZaaKFQ9Pjjjx88AWgnt0SK4tRIIAT+8o+8Hki8q3k3wQQT/BLa/uWiiy4KfZbXAZ1Vnye9jaUx0Jnv4403XvjYrkaLq3RthNUll1wSi7vxxhvLlFDTTTedu/LKK52MCiTebXYwVLEMjc4dearQHDe55ZZb3NRTTx0eBw4c6GQ4Y8qws88+u6xOy1PtKk8KmlMyejn33HOrJe3UuOmnn95tsMEG4Uxo712oU+umMghAoGcRmHLKKd1pp50WPrUqrXsWgdbojYwgzeOBvOV0J2nk74xK/fvggw9ilD82KN5zAwEIQAACEIAABCAAAQhAAAIQgAAEINBzCPTrOV2hJxDoXAIvvviiW3DBBWOlct0qpeETTzwRw/JupLg12WSTTew2XnWcgSlEpTDYe++9nYwLJI3m/emnn9w111wTypCbehk8ZOWPf/yjO/HEE0PwOeeck+uCVspfST0KDNVtu8o32mgjN/HEE4cy0n96I8u0//XcN8Lqu+++i0oPjZ3cpGdlwgknDApv804hAwW5Ii4yd5555pm4m3b77bd3k0wySVm1/fr1c9tuu63zZyUHAwDNUc3DWkVtlgHB6aef7uTue/fdd3cKawWRlwd9ZJChdm288cZOO4iLyieffBKMLNRPeRAZM2aMe+ihh8JxE0OGDAlGSGkdP//8s3vzzTfdCy+8EBirPfrkrcM0n+7lHULvs/fee89pp6/eHTI6qmY49P3334f6XnvtteDRQmOu+hZYYAEnQ6XuJPLMIr7qizjKyEbGLnrPtyfPPfdcyCevMoMHD3a/+tWvwtXyaV3J44d2Jpv4888CZ42rxldeOrR2xX7QoEGWrOyqMlRW//79K7bryy+/DP3Q0TQytJHhzsILL+zmnHPONvOlrPA6HtQPedzQd9cUU0wR2qR3lTzcyL37/PPPH9zyt1ek5px2NqutmqPKp/eV3hV5Mm7cOCcvLOIjTl9//XXwqqIxm3HGGcN4TTvttG2yGn9FaFzz5qY8/Wi9Saz88FDDP5ov2pGt+fPWW2+F9s8222xhnU4++eRlJbz77rtO/TDRs9zdK53GSv2zeJsblja9Kp/Yqb4ZZpghsJt55plzx1hjZXNP81OiZ613KYdtzdbynkjb0FH3mreaGxoTibw0iJHE+tjoXAiF1PDPgw8+GFJpjpvxZbVs7Y2rjYHmnuagDM3kCUiKft3PMcccbtFFF41//1WrqzPibI2nXn40NzUO9n1kaWzuql2aj5pXWhP6jpp77rkrrufO6Ad1QAACEIAABCAAAQhAAAIQgAAEIAABCNRAwP9AhUAAAgkBr8Ap6dOePPzww9pSHD7eXWvJ/6Ba8ufJxzCvdGhThP+hteR/eA5pllpqqTbxFuDdE8dyvFvrEFwkr/cmEMvzymGrps3V/6gb0nlDiDZxXoEYy/CKmTbxlQKuuuqqmO+OO+7ITdbbWKYQ/I/qkY93759G5d43wsorXkrnn39+6bDDDit5BX1uuQpM568/1iCkKzJ3Tj311Ni3e+65J7der/CJabxXitw01QLvvffemN97uKiWtCzuhBNOKHkPGnV9vGKnrIxKD/4Yhdgme0do3XvvHiWvFK2UraZwf5xJKNsbgZS0lq18XbVu9R4y8S62S17ZWJbG0h9xxBElr0C1pGVXzZe8PlgdeXPIK9pLO+ywQ25dls8fy1JWjx6GDx8e86SR9p70R1ukwZ1y772/lLyhRGyXMbOrN4Qp45w2Su84r3jNzesNXUpeMRuSe+Oc3DSqwx/tEtIYG7GoJF4ZF8rxRg1tkngDhpI/KqRiPcsss0zp5ZdfbpOvEfZau2q7ytR7zMowZrr6XcoVuXkji9K+++6b21aVpe+RPNGcV9l6t3kjtdz8I0aMKHmX7WXZxcba5r2elMXZw8033xzTaC2ZnHHGGTFc5aTijWdKxx9/fIy3OtKrd/VetvbyWCn9CiusEIrW3yOW/+ijj06rC/feQCG8xyxNetVctHd5mtGfWR/L1N8qK6+8cnxO89fzTlX5mv/1vle9UWLatNx7b9CY2z619e9//3vI0+hcyK0wJ9D+LvMGbjmxbYPaG9d0DF566aWS/f2V8tf46Tu4qNT7d0Zefep32rb0XvNHYu8B75mh9K9//Sv3Papxeuyxx/KqIAwCTSVQ6//nmlophUGgmxFgnXSzAaO5XUKAddIl2Km0mxFgnXSzAaO5XUKAddIl2Km0IIH8rVz+FyEEAhCoTkCuhL0iz3mFa9jhVz31/8VqB6920Enydn//XyoXdvjavXZQasdikbxeQWTFhbLiQ+ZmnnnmCTs+tWNOOzjTndJeSRtSa/exdqzWKubxwP+Q7rwiKzdbb2OZC6HGwEZYaRwrHRdh1f7444/RO4XCtONXUmTuaOexySyzzGK3Zdd0F/fzzz9fFlfLg1dWRk8d1157bc2eC7QjOj0ipJa69t9//7K1WSnPmWee6UaOHOmuuOIKpzOhda691r08e+gj7w+77rqrW2mllcJxFZXKqRbuFfFOn1S0K1m7viV//vOfnTcQiNFaf9oBrrUtOfjgg93f/vY35406yjwJyDW3PJN4xU/Mq3LtPHbl15EMWtdeuR3SaEewvLBYGgXqPaE5ZfXpqn7rbGx5tGhV8Ypf55XNsXnipp3N2kVu724dkaH3sXliscQ6nmXrrbe2x3BN2enoEHmA0A7mame2a4duKlZvGtbe/SOPPOK8gVpZMu34lScEGyevdA1joZ3mzdphrjLNpbvY6T1ix+DceuutbtNNN3WjR48um/fyjCCPDlonJik39V+eO7xi2olxnhxyyCExWHm9gjIcwaPA4447zk011VTOGyfENOmNdk83S9ZZZ52ydal2iK08KZjIE4nG2I4K0rrMG2OdUZ+VbFvl4UJeJFJRnbbutI4XWWQRd+GFF7qtttoqTRbvl1122bL1HiP8jeWp1SOM6q33vbr00ku79tzfZ73WpG3MMikyF9Jys/fm+ckryrNRuc/1jOviiy8e54Dej/re1ZzQ+Ok4K703NK9bVcw7lrXPGxC5oUOHxj5ZuK6aI4pTH/U3JwIBCEAAAhCAAAQgAAEIQAACEIAABCDQegT6tl6TaBEEugcBuaH2O8eikrWWVksxZ1LJDbXiTQGoe3MRWySvFEYmUj5XEilYTKQQTMUUlWuttVYaXPVeP+rffffdIc2wYcNyXUMrsrexrAqtnchGWLVTZIjWERmmvPM7R6NCucjcSedQtXlnShFzo11Ley2N3Jmb4knKSSmsaxEpUmV4UM8nXR/t1aH+ykBAxj9aA6ZoVz6tJR1PMuusswbjAlvj7ZWZFy9F/gUXXOB0LISOOJHI7bUZDoit3zXtpKCVAlyKG7+jOaTzXiyc30Ud7u0fGRWY4YCUWFJ6yn2/5oGU5iaq11yIX3rppVEhLSWj+iP326pPrvd1tIRJtj4Lb4Wrjgg4/PDDQ1Ok+JbBlLjpCA9dxVHhEs01uaQ3kWvu1HDAe90Ic1Hs/M7vaDjldxGHs+tlEOaNP53SmUiZpjCNQVE59thjYxE61uOHH34ILu3VHhn1SFkvkYLSDLxihibc6CgSred//OMfwRDN5r/mvvcSUFaD39Ed3z0yeNCaUTv1/SGDAWN+8cUXt6uYlnGBMdcclPt9iYz87rzzzrJ6m/2gsbXvSfFVP7QGdJSAjvPQ0SomxxxzTBhrPSuN8ppoPWse3HfffRaUe5WBn9ahiff8EVz7qzzN5bQ+zU0zKLD0dtV6l8GHjLdksKB0Gj+TtBwLq3TVERH1vFOVVmuhPZHRiZjou0mi95qe9alklNjMuaC1afyWX3759pob4usZV61DzX3NXRlY6e89zRGJjH023HDDcBRICOiif8RTvM3oRc3QHFSY3o1ZUZ922223cOSG5pXeo0sssURMpuOxEAhAAAIQgAAEIAABCEAAAhCAAAQgAIHWJIDngdYcF1rVQwnox1STaorIVNGqc3ElRfJK8WWSlm1hdk3jTDGoOClxtFtUot3StYqUEdbuWhQEtZardFau7rsLS+3I9C7J1eQoqVHIn/70pzZ9kQLaH4sR03fEjXZUmuJZ5acKzSJzJ82rXZiVROc9S0EiRXMjIiW8iZRwqYLCwrPXgw46yOnT0aIdmb///e/DR7vVpYCRoYb6K2XUHnvsET5SwNQra665pvvrX/8asqWKa80ZE+2OT3f66xx4KWS1G1nrc6+99grKfa0hrXO1TSKFrbwSmOJW47fddts57SyX0ZRECnR/rIDTbn2JFHoyMOjfv3941j9TTz21O+uss5x23Uu0g7ZV5brrrovvFXmIyCoJ5TlBc8Z2sEspbF5Yrr/++tgt7XRPx0CKZHmjMEW25oCU2R0lMgKy3d+bbLKJ23nnncuqkjcAGXH89re/DeFSjDZTZMyTGolo1/iVV14ZjCjUNhm26H2jc9GluLb5JG8VqSeM8cYbL3zfPPTQQ/GMeRkayPAmnWPWds3DdIe8ytP3ls6Ol2js6vn+snJrvWqMTeR1xOaGwiaYYAInjwPy9qH1p/Wvd//AgQMtS91XMTWPBjLQ0Toz0Rn0qk/1miGAPKcYa0unq9btDTfc4Gx3v94Rp5xyihN3vSP0kSFYatSY5k/vNfZmzJWGd/Z9s+eC5qVEa1kGEs0WvWc1N8zbU58+fdw+++wTjLD0Tr3//vvD2pAXgvakVf7O0HeD5pGJ3n/6W0Pf9xJjavFcIQABCEAAAhCAAAQgAAEIQAACEIAABFqHAMYDrTMWtKQXEEjdEOtH/UpiP+IrXjtGJUXypm6wq9VrikLVZ/XqXgpZU9Zrp2Ctot24JnL93UwpwqNI3iIstRPXnz1cEYMUa7b73xJpJ2JHinbKytW2iRSbgwcPtsfgXtse6p07P/30k2V1WbfGMcLfpPMuDa/1Pm2v5lwtxgO1lt3MdFLKSYEpBadcX9sO/0brkCI1K1LymZt47dJNDQcsrbw1SLFoBgfPPPOMk2cQ7dQ2UTvzxkWKXxkC6dgVlS0ll+aQuCt9nlJXLvqlOFJ/tQO7VUVKaSlM33zzTVfJw0qqEE69XIihRAx23HHHNl2cd9553XnnnedkDCavFzIWEbuOEB0FoveMxkTHSeRJasyVvuvz0tYbpiMzsqI5J48K5gZf3g90PIY8E5jI60PeO2bIkCHBgEqKbxnc6B2ZdXcu7tp5nxUZEEixLuMVMdE7KW+OZvM18qz+bbTRRkHRLg8xeaJ2y3hAks6fvLTthcmQxyR11W9huuq4miOPPDJwq+R5QQZM6d8cyqfx0vqW4YBEO8xrMR4Iibv4n46YC+ZRQgZbHSEaPzMcSMvXESrm8UVHVNRiPNAqf2ekHgqsTzK8sGM1NKcQCEAAAhCAAAQgAAEIQAACEIAABCAAgdYkgPFAa44LreqhBLTT0qSaEi3dsW0/KBfJm+76rqYoSnfBp8oEnV8rkWtja4/1o9r1k08+idH6wbiZUoRHkbxFWGqHvHYCp6Ld9sZX7pdnmGGGNLqNkqwssuCDlJlyd28iN8npzl2FF+lvqmySwUYlAwI73qDaOfDWxrxrOrfSOZeXtivDdA792Wef3Wb3r5TJjYgUo1lJjU+kBM9T5CqPlLcmcr8v44HUK8Ciiy5q0WXXWWaZpY3b+QUWWMDpI5G7dO2GVjt0latq22mteHk36AiRV4dqbt61Gzqdj3ltkOcVuQ7XR6Iy5XpefHSVojtV2KZGSHI1LpGiO313hsBf/tl2223Txw671zrS+NkYan3JS4KMQ9SPZ599NnomUCNSg6hmNMrqzZa10EILxSDNNRkPyFjDRM+VRO9G2zWv8cgaDyy77LIVuas95vlCc1KeFzpCtDb0kWiea/2preL+0ksvhd3jqcFQOn8aaY8ZA+j9lxqDpGWNP/74wYOG2MnbQZ4HAfPMkObTfWqU1VHrNltnM56bPRfkhUleViT6G6gjpJJRZmqslB5tUa0NrfJ3htqRJ5qrMgIqajyTVzZhEIAABCAAAQhAAAIQgAAEIAABCEAAAs0hgPFAczhSCgRqIpC6uzWFaV7GNM4U3UXyaieqSVq2hdk1PXPe6lWcXJ9Latn1FhL+8k/qhj5V8KZpGr0vwqNI3iIsdda8nTdv/db59GY8cOCBBwYlrsV11FVKK+10HDlyZKxC56Jn3Zsrskh/tdPeRIYplZS3pvCXi/tGJK0nnXPVylJfTRlZLV0aJ9fRdlZ8Gl7tXrsrr7766nAcgO3itfTaxaozobNzwuLbu5qiMk2XGg+Yy/E0Pu9eCk5J2r6UaV6ebJiU6jI+MSVbNr6jn6WMrna8h3btVpp/ads0T+X+Xee8S9lai8ibgLmPr6TEraWcZqaRQcBVV13ldIRCOq7NrCOvLBm0VDISSg2jNB6SdL1Wm3OpIjud49aGap5t0nqlvO8o4wG1RYYCOvIiPcLA2tjMqzxX2PzMew+kdaVKXHmjyK4DcyOf5tG9DA/qFR3XkOd5o1o5Rx11VO53T7U81eKaPRdk9GWy+OKL221Tr9X+PpJxmd4v+luhFmmVvzN0HEae6EgNBAIQgAAEIAABCEAAAhCAAAQgAAEIQKC1CWA80NrjQ+t6GIFUOZoq6rPd/PTTT2OQnYlcJG+qHKhmPGBKXFVuxgNqi7lB1+7kekSuj010fnUzpQiPInmLsGxm/xstS54ntAP68ssvj0XovOs//OEP8Tm9KdLfVGn3+eeft1FaqZ5UCTbVVFOlVdd838g80zEcdhRHrRWlxzC0l0c7jeXZQUroVMyltjw+pLtK0zS13ue5X093kcvQoRavBnKpL0l3F6fltNeeUaNGuQ022KBNMrk9X3rppd3vf//74FJeu007SioprOupT0YA2lmcPVpEir1FFlkkGPZoHss9fSrpDvKUYZqmo+4r1SdX9KeddlpZtZp7GpPf/e53wUNCelxJWcIOeki97dj3WqpIrDbnUo85efO+2hEQ8oZhIga1SiW2lfLLu4P4Zt8rOrJDSmetg5tvvtlpvRSVav3Nlp3u8M5j18zvZo1Ttv/Z9mSf0/HJxjXyXI1NWletc8GM+4YPH95hR15U66c8H0ga/X6sVnZHxjVzXnVkOykbAhCAAAQgAAEIQAACEIAABCAAAQhAoC2B/2n22sYRAgEINJmAfkzVbiztGKy2G1Suvk3MHXiRvKkCWErNPJECzNyWS9lhZ0+bK3C1u9L52XnlKSzdtV7NWKJS/mrhRXgUyVuEZbX+dEacFCdSGNqZ21KeyPX1EkssUbH6Iv1NjQfkLj1vV3a6i7iSu/OKjfslIjW2SedctXxSBKXtq5bW4lIWFpZ3XWONNdrswJcSf6+99grHVtRz9Ede+dXC0qMM1l13XSdvFrVK6r583LhxTu+BPNGckfJXdWl3cmo4IMW6PAAoTutMIgORjjQcUB2//e1v3QMPPKDbXKl0Bn2a+Nhjj42GAxovKd+HDh1adnSHPHSYmNGA1pE+Upq+8847Ft3mOnbs2LCDWDujxTo1emmTuMaA1ODLstx9993RcEDtOvXUU93KK69c9j5+5plnLHkYn/hQ8EbrWeOdp8DVMRAm5sFjrrnmsqBwTEQlg5qU66BBg2Ieu6k2v9I4OzohbV8lo6D0GB+rp9p1m222iYpzvWcPOOCA8J1p36XKe/3118cibP7EgDpvZKggQxe9W6uJjk8wSQ3nLKyZVxlJ7LvvvnUV2eh7v1Il6Xhn06RxNheyabLPN954YwjSGuooef/993O/j2TAYm3WuwiBAAQgAAEIQAACEIAABCAAAQhAAAIQgEBnEMB4oDMoUwcEEgI6u/maa64JP/rLxXGqsFMy7TK7+OKLQw4p4NIf+xvNK2WVGS1ceuml7ogjjmjjWlreBexHap0ZbGKKZrlYTxUuFl/tmipbm208oHob5VEkbxGW1Vh1dJwUeptuumk0HJBy9G9/+1uuQj9tS5H+moJQ5cmF+korrZQWHe6vvfbaGNaoS+hUgZrOuVhwzo3msz4dIQ8++GAsdu2113a77rprOJqg3vUTC6njJn2f3H777RWNB3TMwCmnnBLONZeiU2dup4YHDz/8cO4RGjIqMCWalKWp4cAuu+ziDj/88DatTZXG9e7mblNYhQApydP3VoVkVYPFy0RGU3nGJalhV7pTfuGFF3ZiKm7y7pJ1Da9ydYSAGR9IyZ5nTGP165ruEpfhz0QTTZRGByM0c12fRpjBl8IuvPBCt/7666fR4V675E2aPSYyTEjXvtUjowYT8ZKkxgMySqlkPGBH5yhPXhodKaLvzoknnlhJysSO0tB3oBkXpWwrGQnY0QplhVV4+PLLL8PYK1rvVr3X8rxhpGWm8yctVu/qWkQGMTIeMGPEIUOGtMmmY1NsXmuNpH9PtEnchAAZOx599NFNKKl6EakHgWzKeudCNn/6/Pbbb8cjSeQ5oohUG9eHHnooeDfJlq93iom8nyAQgAAEIAABCEAAAhCAAAQgAAEIQAACEOgMAn07oxLqgAAE/kdA7qRNdLZ2VnRmsMkWW2xht+HaaF4pSvbee+9QhgwETJlihetH7bQt2pUtUfhNN90U7ldZZZVwreef9AxrnTXdbGmUh9rRaN5GWVbqu5RdUmrp08gZ05XKzYbLYEXHE0ikJJaCuz3lpdIW6a/OFl911VVVTDCISZXICtNO7XPPPVe3QUwpbc+1XlNvGtXOjq61vKLpBgwYEHbfyjhIu1aldOoMwwG1W66tl1pqqdAFKbKvvvrqNt2R+3h5QbjuuuvCsQrWNil8pWCUnHDCCS716GCFpOO11lpruQ8//NCicq9STO+5554xTsrMVhUpCquJzj4/++yzY5J0x/rqq68ew7PHBSjigw8+cJdccklIIyWvrb3U+4COREgldVOeHUftWk/fYWk+1WWSp7DUmB1yyCGWxKVu7WNggZtDDz20jTcDKbiPP/74UKrmmBmqLL/88rGmww47LBhexIBfbqQMtu8sre88JbneJeecc042q5PBgilgdVyDiR2boGcZ1JlreIt/6qmn3Mknn2yP7V5TAyYltjWVZpSxTuppJZ0/6TyodrRQWt5qq60WH+XlIM8Y4cQTT4zeEDbaaKOmeLuIlXbBjX1HarwreW6ody5U68Y999wTomUQMuuss1ZLmhtX67geeeSRcZysIL0703WaZ5Bjadu7dtbfGe21g3gIQAACEIAABCAAAQhAAAIQgAAEIACBbkLA/7CMQAACCQGvQCrp04jst99+2jIYPl6ZULEIr9yL6fyP/iWv7Cl5hUHJK/BjuMrxCpc2ZTSa1ysCy8q+8sorS16RV/LuoEs77LBDjPOukGOd/miFGF6tPzFD5sYrM0peKR7KULvrkZ7Gsp6+15u2PVZeKRnHQfPKn+te2n///at+vCvs2IxG5o5l9udFxznkFX8lr9Au+XOxS5pb/riEGKf2NCrqj/rllZIlr3BptJim5fNKwaaVlS1os802i8yycfbsFZ8xjbj4ncAl7zEgrHd/5noYf4Xrk6535ffK8ZjXK3hLXvFa8sYGJc0h79a/LO6bb74pPf300zFM5al8vVc0xt6bScl7JiiLV5pUvKFSjE/DNZZKu95666XBHXrvvUTEtmyyySYlb/AU6vNGL6XLL788zC+1yT7+OIDYHrHQ/La4gw46qKR8mo9PPvlk4Gxx559/fsx32WWXxTyq3xv5lPzu9BB/2223xTjx8MYHJW+QUvIK8ZI/GiLGqVyvWIxlql1Wl1e0hzWnOel32Je8J5mSP44ixiud6k2lEfbeC0VZmV5RXfLu8sM88IZKJc0la5P6lYpXkMY4pbv33ntL4qnvnPPOOy/GKb/an0rKXPGa68qnvqZs1ae33norzRqYWZvUXr2bXn755ZLGxxhYfNrmM844I7bJxkrfdZZW12OOOabkXdGXvIK75I2bSt7bT1m80mjtmHijghjvFdUlfT9rnCX6e8TKHjlypGUJZad/D3hDrZI/eqiksVZfvXFJzCdOGg+TlI36nSdHHXVUzK/2tYKk88wfj1AaNWpU+PtJbSsyFyr1zd5P3tiqUpKq4dXGNR0Dja/WqvckUfLGPGEeajxt3It8P1ZtYAOR3hgstkvv+lTS8dHczxP7vtZ4IRDoSAJF/j/Xke2ibAi0EgHWSSuNBm1pVQKsk1YdGdrVSgRYJ600GrSlVQmwTlp1ZGhXNQLlv+JXS0kcBHoJgSIv8/aUuIbwsccea6OcsB+J7Tp69GhLXnYtkjeriLG67CqFiZRTJn7XYviRWEreRsW7Mo8/NPvdnTUX09NY1tzxBhK2xyqrpLDxrnb1bsLLWlLv3LHMUiBsueWWcQ7k1eld5pfqmRtWtq5StFiZ2223XRrVI+9rMR5Qx72L/MjF+GSvUt7IeCgVKR5TJXo2jz2b0lTj2156vVekGLO8UtCamHJOcamY8rYzjQf0brU2Vrqa4kvxGotUpOy1dlfKL6V/KuKYTSvDBYkMD1Ju2XSqS8YfCk+NB2Tsk1WkZvPKgMDaKgOv1OjGwuthnyoNs3Wlz94rQ9r9cC8F5AorrNCGQ5pP99l3kjK3108rQ2ObFX+0QNU603ndnvGAyj7ppJOqlqe2pMr+1IhE6864W5v1LNHfJBaWGg8oTgYu7THQ+I4ZM0bJo6TfCd3JeODMM8+MLIyJvpsk7XGw9HlzIYJJbtLvlqzRSpKs6m21cU3HwNqWd9U7UsYprSIYD7TKSNCO9ggU+f9ce2UTD4GeQoB10lNGkn50JAHWSUfSpeyeQoB10lNGkn50JAHWSUfSpeyOIsCxBf6XOgQCzSIwwQQTxKLyzju2SJ3t7ncIuuWWW86C4tUri4Kr5TXWWCOGpTdF8m677bZO52Gby+i0XK8ocX4nZFmcnZWcukdO89Ryn+b1O0pryRLS9DSWNXe8gYTtsUpdZTdQfMhS79yxeuS+++KLL3Z+N3R0iW9xuo4YMcJ5Q5k257mnaardP/DAAzG60pqJCXrRjY4p0XnoXrmc2+vddtvNeSWa8wq3sni52dbxFl6xGY7SKIv0D2uuuabzXimi63gbX5WXJ1tvvbXT8Q06BsFE492KonerVxKGM+uz7ZPbcnG5884747EQ3huB88rBmFTHU+h4lvQIA4v0iuDgVv/CCy+0oHDV+15HISjexBtXhNvxxhvPecWu84p5i4pXr4QO4+sNb0LYRBNNFOOmmGKK8B1iR4bECH+jenQm/TPPPBOPPdCRAt47Qpqs0L3anP2O0bEsp59+uvPGZG3KnmSSSZz3UOL8jv7cOac5rHHJ42qFeaMO55XIZRwVJ74qW2ObFW8cEeLy2nr44YeHNWB5dHxLe6I1oCMr0rG0PPqu94Yizr5TFa5jQ0y07tROcTKR+/32jjCYd955w5zL46py1llnnTCH5phjDis2XNP+pPdliVrwYfvtt3feSKysZXofpdLIXEjz2/3jjz9ut27ppZeO9/Xc1DquOlZI7c7KrrvuGr4/q/09mc3T0c92dITq0TsqlTQu7+iONC33EIAABCAAAQhAAAIQgAAEIAABCEAAAq1LoI+sElq3ebQMAp1PYOzYsaHSwYMHd0rlOmv5xRdfDHVNO+20buaZZ3a1/lBcJK937ey8G+NwTrKUJ6nSwjru3U2Hc3h11u70009vwXVd/Y5WN88884SznqXIuP766+vKX0/iIjyK5K2FZT39aPW0jfZXXzdaX96dezAWmHPOOXMVbfX0f+ONN3Y6D15KcCmpU+VFPeX05LT+2AH36quvuo8//jhw0rstVTZX67sUy1Jm68zsueaayw0YMKBi8i+//NJ5d+mhHp0Prk9WuVQxcwtF6Ox4zVH1RYY5UtBOPvnkdbXQ71oORhYffvhh4DDLLLNUZSEjBKtP79qsQlfx3v19eB8vvPDCTgr3WkTjp/e85oDew9NNN10t2epOI+OiCy64IOTz3iicFIf+qIzQZtWpuVPr2tQ81ZzT3NFczRq4pI3T9+W7774bFK8y7NA75pVXXnH+yAAn5rPNNltoS5on717jJL4qL6toz0tfLcwf2RHGUu3S96oMT1IDr2p51X5vje70vTnDDDOEdVctfRon7nq/6j04cODAYMAhQ5KeKHrXaIzVz0GDBoW/mZo1F4yXP07K+SNgwnfUsssua8ENXfPGVcZH3hNJKE8GN0suuaTzx20EIxOtb82bPEOUhhpAJgj0QgKd/f+5XoiYLvcAAqyTHjCIdKHDCbBOOhwxFfQAAqyTHjCIdKHDCbBOOhwxFXQAAYwHOgAqRXZvArzMmz9+F110kdMOZImUclKKIBAoSkBGDFIcSc455xynXakIBCDQ+QTyjAc6oxVZhXFn1EkdrUmgu82FPOOB1iRLqyDQPQnw/7nuOW60unMJsE46lze1dU8CrJPuOW60unMJsE46lze1dU8CrJPuOW69vdV9ezsA+g8BCHQ8gU033TR6NpCSF4FAMwjYXNLu3i222KIZRVIGBCAAAQhAAAIQgAAEIAABCEAAAhCAAAQgAAEIQAACEOi1BDAe6LVDT8ch0HkE5K763HPPDRXqLGm5s0YgUISA3LEfdNBBoQidpT7hhBMWKY68EIAABCAAAQhAAAIQgAAEIAABCEAAAhCAAAQgAAEIQKDXE8B4oNdPAQBAoHMIrL322vF838MOO6xzKqWWHkvgL3/5S+jbBhts4IYPH95j+0nHIAABCEAAAhCAAAQgAAEIQAACEIAABCAAAQhAAAIQgEBnEejXWRVRDwQgAIFTTjnFDRw40PXr18/997//dX37Yr/ErGiMwCSTTOJ23XVXd/DBBzdWALkgAIGmERgxYoTbaKONXP/+/V2fPn2aVm57BY0aNcp9/fXX8Vic9tIT33MJdLe5sPLKK7u77rorDMhCCy3UcweGnkEAAhCAAAQgAAEIQAACEIAABCAAAQh0OwJ9Sl66XatpMAQ6kMDYsWND6YMHD+7AWigaAhCAAAQgAAEIQAACEIAABJpNgP/PNZso5fVEAqyTnjiq9KnZBFgnzSZKeT2RAOukJ44qfWo2AdZJs4lSXmcQYNtvZ1CmDghAAAIQgAAEIAABCEAAAhCAAAQgAAEIQAACEIAABCAAAQhAAAIQgEALE8B4oIUHh6ZBAAIQgAAEIAABCEAAAhCAAAQgAAEIQAACEIAABCAAAQhAAAIQgAAEOoMAxgOdQZk6IAABCEAAAhCAAAQgAAEIQAACEIAABCAAAQhAAAIQgAAEIAABCEAAAi1MoM/bb79dauH20TQIQAACEIAABCAAAQhAAAIQgAAEIAABCEAAAhCAAAQgAAEIQAACEIAABDqYAJ4HOhgwxUMAAhCAAAQgAAEIQAACEIAABCAAAQhAAAIQgAAEIAABCEAAAhCAAARanUCfkpdWbyTtg0BnEhg7dmyobvDgwZ1ZLXVBAAIQgAAEIAABCEAAAhCAQEEC/H+uIECy9woCrJNeMcx0siAB1klBgGTvFQRYJ71imOlkQQKsk4IAyd4lBPA80CXYqRQCEIAABCAAAQhAAAIQgAAEIAABCEAAAhCAAAQgAAEIQAACEIAABCDQOgQwHmidsaAlEIAABCAAAQhAAAIQgAAEIAABCEAAAhCAAAQgAAEIQAACEIAABCAAgS4hgPFAl2CnUghAAAIQgAAEIAABCEAAAhCAAAQgAAEIQAACEIAABCAAAQhAAAIQgEDrEMB4oHXGgpZAAAIQgAAEIAABCEAAAhCAAAQgAAEIQAACEIAABCAAAQhAAAIQgAAEuoQAxgNdgp1KIQABCEAAAhCAAAQgAAEIQAACEIAABCAAAQhAAAIQgAAEIAABCEAAAq1DAOOB1hkLWgIBCEAAAhCAAAQgAAEIQAACEIAABCAAAQhAAAIQgAAEIAABCEAAAhDoEgIYD3QJdiqFAAQgAAEIQAACEIAABCAAAQhAAAIQgAAEIAABCEAAAhCAAAQgAAEItA4BjAdaZyxoCQQgAAEIQAACEIAABCAAAQhAAAIQgAAEIAABCEAAAhCAAAQgAAEIQKBLCGA80CXYqRQCEIAABCAAAQhAAAIQgAAEIAABCEAAAhCAAAQgAAEIQAACEIAABCDQOgT6tU5TaAkEegaBiy66yH355Zdu++23dxNNNFHVTv3444/u8ccfd2PGjHF9+/Z1iy22mJtnnnnCfdWMPrJI3k8//dQ9/fTT7vXXX3eDBg1yQ4cOdTPOOGN7VYb4m266yamP8803nzvyyCNrymOJxo0b53bZZRfXr18/d8UVV7j+/ftbVO61p7PM7XQnB2quivNUU03lNttss3ZrLzJ33nrrLffCCy+4d955x80999xu0UUXdQMHDmy3TiWoJ+/dd9/tTj/9dLf00ku7vffeu6bySdR6BN544w33yCOPhIYNGzbMTTfddA038j//+Y+79tprna5DhgwJn4YLI2OHEtD74YEHHgh1rLDCCm6GGWYI982cD+114Pnnn3f6SDbddFPXp0+f9rIQ3wkE0rmx+uqruymmmKJDa+3MOdehHekBhf/3v/91G2+8sfvhhx/c4Ycf3mvf4f/+97/dvffe6x566CH3wQcfhL/dN9hgA7fEEkv0gFGmCxCAAAQgAAEIQAACEIAABCAAAQi0DIESAgEIlBF4++23S/o0IldddVXJL+7w+eSTT6oWcdttt5Vmn332mN7yTTbZZKXRo0d3SF7/42vpuOOOa1On6vbK3NJrr71WtV5FrrPOOiH/AQcc0G7abIJ68vYGllk+XfG8ww47hPH0CtWq1ReZO59//nlpu+22y513a6+9dumrr76qWHcjebX2tI40r//xj39ULJuI1iZw5ZVXxjnz4IMPFmqs3un2jh05cmShssjcsQRuvvnmOFZ33HFHrKyZ88EK9YZGpTXXXNMe49Ub/8U2/PTTTzGcm64lcMYZZ8Rxee6555rWmM8++6y0xx57lK677rqyMjtizpVV0I0etA7OOuus0v77798lrfYGr3Hs9XdBLaK/abW+vdFJLclbPo36rb/V7bvMrtdcc03Lt70rGljk/3Nd0V7qhEBXEGCddAV16uxuBFgn3W3EaG9XEGCddAV16uxuBFgn3W3EaK8IcGyB/+UFgUAzCNx///1hV1QtZd15551utdVWc9rVJvGKzvDRvVekOv9jZ9iZr+esFMmr3VojRoyIRU4zzTTx/tVXX3W/+c1v4m7LGJHcaMfXDTfcEEJWWmmlJKb9W+36VV71dZ999qmaoTewrAqgkyKPOeYYd/bZZ9dUW6NzRx4yhg8f7s4777xYz0wzzRTv5clixRVXdF55E8PsptG88qLwl7/8JRSz5ZZbuu+//96K5AoBCEAgEDjwwAOdPFro+wbpvQTGjh0bPD6ddNJJud9DvZdMec+XXHJJt+OOOwbPQeUxnfMkj0KS5ZZbzg0YMKDdSm+99VY311xzOW+M67755pt203eHBPL2pb/VTcyLzgILLGBBXCEAAQhAAAIQgAAEIAABCEAAAhCAQFMIYDzQFIwU0psJyA32ySef7JZffvmaMHz77bdu/fXXj2mvvvpq53cTuS+++MLdfvvtMVwu5D/66KP4rJsieXVMwaGHHhrKk9HAs88+6z788MPgAlZKZIkMF7baaqtwn/fPo48+GoPrcZGqvm299dYhr5S6lX747U0sI8h2bryRl5O7Xl2bJVLU61iN/fbbr6Yii8wdv1PR3XXXXaEe/ej/8ccfB+WD2rDeeuuFcM2ro446qk1biuT1ng6c5rl+aD/++OPblN1VATJk0DxH2ifwq1/9KhxzoqNOpp9++vYzVEkx6aSTxrJkJIV0PwLNnA/q/T//+c8AIe94oWWXXTbOFx0phPRcAnIDb39rZY+naPac684Un3jiidD8LKPO6pP31hWqWnXVVWuq0oxza0rcwYn0N5w+RcXeWSrnySefdN77RvjMO++8RYsmPwQgAAEIQAACEIAABCAAAQhAAAIQKCcg9wMIBCDwPwL1uJF58cUXS4sttlgbF6J+lZUqHVsgt6+K18fvIvpfxb/c+Z3YMd4r9cvii+T1Z6LGcv1ZqWXl6mHPPfeM8ZVcveuoArVbrubrEb+jL+STK3m/Ayw3a29jmQshJ1Aud8V8qaWWyomtP0guwb1SPY61zcVqxxY0One8orysrq+//rqswXKD7BW5uXOjSF6r5LTTTotlf/nllxbcpVfv6aHkPS+UvEFDyRtSdGlbqBwCrUig0rEFzW6rvsf0/tP7EOkeBDri2ILUHf4FF1zQPUB0QSvtb4XNN9+802uXu36rX+NVi5x66qkxz8svv1xLlg5J440uYju8IWWhOvR3Gu+s2hHW8/+52kslJQR6FgHWSc8aT3rTMQRYJx3DlVJ7FgHWSc8aT3rTMQRYJx3DlVI7lkA//yMEAgEINEDAK7vdggsuGHPKFbt2x9rurBiRubnxxhtjyCabbBLv7UbHGci1v7wAeOWn23vvvZ3tfGw0r1fSOn8maqhi9tlnd3I/m5U//vGP7sQTTwzB55xzjsvzLHDLLbeE+Fp3fimx6rZd5RtttJGbeOKJQxnpP72RZdr/zrr3ihG37bbbxurkCeBf//pX3HUZI5KbInPnmWeeiWXL08Ekk0ySlOxcv379Qnt22mmnMN81RzUPJUXyhgL8P+uuu67bddddQ9mXXnqp23nnnS2qy67affjuu++Gda21vc022zj1vxm74eXRYNy4caFvM888s9MOUXkXefzxx512184yyyxu6NChuWvQG3a4Tz/9NOQdPHhwSC830YMGDXLLLLOM69+/fxtmqktr158n7eacc04n18k6MqI90XEUatNbb70VvDDonaR36RRTTFGWVa6m1W6J9SdNoP6+8MIL4fgXeTeZY445nD8POtdLQcpGHikmnHDCtKh4r7F55ZVXQttmmGEGN//88+fWrQxp+8RMovbqO+CDDz5w8803X2CS984LiTvwH42N+qzx0856je9TTz3l/BngbsYZZwzzbdppp81twXvvved+/vnn4CFG30Xa4Somel9oHLIizzl6jyiN2Gos88Yrm091PPbYY2H8NB6am3nlW76Ud7XytRtX/VS7NC7aPW7jo7L03SrPJ/LkI9Guc7mul1i5WgtiNsEEE7hKnFSG+izvJhpjzRW5Sdd7LU9sTGz+aXxeeuml8K7T3JcLcrWz3p3dVm4jY522s57+pOvJmNX6rjH++rsmPcIm2xalkyiN/Q2Upql0L+8ub775ZpgD77//fvjesbU4/vjjl2XTehc/Ez1rLkw++eRu4MCBZWvc+mlp7ap5PGbMmFCf5pLehapv6qmntiRlV70jNJetDkXqXaj3hsrSPNB7rNI8KiusEx68IWxcK6rO1otYTjfddKEFzZqDlbrz4IMPhii9jxZaaKFKyUK4/mbRuNt3hwL9jzThPWhrz94l1gf/X233+uuvh3ed7vVdsuiii9Y176o2qmCkvZM1tyXibu8sefLSp6PHoGAXyA4BCEAAAhCAAAQgAAEIQAACEIBAdyPQsbYJlA6B7kegVkuwhx9+OO4m0k4sr2woeTfwMSzP84D/wb2k3ff+PVF1J7l30x3L8a5XA8QiedOddf7ogoqD4n+wDvVqZ3RW/I+XsU1eMZONrvh81VVXxXx33HFHbrrexjIXQoXAZnoeOProo+NYyOuF/5E9es6o5HmgyNxJd/7dc889uT30P3jHNnlFekxTJG8sxN94xXcoX3Na/W2GbLnllsH7hnYu1/LxRjOxWnn18Iql2Ge9C/TxxjolrRV5XGhU9K6w8ryhT2mdddaJzxau98/ll1/eporzzz8/ptU6tfS6Ks8DDzwQ82gXZyWPK/JS4ZU2MW164w0nSv6Il/gOTOvQ/WGHHVY2RldeeWVsh94Rqah/XhEU49Oy5M3CK2XT5CW91y2N1kFWvPIvjKWlSa8aL694z2YpXXbZZbFMve9XXnnl+Jzmv+iii9rk7egAzXe1QUy98VZuu0aMGFHSmGTFvqMOP/zw0oorrliWN/U6o93AWgtpX+1e7xNv2JEtOj7L+403GmmT1xsolLJz0TJVmw9Ko3mbt7bUJrXTG3SEorxxXJt6rd1///vfQxpv7BTT6Ls3FfV73333jfGWV1ex0zrOExsTjce1116bm3+FFVYo6Z1Yj1i5jYy16mmkP0XeNan3AHkcypO99tor8lH7TNK83kjEgsPVGy+Udthhh5gvHRfdi5M/Gqosj831bFqNg6S9OXffffdVnHN6/3oldll9etD3nOrT2vJGN7nrQG31hjVt8lYLOOGEE2r6Pkq/s7zCvFqRIU7fX1k+9uwNwUKaonOwvUbY38TeuLC9pCXv2r9ie/2xWSF/+u7Wd4X97Wv90lXvklq9HFRrVDM8D1T6rlM7zUNZR49BtT62alyt/59r1fbTLgh0BgHWSWdQpo7uToB10t1HkPZ3BgHWSWdQpo7uToB10t1HsHe2X+doIxCAQEKg1pe5fnDcbLPNSumP3+0ZD6hs+3Gy2o+g3gNATGcK9yJ50x/AL7nkkqS35bemqFYb/a6/skj7sVUKn3rEFJj6kf6HH37IzdrbWOZCqBBoY9KMYws0hgcddFDJ7xyMtZkSuJLxQJG5kyrgpJytJLYm1BaTInmtDF1PP/30uJbqVcak5aT31X7It75kr2l+KWylpNT7I5tOZUsJ6HfApllquk8Vemm5UoJkFbV+J2dZmanCNk+hZsZQo0ePbtPmbNnqQ56Bkd55abtUT7Yu74Uhtiude2l7ZYCRlqP6sm1QfKq8Tt+fI0eOjHXo5tlnny0rT3lNEZPWc+GFF5bls3ei0lRSWlv+zjYgyGu/ONkxIdauPEOK7JhYWl2lNJdoPWfryBsD7y2njJke/C7rNuOutqX12L19/ylfpfmgOI2N5bFrtkz1XUenyHjG0mSvUgZL0vdPanTkPVy0mWvZelRm3ve78arGV3mVLq0zNKjKP1Zu2pdax7rR/hR511QzALBu1ms8IOPN7DhoPuax8V5PrJrceHGUEYuk2pw799xz28yjbH0a66zhkRkPqJ725kI97vZlxJrOgVruH3300cii0s12221XsVz7my7bb9Vd6xysVG8abuVXMsxJ01aam2qTDKIk6bs7HQP9DZI+qw8ySikizTAeyDNusPE99thjQ/OMkYU3ewyKMOiqvLX+f66r2ke9EGgFAqyTVhgF2tDqBFgnrT5CtK8VCLBOWmEUaEOrE2CdtPoI0b48An39jwsIBCDQAAG5QvY/QAZXxbVml2ttE7kYriSp+25zJV4kr9+5F6uacsop4332JnU5LhfGqfgde+FxrbXWSoOr3su1sVyfS4YNG+ayLoMtc29jaf3u7KtXVrsjjjgiuDKvte4icyedQ9Xmnf+BPjQndTNcJG/at+WXXz4+3n///fG+yM1vf/vb4Mpf7vxr+fgd6WXVyS350ksvHd4fcm/vf/yP7rvlEvqQQw4JzxtvvLHzO7TL8tbzIK5yhe13YgaXzF4RG45EURmrr766kyvkPJG7cK9EcWeffbbbf//9nVcYh+MIFK5jFkxOOumkcCyJ3D3LxbtX+IUo9WH33Xe3ZOF63XXXuYsvvjjcq11qi95pGnPd2xw488wz3SOPPFKWN/ugek1uu+22cDSD2qDjE3RMhYnVZ895V7Xbe0uIUX7ncnBpr7K+++47l9a19dZbhyMnYuLkRm77/U5i9/zzzzs7mkLHUZik5VhYZ1698ULgpKMLxMobO4TqvcGbu/POO6s2ZZ999nE6ymb48OHOKyhD2j322COy0JzQ95TK9UrvMK+tQK+Ed19++aU9BvfnOk7EXNIff/zxTsdYyOW95qm1K2ao4UYu3zU2Jt5rSSxT/fWK4BDldxGHo4A23XRTGc46vwM7hGvu6VkfS2tlZa9+B3Q4ZkHKKC1+AABAAElEQVTh3qAruKpX2/Vdl64vzb2bbropmz08W9+9Ej1w8ApY540W4tqU6/xbb701N28tgfWMdTP6ozY1+q6ppT+1pNGxNHrvSLzhRpyPWscff/yx854nYjHibqJ4zQsTHe2jeaDxqCY6LkVz20TvLbmUV3l6p1l9GmuvfA/zw9KmV8XvtttuweW83htaA+mRUVp3tYqOOqjl+yhNk/7NV6kebyQRmFi83gG2Xir9TVfPHLRyK129AUV816Tf55XSzzbbbKF9eg+YqAy1+eCDD7ageNUYaC1rHes4HX0v+d38IV5zasMNNwzvtZihC250PIraryMtJJojNgbeg0xui5o5BrkVEAgBCEAAAhCAAAQgAAEIQAACEIBAzybgf3xAIACBhEARS7D2PA+k7vnzdnxaM7zSIe700o5gSZG8qbv6rPtvq1PXPffcM9ab7njTLkjbjeWVdWmWqvfaceffoOGjsuuRnsqyGgOvnAvu4LX7zT7GXRwtLL1WK6+WOJWlsit5Higyd1I37v4s54rNUd1qg/pqUiSvlaGrVwTEOagyW1XkGl1ryzxN2LrR1Suea2p2dsdlnqeFdCetNwyI5aaeB7wiMBzDEiN/ufGKl8iyUpu88j6mueuuu2IR3lghhuftdvVKuxgvF9WStK2p5wG1T1w0d7OineWK11xKXezrvW5MU88DqQt7ubbPE68YjHnlLcIk3b2qOlV3Knpv2txW3dod3VmS7kL1Cvo21XpFf+xTlmP6zpEXnKxoXI1lyjhNl7rl//Of/xyj0l3/5sUgRvobr6yLZasOr5CP0ZXmg9y1W3uOO+64mN5u5Bre4rWD10RtV7jGLit5ngdSd+ja1Z53xIhc6VtdGgNz667y0zGRR5Ss3HDDDTGvjpSoVdJy6xnrIv0p8q5ptucBfbcYA41lytwYfvvtt5GtPFCkkh7No/dQKpXmXOrK3ytp0yzxXke42Fywv+MUmXoeWG+99WJ6u9HxGpav0veype3Mq7VJHg6yYvyVpp45mC0n79m8B2XHLS9tGpYefZT+Pas06btb7ztvQJBmDffpOyB73EWbxL8EyNNK+veZ7lOvAXpvZOO94Uul4tqE2/eJjjnKSkeOQbau7vJc5P9z3aWPtBMCRQmwTooSJH9vIMA66Q2jTB+LEmCdFCVI/t5AgHXSG0a55/URzwP+ly4EAp1FQDvLTCaYYAK7bXOdZJJJYph2JUqK5PU/rsfyqtXrf0SN6axeBWhnnnZnSbRrrVbRjlCTmWee2W6bci3Co0jeoiyrdd6fKx92imu3uH2Mu/JZWHqtVl4z4or0V7uQTfr2rfx1k847S18kr5Wh6+STTx539HpX+mlUS92PN954btVVV3Ve+RB2eaeNS9diGl7tXp4FFl988TZJtHvcKxlCeLrjNk2oHbWp9xOLs53UGi/tWM6TdOe/V/jHJJqzEnlhGDp0aAy3my222CJ4XNAuV9u1a3HZ6wILLBCCVKY/wzrs9LU0endq9692u4tle+KPj4hJ5PEhT7Sz3phV2qWvnfjpe1vl9OvXL3hwsDLl5aCzRWMlbwpZ8UqsyFkc0/WWpk13V1t4yqASM3kX8IrckCVNrx3bJtpxnRV55Km0kzab1p6feeaZcKu+7rjjjhYcr/POO68777zz3Mknnxw+/k/5GFfPjT8uIyb37s9d3nepV+5F7wzyIOCV7DFPevOnP/0pfQz3Cy20UAxL3/sxsJ2bese6Wf0p8q5pp0s1RcuTizwj+SNV3DXXXOP69+/fJt9EE00UvVrIQ0AR0fy59957QxFaR/LokyfeSCkG67s9T7xRZZvgaaedNr5vuuKd0aZBdQTUOwdrKdq8XnnDulqS151G77BJJ520Tb70PeSNgtrE5wXI60T695nuX3311ZhU74NsvDweNFM6Ygya2T7KggAEIAABCEAAAhCAAAQgAAEIQKB7EOjXPZpJKyHQMwhIkWlS7Qfs1M2z/ahZJO+AAQOsWldNEZkejZAqwvxO05BfbrmtPbHAKjf+nPQYa8q3GFDwpgiPInmLsqzWbSnc0rFXWh37INe5+kE4++N5NYV8tXrqiSvS31QBLYONSu21Iwqk4DEpktfKsKvcGMudfCVFnqXryqsYXHHFFcFNfradgwcPrrtpldw7m0Jbis1KxwPMMcccberT+ImhiZSneZIam8jVsuT999+PLsV15EOeqF2HHnpoXlSbsPXXXz8q7w466CCnj9w460iVVVZZxS288MJt8lQKMMW23k+aJ3ki19ziqWNqtBY1Vun8VJ48ZgpPx06u7dsTKSZ1xEOl74dFF13U6ZiXWmXZZZdtY9RgeVXWJZdcEh6l4Jp//vktKlyl/E+/ByxSLsBN/vrXvzq/Y94ey6469kEiV+wmZrCismeYYQYLLrvqSA/vQaAsrNqDXI1LpLjPa6/itt12W10KSXqEyJJLLlmxLB19oLkiGTNmjJtnnnnK0krhrPmelRlnnDEGVTLmiAlybuod62b1p8i7JqcbdQfJeEAGRWZUpHmn+az3qK6afzpSQmtXUss6rNYIHc9hZanveWOp/HPNNVcwoFHadA2kZc8666zpY7zXu0jvaB3p0Z2k3jnYXt+8x4h4hIf+/uwIqWQQO+ecc8bq7L0VAyrcaDw32WSTslgdm2F/Q+vdkH3vZd8PZZkbeGj2GDTQBLJAAAIQgAAEIAABCEAAAhCAAAQg0AMItP31sgd0ii5AoFUJaEeZiSlM7Tm9pnGm6C6Sd/rpp4/Fp2XHwF9u0jPnrV5F3XLLLSGFFHP1iH40NWm28UARHkXyFmVpPPKuZ511VptgKUS1o1KKMSmXO1uK9DdVhskwJatwtb6YkcnUU09tQa5I3ljILzdmPKBHKSMmnnjibJK6nqUAr6QMyitIRhGVdhdKKaFzrbXjPhUpV//f//t/Trve0/mapql2n/LLpjMvINrd/N5775WxVlopN7PiXWnHIOU74ogj4nOlG1Myp6ya8R7Q7vLPP//cHXDAAbFqfxSC00dhYqezrXfeeWcnxWIlkaLelICzzDJLpWQhPFXyyaNKdi5PN910ufkrnQmem9gHaqexvENUEp3XXo/xgI11XnmpEsu79m9jPDDffPPlZSub+3Y2eG7CXwI1X/yRDW7KKacMY6TgarzTdlUrV3HffPNN3NlbyfijvTJqjU+/z6qtr9RgJGsIpLrSuZTWnbdjPo1v777esW5Wf6qxsDZVete016d64uVFRPPx1ltvrSdb3Wk1l02q9V1p9C7VO6aS8lnvqjyZcMIJ84Krhul9Z0YrVRMmkffff7/zxwEkIcVubbzzSknXdd77Ji9PauCW50knL0+9YdW+k/yRA+H98uSTT9ZU7AorrOD0SUV5zXjgwAMPdMOGDUujm37f7DFoegMpEAIQgAAEIAABCEAAAhCAAAQgAIFuQQDjgW4xTDSypxBIlaOpoj7bv/TH6YEDB4boInlTxVY14wFT4qpCMx5QW6SUk9T7o2e6I09u2ZspRXgUyVuEZTP731llFelvqiyQsjercFUfUgXuVFNNFbtVJG8s5JebdB6m99l0tT5LIShlWK2STaudsddff73zZznHtWVlLbXUUsFo4A9/+EOu+21L1961mtLcdoSrDHm0yEqecUXqUUDKFu0Ob0/M8CTd6ZuW017+avH777+/82fWh6MJdDyBXEGbSFmn4xMee+yxqsq0aoysLLumO4DzlLzNfr9ZvUWv1frY3jzImxvZ9viz37NBVZ9lSJNdD9kM9RhcpEfQpPMsW2YznlOFbrV5nHr36cy5Uu9YN6s/9dZby1hU45uXf9SoUW6DDTZoE+XPlw/vqt///vfh+A7t5i8qKbdqfVc99t6otJaa+d7QumpvbWX73oiHi2wZ6XM1Hu29b9Jy7N6U7jKoyltLlq6jrjI2lKR/m3RUXc0qt9lj0Kx2UQ4EIAABCEAAAhCAAAQgAAEIQAAC3YsAxgPda7xobTcnoB+KtdNMyq3UBXi2W+lOXXPFWyRvqgB+6aWXstWFZylh7Dxq7Ti185zvu+++EK92L7jggrl5KwWa8lDx1YwlKuWvFl6ER5G8RVhW60+rxhXpb2oA8Nprr+W6hU935sqNukmRvFaGXW13uRQ49SgmLX/2ussuu4Qdz9nwSs/pj/lyky+3+1klz9Zbbx12yjdrF6iOCqgkY8eODVHaVWlGQpXSWng6Hsp31VVXWVS713RHuDwdVJKnnnoqeIbQrvR093al9HpP6SNvAxpjnUOuM8/Njf7ll18ePCRU2umtcqVclOGB5mc1efPNN2N0anwUA5t0I+V6pfPRVUU9XgeUvpqyNI1baKGFlLwmmXfeeeMRIBdffHH8rqgls4xjND7mlSIvT7U5kk2vNa2P1tM777yTjY7PmvNyYa9duTpiohEjIrmhN1EbU7fmFq5r2o5BgwalUR16n45ntqI0zsa6Wf2p912Tvg8rKa+rGTlm+6ajflLDAXkd2XzzzcOuf33XS2SkljLIllHPc/o+kReSamLvlfRvoWrpi8RJwZ6+p2spK/1+ryV9e2mqMU7jbA62V54MwyQrr7xye0kbjtf8zeMmYyRr89ChQxsuv7MzWpvz6k3jah2DvHIIgwAEIAABCEAAAhCAAAQgAAEIQKDnE8B4oOePMT1sMQI681QKLimsdHZu9qxs7XSSQkYil7epoqrRvFKYmNHCpZdeGhRq2fPn5V3AfljUmakmOitYsuaaa1Z1AW7p02v6w3SzjQdUT6M8iuQtwjJl013ui/Q3VYRL2bzSSiu16fa1114bw1K3xEXyxgJ/ubEjA1IldjZNPc9STjUqWvNmOKA1ueeee7qtttoqrM9Gy8zLJ3fUu+++e5soKeVsTev4hVpFSjgdnSGjJynpVU6eJwm5Qv/Tn/7ktPaXWGIJt8UWW5S5qL/nnnvcYYcdllutzoqWgleeDVIFbJpY7yh5bJDbaykMN9tssxAtltoFr4/Ot7/gggtCuFyZp8q+tCzdSxmvd7EZdKmPWdFRArfffnsIlqI6fSdn0xZ9llI7ff8WLU/zoNJRHebeXezqUW7qjG7L+9BDDznt6s4THS/x/fffB6MhGXiob1rjMh7QGtBcyuOduirPKzcbtvDCCzuN88MPP1xxXh533HFh3iivDJbSd0G6IzpbdvqcKttlBFTJeMCO+VHeSmnScpt1X+9YN6s/9b5r0h3kOs4mT1JPInnxaZh5RlKYDLsOP/zwNDrcpwYp1TxUyMigPZHBlf09pfeC5o+MfrLy+OOPx3f9/PPPn41u+rP+RtOno6Uao3rnYLW2vv322/FIkkrvmGr5a43TO2yRRRZpk1zvFJO8eItrtWszx6DV+kZ7IAABCEAAAhCAAAQgAAEIQAACEOg8An07rypqggAERGCPPfaIIPLOuE/PtZfiLZVG8+rH+r333jsUJeWbKX6sbP0YnLbFztxW+E033RSSrbLKKpa85mt6HrCUfc2WRnmoHY3mbZRlo32XkkIfnRfeFVKkv1KYrLrqqqHZMohJFTgKlALx3HPPjd1KdxcWyRsL9DdSnEohLUkVhiGgi/7R7msZTWgt7rvvvk03HFC3tG7zzmk+6aSTYq9TY40YWOVGxwSYSBmcJyNHjgzKYb1PzBhJbr5tbKXgNW8maX4ZFdg4pbuI0zR2r3PNR48e7fbaa6+guLNwuw4YMMBugyFCfMi5WW211WKo+pTnLv3EE0+MSkAZJzSyaz1W0sk3WmPnnHNOm1rvvvvuoHBXxO9+97s28dUCbE0rzW677eZSN/2WT8dynH322cEQTp4UjFnqXeSggw4KO8Itj64y9NEcqkdWX331mPy0006L93bzwQcfuEsuuSQ8yljB3gPmhUSM0uMPLF/2uvzyy8cgGcDk7Y6X4s6+X2UEk2ccEQtp8k29Y92s/tT7rkmNjsxQMkWh74R6/l4w47C0jPRexgIy0jKRMVAqNjcVljemaVq7X3fddcOtjI7y5pzq1NEqJuutt57ddturDKck1QxB652D1WDoO0EiTzfVDMAqlZGOq45NqiRHHnlkfL9bGo3fIYccYo8uNWaMgTXe6Bgg+zvO3jk1Zm0oWTPHoKEGkAkCEIAABCAAAQhAAAIQgAAEIACBnkHAKwcRCEAgIeB3O5X0aUT2228/bVsLn08++aRiEV55GNN5hVXJKzdK/kfrkle4xXCV43+YblNGo3k//fTTsrKvvPLKkv8RveR3+JZ22GGHGOfdeMc6/c7QGF6tPzFD5sYr4kr+R9NQhtpdj/Q0lvX0vTPTarw117ySq2K1jcwdK8yfWRznkFemlbzyuOSVjSXNLb8zPcZ5RYtlidciea0Qv6sw1qH11dXi3XR3WBP8jurYV42pV/aU/C7v0jfffFMaN25cKV1TyyyzTMnvCo9tOf/882Nev+s3hqc3XikR17PK97v+S94td8mf6x3GdaeddoplKF7vNZP0XaI4f6RAySt0QhvURrVV4foorUTvKAt78MEHraiS2m7hXilXuvnmm0tqm98BXLruuutinMpU2yR6p1ser5yOZXmlcSl9p3rFeMkf31LSOHmX5CVvZBTzaf764wti3ssuuyzGaV7nyVFHHRXTaHw6S9RW66+uRx99dEnvcL/Tu5S2W4zUz1RsLPwu5jS47H6dddaJ5XvFWukf//hHGEt/LE7p2GOPjXGq+7bbbot5xdt7mIjx3lCtNGbMmPBO8Dt9S97bToxTXu8lI+atNB80v9P+eqOEkjdUKnkFYMkb0JTsHafyNM9Nttlmm1iXN+IpjRo1Ks7Z7bffPsala9YrFGO42uq9cIT1JbbnnXdejMu2XXVaG1dccUVrQtlVbJRPH7WtVrFyLW89Y91of4q8a7x3kthPtdkbYoQ1p7HyXgPK4hSv94TJGWecEeOfe+65EPz000/HMKXX+0B/2+h7xnslKHljpLJ4pUkl7YtXVIf3jjeuCUkqzTn9bWbrROVp/ugdo7midq2wwgqxTm84Fd5NVmc67zTmeaI5onI1tq0i6TzzhkHhXWvv1zRO7a5nDlbqn94NKssbiVVKUjU8fc95w7eS9/gVxkaZ0jjVob9/9L2n/vgjVUr6HlC4Pnl/m1StuAMj1U61SX87ZaUjxiBbR3d7LvL/ue7WV9oLgUYJsE4aJUe+3kSAddKbRpu+NkqAddIoOfL1JgKsk9402j2nr+W/oPWcftETCDRMoMjLPFXOVVO2P/bYY2U/PNuPlOnV76zN7UORvFnlRlqf7vVjuHerHuv1O24r/lAZE7Vz490Ixx9h/S7wdlL/L7qnsfxfz1rrzhRr1YwH1OJ65471UsqRLbfcMs6B7JzTs5TBeXOjSF6rP1VkZpWklqanXFMlWB5nC5PSM/t+qsV4QJykVEuVZlZm9mrKt5RtOhbZ9PbsjxuIWSop7ryHgpraIAWRid7rVkdqPKB4v8s5KnYtTfYqIygpuVNJFVCtbjyQ7Y896/skKza+1YwHxHO++eaLTK287DXLWnVpraeGQ9k8Vr/CazEeUJm1zMvNN99cSaOceeaZbdqv95ykkvGAlNKpYjjbdnv2RxfEeuzGlHsdbTxgbche88a60f4UedeIh/dY0YZ92t5Uedue8YC+J6QcTvNn7zWnTPGqOCmITaTwT+ec4vUsqfQOUtz/b+8+wOyqyoUBr4SQ0AxFeknoJHSkGBCRIsECYoGIIkoXvaCCIIjXn3IpAtJLKEqxIhFRAblUS0S4IB2RDkmoIqAxFEHIf7513fvumTkzmZnknDln8q7nGXZfe+13nTMhWd/+VjVQqfP9iu34rERwS7W0a/BAMZhfPFssI1goSvHZrh6rt17vM1i1KdZjEL+4vvo7oDjem2UEcRR1FMsIXIpS/d1dHKu3jGeOINhWKcVnuDfBA/WeJ/b1tg9a5Zlnpx2z8/e52bmvawm0k4DvSTv1lrYOlIDvyUDJu287CfietFNvaetACfieDJS8+86OgGkLav+SohCYUwIjRowoqxo6tPuvV6QLr73dmrbccsvy/GKl9o+DqTYQkrbffvtiV4fl7Fwbc4FHyvDa4GGHOmMjUpLX3uDrcKyY57ua2rvLhbPYUb025krvbRlslr197oE6r5rit14b+vrZKeoYMmRITl1+xhlnpNqATLG7XB5yyCE5BX29OaNn59riBpE+PUp8r0aPHl3sHvTLI488Ms//3flB43teG4xJ73znOzscqqZTrq53OKm2EXNPP/TQQ6m7qQVizu34PVJvjuro65i2IPqic6kNRKdIU73nnnuWh6pzo5c7aysxV/sf/vCHbuf3rmUSyFM21DIjVC/rdn3s2LE5TXrMl16v1N6yz+1eZZVVOhyutq+63uGkAd6oDVSn2oB4l+9e9EEts0fqaeqKnj4Ho0aNyv38zW9+s0vd8cjRn/Hd+8Y3vtFFIL7rP//5z1NtIK/LsbCOP/+KUnWtrhfHi2V83iLVfXUKg+JY/N6JqRsuvPDCYlde1gIE0j777NNhXy2TRoftzhsLLrhgdqu9AV93upFaMFb+ftVrR+FZLDvXPbvb/enr2Xmeor19/V0T15122mkpplDp/GdCpKiPaRBq2ZCK6sspL8odnVaKPydiCo16JX6n1IIi08knn1wejmlPihJ/9sV3IVLLFyVSv8cUBj195mLqgqi3Oo1HcX0soz21LAgp0tZXS7X/o+3tUuIzXxu07tDceP5q6c9nsHp9sX7bbbcVq2nzzTcv1/uyEr/jYuqU6mesFjTSpYpaRoIU7e5cDjjggPz/Lj39v3znaxq9Xfx/cU+fyznVB41+FvUTIECAAAECBAgQIECAAAECrS0wJCIPWruJWkeguQJTp07NN4zBkWaUmJP9/vvvz7daaqml0gorrJB6+4+Vs3Nt7c3j9MQTT+Q5viOYoPoP58Vz11KF57lgY77XZZZZptjdp2XMHbvGGmuk2puKKQaGisHcPlXSy5Nnx2N2ru2NZS8foS1O6+/zxh838f2qpRRPMYC46qqrdviH/Z4evj/XxmDiWmutlautvVmfam989nSLtj8W3+ciMKiWLj/Vsnek2hucqfYGZl6Gd/yOmVOl9kZm/h1Sy+iQllhiiRycscgii/Sq+tobz3mwN9oX7Vp66aV7dV3nk6KeCGaIebiXXXbZ/Lump4GVztd33q69xZw/ozEoFs8SntU52juf36rb8efIU089lQfFrrvuusgylZ2effbZ3E8rrbRSmpMDl7VpMVIMvM8333y5/vic9ab++F1Sy+iQwn399dfvMtDaH9/4TEVbnn/++TxXegQNzTPPPN1WNX369BQu0d/xOe7tn79RYS0Ff4oByag//p+h9gZ2t/dp1IE52de9fZ459bsmPpfx/wbx58Laa6+d/WfHKfoyfh/Fc6y44or5p6e+r94r2lJ7EyDF/7PE75LOg/7Vczuv17IX5M9cfA/id1n83ujL9Z3ra+Xt+F7VskHk/2csfjfOyc9gPHttypt0xx135P8/2GKLLWaLI/omPhMx8B7/Hxt/PtSmzUm1TCS53gho22yzzVJtSpf8Z2UE1EQQSzXoYLYa0KSL53QfNKnZDb1Ns/8+19CHUTmBBgn4njQIVrWDSsD3ZFB1p4dpkIDvSYNgVTuoBHxPBlV3zjUPI3hgrulqD9pbAb/MeyvV+/Muuuii8o3iGDiOf5hXCDRaoDYPdaqlys+DHPG9Lt7aa/R9B6r+egN6A9UW9x1Ygc4DSQPbGndvpMBA9LXfNY3s0fareyA+g7OjVC94YHbqa4Vr260PmmHm73PNUHaPdhfwPWn3HtT+Zgj4njRD2T3aXcD3pN17UPubIeB70gxl95jTAkPndIXqI0CAQGeBXXfdtcxsEOmjFQKNFoiU0xMnTsy3OeKIIwZ94ECjPdVPgAABAgQIECBAgAABAgQIECBAgAABAgQIDH4BwQODv489IYEBF4g5fs8///zcjqOPPjpFal+FQCMFTjrppDzlRsx7vPfeezfyVuomQIAAAQIECBAgQIAAAQIECBAgQIAAAQIECAwKAcEDg6IbPQSB1hfYcccdyzlmjzrqqNZvsBa2rcC0adPS8ccfn9v/ve99L0XwikKAAAECBAgQIECAAAECBAgQIECAAAECBAgQINCzwLCeDztKgACBOSdw+umnp0UWWSQNGzYsvf3222noUPFLc05XTYVABA/sv//+aZNNNknrrbdesXvQL2PO4+uvvz4/55gxYwb983rA7gUmTZqUZsyYUU4X0/2ZjrS7wED0td817f6pmbPtH4jP4Ow8wXbbbVf+WTlY/h+h3fpgdvrPtQQIECBAgAABAgQIECBAgEDjBYbMrJXG38YdCLSPwNSpU3NjR40a1T6N1lICBAgQIECAAAECBAgQSP4+50NAYNYCviezNnIGAd8TnwECsxbwPZm1kTMI+J74DLSjgNd+27HXtJkAAQIECBAgQIAAAQIECBAgQIAAAQIECBAgQIAAAQIECMxBAcEDcxBTVQQIECBAgAABAgQIECBAgAABAgQIECBAgAABAgQIECBAoB0FBA+0Y69pMwECBAgQIECAAAECBAgQIECAAAECBAgQIECAAAECBAgQmIMCQ6ZMmTJzDtanKgIECBAgQIAAAQIECBAgQIAAAQIECBAgQIAAAQIECBAgQKDNBIa1WXs1l0BTBDY9Y0RT7uMmBAgQIECAAAECBAgQIDDnBW750j/nfKVqJECAAAECBAgQIECAAAECg1xg2KhRowb5I3o8An0TmDp1at8ucDYBAgQIECBAgAABAgQItJSAf+toqe7QmBYTKP7dw/ekxTpGc1pKwPekpbpDY1pUwPekRTtGs1pKwPekpbpDY3opIPNAL6GcNncKPP3tpebOB/fUBAgQIECAAAECBAgQaEOB5Q5+vg1brckECBAgQIAAAQIECBAgQKA1BIa2RjO0ggABAgQIECBAgAABAgQIECBAgAABAgQIECBAgAABAgQIEBgoAcEDAyXvvgQIECBAgAABAgQIECBAgAABAgQIECBAgAABAgQIECBAoEUEBA+0SEdoBgECBAgQIECAAAECBAgQIECAAAECBAgQIECAAAECBAgQGCgBwQMDJe++BAgQIECAAAECBAgQIECAAAECBAgQIECAAAECBAgQIECgRQQED7RIR2gGAQIECBAgQIAAAQIECBAgQIAAAQIECBAgQIAAAQIECBAYKAHBAwMl774ECBAgQIAAAQIECBAgQIAAAQIECBAgQIAAAQIECBAgQKBFBAQPtEhHaAYBAgQIECBAgAABAgQIECBAgAABAgQIECBAgAABAgQIEBgoAcEDAyXvvgQIECBAgAABAgQIECBAgAABAgQIECBAgAABAgQIECBAoEUEBA+0SEdoRnsKvPjii2nSpEnpy1/+cvrkJz+ZDjrooHTrrbd2+zB//vOf0+mnn55++9vfdnuOA+0h8NBDD6Wrr746TZw4MX8G7rrrrvTaa6/NsvF77bVX+uhHP5oef/zxWZ7b3xPiMxb3uOqqq/pbRZ+uO+aYY/L9Lr300j5dFyffeOON+dojjzyyz9cOxAWnnXZabu9///d/D8Tt3ZMAAQIECBAgQIAAAQIECBAgQIAAAQIECBAg0DCBYQ2rWcUEBrnA3//+97TZZpulhx9+uMOTbrrppmncuHEd9sXG66+/nnbaaaf0wAMP5CCD973vfV3OsaP1Be6444504IEHpsmTJ3dp7JJLLpnOOuustPPOO3c5VuyIYJN//OMf6Ywzzih2zfHlH//4x/SLX/wiB7TM8co7Vfivf/0rnXjiifmZvvjFL3Y62vPm9OnT0+67756eeuqp1Ndre665cUfXX3/93P+33HJLevDBB9Oiiy7auJupmQABAgQIECBAgAABAgQIECBAgAABAgQIECDQRAGZB5qI7VaDS+C4447rEDiw7rrrpvhZe+21uzzoG2+8kSZMmJADB7octKNtBO6888600UYbdQgcWH311dM73vGO/Ax/+ctfcj/HZ6NaIiPFD37wg/TKK6+kFVZYIR9afPHF080335z23nvv9NJLL1VP79f6+eefn04++eT0zDPPpCWWWCLXEctHH300HX744R3a3K8bdHNRBCpEMESUzTffvJuz6u/+xje+kQMHPvjBD6bx48fXP6nF9m655ZZpxx13TNHXhx56aIu1TnMIECBAgAABAgQIECBAgAABAgQIECBAgAABAv0XkHmg/3aunMsF/vSnP5UCMYC64YYbltvVlUhvH6nqY6BYaV+ByBxRzShw1FFHpa997Wtpvvnmyw8VGQWin2MgPQbFY0B8gw02yIPjp556aj4nggyKgfaNN964DCaJAenPfOYzs4Vzwgkn5KkQDj744LKeXXfdNQ9yx44Y7H7ve99bHptTK9dff32uarvttksLLLBAr6uN6T0iS0OUY489ttfX9efEt99+O182ZMiQFD+zW2KahsjscMEFF+R+22KLLWa3StcTIECAAAECBAgQIECAAAECBAgQIECAAAECBAZcQOaBAe8CDWhXgWnTpuWmR6r6eoEDRTr3MWPGCBxo106utPu2227Lg/OxK4IE/t//+39l4EDsi8CCiRMnxmouP//5z/Ny6NCh6YADDshZKYrAgTgQ01csv/zyabfddkvLLrtsPre//3nrrbdyPRGEUC0RMBABC/Gm/Lvf/e7qoTm2fuWVV+a6PvzhD/epziI7QxFk0aeL+3jyPPPMk+LnyCOP7OOV9U+P7CIf+9jH8sEIJFAIECBAgAABAgQIECBAgAABAgQIECBAgAABAoNBQOaBwdCLnqGpAk8//XSKwdp4Ez3K0ksvnaZOnZrXF1544RQ/UfbYY4+cqj5v1P4Tg8Tf//73i83ZWs6YMSPde++95WB2pM6Pn0UWWWSW9d5zzz3pkUceSX/729/SqFGjUgQ3xLKnEnPSRwaFJ598Mg90r7XWWjn9fr23uN9888307LPP5uqWWmqpFG99//a3v80p+9///veXPtX7Rar9+++/P0VAxqqrrpqnfnjnO99ZPWXA1ydPnly2IaYaqFc+/vGPl7vvuOOOvB6BAWeccUYKl2222aacPiAG9W+55ZYcQFBeVFsJiwg8iSkH5p9//hR9HXVFny233HLpXe96VwrXaqkOjEdGhOog+c9+9rMU7tVSfIbjsxrtiMwZ0b8RfFBMq1A9v7v1v/71r+n222/Ph7feeuvuTuuy/89//nMqgg4iO0Ln0h+DznX0Zzusiykk4jvx4osvphtuuCH3RWRtmHfeectqP/WpT6UrrrgiReaF+E6tt9565TErBAgQIECAAAECBAgQIECAAAECBAgQIECAAIF2FBA80I69ps0DKhCDt/FGd1FiEH/06NF5M1LHRyr7KC+88EJeRmaCSG8eA7NzIngg3tiOtPj1SgQonH766WnRRRftcvi6665LBx54YJkqv3rC5z73uRRt7zwo/dhjj6WvfvWrOUV79fxYX3PNNfPzhEe1PP744zkgIfb96Ec/yh4RfFCUb3/727nO2I4B62hzMQBdnBPLCRMm5Df5F1tsseruHtfjGc8555wez+l8cJ999km9eWt+q622SjH9QARGjB07tnM1eTsCBIoybFjHX69f/vKXc+BAZBuI6Qxi8DxS/UcAwciRI4vLcoaA8IoggOHDh6evf/3r5bFi5ZBDDsn91Tl449JLLy0DB774xS9mi2233TYPbq+77rrF5bn9kQXh6KOPzm0qph6IEyJLQZE1obygm5Vf//rX+Uh8xuPz0NsSwRRFqWcfWRL6a1DU25/lT37yk1QEhlx77bW5f4p6IsjiqquuSsUUBR/4wAeKQ+m0005LF110UblthQABAgQIECBAgAABAgQIECBAgAABAgQIECDQjgIdR7fa8Qm0mUCTBeLt/mrwQPX21cHceBP5E5/4RB4cn2+++dL06dOrp/ZrPQYpq4EDK6+8cn4zvWhPBCfEgG4M+sfAc1FiYHPPPfcsNvMyBnyL6y655JJ03333pd/97ndpwQUXzMfjber111+/wzUx8F0EAkTa/Ziu4cILL8xZFjqc+O+NT3/60112F4PMMRC7ww47dDgezxPBB1Euu+yy9Jvf/CZP+RDZCHpTom0xF31fyuabb96r4IHNNtssxU9P5Ze//GV5eOONNy7XI0iimNLgzDPPzAEC8WxhGAEW++23X3lusXLEEUcUqyn6KuzvvPPOvO+kk05KkZnh0EMPLc+JbBgRVBAlgkTinOjDm2++OR177LEpBsY7l5h6oXOJTBS9LTHAHiUyLlQ/+z1dH+384Q9/mE+JQIWesmX01aCn+/b12E477dThkgi2iIwbRYlggvh+X3755eniiy9O559/fofMBMV5lgQIECBAgAABAgQIECBAgAABAgQIECBAgACBdhEY2i4N1U4CrSIQA8EzZ87Mc9hHm8aNG5e3Y18xeBv7403+eKs9AgfmRIn0/8VgbwwmxyB7BAk899xzeQqDSKseJQbQi0Hd2I6pBqqBA/HW9xtvvJGef/75nA4/MiJEiYHpGNiOEunb483/osTg9ssvv5ynFXjttdfyG/jFsai7CCgo9lWX0dawiMHsGCyOFPoxELvXXnuVp8Ub/fHWfjxP3DuyHUSJ4IavfOUr5XmzWonMCeHQl5+VVlppVtX26nj4FO2OC6pvpq+xxhp5ID8Gwz/60Y+mZZZZJn33u99NP/7xj+sGDlRvGIEfRV+FTxF8cdhhh6XItFCUmLrg7rvvzoEDkVEgtmNAOzIYzCrjRWTLOO+889LOO++cg12KOntaxuexmHpg/PjxPZ3a4Vhk6oj+jxJZEXpTemvQm7p6e060MQJAzj333Jz9IQI1Ok+lUX3uYpqK3tbvPAIECBAgQIAAAQIECBAgQIAAAQIECBAgQIBAqwnIPNBqPaI9BLoReOKJJ8pB1xiwLwa9443vddZZJ6dOj0wAMVj/pz/9qXyrP+a8L0oM4B9wwAHFZoopByLNfzEgHYO0MSgdb8M//PDD+byY0qB4az52RDBEDOiPGDEiRWr8KJFav7sB6hhg3mSTTfJ5Bx98cF7+13/9V5n1IAIHqgECkfkgpjaIAIcIZrj66qvzvPMRdDCrEinw66XBn9V1s3v81Vdfzd5FJoeDDjooZ2Wo1hvTBlSnDoiB+lmVcNh9993L0yIzQ3iussoqed9//ud/puoAdgxun3LKKeX50a9FwEm5s9NKnB+ZCqLsu+++nY52v3n//feXfVgEoHR/9v8diewWRVlhhRWK1W6XfTGYMmVKDoDorrIIBLjmmms6HN50003zVB8ddtY24nsUQTj1pgApzq22P54rAokUAgQIECBAgAABAgQIECBAgAABAgQIECBAgEC7CggeaNee0+65TmDZZZctn/nss8/OUwp85CMfSfPPP3/eH4EA//znPztMVxAH7rrrrnw80qx/4QtfyOvV/4wdOzZdcMEF6ZVXXkmrr756zqIwefLk8pRq6vhyZ20lMgccd9xxOetA9Q346jkxmFoEDlT3F1MLRJv233//6qFyPYIcikwIMTDbm+CB8uImroRbBALE9ABRwjCCI2a3hE296QwigCACOmKqidtvvz1nbJh33nn7fbu+BAxUb3L99dfnzfe85z09DrBXr4n1YlqKWF9uueVi0W3pq8Hrr7+eTbqrMII7igCP4pzFF1+8WO2wDJeeAgfi5JhKoigR3KMQIECAAAECBAgQIECAAAECBAgQIECAAAECBNpZQPBAO/eets9VAhEkEIPUkyZNyhkIdtlll/z8O+ywQ9p+++3Tdtttl0aPHt3F5Lbbbsv74q33eKu/Xtl777077C6CAWJwtMhw0OGE2sbw4cPTVlttlTMOxIBspO3vPNg6ZsyYzpelSHcfqeuLEin265W33nqr3B1TRbRiiSkjIoAjBvGjxMD+TTfdlBZYYIHZbu4WW2zRbX9ttNFGOXggbhIZItZaa61+3S/eru/uMzGrCn/1q1/lU/qa6aE6eF8NiKl3v74aRLDBpz/96S5VRSaNKBHYEXbVElk76pUiu0O9Y8W+avBDTC2hECBAgAABAgQIECBAgAABAgQIECBAgAABAgTaWUDwQDv3nrbPdQIXX3xx+te//pWuuOKK8tkjjX0x93wECJx88snlW/rxVnwx/UB3QQBlRf9emTlzZvl2dr1ghOr5K664Yrn55JNPdgkeqDcAGwPuRYl55Xvzlv6DDz5YXNLj8oc//GHd7Ao9XXT88cen//iP/+jplLrHok3bbrttzrwQJ4R9pMSf1YB43crq7KymxO98uHqPBx54oN/BA8V0FZ3rn9X29OnTc5BEnNfXjBDV4IEIXuip9NUgXOIz0LkUwQMRcHPUUUd1Plx3OwJBZlUWW2yx8pTqc5U7rRAgQIAAAQIECBAgQIAAAQIECBAgQIAAAQIE2khA8EAbdZamEog32n/605+mSOMfAQM///nPO6SBjzf6Y0A7piGIbALxln9RIuigN2XIkCG9OS2f88Ybb5Tn1kudX++t9mpGgchssPnmm5d1dLeyzDLLdHeow/6YtiECEvpSXnvttb6cns+NaR3ijfviXpH14bLLLksjR47sc13dXdBTP1TbHG/b97f099piWou4PqbL6Eupfk7mmWeeHi9thkF3Dehr9oihQ4d2V5X9BAgQIECAAAECBAgQIECAAAECBAgQIECAAIG2EBA80BbdpJEE/k8gBim33HLL/BNZBiKl/4033pgiK0GRPj/ero7ggRjcjZ8Y5J42bdr/VdJpberUqTlDQbzpHdkCNt5441zXI4880unMjpvVed67mzu+4xWpw5v5kUb+xz/+cedT+r29ySabpEMPPbRP13dOYz+riyO7wIc+9KHytL322iudc845eRqHcuccWHnqqae6raV6bL311uv2vEYduPbaa3PVO+64Y5pVAEDnNlQDQeJz2VMAQ/U5O9dTPTYQBtGeCFYpSk9ZEopzLAkQIECAAAECBAgQIECAAAECBAgQIECAAAECrSwgeKCVe0fbCFQE/vCHP6RLL700Rbr8CBoo5mpfY401Uvzss88+acyYMTkTQQysPv744ylSr6+//vop3hS/+eab08svv9xlaoG4xUknnZTOOuusfLe4LuqJQIRIxR7ZDCIlf+cyY8aMnKY/9scAcG+DB2KwOeqLem+66aZu2/TCCy+kz3/+82nppZdO48aNS5/97Gc7N6HL9tprr52+9a1vddk/p3bceuutHQIHjj322HT44YfPqeo71POb3/wmvfrqq6neG/BXX311PjfS/lcH4ztU0MCNYtqMyLjQ11KdcuGll17qMXiglQ3iuaP9RRmIfijubUmAAAECBAgQIECAAAECBAgQIECAAAECBAgQmBMC8izPCUV1EGiCQGQHOPPMM9P1119fd972YcOGpYUWWqhsSTGffKTXL0pc37k899xz6ZJLLsm7Y1B/pZVW6jBAHoPj1akGiutPOeWUMm1/zCUf9+9tiTfWi9Ld4PsxxxyTYpB64sSJqfqWeXFds5dvvvlmiiwDRTnttNMaFjgQ94i38s8777ziduXyhhtuyMEgseN973tfub9ZK5HpouiPrbfeus+3HTVqVHlN1NVTmVMGEUQT34d602j0dP9ZHXv44YfLU0aPHl2uWyFAgAABAgQIECBAgAABAgQIECBAgAABAgQItKNA70f72vHptJnAIBKopsq//PLL02GHHZZ22GGH9O53vzsPNEdgQLzNHyUG54tAggMOOCBnFYgB3yOOOCLFIPgXvvCFtNRSS6W77747r8cgbZQvfelLefnJT34yXxPZCuIt97jPiSeemDMSPP300+n0009Pp556aj53+eWX7/Mg+te+9rU8MB6ZDc4999wUWQyibTEAGxkPfvjDH+apAPINav+pDtoX+5q9DN8HHnigvG0EXXQX+BAnxbNE5oTZKQcddFB644038hQU8847b/rlL3+Zdtttt1xlZHuIjBHNLpEtIkoEmlSzCPS2HdWAg1tuuSWNHz++x0vnhMFjjz3W4z36ezCygRRlq622KlYtCRAgQIAAAQIECBAgQIAAAQIECBAgQIAAAQJtKSB4oC27TaPnRoGRI0emSZMmpZ133jk//gknnJDip3OJN6xjIL4okfb+4osvTh/72MdykEG80R8/nUsMSheD9EOGDEkXXHBBHtiNoINrrrmmnKKgel3cK1LLr7jiitXds1yPwIYf/ehHZZt+8IMfpPipV+JN+wh0GOhSBEsU7ZjV9Ajvete7Zjt4IO4VQSLx07mEy0C87R6fhSgf+chHOjepV9urrbZaWn311VO8tR+fnepntbsKWs2gaGdMBxIlAmhiygyFAAECBAgQIECAAAECBAgQIECAAAECBAgQINDOAqYtaOfe0/YBFRgxYkS+f7wR3tfSlxT/1bp32mmndNVVV+W3vqv7Yz3eRI/Agvvuuy9tsMEGHQ5vs802+a356hQGxQlxXaTHv/DCC4tdeTl27Nh8zf77799hf7ERwQiRmWCVVVYpduVl1WP48OEdjlU3ok2Rtn7ChAnV3eV6ZDu48847U5w30OX1118vU/U3qy3bbrttDuCI/qmWeOM/pq7YZJNNqrv7td5T/9Sr8LXXXktXXnllPvT+97+/3im92vfxj388nxfBA3/961+7vaYZBtWbVz2q69VzivWXX365DKjp7jNcnGtJgAABAgQIECBAgAABAgQIECBAgAABAgQIEGgHgSEza6UdGqqNBJolMHXq1LTpGf8bGPD0twf+jffunvuFF17Ib2/HgG4M4Mfb/5ExYFYl0uA/8sgj6fnnn8/XxNvr88wzT4+Xvf322ylcIv37IosskmIO+UUXXbTHa/py8K233kpPPPFEevLJJ9MSSyyR36iP+8yNZYUVVsiBCjFwft1116X4FR1BFs8++2x2WWmllXrVz42wiykvok1Ron2zGmDvrg2PPvpoigwEUWI6iM4BKq1sUDzT+eefX2aW+POf/5yn9CiOWRIgQIAAAQIECAycwHIHP59v3sp/lxs4HXcm8L8C8ff7KKNGjfrfHf5LgEAXAd+TLiR2EOgi4HvShcQOAl0EfE+6kNjRBgKmLWiDTtJEAvUEYpA9fvpaYsB3rbXWyj+9vXbo0KE50CACFBpRInhh1VVXzT+NqL+d64yAkDFjxrTE4HRklaiXvaKvvtHXMU3G97///TRx4sQuwQOd62slg6Jtka0jyi677NISfVO0y5IAAQIECBAgQIAAAQIECBAgQIAAAQIECBAg0F8B0xb0V851BAgQINBvgcMOOyxf+8ADD6Qbbrih3/UMxIWTJ0/OU2rEvb/+9a8PRBPckwABAgQIECBAgAABAgQIECBAgAABAgQIECAwxwUED8xxUhUSIECAwKwE1lxzzXTggQfm0w499NAUU2O0Q4lpJL72ta/lpsZ0C+uuu247NFsbCRAgQIAAAQIECBAgQIAAAQIECBAgQIAAAQKzFBA8MEsiJxAgQIBAIwSOOeaYtPLKK+e3+H/yk5804hZzvM4rrrgi3XrrrWn55ZdPxx9//ByvX4UECBAgQIAAAQIECBAgQIAAAQIECBAgQIAAgYESGDZQN3ZfAgQIEOgqMGnSpDRjxoy05JJLdj04yPYssMACKYIGLrnkkvTyyy+XT9fKBtOnT0+RcWDXXXdNCy20UNlmKwQIECBAgAABAgQIECBAgAABAgQIECBAgACBdhcQPNDuPaj9BAgMKoFx48YNqueZ1cNstNFGKX6qpZUNdt999xQ/CgECBAgQIECAAAECBAgQIECAAAECBAgQIEBgsAkIHhhsPep5CBAgQIAAAQIECBAgQIDAXCrw0/0WSRuuODy99XZKM157Ky284DxzqYTHJkCAAAECBAgQIECAAAECfRcQPNB3M1cQIECAAAECBAgQIECAAAECLSTw5r9mpml/fSOddsUz6cb7ZuSWbbPOQun43ZZNKyw+PM07bEgLtVZTCBAgQIAAAQIECBAgQIBAawoIHmjNftEqAgQIECBAgAABAgQIECBAoJcCETiwydceTq+/UUs58O9y9R3TcyDBbSeunlZeekSx25IAAQIECBAgQIAAAQIECBDoRmDIlClTZnZzzG4Cc63Apmf4h6W5tvM9OAECBAgQIECAAAECbSUQUxVExoEIFqhXPrzhyHT2PsukV6f/pd5h+wgQIECAAAECBAgQIECAAIF/CwwlQYAAAQIECBAgQIAAAQIECBBoV4ENVxxeTlVQ7xliGoNFR85X75B9BAgQIECAAAECBAgQIECAQEVg2KhRoyqbVgkQmDp1arrlS/9Mvhs+CwQIECBAgAABAgQIEGh9gbf+b6aCHhvr73g98jg4FwnEv3tE8Z2Yizrdo/ZZwPekz2QumAsFfE/mwk73yH0W8D3pM5kLWkBA5oEW6ARNIECAAAECBAgQIECAAAECBPonMOO1t9I26yzU7cVxLM5RCBAgQIAAAQIECBAgQIAAgZ4FBA/07OMoAQIECBAgQIAAAQIECBAg0MICCy84Tzp+t2XTfMO7/hNH7ItjcY5CgAABAgQIECBAgAABAgQI9CzQ9W/WPZ/vKAECBAgQIECAAAECBAgQIECgpQRWWHx4uu3E1dOHNxyZgwgiaCDWY18cUwgQIECAAAECBAgQIECAAIFZCwyb9SnOIECAAAECBAgQIECAAAECBAi0rsC8w4aklZcekc7eZ5m06Mj5ckNjqgIZB1q3z7SMAAECBAgQIECAAAECBFpPQOaB1usTLSJAgAABAgQIECBAgAABAgT6IfDq9L+kp5+amuap/WuHwIF+ALqEAAECBAgQIECAAAECBOZqAcEDc3X3e3gCBAgQIECAAAECBAgQIECAAAECBAgQIECAAAECBAgQIJCS4AGfAgIECBAgQIAAAQIECBAgQIAAAQIECBAgQIAAAQIECBAgMJcLCB6Yyz8AHp8AAQIECBAgQIAAAQIECBAgQIAAAQIECBAgQIAAAQIECAge8BkgQIAAAQIECBAgQIAAAQIECBAgQIAAAQIECBAgQIAAAQJzucCwufz5PT6BuUbgxRdfTDfddFP6/e9/n5577rm03HLLpQkTJqRx48Y11eCGG27I919yySXT+PHjm3pvN0vp3nvvzT9hseuuu6YhQ4ZgIUCAAAECBAgQIECAAAECBAgQIECAAAECBAgQIJAED/gQEJgLBP7+97+nzTbbLD388MMdnnbTTTdtevDAHnvskZ566qm09dZbCx7o0Bu933j00UfTQQcdlM4555y0/PLL9/7C2plnn312Ov/88/M1u+yySxo2zB8DfQJ0MgECBAgQIECAAAECBAgQIECAAAECBAgQIEBgkAqYtmCQdqzHIlAVOO644zoEDqy77ropftZee+3qadbbQODqq69Oq622WrryyivTK6+80gYt1kQCBAgQIECAAAECBAgQIECAAAECBAgQIECAAIF2EPDKaTv0kjYSmE2BP/3pT2UNf/zjH9OGG25Ybjd7Za+99koxhcKqq67a7FsPivs9/vjjs/UcW2yxRRo+fHiuY+hQ8WOzheliAgQIECBAgAABAgQIECBAgAABAgQIECBAgMAgEhA8MIg606MQ6E5g2rRp+dCSSy45oIED0Ygjjzwyt8V/BkZg1113TfGjECBAgAABAgQIECBAgAABAgQIECBAgAABAgQIEKgKCB6oalgn0E+Be+65Jz3yyCPpb3/7Wxo1alQaM2ZMXvZU3VNPPZUeeuih9OSTT6Zll102rbXWWmmFFVZIQ4YM6XLZv/71r/TMM8/k/cU5r776arr77rvTgw8+mFZaaaU8DcE73/nODtc+/fTT6a233kqvv/563r/00kunqVOn5vWFF144xU+04+23306L1CJ7cwAAIDRJREFULrpoesc73tHh+tiIY3FOlDge53Uujz76aH6WZ599Ni233HJp9dVXT6NHj07DhnX9FRPPEc8zcuTItMgii3SuKm+//PLLub6HH344LbDAAtkmUvXXq6+/NnVv3Gln0dbCKu4VfX3vvfemsWPHpne9613lW/xx6cyZM3O7b7vttmy15pprpjXWWKNTrR03o2+eeOKJ/PkJvwUXXDDFdTGlRJEhIK548803UxyPrA1FmTJlSpp//vlTBIXMN998acaMGemll17Kh+NzGOfecMMNaYkllkjvfe9707zzzpuPx3kjRoxISy21VD436o36o3T3OZg+fXr+fMc5iy22WFpooYViVSFAgAABAgQIECBAgAABAgQIECBAgAABAgQIEBgsArXBLoUAgYpAbUB2Zvz0plx77bUzawO9M2u/D7r8fO5zn5v53HPPdammNtA+c8cdd+xyftQRdd1xxx1drqmlqi/Pnzx58sxDDz203K7e+ytf+crM2mB0eX1tULnueXHNCSeckM+rBQTkcyZMmFBeV12pDUCXdcR9q6UWMDFz6623Lo9X2xL1XnXVVdXT8/ryyy+fz99uu+26HKsFX3T7bFHfj3/84y7X9NemS0V1dhRtPe6442Z+5zvfmVlYVZ/zvPPOy1fefvvtM+t577nnnjNrgR5dan/++edn7rfffnXtov649zXXXFNeV5t6ottzjz322HxetLFoW3w2i/VYRtt/+9vfztx3333L/bVgiHzdgQceWO4bN27czFogQXnfWIn2Vz/nF110UYfjNggQIECAAAECBAi0ikBf/j7XKm3WDgLNFvA9aba4+7WjgO9JO/aaNjdbwPek2eLu144Cvift2GvabMLr2qiaQqA/ArUB1FQbAE8PPPBAeXm8AV6USy65JH3oQx9Kr7zySrErv7W+6qqrpl/84hflvtogcbkedW244YYp6u6ufOITn0i1gf+6h0877bRUG5Auj3X3Zn+c0DnDQWQo6Ev561//mp//pptuypfVBqdzxoGijn/84x9p++23TxdffHGxq8OyeNO92Blvtseb/NVnq3pGfZ/61KfSHnvsUVzSZdkXmy4X97AjXPfee+8UbehcPv/5z6cTTzwxbbzxxukvf/lL58PpwgsvTGeccUaH/ZFZYZ111knnnntuuX/llVdO1c9CZHv44Ac/mGpBCfmcyDDQXanXdzvttFOH06Ptkd2iWmp/BObNY445puy7W2+9NZ111lnV09Lhhx9efs533nnntPvuu3c4boMAAQIECBAgQIAAAQIECBAgQIAAAQIECBAgQKD9BQQPtH8feoIBEIipBmpvlJd3jsHhN954I9XeJk+1zAFpyy23zMfuvPPOdOaZZ+b1SBVfe7u/vCYG+WMQedq0aem1115Lp556anks6i6mCih3/nslBqhjoLn2Vnq+Z0yVcP7555enxWB9LeNB3o5pEWKAeN11183btbfK83bsO+SQQ8pr+rNy+eWXp9pb//nSI444IqfDj/tFe2LAvCjV5yr21Vvuv//+ZX3vec97chr/8IypAmpv0ZdTKsTzVYMvqnX1xaZ63azWi6CAcH7hhRdy26pBGrWMDLmKk08+OU8dEFNKXHDBBWW1p5xySrkeK9/73vfKQIMYiI+pBh577LH8WYj6a1kryvPPPvvsvB5TU0S/VQMRYsqK2PfNb36zPL9YiWCBCGiIAIWvf/3rKdrYeVqL4tyYGuLSSy8tNlMtE0GKqSiixOcsgieiRHBDLdNCXvcfAgQIECBAgAABAgQIECBAgAABAgQIECBAgACBwSUgeGBw9aenaZLAz372s/JOJ510UjrggAPyfPKxM96eP+ecc8rjRRaBH/3oR+nhhx/O+2NweOLEianIDBDz1demHOhwXQz4dlfi/h/4wAfyPRdeeOG0zz775AHf4vw//vGPxWrDlvGGelG++tWvpmHDhuXNaE9kB6hNzVAczkEV5Uadlci48P3vfz8ficCIG2+8MUWGhijzzDNPGj9+fPr973+ft+M/EWjQOXNBcbBRNhEYEM6LL754bls1Q0LcOwbnDzrooLTgggumyBIQmQoKgwg+KDJQvP322+nb3/52bm5kVoiAhEUXXbRofq4/PhtFue+++4rVPi2j7gi6iMwItWkX0re+9a0er99ggw1SfJaLEtdFu6tZBiZNmtShrcW5lgQIECBAgAABAgQIECBAgAABAgQIECBAgAABAu0vIHig/fvQEwyAwF133ZXvGqn6v/CFL3RpwdixY/Ob5/HGdvzE2+GTJ08uz4s39euVvfbaq0xdf91119U7JW277bZpvfXW63IsghaKElkOGl1WW2218hYxUF68qV7s/OlPf5pioPyee+5JSy21VLG77vKWW24p9x999NFpxIgR5XaxEtkTdtttt7wZWRmKrAfF8Vg20iYCFqpl5MiR+c3+Yl/0XedSBEDE/sgoECWmi4i3+a+88sp02WWXlUEn+eC//xPBB2uuuWbeev3116uHer2+77779nmgPzIOFFkzYjqKmFqhyLoQwQeRuUIhQIAAAQIECBAgQIAAAQIECBAgQIAAAQIECBAYnAKCBwZnv3qqBgvcdttt+Q4xoB1vmtcrMaD+5S9/Oc9bHwPGRTBApH6PFPT1yvDhw9NWW22VD8WgbUxr0LlUB+2rx6LeokSq/0aXD3/4w+UtYhA82rXKKqukgw8+OMXA81tvvZUHysuTelipZhXYbLPNuj2zGNiOEzoHK8S+RtlEP0ffdC7V+40aNarz4bTEEkt02RefhbXXXjttv/326X3ve1+esiICLK644ooU2Qw++9nP5mCLyMYQpb99GX3R1xJZHi655JJyiogicCCCMqJfFQIECBAgQIAAAQIECBAgQIAAAQIECBAgQIAAgcErIHhg8PatJ2uQQKSfL6Yf6C4IoPOtI/NAMRA7evTozoc7bK+44orl9pNPPlmuFyvLLrtssdphWW9wu8MJc3gjsh9EWvxqiWwAkd5/m222STEVQ0znUKTrr57Xeb14Kz/2L7fccp0Pl9vVAfp6mQcaZbPYYouVbehupV62hKFDu/8VG5koIoBggQUWSOuvv376+Mc/ng477LA8fUPxWenuXr3ZH9M/9KeE8VFHHdXh0lNPPTVPH9Fhpw0CBAgQIECAAAECBAgQIECAAAECBAgQIECAAIFBJdD9yNagekwPQ2DOCUQq/qL09q3weNu8t+WNN94oT5133nnL9WIl3g5vZunpGcePH5+ee+65NHHixFTNRFC076yzzkqRSeCll14qdtVdRqBBUSJjQXfln//8Z3momTb17lU2pB8rkyZNSltssUW6+uqrO1y98cYbp5g64Kqrriqnr+hwQh82IiihPyWMf/CDH3S49JhjjumwbYMAAQIECBAgQIAAAQIECBAgQIAAAQIECBAgQGDwCQgeGHx96okaLPCOd7yjTOs+bdq0bu82derUdMMNN6SHHnoop56PgeEojzzySLfXxIEnnniiPL744ouX641eqQYtVO81ffr06maX9aWWWirtt99+ecA7sgxcc801af/99y/Pu/fee9OvfvWrcrveSjX9/9NPP13vlLyv6l1vSoBuL2yhA+E5YcKEskXf/OY3cyaLCNKI6TBOOeWU9KEPfSg99dRT5TnNXImsA3feeWeHW1566aVdAgo6nGCDAAECBAgQIECAAAECBAgQIECAAAECBAgQIECg7QUED7R9F3qAgRCINPNRbr755vTyyy/XbcJJJ52UYq74MWPGpBj0jmWUSEkfA+r1yowZM/LgexyLIIVmBg90lx3gvvvu69LUGOiOt9E/9alPpYMOOqg8Hm+7f+ADH0hnnnlmTr9fHPj1r39drNZdVoMHrrvuurrnxM54I78oq666arHaVstbb721bG8EWRx99NEpnr+aUaIaQNFT5oeyojm08rvf/S4df/zxubaY9uCee+4pa/7iF7+Y6k2jUZ5ghQABAgQIECBAgAABAgQIECBAgAABAgQIECBAoK0FBA+0dfdp/EAJVFP0x0B55xKp/C+55JK8e911100rrbRSfpu8OO/www9P9dLzx1vn//jHP/Jpu+yySxo2bFhxScOWyyyzTK47AiEeeOCBDveJwIjDDjusw77YiHZddNFFKd5IP/XUU+sGQ4wcObK8bvTo0eV6vZWtttqq3B1vvtcLyPjNb35TpvlffvnlU7i2Y3n++ed7bHYEC1QDMiKgpFqqn4m//e1v1UOztR517brrrmUd0b9hHFNPRInP5Wc/+9m6n9vyIisECBAgQIAAAQIECBAgQIAAAQIECBAgQIAAAQJtKyB4oG27TsMHUuCAAw4o56Q/4ogjUqSef+aZZ/LA6h133JE+8pGPlEEAX/rSl3JTP/nJT6b3vOc9eT3mut9hhx3S/fffn6c0mDJlSh4wjrqixOB4BBg0o3zsYx8rb7Pbbrvlt/vjDfPLL788bbfddjmlfnlCZeVzn/tcubXHHnukiy++OD377LP5eSL9/iGHHFIe33777cv1eisRXFE8e2Rm2GijjVJkK3j11VfTiy++mL7zne+kaoDBd7/73TRkyJB6VbX8vrXXXrtsYwzMX3nllSmme4hpI/7nf/4nD+BPmjSpPCc8qiUyUhQlsgTEud1lsijO680yPqfFVAmxvsUWW+TLYkqK4nM7efLkdPLJJ/emOucQIECAAAECBAgQIECAAAECBAgQIECAAAECBAi0mYDggTbrMM1tDYFIzx+D5cVAbqTwX2655fIb+THwffvtt+eGxmD8XnvtlddjsPuCCy4ogw6uueaatM4666R55503rbjiivkN/jhxySWXTPGWfexrRtl3333L54i57iOoIQbzd9ppp/wcG2+8cXm82p6DDz44xbEocV0EECy77LL5ed797neXQQeRmn+DDTaoXlp3PYINtt5663zs8ccfz+sLLrhgnrphn332Ka+JqQvGjx9fbrfbSkx5seOOO5bNjkCThRZaKI0YMSKNGzcuXXbZZdm7mlnhoYceKs+v7v/FL36RJkyYkE444YTyeH9WfvKTn5TTTMR0Bccdd1xZTUynEFkIinLooYemu+66q9i0JECAAAECBAgQIECAAAECBAgQIECAAAECBAgQGCQCggcGSUd6jOYLbLPNNjnNf3UKg6IVEVRw3nnnpQsvvLDYlZdjx47N18SAer0SWQBi+oBVVlmlw+Hhw4eX29X1cucsVmJgOkoEKnQuMVh89913p/e+972dD6VPf/rT6aabbsrBBHGwqCfWI4DiV7/6VTrwwANjs0tZffXV84B0TOvQmywBEShw/fXXp7PPPjsHUHSuMAIVrr322tTZu+pRXe98fX+2i/qKZec6utvf+bzYLs4Niwg8KTJSdD53zz33TI899liHN/wjO0FRInjg3HPP7RDQ8eCDD+bDxT1io7peXFtvGdMVVIMz4jMbfVEtq622WoopNYrymc98pli1JECAAAECBAgQIECAAAECBAgQIECAAAECBAgQGCQCQ2bWyiB5Fo9BYI4ITJ06NdczatSoXtcXKecfeeSRFPPZR8aA0aNHp3hju6fy9ttvp7hXDBQvssgiKQbxF1100Z4uafixGTNm5BT4888/f86KMGzYsF7d880330yPPvpomjZtWlp44YVTpObvPADdq4oqJ73wwgspBsXDMfoipnIYbGX69OkppoiIZ43PTfzM6nNTGIR5XBsBHcsss0zdwJDiXEsCBAgQIECAAAECc4tAf/4+N7fYeE4ChYDvSSFhSaB7Ad+T7m0cIVAI+J4UEpYEuhfwPenexpHWFRA80Lp9o2UDJOCX+QDBuy0BAgQIECBAgAABAgRmU8Df52YT0OVzhYDvyVzRzR5yNgV8T2YT0OVzhYDvyVzRzR5yNgV8T2YT0OUDImDaggFhd1MCBAgQIECAAAECBAgQIECAAAECBAgQIECAAAECBAgQINA6AoIHWqcvtIQAAQIECBAgQIAAAQIECBAgQIAAAQIECBAgQIAAAQIECAyIgOCBAWF3UwIECBAgQIAAAQIECBAgQIAAAQIECBAgQIAAAQIECBAg0DoCggdapy+0hAABAgQIECBAgAABAgQIECBAgAABAgQIECBAgAABAgQIDIiA4IEBYXdTAgQIECBAgAABAgQIECBAgAABAgQIECBAgAABAgQIECDQOgKCB1qnL7SEAAECBAgQIECAAAECBAgQIECAAAECBAgQIECAAAECBAgMiIDggQFhd1MCBAgQIECAAAECBAgQIECAAAECBAgQIECAAAECBAgQINA6AoIHWqcvtIQAAQIECBAgQIAAAQIECBAgQIAAAQIECBAgQIAAAQIECAyIwJApU6bMHJA7uykBAgQIECBAgAABAgQIECBAgAABAgQIECBAgAABAgQIECDQEgIyD7REN2gEAQIECBAgQIAAAQIECBAgQIAAAQIECBAgQIAAAQIECBAYOIEhM2tl4G7vzgRaT2Dq1Km5UaNGjWq9xmkRAQIECBAgQIAAAQIECHQr4O9z3dI4QKAU8D0pKawQ6FbA96RbGgcIlAK+JyWFFQLdCviedEvjQAsLyDzQwp2jaQQIECBAgAABAgQIECBAgAABAgQIECBAgAABAgQIECBAoBkCggeaoeweBAgQIECAAAECBAgQIECAAAECBAgQIECAAAECBAgQIECghQUED7Rw52gaAQIECBAgQIAAAQIECBAgQIAAAQIECBAgQIAAAQIECBBohoDggWYouwcBAgQIECBAgAABAgQIECBAgAABAgQIECBAgAABAgQIEGhhAcEDLdw5mkaAAAECBAgQIECAAAECBAgQIECAAAECBAgQIECAAAECBJohIHigGcruQYAAAQIECBAgQIAAAQIECBAgQIAAAQIECBAgQIAAAQIEWlhA8EALd46mESBAgAABAgQIECBAgAABAgQIECBAgAABAgQIECBAgACBZggIHmiGsnsQIECAAAECBAgQIECAAAECBAgQIECAAAECBAgQIECAAIEWFhA80MKdo2kECBAgQIAAAQIECBAgQIAAAQIECBAgQIAAAQIECBAgQKAZAoIHmqHsHgQIECBAgAABAgQIECBAgAABAgQIECBAgAABAgQIECBAoIUFBA+0cOdoGgECBAgQIECAAAECBAgQIECAAAECBAgQIECAAAECBAgQaIaA4IFmKLsHAQIECBAgQIAAAQIECBAgQIAAAQIECBAgQIAAAQIECBBoYQHBAy3cOZpGgAABAgQIECBAgAABAgQIECBAgAABAgQIECBAgAABAgSaISB4oBnK7kGAAAECBAgQIECAAAECBAgQIECAAAECBAgQIECAAAECBFpYQPBAC3eOphEgQIAAAQIECBAgQIAAAQIECBAgQIAAAQIECBAgQIAAgWYICB5ohrJ7ECBAgAABAgQIECBAgAABAgQIECBAgAABAgQIECBAgACBFhYQPNDCnaNpBAgQIECAAAECBAgQIECAAAECBAgQIECAAAECBAgQIECgGQKCB5qh7B4ECBAgQIAAAQIECBAgQIAAAQIECBAgQIAAAQIECBAgQKCFBQQPtHDnaBoBAgQIECBAgAABAgQIECBAgAABAgQIECBAgAABAgQIEGiGgOCBZii7BwECBAgQIECAAAECBAgQIECAAAECBAgQIECAAAECBAgQaGEBwQMt3DmaRoAAAQIECBAgQIAAAQIECBAgQIAAAQIECBAgQIAAAQIEmiEgeKAZyu5BgAABAgQIECBAgAABAgQIECBAgAABAgQIECBAgAABAgRaWEDwQAt3jqYRIECAAAECBAgQIECAAAECBAgQIECAAAECBAgQIECAAIFmCAgeaIayexAgQIAAAQIECBAgQIAAAQIECBAgQIAAAQIECBAgQIAAgRYWEDzQwp2jaQQIECBAgAABAgQIECBAgAABAgQIECBAgAABAgQIECBAoBkCggeaoeweBAgQIECAAAECBAgQIECAAAECBAgQIECAAAECBAgQIECghQUED7Rw52gaAQIECBAgQIAAAQIECBAgQIAAAQIECBAgQIAAAQIECBBohoDggWYouwcBAgQIECBAgAABAgQIECBAgAABAgQIECBAgAABAgQIEGhhAcEDLdw5mkaAAAECBAgQIECAAAECBAgQIECAAAECBAgQIECAAAECBJohIHigGcruQYAAAQIECBAgQIAAAQIECBAgQIAAAQIECBAgQIAAAQIEWlhA8EALd46mESBAgAABAgQIECBAgAABAgQIECBAgAABAgQIECBAgACBZggIHmiGsnsQIECAAAECBAgQIECAAAECBAgQIECAAAECBAgQIECAAIEWFhA80MKdo2kECBAgQIAAAQIECBAgQIAAAQIECBAgQIAAAQIECBAgQKAZAoIHmqHsHgQIECBAgAABAgQIECBAgAABAgQIECBAgAABAgQIECBAoIUFBA+0cOdoGgECBAgQIECAAAECBAgQIECAAAECBAgQIECAAAECBAgQaIaA4IFmKLsHAQIECBAgQIAAAQIECBAgQIAAAQIECBAgQIAAAQIECBBoYQHBAy3cOZpGgAABAgQIECBAgAABAgQIECBAgAABAgQIECBAgAABAgSaISB4oBnK7kGAAAECBAgQIECAAAECBAgQIECAAAECBAgQIECAAAECBFpYQPBAC3eOphEgQIAAAQIECBAgQIAAAQIECBAgQIAAAQIECBAgQIAAgWYIDJkyZcrMZtzIPQgQIECAAAECBAgQIECAAAECBAgQIECAAAECBAgQIECAAIHWFJB5oDX7RasIECBAgAABAgQIECBAgAABAgQIECBAgAABAgQIECBAgEDTBIbMrJWm3c2NCLSBwNSpU3MrR40a1Qat1UQCBAgQIECAAAECBAgQKAT8fa6QsCTQvYDvSfc2jhAoBHxPCglLAt0L+J50b+MIgULA96SQsGwnAZkH2qm3tJUAAQIECBAgQIAAAQIECBAgQIAAAQIECBAgQIAAAQIECDRAQPBAA1BVSYAAAQIECBAgQIAAAQIECBAgQIAAAQIECBAgQIAAAQIE2klA8EA79Za2EiBAgAABAgQIECBAgAABAgQIECBAgAABAgQIECBAgACBBggIHmgAqioJECBAgAABAgQIECBAgAABAgQIECBAgAABAgQIECBAgEA7CQgeaKfe0lYCBAgQIECAAAECBAgQIECAAAECBAgQIECAAAECBAgQINAAAcEDDUBVJQECBAgQIECAAAECBAgQIECAAAECBAgQIECAAAECBAgQaCcBwQPt1FvaSoAAAQIECBAgQIAAAQIECBAgQIAAAQIECBAgQIAAAQIEGiAgeKABqKokQIAAAQIECBAgQIAAAQIECBAgQIAAAQIECBAgQIAAAQLtJCB4oJ16S1sJECBAgAABAgQIECBAgAABAgQIECBAgAABAgQIECBAgEADBAQPNABVlQQIECBAgAABAgQIECBAgAABAgQIECBAgAABAgQIECBAoJ0EBA+0U29pKwECBAgQIECAAAECBAgQIECAAAECBAgQIECAAAECBAgQaICA4IEGoKqSAAECBAgQIECAAAECBAgQIECAAAECBAgQIECAAAECBAi0k4DggXbqLW0lQIAAAQIECBAgQIAAAQIECBAgQIAAAQIECBAgQIAAAQINEBA80ABUVRIgQIAAAQIECBAgQIAAAQIECBAgQIAAAQIECBAgQIAAgXYSEDzQTr2lrQQIECBAgAABAgQIECBAgAABAgQIECBAgAABAgQIECBAoAECggcagKpKAgQIECBAgAABAgQIECBAgAABAgQIECBAgAABAgQIECDQTgKCB9qpt7SVAAECBAgQIECAAAECBAgQIECAAAECBAgQIECAAAECBAg0QEDwQANQVUmAAAECBAgQIECAAAECBAgQIECAAAECBAgQIECAAAECBNpJQPBAO/WWthIgQIAAAQIECBAgQIAAAQIECBAgQIAAAQIECBAgQIAAgQYICB5oAKoqCRAgQIAAAQIECBAgQIAAAQIECBAgQIAAAQIECBAgQIBAOwkIHmin3tJWAgQIECBAgAABAgQIECBAgAABAgQIECBAgAABAgQIECDQAAHBAw1AVSUBAgQIECBAgAABAgQIECBAgAABAgQIECBAgAABAgQIEGgnAcED7dRb2kqAAAECBAgQIECAAAECBAgQIECAAAECBAgQIECAAAECBBogIHigAaiqJECAAAECBAgQIECAAAECBAgQIECAAAECBAgQIECAAAEC7SQgeKCdektbCRAgQIAAAQIECBAgQIAAAQIECBAgQIAAAQIECBAgQIBAAwQEDzQAVZUECBAgQIAAAQIECBAgQIAAAQIECBAgQIAAAQIECBAgQKCdBAQPtFNvaSsBAgQIECBAgAABAgQIECBAgAABAgQIECBAgAABAgQIEGiAgOCBBqCqkgABAgQIECBAgAABAgQIECBAgAABAgQIECBAgAABAgQItJOA4IF26i1tJUCAAAECBAgQIECAAAECBAgQIECAAAECBAgQIECAAAECDRAQPNAAVFUSIECAAAECBAgQIECAAAECBAgQIECAAAECBAgQIECAAIF2EhA80E69pa0ECBAgQIAAAQIECBAgQIAAAQIECBAgQIAAAQIECBAgQKABAoIHGoCqSgIECBAgQIAAAQIECBAgQIAAAQIECBAgQIAAAQIECBAg0E4Cggfaqbe0lQABAgQIECBAgAABAgQIECBAgAABAgQIECBAgAABAgQINEBA8EADUFVJgAABAgQIECBAgAABAgQIECBAgAABAgQIECBAgAABAgTaSUDwQDv1lrYSIECAAAECBAgQIECAAAECBAgQIECAAAECBAgQIECAAIEGCAgeaACqKgkQIECAAAECBAgQIECAAAECBAgQIECAAAECBAgQIECAQDsJCB5op97SVgIECBAgQIAAAQIECBAgQIAAAQIECBAgQIAAAQIECBAg0ACB/w8moEIsn3EhmwAAAABJRU5ErkJggg==)"
   ]
  },
  {
   "cell_type": "code",
   "execution_count": 53,
   "id": "69dce2f5",
   "metadata": {
    "execution": {
     "iopub.execute_input": "2024-11-05T02:39:50.678476Z",
     "iopub.status.busy": "2024-11-05T02:39:50.677677Z",
     "iopub.status.idle": "2024-11-05T02:39:50.685603Z",
     "shell.execute_reply": "2024-11-05T02:39:50.684320Z"
    },
    "id": "RXpGkf1dMON4",
    "outputId": "0dfa617e-a86f-4e46-cb8b-7bba580ce9d9",
    "papermill": {
     "duration": 0.046313,
     "end_time": "2024-11-05T02:39:50.688049",
     "exception": false,
     "start_time": "2024-11-05T02:39:50.641736",
     "status": "completed"
    },
    "tags": []
   },
   "outputs": [
    {
     "name": "stdout",
     "output_type": "stream",
     "text": [
      "0.6810810810810811\n"
     ]
    }
   ],
   "source": [
    "#Comparing them with the true labels in y_test.\n",
    "print(accuracy_score(y_test, predictions))"
   ]
  },
  {
   "cell_type": "markdown",
   "id": "2df97853",
   "metadata": {
    "papermill": {
     "duration": 0.033495,
     "end_time": "2024-11-05T02:39:50.754571",
     "exception": false,
     "start_time": "2024-11-05T02:39:50.721076",
     "status": "completed"
    },
    "tags": []
   },
   "source": [
    "**RandomForest**"
   ]
  },
  {
   "cell_type": "code",
   "execution_count": 54,
   "id": "b02aeb6c",
   "metadata": {
    "execution": {
     "iopub.execute_input": "2024-11-05T02:39:50.826471Z",
     "iopub.status.busy": "2024-11-05T02:39:50.826061Z",
     "iopub.status.idle": "2024-11-05T02:39:50.915226Z",
     "shell.execute_reply": "2024-11-05T02:39:50.914035Z"
    },
    "id": "KV-Kyw__MReq",
    "papermill": {
     "duration": 0.127983,
     "end_time": "2024-11-05T02:39:50.918015",
     "exception": false,
     "start_time": "2024-11-05T02:39:50.790032",
     "status": "completed"
    },
    "tags": []
   },
   "outputs": [],
   "source": [
    "from sklearn.ensemble import RandomForestClassifier"
   ]
  },
  {
   "cell_type": "code",
   "execution_count": 55,
   "id": "6219e4db",
   "metadata": {
    "execution": {
     "iopub.execute_input": "2024-11-05T02:39:50.986366Z",
     "iopub.status.busy": "2024-11-05T02:39:50.985948Z",
     "iopub.status.idle": "2024-11-05T02:39:50.991701Z",
     "shell.execute_reply": "2024-11-05T02:39:50.990412Z"
    },
    "id": "WrL5mqguMUnm",
    "papermill": {
     "duration": 0.042894,
     "end_time": "2024-11-05T02:39:50.994023",
     "exception": false,
     "start_time": "2024-11-05T02:39:50.951129",
     "status": "completed"
    },
    "tags": []
   },
   "outputs": [],
   "source": [
    "rfmodel = RandomForestClassifier(n_estimators=500)"
   ]
  },
  {
   "cell_type": "code",
   "execution_count": 56,
   "id": "afc7282b",
   "metadata": {
    "execution": {
     "iopub.execute_input": "2024-11-05T02:39:51.064045Z",
     "iopub.status.busy": "2024-11-05T02:39:51.063554Z",
     "iopub.status.idle": "2024-11-05T02:39:52.061871Z",
     "shell.execute_reply": "2024-11-05T02:39:52.060712Z"
    },
    "id": "k6zngYE1MWgh",
    "outputId": "f3473168-7e77-49ca-e874-233148ecc862",
    "papermill": {
     "duration": 1.035776,
     "end_time": "2024-11-05T02:39:52.064548",
     "exception": false,
     "start_time": "2024-11-05T02:39:51.028772",
     "status": "completed"
    },
    "tags": []
   },
   "outputs": [
    {
     "data": {
      "text/html": [
       "<style>#sk-container-id-2 {color: black;background-color: white;}#sk-container-id-2 pre{padding: 0;}#sk-container-id-2 div.sk-toggleable {background-color: white;}#sk-container-id-2 label.sk-toggleable__label {cursor: pointer;display: block;width: 100%;margin-bottom: 0;padding: 0.3em;box-sizing: border-box;text-align: center;}#sk-container-id-2 label.sk-toggleable__label-arrow:before {content: \"▸\";float: left;margin-right: 0.25em;color: #696969;}#sk-container-id-2 label.sk-toggleable__label-arrow:hover:before {color: black;}#sk-container-id-2 div.sk-estimator:hover label.sk-toggleable__label-arrow:before {color: black;}#sk-container-id-2 div.sk-toggleable__content {max-height: 0;max-width: 0;overflow: hidden;text-align: left;background-color: #f0f8ff;}#sk-container-id-2 div.sk-toggleable__content pre {margin: 0.2em;color: black;border-radius: 0.25em;background-color: #f0f8ff;}#sk-container-id-2 input.sk-toggleable__control:checked~div.sk-toggleable__content {max-height: 200px;max-width: 100%;overflow: auto;}#sk-container-id-2 input.sk-toggleable__control:checked~label.sk-toggleable__label-arrow:before {content: \"▾\";}#sk-container-id-2 div.sk-estimator input.sk-toggleable__control:checked~label.sk-toggleable__label {background-color: #d4ebff;}#sk-container-id-2 div.sk-label input.sk-toggleable__control:checked~label.sk-toggleable__label {background-color: #d4ebff;}#sk-container-id-2 input.sk-hidden--visually {border: 0;clip: rect(1px 1px 1px 1px);clip: rect(1px, 1px, 1px, 1px);height: 1px;margin: -1px;overflow: hidden;padding: 0;position: absolute;width: 1px;}#sk-container-id-2 div.sk-estimator {font-family: monospace;background-color: #f0f8ff;border: 1px dotted black;border-radius: 0.25em;box-sizing: border-box;margin-bottom: 0.5em;}#sk-container-id-2 div.sk-estimator:hover {background-color: #d4ebff;}#sk-container-id-2 div.sk-parallel-item::after {content: \"\";width: 100%;border-bottom: 1px solid gray;flex-grow: 1;}#sk-container-id-2 div.sk-label:hover label.sk-toggleable__label {background-color: #d4ebff;}#sk-container-id-2 div.sk-serial::before {content: \"\";position: absolute;border-left: 1px solid gray;box-sizing: border-box;top: 0;bottom: 0;left: 50%;z-index: 0;}#sk-container-id-2 div.sk-serial {display: flex;flex-direction: column;align-items: center;background-color: white;padding-right: 0.2em;padding-left: 0.2em;position: relative;}#sk-container-id-2 div.sk-item {position: relative;z-index: 1;}#sk-container-id-2 div.sk-parallel {display: flex;align-items: stretch;justify-content: center;background-color: white;position: relative;}#sk-container-id-2 div.sk-item::before, #sk-container-id-2 div.sk-parallel-item::before {content: \"\";position: absolute;border-left: 1px solid gray;box-sizing: border-box;top: 0;bottom: 0;left: 50%;z-index: -1;}#sk-container-id-2 div.sk-parallel-item {display: flex;flex-direction: column;z-index: 1;position: relative;background-color: white;}#sk-container-id-2 div.sk-parallel-item:first-child::after {align-self: flex-end;width: 50%;}#sk-container-id-2 div.sk-parallel-item:last-child::after {align-self: flex-start;width: 50%;}#sk-container-id-2 div.sk-parallel-item:only-child::after {width: 0;}#sk-container-id-2 div.sk-dashed-wrapped {border: 1px dashed gray;margin: 0 0.4em 0.5em 0.4em;box-sizing: border-box;padding-bottom: 0.4em;background-color: white;}#sk-container-id-2 div.sk-label label {font-family: monospace;font-weight: bold;display: inline-block;line-height: 1.2em;}#sk-container-id-2 div.sk-label-container {text-align: center;}#sk-container-id-2 div.sk-container {/* jupyter's `normalize.less` sets `[hidden] { display: none; }` but bootstrap.min.css set `[hidden] { display: none !important; }` so we also need the `!important` here to be able to override the default hidden behavior on the sphinx rendered scikit-learn.org. See: https://github.com/scikit-learn/scikit-learn/issues/21755 */display: inline-block !important;position: relative;}#sk-container-id-2 div.sk-text-repr-fallback {display: none;}</style><div id=\"sk-container-id-2\" class=\"sk-top-container\"><div class=\"sk-text-repr-fallback\"><pre>RandomForestClassifier(n_estimators=500)</pre><b>In a Jupyter environment, please rerun this cell to show the HTML representation or trust the notebook. <br />On GitHub, the HTML representation is unable to render, please try loading this page with nbviewer.org.</b></div><div class=\"sk-container\" hidden><div class=\"sk-item\"><div class=\"sk-estimator sk-toggleable\"><input class=\"sk-toggleable__control sk-hidden--visually\" id=\"sk-estimator-id-2\" type=\"checkbox\" checked><label for=\"sk-estimator-id-2\" class=\"sk-toggleable__label sk-toggleable__label-arrow\">RandomForestClassifier</label><div class=\"sk-toggleable__content\"><pre>RandomForestClassifier(n_estimators=500)</pre></div></div></div></div></div>"
      ],
      "text/plain": [
       "RandomForestClassifier(n_estimators=500)"
      ]
     },
     "execution_count": 56,
     "metadata": {},
     "output_type": "execute_result"
    }
   ],
   "source": [
    "rfmodel.fit(X_train, y_train)"
   ]
  },
  {
   "cell_type": "code",
   "execution_count": 57,
   "id": "ff116cf7",
   "metadata": {
    "execution": {
     "iopub.execute_input": "2024-11-05T02:39:52.136346Z",
     "iopub.status.busy": "2024-11-05T02:39:52.135935Z",
     "iopub.status.idle": "2024-11-05T02:39:52.183483Z",
     "shell.execute_reply": "2024-11-05T02:39:52.182282Z"
    },
    "id": "Wbg3w6SDMYWE",
    "papermill": {
     "duration": 0.088287,
     "end_time": "2024-11-05T02:39:52.186348",
     "exception": false,
     "start_time": "2024-11-05T02:39:52.098061",
     "status": "completed"
    },
    "tags": []
   },
   "outputs": [],
   "source": [
    "rfpredictions = rfmodel.predict(X_test)"
   ]
  },
  {
   "cell_type": "code",
   "execution_count": 58,
   "id": "0c4f818c",
   "metadata": {
    "execution": {
     "iopub.execute_input": "2024-11-05T02:39:52.257430Z",
     "iopub.status.busy": "2024-11-05T02:39:52.257006Z",
     "iopub.status.idle": "2024-11-05T02:39:52.265866Z",
     "shell.execute_reply": "2024-11-05T02:39:52.264158Z"
    },
    "id": "FF2yxSTcMagf",
    "outputId": "d237de52-70c7-4e90-f7e6-61e5e6252811",
    "papermill": {
     "duration": 0.046533,
     "end_time": "2024-11-05T02:39:52.268672",
     "exception": false,
     "start_time": "2024-11-05T02:39:52.222139",
     "status": "completed"
    },
    "tags": []
   },
   "outputs": [
    {
     "name": "stdout",
     "output_type": "stream",
     "text": [
      "0.7567567567567568\n"
     ]
    }
   ],
   "source": [
    "print(accuracy_score(y_test, rfpredictions))"
   ]
  },
  {
   "cell_type": "code",
   "execution_count": 59,
   "id": "90f1ade7",
   "metadata": {
    "execution": {
     "iopub.execute_input": "2024-11-05T02:39:52.339134Z",
     "iopub.status.busy": "2024-11-05T02:39:52.338606Z",
     "iopub.status.idle": "2024-11-05T02:39:52.354650Z",
     "shell.execute_reply": "2024-11-05T02:39:52.352754Z"
    },
    "id": "PRIongsHMdD5",
    "outputId": "20cc5b92-c9b3-4dc9-bbeb-a7d9e02052ea",
    "papermill": {
     "duration": 0.055275,
     "end_time": "2024-11-05T02:39:52.357872",
     "exception": false,
     "start_time": "2024-11-05T02:39:52.302597",
     "status": "completed"
    },
    "tags": []
   },
   "outputs": [
    {
     "name": "stdout",
     "output_type": "stream",
     "text": [
      "              precision    recall  f1-score   support\n",
      "\n",
      "           0       0.74      0.45      0.56        64\n",
      "           1       0.76      0.92      0.83       121\n",
      "\n",
      "    accuracy                           0.76       185\n",
      "   macro avg       0.75      0.69      0.70       185\n",
      "weighted avg       0.75      0.76      0.74       185\n",
      "\n"
     ]
    }
   ],
   "source": [
    "print(classification_report(y_test, rfpredictions))"
   ]
  },
  {
   "cell_type": "markdown",
   "id": "2f400bc8",
   "metadata": {
    "papermill": {
     "duration": 0.035672,
     "end_time": "2024-11-05T02:39:52.428551",
     "exception": false,
     "start_time": "2024-11-05T02:39:52.392879",
     "status": "completed"
    },
    "tags": []
   },
   "source": [
    "# Compare with Other Models: logistic/knn/xgboost/nn/gbm/svm"
   ]
  },
  {
   "cell_type": "code",
   "execution_count": 60,
   "id": "07485db7",
   "metadata": {
    "execution": {
     "iopub.execute_input": "2024-11-05T02:39:52.499553Z",
     "iopub.status.busy": "2024-11-05T02:39:52.499115Z",
     "iopub.status.idle": "2024-11-05T02:39:53.695102Z",
     "shell.execute_reply": "2024-11-05T02:39:53.693778Z"
    },
    "papermill": {
     "duration": 1.23464,
     "end_time": "2024-11-05T02:39:53.697895",
     "exception": false,
     "start_time": "2024-11-05T02:39:52.463255",
     "status": "completed"
    },
    "tags": []
   },
   "outputs": [
    {
     "data": {
      "text/html": [
       "<div>\n",
       "<style scoped>\n",
       "    .dataframe tbody tr th:only-of-type {\n",
       "        vertical-align: middle;\n",
       "    }\n",
       "\n",
       "    .dataframe tbody tr th {\n",
       "        vertical-align: top;\n",
       "    }\n",
       "\n",
       "    .dataframe thead th {\n",
       "        text-align: right;\n",
       "    }\n",
       "</style>\n",
       "<table border=\"1\" class=\"dataframe\">\n",
       "  <thead>\n",
       "    <tr style=\"text-align: right;\">\n",
       "      <th></th>\n",
       "      <th>Model</th>\n",
       "      <th>Precision (Denied)</th>\n",
       "      <th>Recall (Denied)</th>\n",
       "      <th>F1-Score (Denied)</th>\n",
       "      <th>Precision (Approved)</th>\n",
       "      <th>Recall (Approved)</th>\n",
       "      <th>F1-Score (Approved)</th>\n",
       "      <th>Accuracy</th>\n",
       "    </tr>\n",
       "  </thead>\n",
       "  <tbody>\n",
       "    <tr>\n",
       "      <th>0</th>\n",
       "      <td>Logistic Regression</td>\n",
       "      <td>0.810811</td>\n",
       "      <td>0.468750</td>\n",
       "      <td>0.594059</td>\n",
       "      <td>0.770270</td>\n",
       "      <td>0.942149</td>\n",
       "      <td>0.847584</td>\n",
       "      <td>0.778378</td>\n",
       "    </tr>\n",
       "    <tr>\n",
       "      <th>1</th>\n",
       "      <td>K-Nearest Neighbors</td>\n",
       "      <td>0.407407</td>\n",
       "      <td>0.171875</td>\n",
       "      <td>0.241758</td>\n",
       "      <td>0.664557</td>\n",
       "      <td>0.867769</td>\n",
       "      <td>0.752688</td>\n",
       "      <td>0.627027</td>\n",
       "    </tr>\n",
       "    <tr>\n",
       "      <th>2</th>\n",
       "      <td>Random Forest</td>\n",
       "      <td>0.789474</td>\n",
       "      <td>0.468750</td>\n",
       "      <td>0.588235</td>\n",
       "      <td>0.768707</td>\n",
       "      <td>0.933884</td>\n",
       "      <td>0.843284</td>\n",
       "      <td>0.772973</td>\n",
       "    </tr>\n",
       "    <tr>\n",
       "      <th>3</th>\n",
       "      <td>Decision Tree</td>\n",
       "      <td>0.567164</td>\n",
       "      <td>0.593750</td>\n",
       "      <td>0.580153</td>\n",
       "      <td>0.779661</td>\n",
       "      <td>0.760331</td>\n",
       "      <td>0.769874</td>\n",
       "      <td>0.702703</td>\n",
       "    </tr>\n",
       "    <tr>\n",
       "      <th>4</th>\n",
       "      <td>XGBoost</td>\n",
       "      <td>0.744681</td>\n",
       "      <td>0.546875</td>\n",
       "      <td>0.630631</td>\n",
       "      <td>0.789855</td>\n",
       "      <td>0.900826</td>\n",
       "      <td>0.841699</td>\n",
       "      <td>0.778378</td>\n",
       "    </tr>\n",
       "    <tr>\n",
       "      <th>5</th>\n",
       "      <td>Neural Network</td>\n",
       "      <td>0.302083</td>\n",
       "      <td>0.453125</td>\n",
       "      <td>0.362500</td>\n",
       "      <td>0.606742</td>\n",
       "      <td>0.446281</td>\n",
       "      <td>0.514286</td>\n",
       "      <td>0.448649</td>\n",
       "    </tr>\n",
       "    <tr>\n",
       "      <th>6</th>\n",
       "      <td>Gradient Boosting</td>\n",
       "      <td>0.805556</td>\n",
       "      <td>0.453125</td>\n",
       "      <td>0.580000</td>\n",
       "      <td>0.765101</td>\n",
       "      <td>0.942149</td>\n",
       "      <td>0.844444</td>\n",
       "      <td>0.772973</td>\n",
       "    </tr>\n",
       "    <tr>\n",
       "      <th>7</th>\n",
       "      <td>Support Vector Machine</td>\n",
       "      <td>0.000000</td>\n",
       "      <td>0.000000</td>\n",
       "      <td>0.000000</td>\n",
       "      <td>0.654054</td>\n",
       "      <td>1.000000</td>\n",
       "      <td>0.790850</td>\n",
       "      <td>0.654054</td>\n",
       "    </tr>\n",
       "  </tbody>\n",
       "</table>\n",
       "</div>"
      ],
      "text/plain": [
       "                    Model  Precision (Denied)  Recall (Denied)  \\\n",
       "0     Logistic Regression            0.810811         0.468750   \n",
       "1     K-Nearest Neighbors            0.407407         0.171875   \n",
       "2           Random Forest            0.789474         0.468750   \n",
       "3           Decision Tree            0.567164         0.593750   \n",
       "4                 XGBoost            0.744681         0.546875   \n",
       "5          Neural Network            0.302083         0.453125   \n",
       "6       Gradient Boosting            0.805556         0.453125   \n",
       "7  Support Vector Machine            0.000000         0.000000   \n",
       "\n",
       "   F1-Score (Denied)  Precision (Approved)  Recall (Approved)  \\\n",
       "0           0.594059              0.770270           0.942149   \n",
       "1           0.241758              0.664557           0.867769   \n",
       "2           0.588235              0.768707           0.933884   \n",
       "3           0.580153              0.779661           0.760331   \n",
       "4           0.630631              0.789855           0.900826   \n",
       "5           0.362500              0.606742           0.446281   \n",
       "6           0.580000              0.765101           0.942149   \n",
       "7           0.000000              0.654054           1.000000   \n",
       "\n",
       "   F1-Score (Approved)  Accuracy  \n",
       "0             0.847584  0.778378  \n",
       "1             0.752688  0.627027  \n",
       "2             0.843284  0.772973  \n",
       "3             0.769874  0.702703  \n",
       "4             0.841699  0.778378  \n",
       "5             0.514286  0.448649  \n",
       "6             0.844444  0.772973  \n",
       "7             0.790850  0.654054  "
      ]
     },
     "execution_count": 60,
     "metadata": {},
     "output_type": "execute_result"
    }
   ],
   "source": [
    "from sklearn.linear_model import LogisticRegression\n",
    "from sklearn.neighbors import KNeighborsClassifier\n",
    "from sklearn.ensemble import RandomForestClassifier, GradientBoostingClassifier\n",
    "from sklearn.tree import DecisionTreeClassifier\n",
    "from sklearn.svm import SVC\n",
    "from xgboost import XGBClassifier\n",
    "from sklearn.neural_network import MLPClassifier\n",
    "from sklearn.metrics import accuracy_score, precision_score, recall_score, f1_score, classification_report\n",
    "\n",
    "# Define the models to evaluate\n",
    "models = {\n",
    "    \"Logistic Regression\": LogisticRegression(max_iter=1000),\n",
    "    \"K-Nearest Neighbors\": KNeighborsClassifier(),\n",
    "    \"Random Forest\": RandomForestClassifier(n_estimators=100),\n",
    "    \"Decision Tree\": DecisionTreeClassifier(),\n",
    "    \"XGBoost\": XGBClassifier(use_label_encoder=False, eval_metric='logloss'),\n",
    "    \"Neural Network\": MLPClassifier(max_iter=1000),\n",
    "    \"Gradient Boosting\": GradientBoostingClassifier(),\n",
    "    \"Support Vector Machine\": SVC()\n",
    "}\n",
    "\n",
    "# Create a DataFrame to store the results\n",
    "results = pd.DataFrame(columns=['Model', 'Precision (Class 0)', 'Recall (Class 0)', 'F1-Score (Class 0)',\n",
    "                                'Precision (Class 1)', 'Recall (Class 1)', 'F1-Score (Class 1)', 'Accuracy'])\n",
    "results_list=[]\n",
    "# Loop through each model, train, and evaluate\n",
    "for model_name, model in models.items():\n",
    "    # Train the model\n",
    "    model.fit(X_train, y_train)\n",
    "    # Predict on the test set\n",
    "    predictions = model.predict(X_test)\n",
    "    # Compute accuracy, precision, recall, and F1-score for both classes\n",
    "    accuracy = accuracy_score(y_test, predictions)\n",
    "    precision_class_0 = precision_score(y_test, predictions, pos_label=0)\n",
    "    recall_class_0 = recall_score(y_test, predictions, pos_label=0)\n",
    "    f1_class_0 = f1_score(y_test, predictions, pos_label=0)\n",
    "    precision_class_1 = precision_score(y_test, predictions, pos_label=1)\n",
    "    recall_class_1 = recall_score(y_test, predictions, pos_label=1)\n",
    "    f1_class_1 = f1_score(y_test, predictions, pos_label=1)\n",
    "    \n",
    "    results_list.append({\n",
    "        'Model': model_name,\n",
    "        'Precision (Denied)': precision_class_0,\n",
    "        'Recall (Denied)': recall_class_0,\n",
    "        'F1-Score (Denied)': f1_class_0,\n",
    "        'Precision (Approved)': precision_class_1,\n",
    "        'Recall (Approved)': recall_class_1,\n",
    "        'F1-Score (Approved)': f1_class_1,\n",
    "        'Accuracy': accuracy\n",
    "    })\n",
    "\n",
    "# Convert the results list to a DataFrame\n",
    "results = pd.DataFrame(results_list)\n",
    "\n",
    "\n",
    "results"
   ]
  },
  {
   "cell_type": "markdown",
   "id": "deccf923",
   "metadata": {
    "papermill": {
     "duration": 0.034083,
     "end_time": "2024-11-05T02:39:53.766272",
     "exception": false,
     "start_time": "2024-11-05T02:39:53.732189",
     "status": "completed"
    },
    "tags": []
   },
   "source": [
    "# Hyparameter tuning on RandomForest"
   ]
  },
  {
   "cell_type": "code",
   "execution_count": 61,
   "id": "6d65d042",
   "metadata": {
    "execution": {
     "iopub.execute_input": "2024-11-05T02:39:53.836452Z",
     "iopub.status.busy": "2024-11-05T02:39:53.836022Z",
     "iopub.status.idle": "2024-11-05T02:40:48.301529Z",
     "shell.execute_reply": "2024-11-05T02:40:48.300257Z"
    },
    "papermill": {
     "duration": 54.53918,
     "end_time": "2024-11-05T02:40:48.339570",
     "exception": false,
     "start_time": "2024-11-05T02:39:53.800390",
     "status": "completed"
    },
    "tags": []
   },
   "outputs": [
    {
     "name": "stdout",
     "output_type": "stream",
     "text": [
      "Fitting 4 folds for each of 180 candidates, totalling 720 fits\n"
     ]
    },
    {
     "data": {
      "text/html": [
       "<style>#sk-container-id-3 {color: black;background-color: white;}#sk-container-id-3 pre{padding: 0;}#sk-container-id-3 div.sk-toggleable {background-color: white;}#sk-container-id-3 label.sk-toggleable__label {cursor: pointer;display: block;width: 100%;margin-bottom: 0;padding: 0.3em;box-sizing: border-box;text-align: center;}#sk-container-id-3 label.sk-toggleable__label-arrow:before {content: \"▸\";float: left;margin-right: 0.25em;color: #696969;}#sk-container-id-3 label.sk-toggleable__label-arrow:hover:before {color: black;}#sk-container-id-3 div.sk-estimator:hover label.sk-toggleable__label-arrow:before {color: black;}#sk-container-id-3 div.sk-toggleable__content {max-height: 0;max-width: 0;overflow: hidden;text-align: left;background-color: #f0f8ff;}#sk-container-id-3 div.sk-toggleable__content pre {margin: 0.2em;color: black;border-radius: 0.25em;background-color: #f0f8ff;}#sk-container-id-3 input.sk-toggleable__control:checked~div.sk-toggleable__content {max-height: 200px;max-width: 100%;overflow: auto;}#sk-container-id-3 input.sk-toggleable__control:checked~label.sk-toggleable__label-arrow:before {content: \"▾\";}#sk-container-id-3 div.sk-estimator input.sk-toggleable__control:checked~label.sk-toggleable__label {background-color: #d4ebff;}#sk-container-id-3 div.sk-label input.sk-toggleable__control:checked~label.sk-toggleable__label {background-color: #d4ebff;}#sk-container-id-3 input.sk-hidden--visually {border: 0;clip: rect(1px 1px 1px 1px);clip: rect(1px, 1px, 1px, 1px);height: 1px;margin: -1px;overflow: hidden;padding: 0;position: absolute;width: 1px;}#sk-container-id-3 div.sk-estimator {font-family: monospace;background-color: #f0f8ff;border: 1px dotted black;border-radius: 0.25em;box-sizing: border-box;margin-bottom: 0.5em;}#sk-container-id-3 div.sk-estimator:hover {background-color: #d4ebff;}#sk-container-id-3 div.sk-parallel-item::after {content: \"\";width: 100%;border-bottom: 1px solid gray;flex-grow: 1;}#sk-container-id-3 div.sk-label:hover label.sk-toggleable__label {background-color: #d4ebff;}#sk-container-id-3 div.sk-serial::before {content: \"\";position: absolute;border-left: 1px solid gray;box-sizing: border-box;top: 0;bottom: 0;left: 50%;z-index: 0;}#sk-container-id-3 div.sk-serial {display: flex;flex-direction: column;align-items: center;background-color: white;padding-right: 0.2em;padding-left: 0.2em;position: relative;}#sk-container-id-3 div.sk-item {position: relative;z-index: 1;}#sk-container-id-3 div.sk-parallel {display: flex;align-items: stretch;justify-content: center;background-color: white;position: relative;}#sk-container-id-3 div.sk-item::before, #sk-container-id-3 div.sk-parallel-item::before {content: \"\";position: absolute;border-left: 1px solid gray;box-sizing: border-box;top: 0;bottom: 0;left: 50%;z-index: -1;}#sk-container-id-3 div.sk-parallel-item {display: flex;flex-direction: column;z-index: 1;position: relative;background-color: white;}#sk-container-id-3 div.sk-parallel-item:first-child::after {align-self: flex-end;width: 50%;}#sk-container-id-3 div.sk-parallel-item:last-child::after {align-self: flex-start;width: 50%;}#sk-container-id-3 div.sk-parallel-item:only-child::after {width: 0;}#sk-container-id-3 div.sk-dashed-wrapped {border: 1px dashed gray;margin: 0 0.4em 0.5em 0.4em;box-sizing: border-box;padding-bottom: 0.4em;background-color: white;}#sk-container-id-3 div.sk-label label {font-family: monospace;font-weight: bold;display: inline-block;line-height: 1.2em;}#sk-container-id-3 div.sk-label-container {text-align: center;}#sk-container-id-3 div.sk-container {/* jupyter's `normalize.less` sets `[hidden] { display: none; }` but bootstrap.min.css set `[hidden] { display: none !important; }` so we also need the `!important` here to be able to override the default hidden behavior on the sphinx rendered scikit-learn.org. See: https://github.com/scikit-learn/scikit-learn/issues/21755 */display: inline-block !important;position: relative;}#sk-container-id-3 div.sk-text-repr-fallback {display: none;}</style><div id=\"sk-container-id-3\" class=\"sk-top-container\"><div class=\"sk-text-repr-fallback\"><pre>RandomForestClassifier(max_depth=3, min_samples_split=5, n_estimators=200,\n",
       "                       n_jobs=-1, random_state=42)</pre><b>In a Jupyter environment, please rerun this cell to show the HTML representation or trust the notebook. <br />On GitHub, the HTML representation is unable to render, please try loading this page with nbviewer.org.</b></div><div class=\"sk-container\" hidden><div class=\"sk-item\"><div class=\"sk-estimator sk-toggleable\"><input class=\"sk-toggleable__control sk-hidden--visually\" id=\"sk-estimator-id-3\" type=\"checkbox\" checked><label for=\"sk-estimator-id-3\" class=\"sk-toggleable__label sk-toggleable__label-arrow\">RandomForestClassifier</label><div class=\"sk-toggleable__content\"><pre>RandomForestClassifier(max_depth=3, min_samples_split=5, n_estimators=200,\n",
       "                       n_jobs=-1, random_state=42)</pre></div></div></div></div></div>"
      ],
      "text/plain": [
       "RandomForestClassifier(max_depth=3, min_samples_split=5, n_estimators=200,\n",
       "                       n_jobs=-1, random_state=42)"
      ]
     },
     "execution_count": 61,
     "metadata": {},
     "output_type": "execute_result"
    }
   ],
   "source": [
    "from sklearn.model_selection import GridSearchCV\n",
    "\n",
    "# Define the model\n",
    "rf_model = RandomForestClassifier(random_state=42,n_jobs=-1)\n",
    "\n",
    "# Set up the parameter grid for Grid Search\n",
    "param_grid = {\n",
    "    'n_estimators': [10,25,30,50, 100, 200],    # Number of trees\n",
    "    'max_depth': [2,3,5,10,20], # Maximum depth of each tree\n",
    "    'min_samples_split': [5, 10,20,50,100,200] # Minimum samples required to split a node\n",
    "\n",
    "}\n",
    "\n",
    "# Set up GridSearchCV with cross-validation\n",
    "grid_search = GridSearchCV(estimator=rf_model, param_grid=param_grid, cv=4, scoring='accuracy', verbose=1, n_jobs=-1)\n",
    "\n",
    "# Fit GridSearchCV to the training data\n",
    "grid_search.fit(X_train, y_train)\n",
    "\n",
    "# Get the best parameters and the best model\n",
    "grid_search.best_params_\n",
    "best_rf_model = grid_search.best_estimator_\n",
    "best_rf_model\n"
   ]
  },
  {
   "cell_type": "code",
   "execution_count": 62,
   "id": "1840cdd7",
   "metadata": {
    "execution": {
     "iopub.execute_input": "2024-11-05T02:40:48.411329Z",
     "iopub.status.busy": "2024-11-05T02:40:48.410291Z",
     "iopub.status.idle": "2024-11-05T02:40:48.497105Z",
     "shell.execute_reply": "2024-11-05T02:40:48.495846Z"
    },
    "papermill": {
     "duration": 0.125484,
     "end_time": "2024-11-05T02:40:48.499602",
     "exception": false,
     "start_time": "2024-11-05T02:40:48.374118",
     "status": "completed"
    },
    "tags": []
   },
   "outputs": [
    {
     "name": "stdout",
     "output_type": "stream",
     "text": [
      "Accuracy: 0.7891891891891892\n",
      "              precision    recall  f1-score   support\n",
      "\n",
      "           0       0.90      0.44      0.59        64\n",
      "           1       0.77      0.98      0.86       121\n",
      "\n",
      "    accuracy                           0.79       185\n",
      "   macro avg       0.83      0.71      0.72       185\n",
      "weighted avg       0.81      0.79      0.77       185\n",
      "\n"
     ]
    }
   ],
   "source": [
    "predictions = best_rf_model.predict(X_test)\n",
    "print(\"Accuracy:\", accuracy_score(y_test, predictions))\n",
    "print(classification_report(y_test, predictions))"
   ]
  },
  {
   "cell_type": "markdown",
   "id": "a09b6d1b",
   "metadata": {
    "papermill": {
     "duration": 0.03366,
     "end_time": "2024-11-05T02:40:48.567604",
     "exception": false,
     "start_time": "2024-11-05T02:40:48.533944",
     "status": "completed"
    },
    "tags": []
   },
   "source": [
    "# Feature Importance for Random Forest"
   ]
  },
  {
   "cell_type": "code",
   "execution_count": 63,
   "id": "5561b6d0",
   "metadata": {
    "execution": {
     "iopub.execute_input": "2024-11-05T02:40:48.637872Z",
     "iopub.status.busy": "2024-11-05T02:40:48.636848Z",
     "iopub.status.idle": "2024-11-05T02:40:49.065799Z",
     "shell.execute_reply": "2024-11-05T02:40:49.064558Z"
    },
    "papermill": {
     "duration": 0.467118,
     "end_time": "2024-11-05T02:40:49.068566",
     "exception": false,
     "start_time": "2024-11-05T02:40:48.601448",
     "status": "completed"
    },
    "tags": []
   },
   "outputs": [
    {
     "data": {
      "image/png": "[encoded data removed]",
      "text/plain": [
       "<Figure size 1000x600 with 1 Axes>"
      ]
     },
     "metadata": {},
     "output_type": "display_data"
    }
   ],
   "source": [
    "# Get feature importances\n",
    "feature_importances = best_rf_model.feature_importances_\n",
    "\n",
    "# Create a DataFrame for better visualization\n",
    "importance_df = pd.DataFrame({\n",
    "    'Feature': X_train.columns,\n",
    "    'Importance': feature_importances\n",
    "}).sort_values(by='Importance', ascending=False)\n",
    "\n",
    "# Plot feature importance\n",
    "plt.figure(figsize=(10, 6))\n",
    "plt.barh(importance_df['Feature'], importance_df['Importance'])\n",
    "plt.xlabel('Importance')\n",
    "plt.title('Feature Importance from Random Forest')\n",
    "plt.gca().invert_yaxis()\n",
    "plt.show()"
   ]
  },
  {
   "cell_type": "code",
   "execution_count": 64,
   "id": "1bfe4c78",
   "metadata": {
    "execution": {
     "iopub.execute_input": "2024-11-05T02:40:49.143694Z",
     "iopub.status.busy": "2024-11-05T02:40:49.143248Z",
     "iopub.status.idle": "2024-11-05T02:40:49.254286Z",
     "shell.execute_reply": "2024-11-05T02:40:49.253146Z"
    },
    "papermill": {
     "duration": 0.151379,
     "end_time": "2024-11-05T02:40:49.256776",
     "exception": false,
     "start_time": "2024-11-05T02:40:49.105397",
     "status": "completed"
    },
    "tags": []
   },
   "outputs": [
    {
     "data": {
      "text/html": [
       "<div>\n",
       "<style scoped>\n",
       "    .dataframe tbody tr th:only-of-type {\n",
       "        vertical-align: middle;\n",
       "    }\n",
       "\n",
       "    .dataframe tbody tr th {\n",
       "        vertical-align: top;\n",
       "    }\n",
       "\n",
       "    .dataframe thead th {\n",
       "        text-align: right;\n",
       "    }\n",
       "</style>\n",
       "<table border=\"1\" class=\"dataframe\">\n",
       "  <thead>\n",
       "    <tr style=\"text-align: right;\">\n",
       "      <th></th>\n",
       "      <th>ApplicantIncome</th>\n",
       "      <th>CoapplicantIncome</th>\n",
       "      <th>LoanAmount</th>\n",
       "      <th>Loan_Amount_Term</th>\n",
       "      <th>Credit_History</th>\n",
       "      <th>Gender_Female</th>\n",
       "      <th>Gender_Male</th>\n",
       "      <th>Married_No</th>\n",
       "      <th>Married_Yes</th>\n",
       "      <th>Dependents_3</th>\n",
       "      <th>...</th>\n",
       "      <th>Dependents_1</th>\n",
       "      <th>Dependents_2</th>\n",
       "      <th>Education_Graduate</th>\n",
       "      <th>Education_Not Graduate</th>\n",
       "      <th>Self_Employed_No</th>\n",
       "      <th>Self_Employed_Yes</th>\n",
       "      <th>Property_Area_Rural</th>\n",
       "      <th>Property_Area_Semiurban</th>\n",
       "      <th>Property_Area_Urban</th>\n",
       "      <th>Loan_Status</th>\n",
       "    </tr>\n",
       "  </thead>\n",
       "  <tbody>\n",
       "    <tr>\n",
       "      <th>0</th>\n",
       "      <td>5720</td>\n",
       "      <td>0</td>\n",
       "      <td>110.0</td>\n",
       "      <td>360.0</td>\n",
       "      <td>1.0</td>\n",
       "      <td>False</td>\n",
       "      <td>True</td>\n",
       "      <td>False</td>\n",
       "      <td>True</td>\n",
       "      <td>False</td>\n",
       "      <td>...</td>\n",
       "      <td>False</td>\n",
       "      <td>False</td>\n",
       "      <td>True</td>\n",
       "      <td>False</td>\n",
       "      <td>True</td>\n",
       "      <td>False</td>\n",
       "      <td>False</td>\n",
       "      <td>False</td>\n",
       "      <td>True</td>\n",
       "      <td>1</td>\n",
       "    </tr>\n",
       "    <tr>\n",
       "      <th>1</th>\n",
       "      <td>3076</td>\n",
       "      <td>1500</td>\n",
       "      <td>126.0</td>\n",
       "      <td>360.0</td>\n",
       "      <td>1.0</td>\n",
       "      <td>False</td>\n",
       "      <td>True</td>\n",
       "      <td>False</td>\n",
       "      <td>True</td>\n",
       "      <td>False</td>\n",
       "      <td>...</td>\n",
       "      <td>True</td>\n",
       "      <td>False</td>\n",
       "      <td>True</td>\n",
       "      <td>False</td>\n",
       "      <td>True</td>\n",
       "      <td>False</td>\n",
       "      <td>False</td>\n",
       "      <td>False</td>\n",
       "      <td>True</td>\n",
       "      <td>1</td>\n",
       "    </tr>\n",
       "    <tr>\n",
       "      <th>2</th>\n",
       "      <td>5000</td>\n",
       "      <td>1800</td>\n",
       "      <td>208.0</td>\n",
       "      <td>360.0</td>\n",
       "      <td>1.0</td>\n",
       "      <td>False</td>\n",
       "      <td>True</td>\n",
       "      <td>False</td>\n",
       "      <td>True</td>\n",
       "      <td>False</td>\n",
       "      <td>...</td>\n",
       "      <td>False</td>\n",
       "      <td>True</td>\n",
       "      <td>True</td>\n",
       "      <td>False</td>\n",
       "      <td>True</td>\n",
       "      <td>False</td>\n",
       "      <td>False</td>\n",
       "      <td>False</td>\n",
       "      <td>True</td>\n",
       "      <td>1</td>\n",
       "    </tr>\n",
       "    <tr>\n",
       "      <th>3</th>\n",
       "      <td>2340</td>\n",
       "      <td>2546</td>\n",
       "      <td>100.0</td>\n",
       "      <td>360.0</td>\n",
       "      <td>1.0</td>\n",
       "      <td>False</td>\n",
       "      <td>True</td>\n",
       "      <td>False</td>\n",
       "      <td>True</td>\n",
       "      <td>False</td>\n",
       "      <td>...</td>\n",
       "      <td>False</td>\n",
       "      <td>True</td>\n",
       "      <td>True</td>\n",
       "      <td>False</td>\n",
       "      <td>True</td>\n",
       "      <td>False</td>\n",
       "      <td>False</td>\n",
       "      <td>False</td>\n",
       "      <td>True</td>\n",
       "      <td>1</td>\n",
       "    </tr>\n",
       "    <tr>\n",
       "      <th>4</th>\n",
       "      <td>3276</td>\n",
       "      <td>0</td>\n",
       "      <td>78.0</td>\n",
       "      <td>360.0</td>\n",
       "      <td>1.0</td>\n",
       "      <td>False</td>\n",
       "      <td>True</td>\n",
       "      <td>True</td>\n",
       "      <td>False</td>\n",
       "      <td>False</td>\n",
       "      <td>...</td>\n",
       "      <td>False</td>\n",
       "      <td>False</td>\n",
       "      <td>False</td>\n",
       "      <td>True</td>\n",
       "      <td>True</td>\n",
       "      <td>False</td>\n",
       "      <td>False</td>\n",
       "      <td>False</td>\n",
       "      <td>True</td>\n",
       "      <td>1</td>\n",
       "    </tr>\n",
       "    <tr>\n",
       "      <th>...</th>\n",
       "      <td>...</td>\n",
       "      <td>...</td>\n",
       "      <td>...</td>\n",
       "      <td>...</td>\n",
       "      <td>...</td>\n",
       "      <td>...</td>\n",
       "      <td>...</td>\n",
       "      <td>...</td>\n",
       "      <td>...</td>\n",
       "      <td>...</td>\n",
       "      <td>...</td>\n",
       "      <td>...</td>\n",
       "      <td>...</td>\n",
       "      <td>...</td>\n",
       "      <td>...</td>\n",
       "      <td>...</td>\n",
       "      <td>...</td>\n",
       "      <td>...</td>\n",
       "      <td>...</td>\n",
       "      <td>...</td>\n",
       "      <td>...</td>\n",
       "    </tr>\n",
       "    <tr>\n",
       "      <th>362</th>\n",
       "      <td>4009</td>\n",
       "      <td>1777</td>\n",
       "      <td>113.0</td>\n",
       "      <td>360.0</td>\n",
       "      <td>1.0</td>\n",
       "      <td>False</td>\n",
       "      <td>True</td>\n",
       "      <td>False</td>\n",
       "      <td>True</td>\n",
       "      <td>True</td>\n",
       "      <td>...</td>\n",
       "      <td>False</td>\n",
       "      <td>False</td>\n",
       "      <td>False</td>\n",
       "      <td>True</td>\n",
       "      <td>False</td>\n",
       "      <td>True</td>\n",
       "      <td>False</td>\n",
       "      <td>False</td>\n",
       "      <td>True</td>\n",
       "      <td>1</td>\n",
       "    </tr>\n",
       "    <tr>\n",
       "      <th>363</th>\n",
       "      <td>4158</td>\n",
       "      <td>709</td>\n",
       "      <td>115.0</td>\n",
       "      <td>360.0</td>\n",
       "      <td>1.0</td>\n",
       "      <td>False</td>\n",
       "      <td>True</td>\n",
       "      <td>False</td>\n",
       "      <td>True</td>\n",
       "      <td>False</td>\n",
       "      <td>...</td>\n",
       "      <td>False</td>\n",
       "      <td>False</td>\n",
       "      <td>True</td>\n",
       "      <td>False</td>\n",
       "      <td>True</td>\n",
       "      <td>False</td>\n",
       "      <td>False</td>\n",
       "      <td>False</td>\n",
       "      <td>True</td>\n",
       "      <td>1</td>\n",
       "    </tr>\n",
       "    <tr>\n",
       "      <th>364</th>\n",
       "      <td>3250</td>\n",
       "      <td>1993</td>\n",
       "      <td>126.0</td>\n",
       "      <td>360.0</td>\n",
       "      <td>1.0</td>\n",
       "      <td>False</td>\n",
       "      <td>True</td>\n",
       "      <td>True</td>\n",
       "      <td>False</td>\n",
       "      <td>False</td>\n",
       "      <td>...</td>\n",
       "      <td>False</td>\n",
       "      <td>False</td>\n",
       "      <td>True</td>\n",
       "      <td>False</td>\n",
       "      <td>True</td>\n",
       "      <td>False</td>\n",
       "      <td>False</td>\n",
       "      <td>True</td>\n",
       "      <td>False</td>\n",
       "      <td>1</td>\n",
       "    </tr>\n",
       "    <tr>\n",
       "      <th>365</th>\n",
       "      <td>5000</td>\n",
       "      <td>2393</td>\n",
       "      <td>158.0</td>\n",
       "      <td>360.0</td>\n",
       "      <td>1.0</td>\n",
       "      <td>False</td>\n",
       "      <td>True</td>\n",
       "      <td>False</td>\n",
       "      <td>True</td>\n",
       "      <td>False</td>\n",
       "      <td>...</td>\n",
       "      <td>False</td>\n",
       "      <td>False</td>\n",
       "      <td>True</td>\n",
       "      <td>False</td>\n",
       "      <td>True</td>\n",
       "      <td>False</td>\n",
       "      <td>True</td>\n",
       "      <td>False</td>\n",
       "      <td>False</td>\n",
       "      <td>1</td>\n",
       "    </tr>\n",
       "    <tr>\n",
       "      <th>366</th>\n",
       "      <td>9200</td>\n",
       "      <td>0</td>\n",
       "      <td>98.0</td>\n",
       "      <td>180.0</td>\n",
       "      <td>1.0</td>\n",
       "      <td>False</td>\n",
       "      <td>True</td>\n",
       "      <td>True</td>\n",
       "      <td>False</td>\n",
       "      <td>False</td>\n",
       "      <td>...</td>\n",
       "      <td>False</td>\n",
       "      <td>False</td>\n",
       "      <td>True</td>\n",
       "      <td>False</td>\n",
       "      <td>False</td>\n",
       "      <td>True</td>\n",
       "      <td>True</td>\n",
       "      <td>False</td>\n",
       "      <td>False</td>\n",
       "      <td>1</td>\n",
       "    </tr>\n",
       "  </tbody>\n",
       "</table>\n",
       "<p>367 rows × 21 columns</p>\n",
       "</div>"
      ],
      "text/plain": [
       "     ApplicantIncome  CoapplicantIncome  LoanAmount  Loan_Amount_Term  \\\n",
       "0               5720                  0       110.0             360.0   \n",
       "1               3076               1500       126.0             360.0   \n",
       "2               5000               1800       208.0             360.0   \n",
       "3               2340               2546       100.0             360.0   \n",
       "4               3276                  0        78.0             360.0   \n",
       "..               ...                ...         ...               ...   \n",
       "362             4009               1777       113.0             360.0   \n",
       "363             4158                709       115.0             360.0   \n",
       "364             3250               1993       126.0             360.0   \n",
       "365             5000               2393       158.0             360.0   \n",
       "366             9200                  0        98.0             180.0   \n",
       "\n",
       "     Credit_History  Gender_Female  Gender_Male  Married_No  Married_Yes  \\\n",
       "0               1.0          False         True       False         True   \n",
       "1               1.0          False         True       False         True   \n",
       "2               1.0          False         True       False         True   \n",
       "3               1.0          False         True       False         True   \n",
       "4               1.0          False         True        True        False   \n",
       "..              ...            ...          ...         ...          ...   \n",
       "362             1.0          False         True       False         True   \n",
       "363             1.0          False         True       False         True   \n",
       "364             1.0          False         True        True        False   \n",
       "365             1.0          False         True       False         True   \n",
       "366             1.0          False         True        True        False   \n",
       "\n",
       "     Dependents_3  ...  Dependents_1  Dependents_2  Education_Graduate  \\\n",
       "0           False  ...         False         False                True   \n",
       "1           False  ...          True         False                True   \n",
       "2           False  ...         False          True                True   \n",
       "3           False  ...         False          True                True   \n",
       "4           False  ...         False         False               False   \n",
       "..            ...  ...           ...           ...                 ...   \n",
       "362          True  ...         False         False               False   \n",
       "363         False  ...         False         False                True   \n",
       "364         False  ...         False         False                True   \n",
       "365         False  ...         False         False                True   \n",
       "366         False  ...         False         False                True   \n",
       "\n",
       "     Education_Not Graduate  Self_Employed_No  Self_Employed_Yes  \\\n",
       "0                     False              True              False   \n",
       "1                     False              True              False   \n",
       "2                     False              True              False   \n",
       "3                     False              True              False   \n",
       "4                      True              True              False   \n",
       "..                      ...               ...                ...   \n",
       "362                    True             False               True   \n",
       "363                   False              True              False   \n",
       "364                   False              True              False   \n",
       "365                   False              True              False   \n",
       "366                   False             False               True   \n",
       "\n",
       "     Property_Area_Rural  Property_Area_Semiurban  Property_Area_Urban  \\\n",
       "0                  False                    False                 True   \n",
       "1                  False                    False                 True   \n",
       "2                  False                    False                 True   \n",
       "3                  False                    False                 True   \n",
       "4                  False                    False                 True   \n",
       "..                   ...                      ...                  ...   \n",
       "362                False                    False                 True   \n",
       "363                False                    False                 True   \n",
       "364                False                     True                False   \n",
       "365                 True                    False                False   \n",
       "366                 True                    False                False   \n",
       "\n",
       "     Loan_Status  \n",
       "0              1  \n",
       "1              1  \n",
       "2              1  \n",
       "3              1  \n",
       "4              1  \n",
       "..           ...  \n",
       "362            1  \n",
       "363            1  \n",
       "364            1  \n",
       "365            1  \n",
       "366            1  \n",
       "\n",
       "[367 rows x 21 columns]"
      ]
     },
     "execution_count": 64,
     "metadata": {},
     "output_type": "execute_result"
    }
   ],
   "source": [
    "# Use the trained model to predict on the 'predict' dataset\n",
    "predictions =  best_rf_model.predict(predict_ml)\n",
    "predict_ml['Loan_Status'] = predictions\n",
    "predict_ml"
   ]
  }
 ],
 "metadata": {
  "colab": {
   "provenance": []
  },
  "kaggle": {
   "accelerator": "none",
   "dataSources": [
    {
     "datasetId": 5928552,
     "sourceId": 9696091,
     "sourceType": "datasetVersion"
    },
    {
     "datasetId": 5999686,
     "sourceId": 9791270,
     "sourceType": "datasetVersion"
    }
   ],
   "dockerImageVersionId": 30786,
   "isGpuEnabled": false,
   "isInternetEnabled": true,
   "language": "python",
   "sourceType": "notebook"
  },
  "kernelspec": {
   "display_name": "Python 3",
   "language": "python",
   "name": "python3"
  },
  "language_info": {
   "codemirror_mode": {
    "name": "ipython",
    "version": 3
   },
   "file_extension": ".py",
   "mimetype": "text/x-python",
   "name": "python",
   "nbconvert_exporter": "python",
   "pygments_lexer": "ipython3",
   "version": "3.10.14"
  },
  "papermill": {
   "default_parameters": {},
   "duration": 80.528912,
   "end_time": "2024-11-05T02:40:51.915458",
   "environment_variables": {},
   "exception": null,
   "input_path": "__notebook__.ipynb",
   "output_path": "__notebook__.ipynb",
   "parameters": {},
   "start_time": "2024-11-05T02:39:31.386546",
   "version": "2.6.0"
  }
 },
 "nbformat": 4,
 "nbformat_minor": 5
}
