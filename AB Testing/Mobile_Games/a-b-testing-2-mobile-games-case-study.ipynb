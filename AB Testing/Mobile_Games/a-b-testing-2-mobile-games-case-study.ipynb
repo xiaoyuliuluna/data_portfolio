{
 "cells": [
  {
   "cell_type": "markdown",
   "id": "bc57e672",
   "metadata": {
    "papermill": {
     "duration": 0.020357,
     "end_time": "2024-10-09T19:33:28.957590",
     "exception": false,
     "start_time": "2024-10-09T19:33:28.937233",
     "status": "completed"
    },
    "tags": []
   },
   "source": [
    "#  2.1. Load the AB-test data"
   ]
  },
  {
   "cell_type": "code",
   "execution_count": 1,
   "id": "e628d9ea",
   "metadata": {
    "execution": {
     "iopub.execute_input": "2024-10-09T19:33:29.003904Z",
     "iopub.status.busy": "2024-10-09T19:33:29.002896Z",
     "iopub.status.idle": "2024-10-09T19:33:30.428664Z",
     "shell.execute_reply": "2024-10-09T19:33:30.426656Z"
    },
    "papermill": {
     "duration": 1.454129,
     "end_time": "2024-10-09T19:33:30.432087",
     "exception": false,
     "start_time": "2024-10-09T19:33:28.977958",
     "status": "completed"
    },
    "tags": []
   },
   "outputs": [
    {
     "data": {
      "text/html": [
       "<div>\n",
       "<style scoped>\n",
       "    .dataframe tbody tr th:only-of-type {\n",
       "        vertical-align: middle;\n",
       "    }\n",
       "\n",
       "    .dataframe tbody tr th {\n",
       "        vertical-align: top;\n",
       "    }\n",
       "\n",
       "    .dataframe thead th {\n",
       "        text-align: right;\n",
       "    }\n",
       "</style>\n",
       "<table border=\"1\" class=\"dataframe\">\n",
       "  <thead>\n",
       "    <tr style=\"text-align: right;\">\n",
       "      <th></th>\n",
       "      <th>userid</th>\n",
       "      <th>version</th>\n",
       "      <th>sum_gamerounds</th>\n",
       "      <th>retention_1</th>\n",
       "      <th>retention_7</th>\n",
       "    </tr>\n",
       "  </thead>\n",
       "  <tbody>\n",
       "    <tr>\n",
       "      <th>0</th>\n",
       "      <td>116</td>\n",
       "      <td>gate_30</td>\n",
       "      <td>3</td>\n",
       "      <td>False</td>\n",
       "      <td>False</td>\n",
       "    </tr>\n",
       "    <tr>\n",
       "      <th>1</th>\n",
       "      <td>337</td>\n",
       "      <td>gate_30</td>\n",
       "      <td>38</td>\n",
       "      <td>True</td>\n",
       "      <td>False</td>\n",
       "    </tr>\n",
       "    <tr>\n",
       "      <th>2</th>\n",
       "      <td>377</td>\n",
       "      <td>gate_40</td>\n",
       "      <td>165</td>\n",
       "      <td>True</td>\n",
       "      <td>False</td>\n",
       "    </tr>\n",
       "    <tr>\n",
       "      <th>3</th>\n",
       "      <td>483</td>\n",
       "      <td>gate_40</td>\n",
       "      <td>1</td>\n",
       "      <td>False</td>\n",
       "      <td>False</td>\n",
       "    </tr>\n",
       "    <tr>\n",
       "      <th>4</th>\n",
       "      <td>488</td>\n",
       "      <td>gate_40</td>\n",
       "      <td>179</td>\n",
       "      <td>True</td>\n",
       "      <td>True</td>\n",
       "    </tr>\n",
       "  </tbody>\n",
       "</table>\n",
       "</div>"
      ],
      "text/plain": [
       "   userid  version  sum_gamerounds  retention_1  retention_7\n",
       "0     116  gate_30               3        False        False\n",
       "1     337  gate_30              38         True        False\n",
       "2     377  gate_40             165         True        False\n",
       "3     483  gate_40               1        False        False\n",
       "4     488  gate_40             179         True         True"
      ]
     },
     "execution_count": 1,
     "metadata": {},
     "output_type": "execute_result"
    }
   ],
   "source": [
    "import pandas as pd\n",
    "import numpy as np\n",
    "import matplotlib.pyplot as plt\n",
    "\n",
    "%matplotlib inline\n",
    "\n",
    "df = pd.read_csv('/kaggle/input/ccookie_cats.csv')\n",
    "df.head()"
   ]
  },
  {
   "cell_type": "markdown",
   "id": "82b18260",
   "metadata": {
    "papermill": {
     "duration": 0.019142,
     "end_time": "2024-10-09T19:33:30.471673",
     "exception": false,
     "start_time": "2024-10-09T19:33:30.452531",
     "status": "completed"
    },
    "tags": []
   },
   "source": [
    "The data is from 90,189 players that installed the game while the AB-test was running. The variables are:\n",
    "\n",
    "* [userid](http://) - a unique number that identifies each player.\n",
    "* [version](http://) - whether the player was put in the control group (gate_30 - a gate at level 30) or the test group (gate_40 - a gate at level 40).\n",
    "* [sum_gamerounds](http://) - the number of game rounds played by the player during the first week after install\n",
    "* [retention_1](http://) - did the player come back and play 1 day after SEE THE GATE?\n",
    "* [retention_7](http://) - did the player come back and play 7 days after SEE THE GATE?\n",
    "* When a player installed the game, he or she was randomly assigned to either [gate_30](http://) or [gate_40](http://)."
   ]
  },
  {
   "cell_type": "markdown",
   "id": "1e7fc816",
   "metadata": {
    "papermill": {
     "duration": 0.02016,
     "end_time": "2024-10-09T19:33:30.512172",
     "exception": false,
     "start_time": "2024-10-09T19:33:30.492012",
     "status": "completed"
    },
    "tags": []
   },
   "source": [
    "# 2.2 Check missing values"
   ]
  },
  {
   "cell_type": "code",
   "execution_count": 2,
   "id": "8318ee6d",
   "metadata": {
    "execution": {
     "iopub.execute_input": "2024-10-09T19:33:30.555773Z",
     "iopub.status.busy": "2024-10-09T19:33:30.555214Z",
     "iopub.status.idle": "2024-10-09T19:33:30.602672Z",
     "shell.execute_reply": "2024-10-09T19:33:30.601154Z"
    },
    "papermill": {
     "duration": 0.074715,
     "end_time": "2024-10-09T19:33:30.607250",
     "exception": false,
     "start_time": "2024-10-09T19:33:30.532535",
     "status": "completed"
    },
    "tags": []
   },
   "outputs": [
    {
     "name": "stdout",
     "output_type": "stream",
     "text": [
      "<class 'pandas.core.frame.DataFrame'>\n",
      "RangeIndex: 90189 entries, 0 to 90188\n",
      "Data columns (total 5 columns):\n",
      " #   Column          Non-Null Count  Dtype \n",
      "---  ------          --------------  ----- \n",
      " 0   userid          90189 non-null  int64 \n",
      " 1   version         90189 non-null  object\n",
      " 2   sum_gamerounds  90189 non-null  int64 \n",
      " 3   retention_1     90189 non-null  bool  \n",
      " 4   retention_7     90189 non-null  bool  \n",
      "dtypes: bool(2), int64(2), object(1)\n",
      "memory usage: 2.2+ MB\n"
     ]
    }
   ],
   "source": [
    "df.info()"
   ]
  },
  {
   "cell_type": "markdown",
   "id": "2086a1b0",
   "metadata": {
    "papermill": {
     "duration": 0.021899,
     "end_time": "2024-10-09T19:33:30.651805",
     "exception": false,
     "start_time": "2024-10-09T19:33:30.629906",
     "status": "completed"
    },
    "tags": []
   },
   "source": [
    "Luckily, there is no missing value in this dataset."
   ]
  },
  {
   "cell_type": "markdown",
   "id": "f771c371",
   "metadata": {
    "papermill": {
     "duration": 0.018725,
     "end_time": "2024-10-09T19:33:30.690389",
     "exception": false,
     "start_time": "2024-10-09T19:33:30.671664",
     "status": "completed"
    },
    "tags": []
   },
   "source": [
    "# 2.3 Count the number of players in each group"
   ]
  },
  {
   "cell_type": "code",
   "execution_count": 3,
   "id": "5012dd41",
   "metadata": {
    "execution": {
     "iopub.execute_input": "2024-10-09T19:33:30.731480Z",
     "iopub.status.busy": "2024-10-09T19:33:30.730950Z",
     "iopub.status.idle": "2024-10-09T19:33:30.758101Z",
     "shell.execute_reply": "2024-10-09T19:33:30.756659Z"
    },
    "papermill": {
     "duration": 0.052085,
     "end_time": "2024-10-09T19:33:30.761638",
     "exception": false,
     "start_time": "2024-10-09T19:33:30.709553",
     "status": "completed"
    },
    "tags": []
   },
   "outputs": [
    {
     "data": {
      "text/html": [
       "<div>\n",
       "<style scoped>\n",
       "    .dataframe tbody tr th:only-of-type {\n",
       "        vertical-align: middle;\n",
       "    }\n",
       "\n",
       "    .dataframe tbody tr th {\n",
       "        vertical-align: top;\n",
       "    }\n",
       "\n",
       "    .dataframe thead th {\n",
       "        text-align: right;\n",
       "    }\n",
       "</style>\n",
       "<table border=\"1\" class=\"dataframe\">\n",
       "  <thead>\n",
       "    <tr style=\"text-align: right;\">\n",
       "      <th></th>\n",
       "      <th>userid</th>\n",
       "      <th>sum_gamerounds</th>\n",
       "      <th>retention_1</th>\n",
       "      <th>retention_7</th>\n",
       "    </tr>\n",
       "    <tr>\n",
       "      <th>version</th>\n",
       "      <th></th>\n",
       "      <th></th>\n",
       "      <th></th>\n",
       "      <th></th>\n",
       "    </tr>\n",
       "  </thead>\n",
       "  <tbody>\n",
       "    <tr>\n",
       "      <th>gate_30</th>\n",
       "      <td>44700</td>\n",
       "      <td>44700</td>\n",
       "      <td>44700</td>\n",
       "      <td>44700</td>\n",
       "    </tr>\n",
       "    <tr>\n",
       "      <th>gate_40</th>\n",
       "      <td>45489</td>\n",
       "      <td>45489</td>\n",
       "      <td>45489</td>\n",
       "      <td>45489</td>\n",
       "    </tr>\n",
       "  </tbody>\n",
       "</table>\n",
       "</div>"
      ],
      "text/plain": [
       "         userid  sum_gamerounds  retention_1  retention_7\n",
       "version                                                  \n",
       "gate_30   44700           44700        44700        44700\n",
       "gate_40   45489           45489        45489        45489"
      ]
     },
     "execution_count": 3,
     "metadata": {},
     "output_type": "execute_result"
    }
   ],
   "source": [
    "df.groupby('version').count()"
   ]
  },
  {
   "cell_type": "markdown",
   "id": "f934787a",
   "metadata": {
    "papermill": {
     "duration": 0.020657,
     "end_time": "2024-10-09T19:33:30.802925",
     "exception": false,
     "start_time": "2024-10-09T19:33:30.782268",
     "status": "completed"
    },
    "tags": []
   },
   "source": [
    "When a player installed the game, he or she was randomly assigned to either gate_30 or gate_40. The number of players is roughly the same in the control and test group, nice!"
   ]
  },
  {
   "cell_type": "markdown",
   "id": "2c97ceea",
   "metadata": {
    "papermill": {
     "duration": 0.019209,
     "end_time": "2024-10-09T19:33:30.842288",
     "exception": false,
     "start_time": "2024-10-09T19:33:30.823079",
     "status": "completed"
    },
    "tags": []
   },
   "source": [
    "# Analyzing Player Behavior"
   ]
  },
  {
   "cell_type": "markdown",
   "id": "34fe614f",
   "metadata": {
    "papermill": {
     "duration": 0.019863,
     "end_time": "2024-10-09T19:33:30.882506",
     "exception": false,
     "start_time": "2024-10-09T19:33:30.862643",
     "status": "completed"
    },
    "tags": []
   },
   "source": [
    "We will plot a boxplot to visualize the distribution of 'sum_gamerounds', which would give us a rough idea of how many game rounds were played by a player during the first week after installing the game."
   ]
  },
  {
   "cell_type": "code",
   "execution_count": 4,
   "id": "5e0062ca",
   "metadata": {
    "execution": {
     "iopub.execute_input": "2024-10-09T19:33:30.927884Z",
     "iopub.status.busy": "2024-10-09T19:33:30.926688Z",
     "iopub.status.idle": "2024-10-09T19:33:31.265072Z",
     "shell.execute_reply": "2024-10-09T19:33:31.263802Z"
    },
    "papermill": {
     "duration": 0.363736,
     "end_time": "2024-10-09T19:33:31.267893",
     "exception": false,
     "start_time": "2024-10-09T19:33:30.904157",
     "status": "completed"
    },
    "tags": []
   },
   "outputs": [
    {
     "data": {
      "text/plain": [
       "<Axes: >"
      ]
     },
     "execution_count": 4,
     "metadata": {},
     "output_type": "execute_result"
    },
    {
     "data": {
      "image/png": "[encoded data removed]",
      "text/plain": [
       "<Figure size 640x480 with 1 Axes>"
      ]
     },
     "metadata": {},
     "output_type": "display_data"
    }
   ],
   "source": [
    "df['sum_gamerounds'].plot.box()"
   ]
  },
  {
   "cell_type": "markdown",
   "id": "a9cfaba0",
   "metadata": {
    "papermill": {
     "duration": 0.019001,
     "end_time": "2024-10-09T19:33:31.307086",
     "exception": false,
     "start_time": "2024-10-09T19:33:31.288085",
     "status": "completed"
    },
    "tags": []
   },
   "source": [
    "Clearly, there is an outlier. This player played about 50,000 game rounds during the first week! Due to this outlier, this boxplot is extremely skewed and not very informative. To learn about the behavior of the majority of the players, we will check the percentiles."
   ]
  },
  {
   "cell_type": "code",
   "execution_count": 5,
   "id": "2291dd01",
   "metadata": {
    "execution": {
     "iopub.execute_input": "2024-10-09T19:33:31.348237Z",
     "iopub.status.busy": "2024-10-09T19:33:31.347749Z",
     "iopub.status.idle": "2024-10-09T19:33:31.367853Z",
     "shell.execute_reply": "2024-10-09T19:33:31.366652Z"
    },
    "papermill": {
     "duration": 0.04383,
     "end_time": "2024-10-09T19:33:31.370484",
     "exception": false,
     "start_time": "2024-10-09T19:33:31.326654",
     "status": "completed"
    },
    "tags": []
   },
   "outputs": [
    {
     "data": {
      "text/plain": [
       "count    90189.000000\n",
       "mean        51.872457\n",
       "std        195.050858\n",
       "min          0.000000\n",
       "25%          5.000000\n",
       "50%         16.000000\n",
       "75%         51.000000\n",
       "max      49854.000000\n",
       "Name: sum_gamerounds, dtype: float64"
      ]
     },
     "execution_count": 5,
     "metadata": {},
     "output_type": "execute_result"
    }
   ],
   "source": [
    "df['sum_gamerounds'].describe()"
   ]
  },
  {
   "cell_type": "code",
   "execution_count": 6,
   "id": "5ee1fc5d",
   "metadata": {
    "execution": {
     "iopub.execute_input": "2024-10-09T19:33:31.413042Z",
     "iopub.status.busy": "2024-10-09T19:33:31.412638Z",
     "iopub.status.idle": "2024-10-09T19:33:31.425200Z",
     "shell.execute_reply": "2024-10-09T19:33:31.423925Z"
    },
    "papermill": {
     "duration": 0.037356,
     "end_time": "2024-10-09T19:33:31.428187",
     "exception": false,
     "start_time": "2024-10-09T19:33:31.390831",
     "status": "completed"
    },
    "tags": []
   },
   "outputs": [
    {
     "data": {
      "text/plain": [
       "sum_gamerounds\n",
       "0        3994\n",
       "1        5538\n",
       "2        4606\n",
       "3        3958\n",
       "4        3629\n",
       "         ... \n",
       "2294        1\n",
       "2438        1\n",
       "2640        1\n",
       "2961        1\n",
       "49854       1\n",
       "Name: userid, Length: 942, dtype: int64"
      ]
     },
     "execution_count": 6,
     "metadata": {},
     "output_type": "execute_result"
    }
   ],
   "source": [
    "# Counting the number of players for each number of gamerounds\n",
    "plot_df=df.groupby('sum_gamerounds')['userid'].count()\n",
    "plot_df"
   ]
  },
  {
   "cell_type": "markdown",
   "id": "e8fa570f",
   "metadata": {
    "papermill": {
     "duration": 0.0203,
     "end_time": "2024-10-09T19:33:31.468846",
     "exception": false,
     "start_time": "2024-10-09T19:33:31.448546",
     "status": "completed"
    },
    "tags": []
   },
   "source": [
    "As we can see, 50% of players played fewer than 16 game rounds during the first week after installation, and 75% of players played fewer than 51 rounds.\n",
    "\n",
    "Nearly 4000 players did not even play a single round after installation. Possible reasons may include:\n",
    "\n",
    "They downloaded a number of new games at the same time and were attracted by other games.\n",
    "They opened the app but did not like the design/interface/music, so they quit even before playing the game.\n",
    "They have not started playing the game yet.\n",
    "......\n",
    "Another number worth attention is that more than 14,000 players played fewer than three rounds. For these players, the reasons for leaving may include:\n",
    "\n",
    "They did not enjoy the game. (This is probably the most common reason).\n",
    "The game turned out to be different from what they expected.\n",
    "The game was too easy and they got bored of it.\n",
    "......\n",
    "It is important to understand why a large number of players quit the game at an early stage. Tactile Entertainment can try to collect player feedback, for example, through an in-app survey."
   ]
  },
  {
   "cell_type": "code",
   "execution_count": 7,
   "id": "cd72f7bf",
   "metadata": {
    "execution": {
     "iopub.execute_input": "2024-10-09T19:33:31.511471Z",
     "iopub.status.busy": "2024-10-09T19:33:31.510059Z",
     "iopub.status.idle": "2024-10-09T19:33:31.862322Z",
     "shell.execute_reply": "2024-10-09T19:33:31.861165Z"
    },
    "papermill": {
     "duration": 0.376306,
     "end_time": "2024-10-09T19:33:31.865085",
     "exception": false,
     "start_time": "2024-10-09T19:33:31.488779",
     "status": "completed"
    },
    "tags": []
   },
   "outputs": [
    {
     "data": {
      "text/plain": [
       "Text(0.5, 0, '# Game rounds')"
      ]
     },
     "execution_count": 7,
     "metadata": {},
     "output_type": "execute_result"
    },
    {
     "data": {
      "image/png": "[encoded data removed]",
      "text/plain": [
       "<Figure size 640x480 with 1 Axes>"
      ]
     },
     "metadata": {},
     "output_type": "display_data"
    }
   ],
   "source": [
    "# Plot the distribution of players that played 0 to 100 game rounds during their first week playing the game.\n",
    "%matplotlib inline\n",
    "\n",
    "ax = plot_df[:100].plot()\n",
    "ax.set_title(\"The number of players that played 0-100 game rounds during the first week\")\n",
    "ax.set_ylabel(\"Number of Players\")\n",
    "ax.set_xlabel('# Game rounds')"
   ]
  },
  {
   "cell_type": "markdown",
   "id": "6e160878",
   "metadata": {
    "papermill": {
     "duration": 0.020421,
     "end_time": "2024-10-09T19:33:31.906990",
     "exception": false,
     "start_time": "2024-10-09T19:33:31.886569",
     "status": "completed"
    },
    "tags": []
   },
   "source": [
    "The distribution is highly skewed, with a long tail on the right. A huge number of players played fewer than 20 rounds and left the game. For rounds greater than 60, the number of players stayed steady at about 300."
   ]
  },
  {
   "cell_type": "markdown",
   "id": "cf878753",
   "metadata": {
    "papermill": {
     "duration": 0.021146,
     "end_time": "2024-10-09T19:33:31.948886",
     "exception": false,
     "start_time": "2024-10-09T19:33:31.927740",
     "status": "completed"
    },
    "tags": []
   },
   "source": [
    "# Customer Segmentation"
   ]
  },
  {
   "cell_type": "code",
   "execution_count": 8,
   "id": "124e6099",
   "metadata": {
    "execution": {
     "iopub.execute_input": "2024-10-09T19:33:31.996769Z",
     "iopub.status.busy": "2024-10-09T19:33:31.996242Z",
     "iopub.status.idle": "2024-10-09T19:33:34.951269Z",
     "shell.execute_reply": "2024-10-09T19:33:34.950147Z"
    },
    "papermill": {
     "duration": 2.982678,
     "end_time": "2024-10-09T19:33:34.953814",
     "exception": false,
     "start_time": "2024-10-09T19:33:31.971136",
     "status": "completed"
    },
    "tags": []
   },
   "outputs": [
    {
     "data": {
      "image/png": "[encoded data removed]",
      "text/plain": [
       "<Figure size 800x600 with 2 Axes>"
      ]
     },
     "metadata": {},
     "output_type": "display_data"
    },
    {
     "data": {
      "image/png": "[encoded data removed]",
      "text/plain": [
       "<Figure size 800x600 with 2 Axes>"
      ]
     },
     "metadata": {},
     "output_type": "display_data"
    }
   ],
   "source": [
    "# correlation analysis on sum_gamerounds\n",
    "import seaborn as sns\n",
    "# Convert booleans to integers for easier aggregation\n",
    "df['retention_1'] = df['retention_1'].astype(int)\n",
    "df['retention_7'] = df['retention_7'].astype(int)\n",
    "\n",
    "# Filter data for gate_30 and gate_40 separately\n",
    "df_gate_30 = df[df['version'] == 'gate_30']\n",
    "df_gate_40 = df[df['version'] == 'gate_40']\n",
    "\n",
    "# Pivot table for gate_30\n",
    "pivot_gate_30 = pd.pivot_table(df_gate_30, values='sum_gamerounds', \n",
    "                               index='retention_1', columns='retention_7', \n",
    "                               aggfunc='sum')\n",
    "\n",
    "# Pivot table for gate_40\n",
    "pivot_gate_40 = pd.pivot_table(df_gate_40, values='sum_gamerounds', \n",
    "                               index='retention_1', columns='retention_7', \n",
    "                               aggfunc='sum')\n",
    "\n",
    "# Plotting the heatmap for gate_30\n",
    "plt.figure(figsize=(8, 6))\n",
    "sns.heatmap(pivot_gate_30, annot=True, cmap='Blues')\n",
    "plt.title('Heatmap of Sum Gamerounds for Gate_30')\n",
    "plt.xlabel('Retention_7')\n",
    "plt.ylabel('Retention_1')\n",
    "plt.show()\n",
    "\n",
    "# Plotting the heatmap for gate_40\n",
    "plt.figure(figsize=(8, 6))\n",
    "sns.heatmap(pivot_gate_40, annot=True, cmap='Greens')\n",
    "plt.title('Heatmap of Sum Gamerounds for Gate_40')\n",
    "plt.xlabel('Retention_7')\n",
    "plt.ylabel('Retention_1')\n",
    "plt.show()"
   ]
  },
  {
   "cell_type": "code",
   "execution_count": 9,
   "id": "a122b12c",
   "metadata": {
    "execution": {
     "iopub.execute_input": "2024-10-09T19:33:35.001310Z",
     "iopub.status.busy": "2024-10-09T19:33:35.000436Z",
     "iopub.status.idle": "2024-10-09T19:33:35.129475Z",
     "shell.execute_reply": "2024-10-09T19:33:35.128149Z"
    },
    "papermill": {
     "duration": 0.15578,
     "end_time": "2024-10-09T19:33:35.132230",
     "exception": false,
     "start_time": "2024-10-09T19:33:34.976450",
     "status": "completed"
    },
    "tags": []
   },
   "outputs": [
    {
     "data": {
      "text/plain": [
       "0        0_0\n",
       "1        1_0\n",
       "2        1_0\n",
       "3        0_0\n",
       "4        1_1\n",
       "        ... \n",
       "90184    1_0\n",
       "90185    0_0\n",
       "90186    1_0\n",
       "90187    1_0\n",
       "90188    0_0\n",
       "Name: customer_group, Length: 90189, dtype: object"
      ]
     },
     "execution_count": 9,
     "metadata": {},
     "output_type": "execute_result"
    }
   ],
   "source": [
    "df['customer_group'] = df['retention_1'].astype(str) + \"_\" + df['retention_7'].astype(str)\n",
    "df['customer_group']"
   ]
  },
  {
   "cell_type": "code",
   "execution_count": 10,
   "id": "c8a87616",
   "metadata": {
    "execution": {
     "iopub.execute_input": "2024-10-09T19:33:35.182213Z",
     "iopub.status.busy": "2024-10-09T19:33:35.181665Z",
     "iopub.status.idle": "2024-10-09T19:33:35.206759Z",
     "shell.execute_reply": "2024-10-09T19:33:35.205210Z"
    },
    "papermill": {
     "duration": 0.053239,
     "end_time": "2024-10-09T19:33:35.209447",
     "exception": false,
     "start_time": "2024-10-09T19:33:35.156208",
     "status": "completed"
    },
    "tags": []
   },
   "outputs": [
    {
     "data": {
      "text/html": [
       "<div>\n",
       "<style scoped>\n",
       "    .dataframe tbody tr th:only-of-type {\n",
       "        vertical-align: middle;\n",
       "    }\n",
       "\n",
       "    .dataframe tbody tr th {\n",
       "        vertical-align: top;\n",
       "    }\n",
       "\n",
       "    .dataframe thead th {\n",
       "        text-align: right;\n",
       "    }\n",
       "</style>\n",
       "<table border=\"1\" class=\"dataframe\">\n",
       "  <thead>\n",
       "    <tr style=\"text-align: right;\">\n",
       "      <th></th>\n",
       "      <th>userid</th>\n",
       "      <th>version</th>\n",
       "      <th>sum_gamerounds</th>\n",
       "      <th>retention_1</th>\n",
       "      <th>retention_7</th>\n",
       "      <th>customer_group</th>\n",
       "    </tr>\n",
       "  </thead>\n",
       "  <tbody>\n",
       "    <tr>\n",
       "      <th>0</th>\n",
       "      <td>116</td>\n",
       "      <td>gate_30</td>\n",
       "      <td>3</td>\n",
       "      <td>0</td>\n",
       "      <td>0</td>\n",
       "      <td>0_0</td>\n",
       "    </tr>\n",
       "    <tr>\n",
       "      <th>1</th>\n",
       "      <td>337</td>\n",
       "      <td>gate_30</td>\n",
       "      <td>38</td>\n",
       "      <td>1</td>\n",
       "      <td>0</td>\n",
       "      <td>1_0</td>\n",
       "    </tr>\n",
       "    <tr>\n",
       "      <th>2</th>\n",
       "      <td>377</td>\n",
       "      <td>gate_40</td>\n",
       "      <td>165</td>\n",
       "      <td>1</td>\n",
       "      <td>0</td>\n",
       "      <td>1_0</td>\n",
       "    </tr>\n",
       "    <tr>\n",
       "      <th>3</th>\n",
       "      <td>483</td>\n",
       "      <td>gate_40</td>\n",
       "      <td>1</td>\n",
       "      <td>0</td>\n",
       "      <td>0</td>\n",
       "      <td>0_0</td>\n",
       "    </tr>\n",
       "    <tr>\n",
       "      <th>4</th>\n",
       "      <td>488</td>\n",
       "      <td>gate_40</td>\n",
       "      <td>179</td>\n",
       "      <td>1</td>\n",
       "      <td>1</td>\n",
       "      <td>1_1</td>\n",
       "    </tr>\n",
       "    <tr>\n",
       "      <th>...</th>\n",
       "      <td>...</td>\n",
       "      <td>...</td>\n",
       "      <td>...</td>\n",
       "      <td>...</td>\n",
       "      <td>...</td>\n",
       "      <td>...</td>\n",
       "    </tr>\n",
       "    <tr>\n",
       "      <th>90184</th>\n",
       "      <td>9999441</td>\n",
       "      <td>gate_40</td>\n",
       "      <td>97</td>\n",
       "      <td>1</td>\n",
       "      <td>0</td>\n",
       "      <td>1_0</td>\n",
       "    </tr>\n",
       "    <tr>\n",
       "      <th>90185</th>\n",
       "      <td>9999479</td>\n",
       "      <td>gate_40</td>\n",
       "      <td>30</td>\n",
       "      <td>0</td>\n",
       "      <td>0</td>\n",
       "      <td>0_0</td>\n",
       "    </tr>\n",
       "    <tr>\n",
       "      <th>90186</th>\n",
       "      <td>9999710</td>\n",
       "      <td>gate_30</td>\n",
       "      <td>28</td>\n",
       "      <td>1</td>\n",
       "      <td>0</td>\n",
       "      <td>1_0</td>\n",
       "    </tr>\n",
       "    <tr>\n",
       "      <th>90187</th>\n",
       "      <td>9999768</td>\n",
       "      <td>gate_40</td>\n",
       "      <td>51</td>\n",
       "      <td>1</td>\n",
       "      <td>0</td>\n",
       "      <td>1_0</td>\n",
       "    </tr>\n",
       "    <tr>\n",
       "      <th>90188</th>\n",
       "      <td>9999861</td>\n",
       "      <td>gate_40</td>\n",
       "      <td>16</td>\n",
       "      <td>0</td>\n",
       "      <td>0</td>\n",
       "      <td>0_0</td>\n",
       "    </tr>\n",
       "  </tbody>\n",
       "</table>\n",
       "<p>90188 rows × 6 columns</p>\n",
       "</div>"
      ],
      "text/plain": [
       "        userid  version  sum_gamerounds  retention_1  retention_7  \\\n",
       "0          116  gate_30               3            0            0   \n",
       "1          337  gate_30              38            1            0   \n",
       "2          377  gate_40             165            1            0   \n",
       "3          483  gate_40               1            0            0   \n",
       "4          488  gate_40             179            1            1   \n",
       "...        ...      ...             ...          ...          ...   \n",
       "90184  9999441  gate_40              97            1            0   \n",
       "90185  9999479  gate_40              30            0            0   \n",
       "90186  9999710  gate_30              28            1            0   \n",
       "90187  9999768  gate_40              51            1            0   \n",
       "90188  9999861  gate_40              16            0            0   \n",
       "\n",
       "      customer_group  \n",
       "0                0_0  \n",
       "1                1_0  \n",
       "2                1_0  \n",
       "3                0_0  \n",
       "4                1_1  \n",
       "...              ...  \n",
       "90184            1_0  \n",
       "90185            0_0  \n",
       "90186            1_0  \n",
       "90187            1_0  \n",
       "90188            0_0  \n",
       "\n",
       "[90188 rows x 6 columns]"
      ]
     },
     "execution_count": 10,
     "metadata": {},
     "output_type": "execute_result"
    }
   ],
   "source": [
    "#remove outlier\n",
    "df_filtered = df[df['sum_gamerounds'] <= 10000]\n",
    "df_filtered"
   ]
  },
  {
   "cell_type": "code",
   "execution_count": 11,
   "id": "7ae87a7a",
   "metadata": {
    "execution": {
     "iopub.execute_input": "2024-10-09T19:33:35.256538Z",
     "iopub.status.busy": "2024-10-09T19:33:35.255967Z",
     "iopub.status.idle": "2024-10-09T19:33:36.717516Z",
     "shell.execute_reply": "2024-10-09T19:33:36.716445Z"
    },
    "papermill": {
     "duration": 1.48826,
     "end_time": "2024-10-09T19:33:36.720275",
     "exception": false,
     "start_time": "2024-10-09T19:33:35.232015",
     "status": "completed"
    },
    "tags": []
   },
   "outputs": [
    {
     "name": "stderr",
     "output_type": "stream",
     "text": [
      "/tmp/ipykernel_17/4218035567.py:3: SettingWithCopyWarning: \n",
      "A value is trying to be set on a copy of a slice from a DataFrame.\n",
      "Try using .loc[row_indexer,col_indexer] = value instead\n",
      "\n",
      "See the caveats in the documentation: https://pandas.pydata.org/pandas-docs/stable/user_guide/indexing.html#returning-a-view-versus-a-copy\n",
      "  df_filtered['retention_1'] = df_filtered['retention_1'].astype(int)\n",
      "/tmp/ipykernel_17/4218035567.py:4: SettingWithCopyWarning: \n",
      "A value is trying to be set on a copy of a slice from a DataFrame.\n",
      "Try using .loc[row_indexer,col_indexer] = value instead\n",
      "\n",
      "See the caveats in the documentation: https://pandas.pydata.org/pandas-docs/stable/user_guide/indexing.html#returning-a-view-versus-a-copy\n",
      "  df_filtered['retention_7'] = df_filtered['retention_7'].astype(int)\n",
      "/tmp/ipykernel_17/4218035567.py:7: SettingWithCopyWarning: \n",
      "A value is trying to be set on a copy of a slice from a DataFrame.\n",
      "Try using .loc[row_indexer,col_indexer] = value instead\n",
      "\n",
      "See the caveats in the documentation: https://pandas.pydata.org/pandas-docs/stable/user_guide/indexing.html#returning-a-view-versus-a-copy\n",
      "  df_filtered['customer_group'] = 'ret_1=' + df_filtered['retention_1'].astype(str) + ' & ret_7=' + df_filtered['retention_7'].astype(str)\n"
     ]
    },
    {
     "data": {
      "image/png": "[encoded data removed]",
      "text/plain": [
       "<Figure size 800x600 with 1 Axes>"
      ]
     },
     "metadata": {},
     "output_type": "display_data"
    }
   ],
   "source": [
    "# Customer Segmentation\n",
    "# Convert booleans to integers for easier grouping\n",
    "df_filtered['retention_1'] = df_filtered['retention_1'].astype(int)\n",
    "df_filtered['retention_7'] = df_filtered['retention_7'].astype(int)\n",
    "\n",
    "# Create a new column for the four customer groups based on retention_1 and retention_7\n",
    "df_filtered['customer_group'] = 'ret_1=' + df_filtered['retention_1'].astype(str) + ' & ret_7=' + df_filtered['retention_7'].astype(str)\n",
    "\n",
    "# Plotting the scatter plot\n",
    "plt.figure(figsize=(8, 6))\n",
    "sns.violinplot(data=df_filtered, x='customer_group', y='sum_gamerounds', hue='version', palette='Set1')\n",
    "\n",
    "# Adding titles and labels\n",
    "plt.title('Scatter Plot of Sum Gamerounds by Customer Group (Retention 1 and Retention 7)')\n",
    "plt.xlabel('Customer Group (Base on retention rate after 1 day an 7 days)')\n",
    "plt.ylabel('Sum Gamerounds')\n",
    "\n",
    "plt.show()"
   ]
  },
  {
   "cell_type": "markdown",
   "id": "a45d4cbd",
   "metadata": {
    "papermill": {
     "duration": 0.023182,
     "end_time": "2024-10-09T19:33:36.767561",
     "exception": false,
     "start_time": "2024-10-09T19:33:36.744379",
     "status": "completed"
    },
    "tags": []
   },
   "source": [
    "# Comparing 1-day Retention"
   ]
  },
  {
   "cell_type": "markdown",
   "id": "10dc769b",
   "metadata": {
    "papermill": {
     "duration": 0.023668,
     "end_time": "2024-10-09T19:33:36.815293",
     "exception": false,
     "start_time": "2024-10-09T19:33:36.791625",
     "status": "completed"
    },
    "tags": []
   },
   "source": [
    "In the plot above we can see that some players install the game but then never play it, some players just play a couple of game rounds in their first week, and some get really hooked! What we want is for players to like the game and to get hooked.\n",
    "\n",
    "A common metric in the video gaming industry for how fun and engaging a game is 1-day retention: the percentage of players that comes back and plays the game one day after they have installed it. The higher 1-day retention is, the easier it is to retain players and build a large player base."
   ]
  },
  {
   "cell_type": "markdown",
   "id": "30cdcf74",
   "metadata": {
    "papermill": {
     "duration": 0.02341,
     "end_time": "2024-10-09T19:33:36.863028",
     "exception": false,
     "start_time": "2024-10-09T19:33:36.839618",
     "status": "completed"
    },
    "tags": []
   },
   "source": [
    "**Overall 1-day retention**"
   ]
  },
  {
   "cell_type": "code",
   "execution_count": 12,
   "id": "beb6c371",
   "metadata": {
    "execution": {
     "iopub.execute_input": "2024-10-09T19:33:36.912348Z",
     "iopub.status.busy": "2024-10-09T19:33:36.911910Z",
     "iopub.status.idle": "2024-10-09T19:33:36.920601Z",
     "shell.execute_reply": "2024-10-09T19:33:36.919538Z"
    },
    "papermill": {
     "duration": 0.036414,
     "end_time": "2024-10-09T19:33:36.923182",
     "exception": false,
     "start_time": "2024-10-09T19:33:36.886768",
     "status": "completed"
    },
    "tags": []
   },
   "outputs": [
    {
     "data": {
      "text/plain": [
       "0.4452095044850259"
      ]
     },
     "execution_count": 12,
     "metadata": {},
     "output_type": "execute_result"
    }
   ],
   "source": [
    "df['retention_1'].sum()/df['retention_1'].count()"
   ]
  },
  {
   "cell_type": "markdown",
   "id": "676b00a9",
   "metadata": {
    "papermill": {
     "duration": 0.023684,
     "end_time": "2024-10-09T19:33:36.972368",
     "exception": false,
     "start_time": "2024-10-09T19:33:36.948684",
     "status": "completed"
    },
    "tags": []
   },
   "source": [
    "A little less than half of the players come back one day after installing the game. Now that we have a benchmark, let's look at how 1-day retention differs between the two AB-groups."
   ]
  },
  {
   "cell_type": "markdown",
   "id": "88b4678b",
   "metadata": {
    "papermill": {
     "duration": 0.024415,
     "end_time": "2024-10-09T19:33:37.021040",
     "exception": false,
     "start_time": "2024-10-09T19:33:36.996625",
     "status": "completed"
    },
    "tags": []
   },
   "source": [
    "**1-day retention for each AB-group**"
   ]
  },
  {
   "cell_type": "code",
   "execution_count": 13,
   "id": "eba7e293",
   "metadata": {
    "execution": {
     "iopub.execute_input": "2024-10-09T19:33:37.071952Z",
     "iopub.status.busy": "2024-10-09T19:33:37.071497Z",
     "iopub.status.idle": "2024-10-09T19:33:37.093356Z",
     "shell.execute_reply": "2024-10-09T19:33:37.091830Z"
    },
    "papermill": {
     "duration": 0.051041,
     "end_time": "2024-10-09T19:33:37.096069",
     "exception": false,
     "start_time": "2024-10-09T19:33:37.045028",
     "status": "completed"
    },
    "tags": []
   },
   "outputs": [
    {
     "data": {
      "text/plain": [
       "version\n",
       "gate_30    0.448188\n",
       "gate_40    0.442283\n",
       "Name: retention_1, dtype: float64"
      ]
     },
     "execution_count": 13,
     "metadata": {},
     "output_type": "execute_result"
    }
   ],
   "source": [
    "df.groupby('version')['retention_1'].mean()"
   ]
  },
  {
   "cell_type": "markdown",
   "id": "b2d30b6b",
   "metadata": {
    "papermill": {
     "duration": 0.023862,
     "end_time": "2024-10-09T19:33:37.144626",
     "exception": false,
     "start_time": "2024-10-09T19:33:37.120764",
     "status": "completed"
    },
    "tags": []
   },
   "source": [
    "It appears that there was a slight decrease in 1-day retention when the gate was moved to level 40 (44.2%) compared to the control when it was at level 30 (44.8%). It's a small change, but even small changes in retention can have a large impact. But while we are certain of the difference in the data, how certain should we be that a gate at level 40 will be worse in the future?\n",
    "\n",
    "There are a couple of ways we can get at the certainty of these retention numbers. Here we will use bootstrapping: We will repeatedly re-sample our dataset (with replacement) and calculate 1-day retention for those samples. The variation in 1-day retention will give us an indication of how uncertain the retention numbers are."
   ]
  },
  {
   "cell_type": "markdown",
   "id": "d249aeb7",
   "metadata": {
    "papermill": {
     "duration": 0.025056,
     "end_time": "2024-10-09T19:33:37.194802",
     "exception": false,
     "start_time": "2024-10-09T19:33:37.169746",
     "status": "completed"
    },
    "tags": []
   },
   "source": [
    "# Methond1: Bootstrapping"
   ]
  },
  {
   "cell_type": "markdown",
   "id": "fb1afbcb",
   "metadata": {
    "papermill": {
     "duration": 0.023925,
     "end_time": "2024-10-09T19:33:37.244439",
     "exception": false,
     "start_time": "2024-10-09T19:33:37.220514",
     "status": "completed"
    },
    "tags": []
   },
   "source": [
    "**Retention_1**"
   ]
  },
  {
   "cell_type": "code",
   "execution_count": 14,
   "id": "b7ee05e9",
   "metadata": {
    "execution": {
     "iopub.execute_input": "2024-10-09T19:33:37.294760Z",
     "iopub.status.busy": "2024-10-09T19:33:37.294263Z",
     "iopub.status.idle": "2024-10-09T19:33:37.324658Z",
     "shell.execute_reply": "2024-10-09T19:33:37.323369Z"
    },
    "papermill": {
     "duration": 0.058938,
     "end_time": "2024-10-09T19:33:37.327502",
     "exception": false,
     "start_time": "2024-10-09T19:33:37.268564",
     "status": "completed"
    },
    "tags": []
   },
   "outputs": [
    {
     "data": {
      "text/html": [
       "<div>\n",
       "<style scoped>\n",
       "    .dataframe tbody tr th:only-of-type {\n",
       "        vertical-align: middle;\n",
       "    }\n",
       "\n",
       "    .dataframe tbody tr th {\n",
       "        vertical-align: top;\n",
       "    }\n",
       "\n",
       "    .dataframe thead th {\n",
       "        text-align: right;\n",
       "    }\n",
       "</style>\n",
       "<table border=\"1\" class=\"dataframe\">\n",
       "  <thead>\n",
       "    <tr style=\"text-align: right;\">\n",
       "      <th></th>\n",
       "      <th>userid</th>\n",
       "      <th>version</th>\n",
       "      <th>sum_gamerounds</th>\n",
       "      <th>retention_1</th>\n",
       "      <th>retention_7</th>\n",
       "      <th>customer_group</th>\n",
       "    </tr>\n",
       "  </thead>\n",
       "  <tbody>\n",
       "    <tr>\n",
       "      <th>83624</th>\n",
       "      <td>9267850</td>\n",
       "      <td>gate_30</td>\n",
       "      <td>134</td>\n",
       "      <td>1</td>\n",
       "      <td>0</td>\n",
       "      <td>1_0</td>\n",
       "    </tr>\n",
       "    <tr>\n",
       "      <th>87606</th>\n",
       "      <td>9705229</td>\n",
       "      <td>gate_30</td>\n",
       "      <td>69</td>\n",
       "      <td>1</td>\n",
       "      <td>0</td>\n",
       "      <td>1_0</td>\n",
       "    </tr>\n",
       "    <tr>\n",
       "      <th>81074</th>\n",
       "      <td>8977981</td>\n",
       "      <td>gate_40</td>\n",
       "      <td>151</td>\n",
       "      <td>1</td>\n",
       "      <td>0</td>\n",
       "      <td>1_0</td>\n",
       "    </tr>\n",
       "    <tr>\n",
       "      <th>75485</th>\n",
       "      <td>8359398</td>\n",
       "      <td>gate_30</td>\n",
       "      <td>24</td>\n",
       "      <td>1</td>\n",
       "      <td>0</td>\n",
       "      <td>1_0</td>\n",
       "    </tr>\n",
       "    <tr>\n",
       "      <th>62577</th>\n",
       "      <td>6933081</td>\n",
       "      <td>gate_40</td>\n",
       "      <td>2</td>\n",
       "      <td>0</td>\n",
       "      <td>0</td>\n",
       "      <td>0_0</td>\n",
       "    </tr>\n",
       "    <tr>\n",
       "      <th>...</th>\n",
       "      <td>...</td>\n",
       "      <td>...</td>\n",
       "      <td>...</td>\n",
       "      <td>...</td>\n",
       "      <td>...</td>\n",
       "      <td>...</td>\n",
       "    </tr>\n",
       "    <tr>\n",
       "      <th>16017</th>\n",
       "      <td>1778793</td>\n",
       "      <td>gate_30</td>\n",
       "      <td>20</td>\n",
       "      <td>1</td>\n",
       "      <td>0</td>\n",
       "      <td>1_0</td>\n",
       "    </tr>\n",
       "    <tr>\n",
       "      <th>42398</th>\n",
       "      <td>4689837</td>\n",
       "      <td>gate_40</td>\n",
       "      <td>9</td>\n",
       "      <td>0</td>\n",
       "      <td>0</td>\n",
       "      <td>0_0</td>\n",
       "    </tr>\n",
       "    <tr>\n",
       "      <th>21705</th>\n",
       "      <td>2416554</td>\n",
       "      <td>gate_40</td>\n",
       "      <td>61</td>\n",
       "      <td>1</td>\n",
       "      <td>1</td>\n",
       "      <td>1_1</td>\n",
       "    </tr>\n",
       "    <tr>\n",
       "      <th>87570</th>\n",
       "      <td>9701131</td>\n",
       "      <td>gate_40</td>\n",
       "      <td>27</td>\n",
       "      <td>1</td>\n",
       "      <td>1</td>\n",
       "      <td>1_1</td>\n",
       "    </tr>\n",
       "    <tr>\n",
       "      <th>31423</th>\n",
       "      <td>3496635</td>\n",
       "      <td>gate_40</td>\n",
       "      <td>31</td>\n",
       "      <td>1</td>\n",
       "      <td>0</td>\n",
       "      <td>1_0</td>\n",
       "    </tr>\n",
       "  </tbody>\n",
       "</table>\n",
       "<p>90189 rows × 6 columns</p>\n",
       "</div>"
      ],
      "text/plain": [
       "        userid  version  sum_gamerounds  retention_1  retention_7  \\\n",
       "83624  9267850  gate_30             134            1            0   \n",
       "87606  9705229  gate_30              69            1            0   \n",
       "81074  8977981  gate_40             151            1            0   \n",
       "75485  8359398  gate_30              24            1            0   \n",
       "62577  6933081  gate_40               2            0            0   \n",
       "...        ...      ...             ...          ...          ...   \n",
       "16017  1778793  gate_30              20            1            0   \n",
       "42398  4689837  gate_40               9            0            0   \n",
       "21705  2416554  gate_40              61            1            1   \n",
       "87570  9701131  gate_40              27            1            1   \n",
       "31423  3496635  gate_40              31            1            0   \n",
       "\n",
       "      customer_group  \n",
       "83624            1_0  \n",
       "87606            1_0  \n",
       "81074            1_0  \n",
       "75485            1_0  \n",
       "62577            0_0  \n",
       "...              ...  \n",
       "16017            1_0  \n",
       "42398            0_0  \n",
       "21705            1_1  \n",
       "87570            1_1  \n",
       "31423            1_0  \n",
       "\n",
       "[90189 rows x 6 columns]"
      ]
     },
     "execution_count": 14,
     "metadata": {},
     "output_type": "execute_result"
    }
   ],
   "source": [
    "df.sample(frac = 1,replace = True)"
   ]
  },
  {
   "cell_type": "code",
   "execution_count": 15,
   "id": "970c9b4f",
   "metadata": {
    "execution": {
     "iopub.execute_input": "2024-10-09T19:33:37.379164Z",
     "iopub.status.busy": "2024-10-09T19:33:37.378715Z",
     "iopub.status.idle": "2024-10-09T19:33:37.419465Z",
     "shell.execute_reply": "2024-10-09T19:33:37.418205Z"
    },
    "papermill": {
     "duration": 0.069228,
     "end_time": "2024-10-09T19:33:37.422305",
     "exception": false,
     "start_time": "2024-10-09T19:33:37.353077",
     "status": "completed"
    },
    "tags": []
   },
   "outputs": [
    {
     "data": {
      "text/plain": [
       "version\n",
       "gate_30    0.449637\n",
       "gate_40    0.442525\n",
       "Name: retention_1, dtype: float64"
      ]
     },
     "execution_count": 15,
     "metadata": {},
     "output_type": "execute_result"
    }
   ],
   "source": [
    "df.sample(frac=1,replace=True).groupby('version')['retention_1'].mean()"
   ]
  },
  {
   "cell_type": "code",
   "execution_count": 16,
   "id": "7e2d1c07",
   "metadata": {
    "execution": {
     "iopub.execute_input": "2024-10-09T19:33:37.473925Z",
     "iopub.status.busy": "2024-10-09T19:33:37.473491Z",
     "iopub.status.idle": "2024-10-09T19:34:11.496255Z",
     "shell.execute_reply": "2024-10-09T19:34:11.494885Z"
    },
    "papermill": {
     "duration": 34.052007,
     "end_time": "2024-10-09T19:34:11.499231",
     "exception": false,
     "start_time": "2024-10-09T19:33:37.447224",
     "status": "completed"
    },
    "tags": []
   },
   "outputs": [
    {
     "data": {
      "text/plain": [
       "<Axes: ylabel='Density'>"
      ]
     },
     "execution_count": 16,
     "metadata": {},
     "output_type": "execute_result"
    },
    {
     "data": {
      "image/png": "[encoded data removed]",
      "text/plain": [
       "<Figure size 640x480 with 1 Axes>"
      ]
     },
     "metadata": {},
     "output_type": "display_data"
    }
   ],
   "source": [
    "# Creating an list with bootstrapped means for each AB-group\n",
    "boot_1=[]\n",
    "for i in range(1000):\n",
    "    sample= df.sample(frac=1,replace=True).groupby('version')['retention_1'].mean()\n",
    "    boot_1.append(sample)\n",
    "# Transforming the list to a DataFrame\n",
    "boot_1 = pd.DataFrame(boot_1)\n",
    "# A Kernel Density Estimate plot of the bootstrap distributions\n",
    "boot_1.plot(kind='density')\n"
   ]
  },
  {
   "cell_type": "markdown",
   "id": "4229a61d",
   "metadata": {
    "papermill": {
     "duration": 0.028415,
     "end_time": "2024-10-09T19:34:11.554727",
     "exception": false,
     "start_time": "2024-10-09T19:34:11.526312",
     "status": "completed"
    },
    "tags": []
   },
   "source": [
    "These two distributions above represent the bootstrap uncertainty over what the underlying 1-day retention could be for the two AB-groups. There seems to be some evidence of a difference, albeit small. Let's plot the % difference to have a closer look."
   ]
  },
  {
   "cell_type": "code",
   "execution_count": 17,
   "id": "4dc3f62e",
   "metadata": {
    "execution": {
     "iopub.execute_input": "2024-10-09T19:34:11.611613Z",
     "iopub.status.busy": "2024-10-09T19:34:11.611088Z",
     "iopub.status.idle": "2024-10-09T19:34:12.124948Z",
     "shell.execute_reply": "2024-10-09T19:34:12.123364Z"
    },
    "papermill": {
     "duration": 0.546121,
     "end_time": "2024-10-09T19:34:12.128140",
     "exception": false,
     "start_time": "2024-10-09T19:34:11.582019",
     "status": "completed"
    },
    "tags": []
   },
   "outputs": [
    {
     "name": "stdout",
     "output_type": "stream",
     "text": [
      "Probability that 1-day retention is greater when the gate is at level 30: 0.96\n"
     ]
    },
    {
     "data": {
      "image/png": "[encoded data removed]",
      "text/plain": [
       "<Figure size 640x480 with 1 Axes>"
      ]
     },
     "metadata": {},
     "output_type": "display_data"
    }
   ],
   "source": [
    "# Adding a column with the % difference between the two AB-groups\n",
    "boot_1['diff']=(boot_1['gate_30']-boot_1['gate_40'])/boot_1['gate_40']*100\n",
    "\n",
    "# Ploting the bootstrap % difference\n",
    "ax = boot_1['diff'].plot(kind='density')\n",
    "ax.set_title('% difference in 1-day retention between the two AB-groups')\n",
    "\n",
    "# Calculating the probability that 1-day retention is greater when the gate is at level 30\n",
    "print('Probability that 1-day retention is greater when the gate is at level 30:',(boot_1['diff'] > 0).mean())"
   ]
  },
  {
   "cell_type": "markdown",
   "id": "542629d9",
   "metadata": {
    "papermill": {
     "duration": 0.029188,
     "end_time": "2024-10-09T19:34:12.189284",
     "exception": false,
     "start_time": "2024-10-09T19:34:12.160096",
     "status": "completed"
    },
    "tags": []
   },
   "source": [
    "From this chart, we can see that the most likely % difference is around 1% - 2%, and that 96% of the distribution is above 0%, in favor of a gate at level 30."
   ]
  },
  {
   "cell_type": "markdown",
   "id": "161e8e8d",
   "metadata": {
    "papermill": {
     "duration": 0.02805,
     "end_time": "2024-10-09T19:34:12.246646",
     "exception": false,
     "start_time": "2024-10-09T19:34:12.218596",
     "status": "completed"
    },
    "tags": []
   },
   "source": [
    "**Retention_7**"
   ]
  },
  {
   "cell_type": "code",
   "execution_count": 18,
   "id": "9e07534b",
   "metadata": {
    "execution": {
     "iopub.execute_input": "2024-10-09T19:34:12.307837Z",
     "iopub.status.busy": "2024-10-09T19:34:12.306540Z",
     "iopub.status.idle": "2024-10-09T19:34:43.196840Z",
     "shell.execute_reply": "2024-10-09T19:34:43.195482Z"
    },
    "papermill": {
     "duration": 30.92408,
     "end_time": "2024-10-09T19:34:43.199939",
     "exception": false,
     "start_time": "2024-10-09T19:34:12.275859",
     "status": "completed"
    },
    "tags": []
   },
   "outputs": [
    {
     "data": {
      "text/plain": [
       "<Axes: ylabel='Density'>"
      ]
     },
     "execution_count": 18,
     "metadata": {},
     "output_type": "execute_result"
    },
    {
     "data": {
      "image/png": "[encoded data removed]",
      "text/plain": [
       "<Figure size 640x480 with 1 Axes>"
      ]
     },
     "metadata": {},
     "output_type": "display_data"
    }
   ],
   "source": [
    "boot_7=[]\n",
    "for i in range(1000):\n",
    "    sample=df.sample(frac=1,replace=True).groupby('version')['retention_7'].mean()\n",
    "    boot_7.append(sample)\n",
    "boot_7=pd.DataFrame(boot_7)\n",
    "boot_7.plot(kind='density')"
   ]
  },
  {
   "cell_type": "code",
   "execution_count": 19,
   "id": "6bc072f7",
   "metadata": {
    "execution": {
     "iopub.execute_input": "2024-10-09T19:34:43.257506Z",
     "iopub.status.busy": "2024-10-09T19:34:43.257038Z",
     "iopub.status.idle": "2024-10-09T19:34:43.271162Z",
     "shell.execute_reply": "2024-10-09T19:34:43.269779Z"
    },
    "papermill": {
     "duration": 0.046449,
     "end_time": "2024-10-09T19:34:43.274192",
     "exception": false,
     "start_time": "2024-10-09T19:34:43.227743",
     "status": "completed"
    },
    "tags": []
   },
   "outputs": [
    {
     "data": {
      "text/html": [
       "<div>\n",
       "<style scoped>\n",
       "    .dataframe tbody tr th:only-of-type {\n",
       "        vertical-align: middle;\n",
       "    }\n",
       "\n",
       "    .dataframe tbody tr th {\n",
       "        vertical-align: top;\n",
       "    }\n",
       "\n",
       "    .dataframe thead th {\n",
       "        text-align: right;\n",
       "    }\n",
       "</style>\n",
       "<table border=\"1\" class=\"dataframe\">\n",
       "  <thead>\n",
       "    <tr style=\"text-align: right;\">\n",
       "      <th>version</th>\n",
       "      <th>gate_30</th>\n",
       "      <th>gate_40</th>\n",
       "    </tr>\n",
       "  </thead>\n",
       "  <tbody>\n",
       "    <tr>\n",
       "      <th>retention_7</th>\n",
       "      <td>0.188733</td>\n",
       "      <td>0.183083</td>\n",
       "    </tr>\n",
       "    <tr>\n",
       "      <th>retention_7</th>\n",
       "      <td>0.190959</td>\n",
       "      <td>0.184599</td>\n",
       "    </tr>\n",
       "    <tr>\n",
       "      <th>retention_7</th>\n",
       "      <td>0.192140</td>\n",
       "      <td>0.183205</td>\n",
       "    </tr>\n",
       "    <tr>\n",
       "      <th>retention_7</th>\n",
       "      <td>0.186064</td>\n",
       "      <td>0.181613</td>\n",
       "    </tr>\n",
       "    <tr>\n",
       "      <th>retention_7</th>\n",
       "      <td>0.192526</td>\n",
       "      <td>0.179423</td>\n",
       "    </tr>\n",
       "    <tr>\n",
       "      <th>...</th>\n",
       "      <td>...</td>\n",
       "      <td>...</td>\n",
       "    </tr>\n",
       "    <tr>\n",
       "      <th>retention_7</th>\n",
       "      <td>0.191258</td>\n",
       "      <td>0.178801</td>\n",
       "    </tr>\n",
       "    <tr>\n",
       "      <th>retention_7</th>\n",
       "      <td>0.190038</td>\n",
       "      <td>0.183203</td>\n",
       "    </tr>\n",
       "    <tr>\n",
       "      <th>retention_7</th>\n",
       "      <td>0.190684</td>\n",
       "      <td>0.179668</td>\n",
       "    </tr>\n",
       "    <tr>\n",
       "      <th>retention_7</th>\n",
       "      <td>0.190393</td>\n",
       "      <td>0.179309</td>\n",
       "    </tr>\n",
       "    <tr>\n",
       "      <th>retention_7</th>\n",
       "      <td>0.189708</td>\n",
       "      <td>0.180969</td>\n",
       "    </tr>\n",
       "  </tbody>\n",
       "</table>\n",
       "<p>1000 rows × 2 columns</p>\n",
       "</div>"
      ],
      "text/plain": [
       "version       gate_30   gate_40\n",
       "retention_7  0.188733  0.183083\n",
       "retention_7  0.190959  0.184599\n",
       "retention_7  0.192140  0.183205\n",
       "retention_7  0.186064  0.181613\n",
       "retention_7  0.192526  0.179423\n",
       "...               ...       ...\n",
       "retention_7  0.191258  0.178801\n",
       "retention_7  0.190038  0.183203\n",
       "retention_7  0.190684  0.179668\n",
       "retention_7  0.190393  0.179309\n",
       "retention_7  0.189708  0.180969\n",
       "\n",
       "[1000 rows x 2 columns]"
      ]
     },
     "execution_count": 19,
     "metadata": {},
     "output_type": "execute_result"
    }
   ],
   "source": [
    "boot_7"
   ]
  },
  {
   "cell_type": "code",
   "execution_count": 20,
   "id": "c13ce213",
   "metadata": {
    "execution": {
     "iopub.execute_input": "2024-10-09T19:34:43.333029Z",
     "iopub.status.busy": "2024-10-09T19:34:43.332618Z",
     "iopub.status.idle": "2024-10-09T19:34:43.735173Z",
     "shell.execute_reply": "2024-10-09T19:34:43.733992Z"
    },
    "papermill": {
     "duration": 0.434696,
     "end_time": "2024-10-09T19:34:43.738076",
     "exception": false,
     "start_time": "2024-10-09T19:34:43.303380",
     "status": "completed"
    },
    "tags": []
   },
   "outputs": [
    {
     "name": "stdout",
     "output_type": "stream",
     "text": [
      "Probability that 7-day retention is greater when the gate is at level 30: 1.0\n"
     ]
    },
    {
     "data": {
      "image/png": "[encoded data removed]",
      "text/plain": [
       "<Figure size 640x480 with 1 Axes>"
      ]
     },
     "metadata": {},
     "output_type": "display_data"
    }
   ],
   "source": [
    "boot_7['diff']=(boot_7['gate_30']-boot_7['gate_40'])/boot_7['gate_40']*100\n",
    "ax=boot_7['diff'].plot(kind='density')\n",
    "ax.set_title('% difference in 7-day retention between the two AB-groups')\n",
    "\n",
    "print('Probability that 7-day retention is greater when the gate is at level 30:',(boot_7['diff']>0).mean())"
   ]
  },
  {
   "cell_type": "markdown",
   "id": "81f76a4f",
   "metadata": {
    "papermill": {
     "duration": 0.038214,
     "end_time": "2024-10-09T19:34:43.810502",
     "exception": false,
     "start_time": "2024-10-09T19:34:43.772288",
     "status": "completed"
    },
    "tags": []
   },
   "source": [
    "The bootstrap result tells us that there is strong evidence that 7-day retention is higher when the gate is at level 30 than when it is at level 40. The conclusion is: If we want to keep retention high — both 1-day and 7-day retention — we should not move the gate from level 30 to level 40.\n",
    "\n",
    "There are, of course, other metrics we could look at, like the number of game rounds played or how much in-game purchases are made by the two AB-groups. But retention is one of the most important metrics. If we don't retain our player base, it doesn't matter how much money they spend in-game.\n",
    "\n",
    "So, why is retention higher when the gate is positioned earlier? One could expect the opposite: The later the obstacle, the longer people are going to engage with the game. But this is not what the data tells us. The theory of hedonic adaptation can give one explanation for this.\n",
    "\n",
    "In short, hedonic adaptation is the tendency for people to get less and less enjoyment out of a fun activity over time if that activity is undertaken continuously. By forcing players to take a break when they reach a gate, their enjoyment of the game is prolonged. But when the gate is moved to level 40, fewer players make it far enough, and they are more likely to quit the game because they simply got bored of it."
   ]
  },
  {
   "cell_type": "markdown",
   "id": "4f326613",
   "metadata": {
    "papermill": {
     "duration": 0.030209,
     "end_time": "2024-10-09T19:34:43.879467",
     "exception": false,
     "start_time": "2024-10-09T19:34:43.849258",
     "status": "completed"
    },
    "tags": []
   },
   "source": [
    "# Method2:Z-test"
   ]
  },
  {
   "cell_type": "markdown",
   "id": "1aa349e2",
   "metadata": {
    "papermill": {
     "duration": 0.030003,
     "end_time": "2024-10-09T19:34:43.939272",
     "exception": false,
     "start_time": "2024-10-09T19:34:43.909269",
     "status": "completed"
    },
    "tags": []
   },
   "source": [
    "Let's assume that the gate_30 does not have higher conversion rate than the gate_40 at 5% Type II error. So the hypothesis woule be:\n",
    "\n",
    "null: 𝑝𝑛𝑒𝑤 - 𝑝𝑜𝑙𝑑 <=0\n",
    "\n",
    "alternative: 𝑝𝑛𝑒𝑤 - 𝑝𝑜𝑙𝑑 >0"
   ]
  },
  {
   "cell_type": "markdown",
   "id": "45898844",
   "metadata": {
    "papermill": {
     "duration": 0.029144,
     "end_time": "2024-10-09T19:34:43.998676",
     "exception": false,
     "start_time": "2024-10-09T19:34:43.969532",
     "status": "completed"
    },
    "tags": []
   },
   "source": [
    "**Retention_1**"
   ]
  },
  {
   "cell_type": "code",
   "execution_count": 21,
   "id": "ac260758",
   "metadata": {
    "execution": {
     "iopub.execute_input": "2024-10-09T19:34:44.061064Z",
     "iopub.status.busy": "2024-10-09T19:34:44.060106Z",
     "iopub.status.idle": "2024-10-09T19:34:46.031021Z",
     "shell.execute_reply": "2024-10-09T19:34:46.029653Z"
    },
    "papermill": {
     "duration": 2.005809,
     "end_time": "2024-10-09T19:34:46.034073",
     "exception": false,
     "start_time": "2024-10-09T19:34:44.028264",
     "status": "completed"
    },
    "tags": []
   },
   "outputs": [],
   "source": [
    "from scipy.stats import norm\n",
    "import statsmodels.api as sm"
   ]
  },
  {
   "cell_type": "code",
   "execution_count": 22,
   "id": "54888287",
   "metadata": {
    "execution": {
     "iopub.execute_input": "2024-10-09T19:34:46.094205Z",
     "iopub.status.busy": "2024-10-09T19:34:46.093439Z",
     "iopub.status.idle": "2024-10-09T19:34:46.197197Z",
     "shell.execute_reply": "2024-10-09T19:34:46.195936Z"
    },
    "papermill": {
     "duration": 0.136693,
     "end_time": "2024-10-09T19:34:46.200023",
     "exception": false,
     "start_time": "2024-10-09T19:34:46.063330",
     "status": "completed"
    },
    "tags": []
   },
   "outputs": [
    {
     "name": "stdout",
     "output_type": "stream",
     "text": [
      "Z-Score: 1.7840862247974725\n",
      "Retention_1 P-Value: 0.03720482764845956\n"
     ]
    }
   ],
   "source": [
    "# Sample sizes and proportions for gate_30 and gate_40\n",
    "n_gate_30 = df[df['version'] == 'gate_30'].shape[0]  # Number of samples in gate_30\n",
    "n_gate_40 = df[df['version'] == 'gate_40'].shape[0]  # Number of samples in gate_40\n",
    "\n",
    "# Proportions of retention_7 for gate_30 and gate_40\n",
    "p_gate_30 = df[df['version'] == 'gate_30']['retention_1'].mean()  # Proportion for gate_30\n",
    "p_gate_40 = df[df['version'] == 'gate_40']['retention_1'].mean()  # Proportion for gate_40\n",
    "\n",
    "# Pooled proportion\n",
    "p_pooled = (p_gate_30 * n_gate_30 + p_gate_40 * n_gate_40) / (n_gate_30 + n_gate_40)\n",
    "\n",
    "# Z-score calculation\n",
    "z_score = (p_gate_30 - p_gate_40) / np.sqrt(p_pooled * (1 - p_pooled) * (1/n_gate_30 + 1/n_gate_40))\n",
    "\n",
    "# Calculate the one-tailed p-value (right-tailed)\n",
    "p_value = 1 - norm.cdf(z_score)\n",
    "\n",
    "print(f\"Z-Score: {z_score}\")\n",
    "print(f\"Retention_1 P-Value: {p_value}\")"
   ]
  },
  {
   "cell_type": "markdown",
   "id": "5ed68ea7",
   "metadata": {
    "papermill": {
     "duration": 0.02975,
     "end_time": "2024-10-09T19:34:46.259250",
     "exception": false,
     "start_time": "2024-10-09T19:34:46.229500",
     "status": "completed"
    },
    "tags": []
   },
   "source": [
    "p-value is less than 0.05, so we can reject null hypothesis and accept alternative hypothesis that 𝑝𝑛𝑒𝑤 - 𝑝𝑜𝑙𝑑 >0,the gate_30 is better than gate_40"
   ]
  },
  {
   "cell_type": "markdown",
   "id": "eb8820bc",
   "metadata": {
    "papermill": {
     "duration": 0.029145,
     "end_time": "2024-10-09T19:34:46.319788",
     "exception": false,
     "start_time": "2024-10-09T19:34:46.290643",
     "status": "completed"
    },
    "tags": []
   },
   "source": [
    "**Retention_7**"
   ]
  },
  {
   "cell_type": "code",
   "execution_count": 23,
   "id": "7ff6d52d",
   "metadata": {
    "execution": {
     "iopub.execute_input": "2024-10-09T19:34:46.380758Z",
     "iopub.status.busy": "2024-10-09T19:34:46.380290Z",
     "iopub.status.idle": "2024-10-09T19:34:46.483715Z",
     "shell.execute_reply": "2024-10-09T19:34:46.482512Z"
    },
    "papermill": {
     "duration": 0.137309,
     "end_time": "2024-10-09T19:34:46.486560",
     "exception": false,
     "start_time": "2024-10-09T19:34:46.349251",
     "status": "completed"
    },
    "tags": []
   },
   "outputs": [
    {
     "data": {
      "text/plain": [
       "(8502, 8279, 44700, 45489)"
      ]
     },
     "execution_count": 23,
     "metadata": {},
     "output_type": "execute_result"
    }
   ],
   "source": [
    "retention_30=df[df.version=='gate_30'].retention_7.sum()\n",
    "retention_40=df[df.version=='gate_40'].retention_7.sum()\n",
    "n_30=len(df[df.version=='gate_30'].retention_7)\n",
    "n_40=len(df[df.version=='gate_40'].retention_7)\n",
    "retention_30,retention_40,n_30,n_40"
   ]
  },
  {
   "cell_type": "code",
   "execution_count": 24,
   "id": "8dc52579",
   "metadata": {
    "execution": {
     "iopub.execute_input": "2024-10-09T19:34:46.548231Z",
     "iopub.status.busy": "2024-10-09T19:34:46.547269Z",
     "iopub.status.idle": "2024-10-09T19:34:46.555369Z",
     "shell.execute_reply": "2024-10-09T19:34:46.554072Z"
    },
    "papermill": {
     "duration": 0.041249,
     "end_time": "2024-10-09T19:34:46.558160",
     "exception": false,
     "start_time": "2024-10-09T19:34:46.516911",
     "status": "completed"
    },
    "tags": []
   },
   "outputs": [
    {
     "data": {
      "text/plain": [
       "(8502, 8279, 44700, 45489)"
      ]
     },
     "execution_count": 24,
     "metadata": {},
     "output_type": "execute_result"
    }
   ],
   "source": [
    "retention_30,retention_40,n_30,n_40"
   ]
  },
  {
   "cell_type": "code",
   "execution_count": 25,
   "id": "77e06ffe",
   "metadata": {
    "execution": {
     "iopub.execute_input": "2024-10-09T19:34:46.618523Z",
     "iopub.status.busy": "2024-10-09T19:34:46.618065Z",
     "iopub.status.idle": "2024-10-09T19:34:46.633933Z",
     "shell.execute_reply": "2024-10-09T19:34:46.632888Z"
    },
    "papermill": {
     "duration": 0.049022,
     "end_time": "2024-10-09T19:34:46.636783",
     "exception": false,
     "start_time": "2024-10-09T19:34:46.587761",
     "status": "completed"
    },
    "tags": []
   },
   "outputs": [
    {
     "data": {
      "text/html": [
       "<div>\n",
       "<style scoped>\n",
       "    .dataframe tbody tr th:only-of-type {\n",
       "        vertical-align: middle;\n",
       "    }\n",
       "\n",
       "    .dataframe tbody tr th {\n",
       "        vertical-align: top;\n",
       "    }\n",
       "\n",
       "    .dataframe thead th {\n",
       "        text-align: right;\n",
       "    }\n",
       "</style>\n",
       "<table border=\"1\" class=\"dataframe\">\n",
       "  <thead>\n",
       "    <tr style=\"text-align: right;\">\n",
       "      <th></th>\n",
       "      <th>Views</th>\n",
       "      <th>Converts</th>\n",
       "      <th>Conversion %</th>\n",
       "    </tr>\n",
       "  </thead>\n",
       "  <tbody>\n",
       "    <tr>\n",
       "      <th>gate30</th>\n",
       "      <td>44700</td>\n",
       "      <td>8502</td>\n",
       "      <td>19.0%</td>\n",
       "    </tr>\n",
       "    <tr>\n",
       "      <th>gate40</th>\n",
       "      <td>45489</td>\n",
       "      <td>8279</td>\n",
       "      <td>18.2%</td>\n",
       "    </tr>\n",
       "  </tbody>\n",
       "</table>\n",
       "</div>"
      ],
      "text/plain": [
       "        Views  Converts Conversion %\n",
       "gate30  44700      8502        19.0%\n",
       "gate40  45489      8279        18.2%"
      ]
     },
     "execution_count": 25,
     "metadata": {},
     "output_type": "execute_result"
    }
   ],
   "source": [
    "conversion_dic={'Views':{'gate30':n_30,'gate40':n_40},'Converts':{'gate30':retention_30,'gate40':retention_40}}\n",
    "conversion_table = pd.DataFrame(conversion_dic)\n",
    "conversion_table['Conversion %'] = conversion_table['Converts'] / conversion_table['Views']\n",
    "conversion_table['Conversion %'] = conversion_table['Conversion %'].apply(lambda x: str(np.round(x,3)*100)+'%')\n",
    "conversion_table"
   ]
  },
  {
   "cell_type": "code",
   "execution_count": 26,
   "id": "3ba81ac1",
   "metadata": {
    "execution": {
     "iopub.execute_input": "2024-10-09T19:34:46.698645Z",
     "iopub.status.busy": "2024-10-09T19:34:46.698082Z",
     "iopub.status.idle": "2024-10-09T19:34:46.705792Z",
     "shell.execute_reply": "2024-10-09T19:34:46.704259Z"
    },
    "papermill": {
     "duration": 0.042715,
     "end_time": "2024-10-09T19:34:46.709253",
     "exception": false,
     "start_time": "2024-10-09T19:34:46.666538",
     "status": "completed"
    },
    "tags": []
   },
   "outputs": [],
   "source": [
    "def z_test(p1,p0,n1,n0):\n",
    "    delta = p1-p0\n",
    "    std = (p1*n1 + p0*n0) / (n1+n0)\n",
    "    return delta / np.sqrt(std*(1-std)*(1/n1 + 1/n0))"
   ]
  },
  {
   "cell_type": "code",
   "execution_count": 27,
   "id": "9130e1a3",
   "metadata": {
    "execution": {
     "iopub.execute_input": "2024-10-09T19:34:46.778354Z",
     "iopub.status.busy": "2024-10-09T19:34:46.776858Z",
     "iopub.status.idle": "2024-10-09T19:34:46.783798Z",
     "shell.execute_reply": "2024-10-09T19:34:46.782408Z"
    },
    "papermill": {
     "duration": 0.04443,
     "end_time": "2024-10-09T19:34:46.787066",
     "exception": false,
     "start_time": "2024-10-09T19:34:46.742636",
     "status": "completed"
    },
    "tags": []
   },
   "outputs": [],
   "source": [
    "p1 = retention_30 / n_30\n",
    "p0 = retention_40/ n_40\n",
    "n1 = n_30\n",
    "n0 = n_40"
   ]
  },
  {
   "cell_type": "code",
   "execution_count": 28,
   "id": "ebfbd41e",
   "metadata": {
    "execution": {
     "iopub.execute_input": "2024-10-09T19:34:46.854331Z",
     "iopub.status.busy": "2024-10-09T19:34:46.853257Z",
     "iopub.status.idle": "2024-10-09T19:34:46.861974Z",
     "shell.execute_reply": "2024-10-09T19:34:46.860697Z"
    },
    "papermill": {
     "duration": 0.0453,
     "end_time": "2024-10-09T19:34:46.864842",
     "exception": false,
     "start_time": "2024-10-09T19:34:46.819542",
     "status": "completed"
    },
    "tags": []
   },
   "outputs": [
    {
     "data": {
      "text/plain": [
       "3.164358912748191"
      ]
     },
     "execution_count": 28,
     "metadata": {},
     "output_type": "execute_result"
    }
   ],
   "source": [
    "z_value = z_test(p1,p0,n1,n0)\n",
    "z_value"
   ]
  },
  {
   "cell_type": "code",
   "execution_count": 29,
   "id": "9b23a723",
   "metadata": {
    "execution": {
     "iopub.execute_input": "2024-10-09T19:34:46.932476Z",
     "iopub.status.busy": "2024-10-09T19:34:46.931947Z",
     "iopub.status.idle": "2024-10-09T19:34:46.941494Z",
     "shell.execute_reply": "2024-10-09T19:34:46.940208Z"
    },
    "papermill": {
     "duration": 0.047659,
     "end_time": "2024-10-09T19:34:46.944349",
     "exception": false,
     "start_time": "2024-10-09T19:34:46.896690",
     "status": "completed"
    },
    "tags": []
   },
   "outputs": [
    {
     "data": {
      "text/plain": [
       "0.0007771249878071318"
      ]
     },
     "execution_count": 29,
     "metadata": {},
     "output_type": "execute_result"
    }
   ],
   "source": [
    "p_value = 1- norm.cdf(z_value)\n",
    "p_value"
   ]
  },
  {
   "cell_type": "code",
   "execution_count": 30,
   "id": "42dbee94",
   "metadata": {
    "execution": {
     "iopub.execute_input": "2024-10-09T19:34:47.013696Z",
     "iopub.status.busy": "2024-10-09T19:34:47.013058Z",
     "iopub.status.idle": "2024-10-09T19:34:47.124845Z",
     "shell.execute_reply": "2024-10-09T19:34:47.123493Z"
    },
    "papermill": {
     "duration": 0.149916,
     "end_time": "2024-10-09T19:34:47.128133",
     "exception": false,
     "start_time": "2024-10-09T19:34:46.978217",
     "status": "completed"
    },
    "tags": []
   },
   "outputs": [
    {
     "name": "stdout",
     "output_type": "stream",
     "text": [
      "Z-Score: 3.164358912748191\n",
      "Retention_7 P-Value: 0.0007771249878071318\n"
     ]
    }
   ],
   "source": [
    "# Sample sizes and proportions for gate_30 and gate_40\n",
    "n_gate_30 = df[df['version'] == 'gate_30'].shape[0]  # Number of samples in gate_30\n",
    "n_gate_40 = df[df['version'] == 'gate_40'].shape[0]  # Number of samples in gate_40\n",
    "\n",
    "# Proportions of retention_7 for gate_30 and gate_40\n",
    "p_gate_30 = df[df['version'] == 'gate_30']['retention_7'].mean()  # Proportion for gate_30\n",
    "p_gate_40 = df[df['version'] == 'gate_40']['retention_7'].mean()  # Proportion for gate_40\n",
    "\n",
    "# Pooled proportion\n",
    "p_pooled = (p_gate_30 * n_gate_30 + p_gate_40 * n_gate_40) / (n_gate_30 + n_gate_40)\n",
    "\n",
    "# Z-score calculation\n",
    "z_score = (p_gate_30 - p_gate_40) / np.sqrt(p_pooled * (1 - p_pooled) * (1/n_gate_30 + 1/n_gate_40))\n",
    "\n",
    "# Calculate the p-value \n",
    "p_value =1 - norm.cdf(np.abs(z_score))\n",
    "\n",
    "print(f\"Z-Score: {z_score}\")\n",
    "print(f\"Retention_7 P-Value: {p_value}\")"
   ]
  },
  {
   "cell_type": "markdown",
   "id": "22c4dba7",
   "metadata": {
    "papermill": {
     "duration": 0.03166,
     "end_time": "2024-10-09T19:34:47.195915",
     "exception": false,
     "start_time": "2024-10-09T19:34:47.164255",
     "status": "completed"
    },
    "tags": []
   },
   "source": [
    "p-value is less than 0.05, so we can reject null hypothesis and accept alternative hypothesis that 𝑝𝑛𝑒𝑤 - 𝑝𝑜𝑙𝑑 >0,the gate_30 is better than gate_40"
   ]
  },
  {
   "cell_type": "markdown",
   "id": "4e899e1d",
   "metadata": {
    "papermill": {
     "duration": 0.030704,
     "end_time": "2024-10-09T19:34:47.259089",
     "exception": false,
     "start_time": "2024-10-09T19:34:47.228385",
     "status": "completed"
    },
    "tags": []
   },
   "source": [
    "# Z-test in Statsmodels"
   ]
  },
  {
   "cell_type": "markdown",
   "id": "f0e5faae",
   "metadata": {
    "papermill": {
     "duration": 0.031543,
     "end_time": "2024-10-09T19:34:47.322012",
     "exception": false,
     "start_time": "2024-10-09T19:34:47.290469",
     "status": "completed"
    },
    "tags": []
   },
   "source": [
    "**Retention_1**"
   ]
  },
  {
   "cell_type": "code",
   "execution_count": 31,
   "id": "2146fbbd",
   "metadata": {
    "execution": {
     "iopub.execute_input": "2024-10-09T19:34:47.388251Z",
     "iopub.status.busy": "2024-10-09T19:34:47.387633Z",
     "iopub.status.idle": "2024-10-09T19:34:47.498367Z",
     "shell.execute_reply": "2024-10-09T19:34:47.496714Z"
    },
    "papermill": {
     "duration": 0.14728,
     "end_time": "2024-10-09T19:34:47.501708",
     "exception": false,
     "start_time": "2024-10-09T19:34:47.354428",
     "status": "completed"
    },
    "tags": []
   },
   "outputs": [
    {
     "data": {
      "text/plain": [
       "(20034, 20119, 44700, 45489)"
      ]
     },
     "execution_count": 31,
     "metadata": {},
     "output_type": "execute_result"
    }
   ],
   "source": [
    "retention_30_1=df[df.version=='gate_30'].retention_1.sum()\n",
    "retention_40_1=df[df.version=='gate_40'].retention_1.sum()\n",
    "n_30_1=len(df[df.version=='gate_30'].retention_1)\n",
    "n_40_1=len(df[df.version=='gate_40'].retention_1)\n",
    "retention_30_1,retention_40_1,n_30_1,n_40_1"
   ]
  },
  {
   "cell_type": "code",
   "execution_count": 32,
   "id": "753ddabf",
   "metadata": {
    "execution": {
     "iopub.execute_input": "2024-10-09T19:34:47.567293Z",
     "iopub.status.busy": "2024-10-09T19:34:47.566000Z",
     "iopub.status.idle": "2024-10-09T19:34:47.572371Z",
     "shell.execute_reply": "2024-10-09T19:34:47.571043Z"
    },
    "papermill": {
     "duration": 0.042345,
     "end_time": "2024-10-09T19:34:47.575348",
     "exception": false,
     "start_time": "2024-10-09T19:34:47.533003",
     "status": "completed"
    },
    "tags": []
   },
   "outputs": [],
   "source": [
    "import statsmodels.api as sm"
   ]
  },
  {
   "cell_type": "code",
   "execution_count": 33,
   "id": "aed78af0",
   "metadata": {
    "execution": {
     "iopub.execute_input": "2024-10-09T19:34:47.643039Z",
     "iopub.status.busy": "2024-10-09T19:34:47.642501Z",
     "iopub.status.idle": "2024-10-09T19:34:47.652381Z",
     "shell.execute_reply": "2024-10-09T19:34:47.651188Z"
    },
    "papermill": {
     "duration": 0.047742,
     "end_time": "2024-10-09T19:34:47.655444",
     "exception": false,
     "start_time": "2024-10-09T19:34:47.607702",
     "status": "completed"
    },
    "tags": []
   },
   "outputs": [
    {
     "data": {
      "text/plain": [
       "(1.7840862247974725, 0.03720482764845957)"
      ]
     },
     "execution_count": 33,
     "metadata": {},
     "output_type": "execute_result"
    }
   ],
   "source": [
    "z_score, p_value = sm.stats.proportions_ztest([retention_30_1, retention_40_1], [n_30_1, n_40_1], alternative='larger')\n",
    "z_score, p_value"
   ]
  },
  {
   "cell_type": "markdown",
   "id": "5add72b2",
   "metadata": {
    "papermill": {
     "duration": 0.031673,
     "end_time": "2024-10-09T19:34:47.719929",
     "exception": false,
     "start_time": "2024-10-09T19:34:47.688256",
     "status": "completed"
    },
    "tags": []
   },
   "source": [
    "**Retention_7**"
   ]
  },
  {
   "cell_type": "code",
   "execution_count": 34,
   "id": "310a7ca8",
   "metadata": {
    "execution": {
     "iopub.execute_input": "2024-10-09T19:34:47.784061Z",
     "iopub.status.busy": "2024-10-09T19:34:47.783543Z",
     "iopub.status.idle": "2024-10-09T19:34:47.886250Z",
     "shell.execute_reply": "2024-10-09T19:34:47.884939Z"
    },
    "papermill": {
     "duration": 0.137684,
     "end_time": "2024-10-09T19:34:47.888828",
     "exception": false,
     "start_time": "2024-10-09T19:34:47.751144",
     "status": "completed"
    },
    "tags": []
   },
   "outputs": [
    {
     "data": {
      "text/plain": [
       "(8502, 8279, 44700, 45489)"
      ]
     },
     "execution_count": 34,
     "metadata": {},
     "output_type": "execute_result"
    }
   ],
   "source": [
    "retention_30_7=df[df.version=='gate_30'].retention_7.sum()\n",
    "retention_40_7=df[df.version=='gate_40'].retention_7.sum()\n",
    "n_30_7=len(df[df.version=='gate_30'].retention_7)\n",
    "n_40_7=len(df[df.version=='gate_40'].retention_7)\n",
    "retention_30_7,retention_40_7,n_30_7,n_40_7"
   ]
  },
  {
   "cell_type": "code",
   "execution_count": 35,
   "id": "a00a3a80",
   "metadata": {
    "execution": {
     "iopub.execute_input": "2024-10-09T19:34:47.952058Z",
     "iopub.status.busy": "2024-10-09T19:34:47.951258Z",
     "iopub.status.idle": "2024-10-09T19:34:47.962754Z",
     "shell.execute_reply": "2024-10-09T19:34:47.961491Z"
    },
    "papermill": {
     "duration": 0.045568,
     "end_time": "2024-10-09T19:34:47.965338",
     "exception": false,
     "start_time": "2024-10-09T19:34:47.919770",
     "status": "completed"
    },
    "tags": []
   },
   "outputs": [
    {
     "data": {
      "text/plain": [
       "(3.164358912748191, 0.0007771249878071645)"
      ]
     },
     "execution_count": 35,
     "metadata": {},
     "output_type": "execute_result"
    }
   ],
   "source": [
    "z_score, p_value = sm.stats.proportions_ztest([retention_30_7, retention_40_7],[n_30_7, n_40_7], alternative='larger')\n",
    "z_score, p_value"
   ]
  }
 ],
 "metadata": {
  "kaggle": {
   "accelerator": "none",
   "dataSources": [
    {
     "datasetId": 5823860,
     "sourceId": 9557458,
     "sourceType": "datasetVersion"
    }
   ],
   "dockerImageVersionId": 30786,
   "isGpuEnabled": false,
   "isInternetEnabled": true,
   "language": "python",
   "sourceType": "notebook"
  },
  "kernelspec": {
   "display_name": "Python 3",
   "language": "python",
   "name": "python3"
  },
  "language_info": {
   "codemirror_mode": {
    "name": "ipython",
    "version": 3
   },
   "file_extension": ".py",
   "mimetype": "text/x-python",
   "name": "python",
   "nbconvert_exporter": "python",
   "pygments_lexer": "ipython3",
   "version": "3.10.14"
  },
  "papermill": {
   "default_parameters": {},
   "duration": 83.351086,
   "end_time": "2024-10-09T19:34:48.821423",
   "environment_variables": {},
   "exception": null,
   "input_path": "__notebook__.ipynb",
   "output_path": "__notebook__.ipynb",
   "parameters": {},
   "start_time": "2024-10-09T19:33:25.470337",
   "version": "2.6.0"
  }
 },
 "nbformat": 4,
 "nbformat_minor": 5
}
