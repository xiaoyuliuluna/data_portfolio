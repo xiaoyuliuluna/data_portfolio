{
 "cells": [
  {
   "cell_type": "markdown",
   "id": "e7e30195",
   "metadata": {
    "papermill": {
     "duration": 0.012085,
     "end_time": "2024-10-06T03:29:50.828758",
     "exception": false,
     "start_time": "2024-10-06T03:29:50.816673",
     "status": "completed"
    },
    "tags": []
   },
   "source": [
    "# 1. Introduction\n",
    "For this project, we will be analyzing the results of an A/B test run by an e-commerce website. The final goal is to help the company understand if they should implement the new page, keep the old page, or perhaps run the experiment longer to make their decision"
   ]
  },
  {
   "cell_type": "markdown",
   "id": "76ba2b95",
   "metadata": {
    "papermill": {
     "duration": 0.008355,
     "end_time": "2024-10-06T03:29:50.846057",
     "exception": false,
     "start_time": "2024-10-06T03:29:50.837702",
     "status": "completed"
    },
    "tags": []
   },
   "source": [
    "# 2. Import data & data cleaning"
   ]
  },
  {
   "cell_type": "code",
   "execution_count": 1,
   "id": "36fde16b",
   "metadata": {
    "execution": {
     "iopub.execute_input": "2024-10-06T03:29:50.866160Z",
     "iopub.status.busy": "2024-10-06T03:29:50.865701Z",
     "iopub.status.idle": "2024-10-06T03:29:51.802427Z",
     "shell.execute_reply": "2024-10-06T03:29:51.801267Z"
    },
    "papermill": {
     "duration": 0.949518,
     "end_time": "2024-10-06T03:29:51.805221",
     "exception": false,
     "start_time": "2024-10-06T03:29:50.855703",
     "status": "completed"
    },
    "tags": []
   },
   "outputs": [],
   "source": [
    "import pandas as pd\n",
    "import numpy as np\n",
    "import matplotlib.pyplot as plt\n",
    "\n",
    "%matplotlib inline"
   ]
  },
  {
   "cell_type": "code",
   "execution_count": 2,
   "id": "def6fb12",
   "metadata": {
    "execution": {
     "iopub.execute_input": "2024-10-06T03:29:51.825406Z",
     "iopub.status.busy": "2024-10-06T03:29:51.824813Z",
     "iopub.status.idle": "2024-10-06T03:29:52.225728Z",
     "shell.execute_reply": "2024-10-06T03:29:52.224529Z"
    },
    "papermill": {
     "duration": 0.413933,
     "end_time": "2024-10-06T03:29:52.228252",
     "exception": false,
     "start_time": "2024-10-06T03:29:51.814319",
     "status": "completed"
    },
    "tags": []
   },
   "outputs": [
    {
     "data": {
      "text/html": [
       "<div>\n",
       "<style scoped>\n",
       "    .dataframe tbody tr th:only-of-type {\n",
       "        vertical-align: middle;\n",
       "    }\n",
       "\n",
       "    .dataframe tbody tr th {\n",
       "        vertical-align: top;\n",
       "    }\n",
       "\n",
       "    .dataframe thead th {\n",
       "        text-align: right;\n",
       "    }\n",
       "</style>\n",
       "<table border=\"1\" class=\"dataframe\">\n",
       "  <thead>\n",
       "    <tr style=\"text-align: right;\">\n",
       "      <th></th>\n",
       "      <th>user_id</th>\n",
       "      <th>timestamp</th>\n",
       "      <th>group</th>\n",
       "      <th>landing_page</th>\n",
       "      <th>converted</th>\n",
       "    </tr>\n",
       "  </thead>\n",
       "  <tbody>\n",
       "    <tr>\n",
       "      <th>0</th>\n",
       "      <td>851104</td>\n",
       "      <td>11:48.6</td>\n",
       "      <td>control</td>\n",
       "      <td>old_page</td>\n",
       "      <td>0</td>\n",
       "    </tr>\n",
       "    <tr>\n",
       "      <th>1</th>\n",
       "      <td>804228</td>\n",
       "      <td>01:45.2</td>\n",
       "      <td>control</td>\n",
       "      <td>old_page</td>\n",
       "      <td>0</td>\n",
       "    </tr>\n",
       "    <tr>\n",
       "      <th>2</th>\n",
       "      <td>661590</td>\n",
       "      <td>55:06.2</td>\n",
       "      <td>treatment</td>\n",
       "      <td>new_page</td>\n",
       "      <td>1</td>\n",
       "    </tr>\n",
       "    <tr>\n",
       "      <th>3</th>\n",
       "      <td>853541</td>\n",
       "      <td>28:03.1</td>\n",
       "      <td>treatment</td>\n",
       "      <td>new_page</td>\n",
       "      <td>1</td>\n",
       "    </tr>\n",
       "    <tr>\n",
       "      <th>4</th>\n",
       "      <td>864975</td>\n",
       "      <td>52:26.2</td>\n",
       "      <td>control</td>\n",
       "      <td>old_page</td>\n",
       "      <td>1</td>\n",
       "    </tr>\n",
       "  </tbody>\n",
       "</table>\n",
       "</div>"
      ],
      "text/plain": [
       "   user_id timestamp      group landing_page  converted\n",
       "0   851104   11:48.6    control     old_page          0\n",
       "1   804228   01:45.2    control     old_page          0\n",
       "2   661590   55:06.2  treatment     new_page          1\n",
       "3   853541   28:03.1  treatment     new_page          1\n",
       "4   864975   52:26.2    control     old_page          1"
      ]
     },
     "execution_count": 2,
     "metadata": {},
     "output_type": "execute_result"
    }
   ],
   "source": [
    "df=pd.read_csv('/kaggle/input/ab-data/sample ab_data.csv')\n",
    "df.head()"
   ]
  },
  {
   "cell_type": "code",
   "execution_count": 3,
   "id": "d6f876c2",
   "metadata": {
    "execution": {
     "iopub.execute_input": "2024-10-06T03:29:52.250263Z",
     "iopub.status.busy": "2024-10-06T03:29:52.249807Z",
     "iopub.status.idle": "2024-10-06T03:29:52.321261Z",
     "shell.execute_reply": "2024-10-06T03:29:52.320042Z"
    },
    "papermill": {
     "duration": 0.085189,
     "end_time": "2024-10-06T03:29:52.323987",
     "exception": false,
     "start_time": "2024-10-06T03:29:52.238798",
     "status": "completed"
    },
    "tags": []
   },
   "outputs": [
    {
     "name": "stdout",
     "output_type": "stream",
     "text": [
      "<class 'pandas.core.frame.DataFrame'>\n",
      "RangeIndex: 294478 entries, 0 to 294477\n",
      "Data columns (total 5 columns):\n",
      " #   Column        Non-Null Count   Dtype \n",
      "---  ------        --------------   ----- \n",
      " 0   user_id       294478 non-null  int64 \n",
      " 1   timestamp     294478 non-null  object\n",
      " 2   group         294478 non-null  object\n",
      " 3   landing_page  294478 non-null  object\n",
      " 4   converted     294478 non-null  int64 \n",
      "dtypes: int64(2), object(3)\n",
      "memory usage: 11.2+ MB\n"
     ]
    }
   ],
   "source": [
    "df.info()"
   ]
  },
  {
   "cell_type": "markdown",
   "id": "473fc145",
   "metadata": {
    "papermill": {
     "duration": 0.009183,
     "end_time": "2024-10-06T03:29:52.342429",
     "exception": false,
     "start_time": "2024-10-06T03:29:52.333246",
     "status": "completed"
    },
    "tags": []
   },
   "source": [
    "Check for mismatches: Ensure that each user in the control group is only seeing the old page and users in the treatment group are seeing the new page."
   ]
  },
  {
   "cell_type": "code",
   "execution_count": 4,
   "id": "8cb7c8b8",
   "metadata": {
    "execution": {
     "iopub.execute_input": "2024-10-06T03:29:52.363215Z",
     "iopub.status.busy": "2024-10-06T03:29:52.362021Z",
     "iopub.status.idle": "2024-10-06T03:29:52.422676Z",
     "shell.execute_reply": "2024-10-06T03:29:52.421564Z"
    },
    "papermill": {
     "duration": 0.073746,
     "end_time": "2024-10-06T03:29:52.425218",
     "exception": false,
     "start_time": "2024-10-06T03:29:52.351472",
     "status": "completed"
    },
    "tags": []
   },
   "outputs": [
    {
     "data": {
      "text/plain": [
       "1965"
      ]
     },
     "execution_count": 4,
     "metadata": {},
     "output_type": "execute_result"
    }
   ],
   "source": [
    "((df.group=='treatment') & (df.landing_page=='old_page')).sum()"
   ]
  },
  {
   "cell_type": "code",
   "execution_count": 5,
   "id": "b5de171a",
   "metadata": {
    "execution": {
     "iopub.execute_input": "2024-10-06T03:29:52.446127Z",
     "iopub.status.busy": "2024-10-06T03:29:52.445694Z",
     "iopub.status.idle": "2024-10-06T03:29:52.506482Z",
     "shell.execute_reply": "2024-10-06T03:29:52.505172Z"
    },
    "papermill": {
     "duration": 0.074193,
     "end_time": "2024-10-06T03:29:52.509103",
     "exception": false,
     "start_time": "2024-10-06T03:29:52.434910",
     "status": "completed"
    },
    "tags": []
   },
   "outputs": [
    {
     "data": {
      "text/plain": [
       "1928"
      ]
     },
     "execution_count": 5,
     "metadata": {},
     "output_type": "execute_result"
    }
   ],
   "source": [
    "((df.group=='control') & (df.landing_page=='new_page')).sum()"
   ]
  },
  {
   "cell_type": "code",
   "execution_count": 6,
   "id": "fd773f75",
   "metadata": {
    "execution": {
     "iopub.execute_input": "2024-10-06T03:29:52.529753Z",
     "iopub.status.busy": "2024-10-06T03:29:52.529319Z",
     "iopub.status.idle": "2024-10-06T03:29:52.669714Z",
     "shell.execute_reply": "2024-10-06T03:29:52.668408Z"
    },
    "papermill": {
     "duration": 0.154069,
     "end_time": "2024-10-06T03:29:52.672494",
     "exception": false,
     "start_time": "2024-10-06T03:29:52.518425",
     "status": "completed"
    },
    "tags": []
   },
   "outputs": [],
   "source": [
    "df['misaligned']=((df.group=='treatment') & (df.landing_page=='old_page')) | ((df.group=='control') & (df.landing_page=='new_page'))\n",
    "df = df[-df['misaligned']]"
   ]
  },
  {
   "cell_type": "code",
   "execution_count": 7,
   "id": "3cd2d5ac",
   "metadata": {
    "execution": {
     "iopub.execute_input": "2024-10-06T03:29:52.693629Z",
     "iopub.status.busy": "2024-10-06T03:29:52.692971Z",
     "iopub.status.idle": "2024-10-06T03:29:52.754053Z",
     "shell.execute_reply": "2024-10-06T03:29:52.752796Z"
    },
    "papermill": {
     "duration": 0.074885,
     "end_time": "2024-10-06T03:29:52.756843",
     "exception": false,
     "start_time": "2024-10-06T03:29:52.681958",
     "status": "completed"
    },
    "tags": []
   },
   "outputs": [
    {
     "name": "stdout",
     "output_type": "stream",
     "text": [
      "<class 'pandas.core.frame.DataFrame'>\n",
      "Index: 290585 entries, 0 to 294477\n",
      "Data columns (total 6 columns):\n",
      " #   Column        Non-Null Count   Dtype \n",
      "---  ------        --------------   ----- \n",
      " 0   user_id       290585 non-null  int64 \n",
      " 1   timestamp     290585 non-null  object\n",
      " 2   group         290585 non-null  object\n",
      " 3   landing_page  290585 non-null  object\n",
      " 4   converted     290585 non-null  int64 \n",
      " 5   misaligned    290585 non-null  bool  \n",
      "dtypes: bool(1), int64(2), object(3)\n",
      "memory usage: 13.6+ MB\n"
     ]
    }
   ],
   "source": [
    "df.info()"
   ]
  },
  {
   "cell_type": "code",
   "execution_count": 8,
   "id": "e4ffe6ee",
   "metadata": {
    "execution": {
     "iopub.execute_input": "2024-10-06T03:29:52.777481Z",
     "iopub.status.busy": "2024-10-06T03:29:52.777052Z",
     "iopub.status.idle": "2024-10-06T03:29:52.789727Z",
     "shell.execute_reply": "2024-10-06T03:29:52.788564Z"
    },
    "papermill": {
     "duration": 0.026105,
     "end_time": "2024-10-06T03:29:52.792343",
     "exception": false,
     "start_time": "2024-10-06T03:29:52.766238",
     "status": "completed"
    },
    "tags": []
   },
   "outputs": [
    {
     "data": {
      "text/html": [
       "<div>\n",
       "<style scoped>\n",
       "    .dataframe tbody tr th:only-of-type {\n",
       "        vertical-align: middle;\n",
       "    }\n",
       "\n",
       "    .dataframe tbody tr th {\n",
       "        vertical-align: top;\n",
       "    }\n",
       "\n",
       "    .dataframe thead th {\n",
       "        text-align: right;\n",
       "    }\n",
       "</style>\n",
       "<table border=\"1\" class=\"dataframe\">\n",
       "  <thead>\n",
       "    <tr style=\"text-align: right;\">\n",
       "      <th></th>\n",
       "      <th>user_id</th>\n",
       "      <th>timestamp</th>\n",
       "      <th>group</th>\n",
       "      <th>landing_page</th>\n",
       "      <th>converted</th>\n",
       "      <th>misaligned</th>\n",
       "    </tr>\n",
       "  </thead>\n",
       "  <tbody>\n",
       "    <tr>\n",
       "      <th>0</th>\n",
       "      <td>851104</td>\n",
       "      <td>11:48.6</td>\n",
       "      <td>control</td>\n",
       "      <td>old_page</td>\n",
       "      <td>0</td>\n",
       "      <td>False</td>\n",
       "    </tr>\n",
       "    <tr>\n",
       "      <th>1</th>\n",
       "      <td>804228</td>\n",
       "      <td>01:45.2</td>\n",
       "      <td>control</td>\n",
       "      <td>old_page</td>\n",
       "      <td>0</td>\n",
       "      <td>False</td>\n",
       "    </tr>\n",
       "    <tr>\n",
       "      <th>2</th>\n",
       "      <td>661590</td>\n",
       "      <td>55:06.2</td>\n",
       "      <td>treatment</td>\n",
       "      <td>new_page</td>\n",
       "      <td>1</td>\n",
       "      <td>False</td>\n",
       "    </tr>\n",
       "    <tr>\n",
       "      <th>3</th>\n",
       "      <td>853541</td>\n",
       "      <td>28:03.1</td>\n",
       "      <td>treatment</td>\n",
       "      <td>new_page</td>\n",
       "      <td>1</td>\n",
       "      <td>False</td>\n",
       "    </tr>\n",
       "    <tr>\n",
       "      <th>4</th>\n",
       "      <td>864975</td>\n",
       "      <td>52:26.2</td>\n",
       "      <td>control</td>\n",
       "      <td>old_page</td>\n",
       "      <td>1</td>\n",
       "      <td>False</td>\n",
       "    </tr>\n",
       "  </tbody>\n",
       "</table>\n",
       "</div>"
      ],
      "text/plain": [
       "   user_id timestamp      group landing_page  converted  misaligned\n",
       "0   851104   11:48.6    control     old_page          0       False\n",
       "1   804228   01:45.2    control     old_page          0       False\n",
       "2   661590   55:06.2  treatment     new_page          1       False\n",
       "3   853541   28:03.1  treatment     new_page          1       False\n",
       "4   864975   52:26.2    control     old_page          1       False"
      ]
     },
     "execution_count": 8,
     "metadata": {},
     "output_type": "execute_result"
    }
   ],
   "source": [
    "df.head()"
   ]
  },
  {
   "cell_type": "markdown",
   "id": "06b7c7e8",
   "metadata": {
    "papermill": {
     "duration": 0.009245,
     "end_time": "2024-10-06T03:29:52.811423",
     "exception": false,
     "start_time": "2024-10-06T03:29:52.802178",
     "status": "completed"
    },
    "tags": []
   },
   "source": [
    "**Check unique users**"
   ]
  },
  {
   "cell_type": "code",
   "execution_count": 9,
   "id": "687eb6df",
   "metadata": {
    "execution": {
     "iopub.execute_input": "2024-10-06T03:29:52.850359Z",
     "iopub.status.busy": "2024-10-06T03:29:52.849965Z",
     "iopub.status.idle": "2024-10-06T03:29:52.873105Z",
     "shell.execute_reply": "2024-10-06T03:29:52.871944Z"
    },
    "papermill": {
     "duration": 0.054739,
     "end_time": "2024-10-06T03:29:52.875805",
     "exception": false,
     "start_time": "2024-10-06T03:29:52.821066",
     "status": "completed"
    },
    "tags": []
   },
   "outputs": [
    {
     "data": {
      "text/plain": [
       "290584"
      ]
     },
     "execution_count": 9,
     "metadata": {},
     "output_type": "execute_result"
    }
   ],
   "source": [
    "df.user_id.nunique()"
   ]
  },
  {
   "cell_type": "code",
   "execution_count": 10,
   "id": "47ee794c",
   "metadata": {
    "execution": {
     "iopub.execute_input": "2024-10-06T03:29:52.896894Z",
     "iopub.status.busy": "2024-10-06T03:29:52.896483Z",
     "iopub.status.idle": "2024-10-06T03:29:52.945650Z",
     "shell.execute_reply": "2024-10-06T03:29:52.944492Z"
    },
    "papermill": {
     "duration": 0.062764,
     "end_time": "2024-10-06T03:29:52.948244",
     "exception": false,
     "start_time": "2024-10-06T03:29:52.885480",
     "status": "completed"
    },
    "tags": []
   },
   "outputs": [
    {
     "data": {
      "text/plain": [
       "user_id\n",
       "773192    2\n",
       "834487    1\n",
       "936923    1\n",
       "679687    1\n",
       "719014    1\n",
       "Name: count, dtype: int64"
      ]
     },
     "execution_count": 10,
     "metadata": {},
     "output_type": "execute_result"
    }
   ],
   "source": [
    "df['user_id'].value_counts().sort_values(ascending=False).head()"
   ]
  },
  {
   "cell_type": "markdown",
   "id": "0e71ec65",
   "metadata": {
    "papermill": {
     "duration": 0.01008,
     "end_time": "2024-10-06T03:29:52.968425",
     "exception": false,
     "start_time": "2024-10-06T03:29:52.958345",
     "status": "completed"
    },
    "tags": []
   },
   "source": [
    "**Make assumption:**"
   ]
  },
  {
   "cell_type": "code",
   "execution_count": 11,
   "id": "05dbdabe",
   "metadata": {
    "execution": {
     "iopub.execute_input": "2024-10-06T03:29:52.989903Z",
     "iopub.status.busy": "2024-10-06T03:29:52.989447Z",
     "iopub.status.idle": "2024-10-06T03:29:53.003011Z",
     "shell.execute_reply": "2024-10-06T03:29:53.001913Z"
    },
    "papermill": {
     "duration": 0.02732,
     "end_time": "2024-10-06T03:29:53.005530",
     "exception": false,
     "start_time": "2024-10-06T03:29:52.978210",
     "status": "completed"
    },
    "tags": []
   },
   "outputs": [
    {
     "data": {
      "text/html": [
       "<div>\n",
       "<style scoped>\n",
       "    .dataframe tbody tr th:only-of-type {\n",
       "        vertical-align: middle;\n",
       "    }\n",
       "\n",
       "    .dataframe tbody tr th {\n",
       "        vertical-align: top;\n",
       "    }\n",
       "\n",
       "    .dataframe thead th {\n",
       "        text-align: right;\n",
       "    }\n",
       "</style>\n",
       "<table border=\"1\" class=\"dataframe\">\n",
       "  <thead>\n",
       "    <tr style=\"text-align: right;\">\n",
       "      <th></th>\n",
       "      <th>user_id</th>\n",
       "      <th>timestamp</th>\n",
       "      <th>group</th>\n",
       "      <th>landing_page</th>\n",
       "      <th>converted</th>\n",
       "      <th>misaligned</th>\n",
       "    </tr>\n",
       "  </thead>\n",
       "  <tbody>\n",
       "    <tr>\n",
       "      <th>1899</th>\n",
       "      <td>773192</td>\n",
       "      <td>37:58.8</td>\n",
       "      <td>treatment</td>\n",
       "      <td>new_page</td>\n",
       "      <td>1</td>\n",
       "      <td>False</td>\n",
       "    </tr>\n",
       "    <tr>\n",
       "      <th>2893</th>\n",
       "      <td>773192</td>\n",
       "      <td>55:59.6</td>\n",
       "      <td>treatment</td>\n",
       "      <td>new_page</td>\n",
       "      <td>0</td>\n",
       "      <td>False</td>\n",
       "    </tr>\n",
       "  </tbody>\n",
       "</table>\n",
       "</div>"
      ],
      "text/plain": [
       "      user_id timestamp      group landing_page  converted  misaligned\n",
       "1899   773192   37:58.8  treatment     new_page          1       False\n",
       "2893   773192   55:59.6  treatment     new_page          0       False"
      ]
     },
     "execution_count": 11,
     "metadata": {},
     "output_type": "execute_result"
    }
   ],
   "source": [
    "df[df['user_id']==773192]"
   ]
  },
  {
   "cell_type": "code",
   "execution_count": 12,
   "id": "9ce0bb5a",
   "metadata": {
    "execution": {
     "iopub.execute_input": "2024-10-06T03:29:53.027705Z",
     "iopub.status.busy": "2024-10-06T03:29:53.027271Z",
     "iopub.status.idle": "2024-10-06T03:29:53.063891Z",
     "shell.execute_reply": "2024-10-06T03:29:53.062745Z"
    },
    "papermill": {
     "duration": 0.051212,
     "end_time": "2024-10-06T03:29:53.066815",
     "exception": false,
     "start_time": "2024-10-06T03:29:53.015603",
     "status": "completed"
    },
    "tags": []
   },
   "outputs": [],
   "source": [
    "df.drop(1899, axis = 0,inplace = True)"
   ]
  },
  {
   "cell_type": "code",
   "execution_count": 13,
   "id": "6fa290b9",
   "metadata": {
    "execution": {
     "iopub.execute_input": "2024-10-06T03:29:53.089950Z",
     "iopub.status.busy": "2024-10-06T03:29:53.088578Z",
     "iopub.status.idle": "2024-10-06T03:29:53.137679Z",
     "shell.execute_reply": "2024-10-06T03:29:53.136385Z"
    },
    "papermill": {
     "duration": 0.063196,
     "end_time": "2024-10-06T03:29:53.140157",
     "exception": false,
     "start_time": "2024-10-06T03:29:53.076961",
     "status": "completed"
    },
    "tags": []
   },
   "outputs": [
    {
     "data": {
      "text/plain": [
       "user_id\n",
       "851104    1\n",
       "834487    1\n",
       "936923    1\n",
       "679687    1\n",
       "719014    1\n",
       "Name: count, dtype: int64"
      ]
     },
     "execution_count": 13,
     "metadata": {},
     "output_type": "execute_result"
    }
   ],
   "source": [
    "df['user_id'].value_counts().sort_values(ascending=False).head()"
   ]
  },
  {
   "cell_type": "markdown",
   "id": "2be9af99",
   "metadata": {
    "papermill": {
     "duration": 0.010059,
     "end_time": "2024-10-06T03:29:53.160532",
     "exception": false,
     "start_time": "2024-10-06T03:29:53.150473",
     "status": "completed"
    },
    "tags": []
   },
   "source": [
    "**How many users in each group**"
   ]
  },
  {
   "cell_type": "code",
   "execution_count": 14,
   "id": "5bb68bdb",
   "metadata": {
    "execution": {
     "iopub.execute_input": "2024-10-06T03:29:53.183728Z",
     "iopub.status.busy": "2024-10-06T03:29:53.182416Z",
     "iopub.status.idle": "2024-10-06T03:29:53.228777Z",
     "shell.execute_reply": "2024-10-06T03:29:53.227297Z"
    },
    "papermill": {
     "duration": 0.061408,
     "end_time": "2024-10-06T03:29:53.231972",
     "exception": false,
     "start_time": "2024-10-06T03:29:53.170564",
     "status": "completed"
    },
    "tags": []
   },
   "outputs": [
    {
     "data": {
      "text/html": [
       "<div>\n",
       "<style scoped>\n",
       "    .dataframe tbody tr th:only-of-type {\n",
       "        vertical-align: middle;\n",
       "    }\n",
       "\n",
       "    .dataframe tbody tr th {\n",
       "        vertical-align: top;\n",
       "    }\n",
       "\n",
       "    .dataframe thead th {\n",
       "        text-align: right;\n",
       "    }\n",
       "</style>\n",
       "<table border=\"1\" class=\"dataframe\">\n",
       "  <thead>\n",
       "    <tr style=\"text-align: right;\">\n",
       "      <th></th>\n",
       "      <th>user_id</th>\n",
       "    </tr>\n",
       "    <tr>\n",
       "      <th>group</th>\n",
       "      <th></th>\n",
       "    </tr>\n",
       "  </thead>\n",
       "  <tbody>\n",
       "    <tr>\n",
       "      <th>control</th>\n",
       "      <td>145274</td>\n",
       "    </tr>\n",
       "    <tr>\n",
       "      <th>treatment</th>\n",
       "      <td>145310</td>\n",
       "    </tr>\n",
       "  </tbody>\n",
       "</table>\n",
       "</div>"
      ],
      "text/plain": [
       "           user_id\n",
       "group             \n",
       "control     145274\n",
       "treatment   145310"
      ]
     },
     "execution_count": 14,
     "metadata": {},
     "output_type": "execute_result"
    }
   ],
   "source": [
    "df[['user_id','group']].groupby('group').count()"
   ]
  },
  {
   "cell_type": "markdown",
   "id": "f45252d1",
   "metadata": {
    "papermill": {
     "duration": 0.010208,
     "end_time": "2024-10-06T03:29:53.252664",
     "exception": false,
     "start_time": "2024-10-06T03:29:53.242456",
     "status": "completed"
    },
    "tags": []
   },
   "source": [
    "Summary statistics: Calculate conversion rates for both groups (control and treatment)."
   ]
  },
  {
   "cell_type": "code",
   "execution_count": 15,
   "id": "36ac460e",
   "metadata": {
    "execution": {
     "iopub.execute_input": "2024-10-06T03:29:53.275098Z",
     "iopub.status.busy": "2024-10-06T03:29:53.274619Z",
     "iopub.status.idle": "2024-10-06T03:29:53.322238Z",
     "shell.execute_reply": "2024-10-06T03:29:53.321116Z"
    },
    "papermill": {
     "duration": 0.061861,
     "end_time": "2024-10-06T03:29:53.324770",
     "exception": false,
     "start_time": "2024-10-06T03:29:53.262909",
     "status": "completed"
    },
    "tags": []
   },
   "outputs": [
    {
     "data": {
      "text/html": [
       "<div>\n",
       "<style scoped>\n",
       "    .dataframe tbody tr th:only-of-type {\n",
       "        vertical-align: middle;\n",
       "    }\n",
       "\n",
       "    .dataframe tbody tr th {\n",
       "        vertical-align: top;\n",
       "    }\n",
       "\n",
       "    .dataframe thead th {\n",
       "        text-align: right;\n",
       "    }\n",
       "</style>\n",
       "<table border=\"1\" class=\"dataframe\">\n",
       "  <thead>\n",
       "    <tr style=\"text-align: right;\">\n",
       "      <th></th>\n",
       "      <th>mean</th>\n",
       "      <th>count</th>\n",
       "      <th>sum</th>\n",
       "    </tr>\n",
       "    <tr>\n",
       "      <th>group</th>\n",
       "      <th></th>\n",
       "      <th></th>\n",
       "      <th></th>\n",
       "    </tr>\n",
       "  </thead>\n",
       "  <tbody>\n",
       "    <tr>\n",
       "      <th>control</th>\n",
       "      <td>0.120386</td>\n",
       "      <td>145274</td>\n",
       "      <td>17489</td>\n",
       "    </tr>\n",
       "    <tr>\n",
       "      <th>treatment</th>\n",
       "      <td>0.125353</td>\n",
       "      <td>145310</td>\n",
       "      <td>18215</td>\n",
       "    </tr>\n",
       "  </tbody>\n",
       "</table>\n",
       "</div>"
      ],
      "text/plain": [
       "               mean   count    sum\n",
       "group                             \n",
       "control    0.120386  145274  17489\n",
       "treatment  0.125353  145310  18215"
      ]
     },
     "execution_count": 15,
     "metadata": {},
     "output_type": "execute_result"
    }
   ],
   "source": [
    "df.groupby('group')['converted'].agg(['mean', 'count', 'sum'])"
   ]
  },
  {
   "cell_type": "markdown",
   "id": "3d0f20e5",
   "metadata": {
    "papermill": {
     "duration": 0.010647,
     "end_time": "2024-10-06T03:29:53.346670",
     "exception": false,
     "start_time": "2024-10-06T03:29:53.336023",
     "status": "completed"
    },
    "tags": []
   },
   "source": [
    "# 3. Analyze Results"
   ]
  },
  {
   "cell_type": "markdown",
   "id": "853a343f",
   "metadata": {
    "papermill": {
     "duration": 0.010152,
     "end_time": "2024-10-06T03:29:53.367373",
     "exception": false,
     "start_time": "2024-10-06T03:29:53.357221",
     "status": "completed"
    },
    "tags": []
   },
   "source": [
    "Let's assume that the new page does not have higher conversion rate than the old page at 5% Type II error. So the hypothesis woule be:\n",
    "\n",
    "null:  𝑝𝑛𝑒𝑤  -  𝑝𝑜𝑙𝑑  <=0\n",
    "\n",
    "alternative:  𝑝𝑛𝑒𝑤  -  𝑝𝑜𝑙𝑑  >0"
   ]
  },
  {
   "cell_type": "code",
   "execution_count": 16,
   "id": "134fc00e",
   "metadata": {
    "execution": {
     "iopub.execute_input": "2024-10-06T03:29:53.390796Z",
     "iopub.status.busy": "2024-10-06T03:29:53.390389Z",
     "iopub.status.idle": "2024-10-06T03:29:53.561344Z",
     "shell.execute_reply": "2024-10-06T03:29:53.559954Z"
    },
    "papermill": {
     "duration": 0.186365,
     "end_time": "2024-10-06T03:29:53.564151",
     "exception": false,
     "start_time": "2024-10-06T03:29:53.377786",
     "status": "completed"
    },
    "tags": []
   },
   "outputs": [
    {
     "data": {
      "text/plain": [
       "(17489, 18215, 145274, 145310)"
      ]
     },
     "execution_count": 16,
     "metadata": {},
     "output_type": "execute_result"
    }
   ],
   "source": [
    "convert_old = df[df.group=='control'].converted.sum()\n",
    "convert_new = df[df.group=='treatment'].converted.sum()\n",
    "n_old = len(df[df.group=='control'].converted)\n",
    "n_new= len(df[df.group=='treatment'].converted)\n",
    "\n",
    "convert_old, convert_new, n_old, n_new"
   ]
  },
  {
   "cell_type": "code",
   "execution_count": 17,
   "id": "adb112e5",
   "metadata": {
    "execution": {
     "iopub.execute_input": "2024-10-06T03:29:53.591016Z",
     "iopub.status.busy": "2024-10-06T03:29:53.589645Z",
     "iopub.status.idle": "2024-10-06T03:29:53.605003Z",
     "shell.execute_reply": "2024-10-06T03:29:53.603879Z"
    },
    "papermill": {
     "duration": 0.032345,
     "end_time": "2024-10-06T03:29:53.607452",
     "exception": false,
     "start_time": "2024-10-06T03:29:53.575107",
     "status": "completed"
    },
    "tags": []
   },
   "outputs": [
    {
     "data": {
      "text/html": [
       "<div>\n",
       "<style scoped>\n",
       "    .dataframe tbody tr th:only-of-type {\n",
       "        vertical-align: middle;\n",
       "    }\n",
       "\n",
       "    .dataframe tbody tr th {\n",
       "        vertical-align: top;\n",
       "    }\n",
       "\n",
       "    .dataframe thead th {\n",
       "        text-align: right;\n",
       "    }\n",
       "</style>\n",
       "<table border=\"1\" class=\"dataframe\">\n",
       "  <thead>\n",
       "    <tr style=\"text-align: right;\">\n",
       "      <th></th>\n",
       "      <th>Views</th>\n",
       "      <th>Converts</th>\n",
       "      <th>Conversion %</th>\n",
       "    </tr>\n",
       "  </thead>\n",
       "  <tbody>\n",
       "    <tr>\n",
       "      <th>Control</th>\n",
       "      <td>145274</td>\n",
       "      <td>17489</td>\n",
       "      <td>12.0%</td>\n",
       "    </tr>\n",
       "    <tr>\n",
       "      <th>Test</th>\n",
       "      <td>145310</td>\n",
       "      <td>18215</td>\n",
       "      <td>12.5%</td>\n",
       "    </tr>\n",
       "  </tbody>\n",
       "</table>\n",
       "</div>"
      ],
      "text/plain": [
       "          Views  Converts Conversion %\n",
       "Control  145274     17489        12.0%\n",
       "Test     145310     18215        12.5%"
      ]
     },
     "execution_count": 17,
     "metadata": {},
     "output_type": "execute_result"
    }
   ],
   "source": [
    "conversion_dic = {'Views':{'Control':n_old,'Test':n_new},'Converts': {'Control':convert_old,'Test':convert_new}}\n",
    "conversion_table = pd.DataFrame(conversion_dic)\n",
    "conversion_table['Conversion %'] = conversion_table['Converts'] / conversion_table['Views']\n",
    "conversion_table['Conversion %'] = conversion_table['Conversion %'].apply(lambda x: str(np.round(x,3)*100)+'%')\n",
    "conversion_table"
   ]
  },
  {
   "cell_type": "markdown",
   "id": "144a94fb",
   "metadata": {
    "papermill": {
     "duration": 0.011241,
     "end_time": "2024-10-06T03:29:53.629663",
     "exception": false,
     "start_time": "2024-10-06T03:29:53.618422",
     "status": "completed"
    },
    "tags": []
   },
   "source": [
    "# 3.1 Z-test in our way"
   ]
  },
  {
   "cell_type": "code",
   "execution_count": 18,
   "id": "9d1c2754",
   "metadata": {
    "execution": {
     "iopub.execute_input": "2024-10-06T03:29:53.654052Z",
     "iopub.status.busy": "2024-10-06T03:29:53.653564Z",
     "iopub.status.idle": "2024-10-06T03:29:53.662089Z",
     "shell.execute_reply": "2024-10-06T03:29:53.660140Z"
    },
    "papermill": {
     "duration": 0.024259,
     "end_time": "2024-10-06T03:29:53.665279",
     "exception": false,
     "start_time": "2024-10-06T03:29:53.641020",
     "status": "completed"
    },
    "tags": []
   },
   "outputs": [],
   "source": [
    "def z_test(p1,p0,n1,n0):\n",
    "    delta = p1-p0\n",
    "    std = (p1*n1 + p0*n0) / (n1+n0)\n",
    "    return delta / np.sqrt(std*(1-std)*(1/n1 + 1/n0))"
   ]
  },
  {
   "cell_type": "code",
   "execution_count": 19,
   "id": "57f41594",
   "metadata": {
    "execution": {
     "iopub.execute_input": "2024-10-06T03:29:53.692843Z",
     "iopub.status.busy": "2024-10-06T03:29:53.691097Z",
     "iopub.status.idle": "2024-10-06T03:29:53.697677Z",
     "shell.execute_reply": "2024-10-06T03:29:53.696509Z"
    },
    "papermill": {
     "duration": 0.023066,
     "end_time": "2024-10-06T03:29:53.700489",
     "exception": false,
     "start_time": "2024-10-06T03:29:53.677423",
     "status": "completed"
    },
    "tags": []
   },
   "outputs": [],
   "source": [
    "p1 = convert_new / n_new\n",
    "p0 = convert_old / n_old\n",
    "n1 = n_new\n",
    "n0 = n_old"
   ]
  },
  {
   "cell_type": "code",
   "execution_count": 20,
   "id": "7d4f84e5",
   "metadata": {
    "execution": {
     "iopub.execute_input": "2024-10-06T03:29:53.726055Z",
     "iopub.status.busy": "2024-10-06T03:29:53.725629Z",
     "iopub.status.idle": "2024-10-06T03:29:53.733636Z",
     "shell.execute_reply": "2024-10-06T03:29:53.732202Z"
    },
    "papermill": {
     "duration": 0.024007,
     "end_time": "2024-10-06T03:29:53.736438",
     "exception": false,
     "start_time": "2024-10-06T03:29:53.712431",
     "status": "completed"
    },
    "tags": []
   },
   "outputs": [
    {
     "data": {
      "text/plain": [
       "4.077481782861739"
      ]
     },
     "execution_count": 20,
     "metadata": {},
     "output_type": "execute_result"
    }
   ],
   "source": [
    "z_value = z_test(p1,p0,n1,n0)\n",
    "z_value"
   ]
  },
  {
   "cell_type": "code",
   "execution_count": 21,
   "id": "86a018cc",
   "metadata": {
    "execution": {
     "iopub.execute_input": "2024-10-06T03:29:53.761605Z",
     "iopub.status.busy": "2024-10-06T03:29:53.761199Z",
     "iopub.status.idle": "2024-10-06T03:29:54.950987Z",
     "shell.execute_reply": "2024-10-06T03:29:54.949779Z"
    },
    "papermill": {
     "duration": 1.204752,
     "end_time": "2024-10-06T03:29:54.953445",
     "exception": false,
     "start_time": "2024-10-06T03:29:53.748693",
     "status": "completed"
    },
    "tags": []
   },
   "outputs": [
    {
     "data": {
      "text/plain": [
       "2.276304781123617e-05"
      ]
     },
     "execution_count": 21,
     "metadata": {},
     "output_type": "execute_result"
    }
   ],
   "source": [
    "from scipy.stats import norm\n",
    "p_value = 1- norm.cdf(z_value)\n",
    "p_value"
   ]
  },
  {
   "cell_type": "markdown",
   "id": "300d1fb0",
   "metadata": {
    "papermill": {
     "duration": 0.010823,
     "end_time": "2024-10-06T03:29:54.975482",
     "exception": false,
     "start_time": "2024-10-06T03:29:54.964659",
     "status": "completed"
    },
    "tags": []
   },
   "source": [
    "p-value is less than 0.05, so we can reject null hypothesis and accept alternative hypothesis that\n",
    "𝑝𝑛𝑒𝑤  -  𝑝𝑜𝑙𝑑  >0, the new page has higher conversion rate than the old page\n"
   ]
  },
  {
   "cell_type": "markdown",
   "id": "e2abc8ea",
   "metadata": {
    "papermill": {
     "duration": 0.011486,
     "end_time": "2024-10-06T03:29:54.998241",
     "exception": false,
     "start_time": "2024-10-06T03:29:54.986755",
     "status": "completed"
    },
    "tags": []
   },
   "source": [
    "# 3.2 Z-test in Statsmodels"
   ]
  },
  {
   "cell_type": "code",
   "execution_count": 22,
   "id": "7ce38e8b",
   "metadata": {
    "execution": {
     "iopub.execute_input": "2024-10-06T03:29:55.022466Z",
     "iopub.status.busy": "2024-10-06T03:29:55.021916Z",
     "iopub.status.idle": "2024-10-06T03:29:57.036297Z",
     "shell.execute_reply": "2024-10-06T03:29:57.034884Z"
    },
    "papermill": {
     "duration": 2.029855,
     "end_time": "2024-10-06T03:29:57.039202",
     "exception": false,
     "start_time": "2024-10-06T03:29:55.009347",
     "status": "completed"
    },
    "tags": []
   },
   "outputs": [],
   "source": [
    "import statsmodels.api as sm"
   ]
  },
  {
   "cell_type": "code",
   "execution_count": 23,
   "id": "2aa7bca3",
   "metadata": {
    "execution": {
     "iopub.execute_input": "2024-10-06T03:29:57.063969Z",
     "iopub.status.busy": "2024-10-06T03:29:57.063325Z",
     "iopub.status.idle": "2024-10-06T03:29:57.072674Z",
     "shell.execute_reply": "2024-10-06T03:29:57.071524Z"
    },
    "papermill": {
     "duration": 0.024724,
     "end_time": "2024-10-06T03:29:57.075254",
     "exception": false,
     "start_time": "2024-10-06T03:29:57.050530",
     "status": "completed"
    },
    "tags": []
   },
   "outputs": [
    {
     "data": {
      "text/plain": [
       "(4.077481782861739, 2.276304781118429e-05)"
      ]
     },
     "execution_count": 23,
     "metadata": {},
     "output_type": "execute_result"
    }
   ],
   "source": [
    "z_score, p_value = sm.stats.proportions_ztest([convert_new, convert_old], [n_new, n_old], alternative='larger')\n",
    "z_score, p_value"
   ]
  },
  {
   "cell_type": "markdown",
   "id": "d2167db1",
   "metadata": {
    "papermill": {
     "duration": 0.010803,
     "end_time": "2024-10-06T03:29:57.097244",
     "exception": false,
     "start_time": "2024-10-06T03:29:57.086441",
     "status": "completed"
    },
    "tags": []
   },
   "source": [
    "p-value is less than 0.05, so we can reject null hypothesis and accept alternative hypothesis that\n",
    "𝑝𝑛𝑒𝑤  -  𝑝𝑜𝑙𝑑  >0, the new page has higher conversion rate than the old page"
   ]
  },
  {
   "cell_type": "markdown",
   "id": "00210ae4",
   "metadata": {
    "papermill": {
     "duration": 0.011502,
     "end_time": "2024-10-06T03:29:57.120045",
     "exception": false,
     "start_time": "2024-10-06T03:29:57.108543",
     "status": "completed"
    },
    "tags": []
   },
   "source": [
    "# 4. EDA"
   ]
  },
  {
   "cell_type": "code",
   "execution_count": 24,
   "id": "d30a1cb2",
   "metadata": {
    "execution": {
     "iopub.execute_input": "2024-10-06T03:29:57.145359Z",
     "iopub.status.busy": "2024-10-06T03:29:57.144909Z",
     "iopub.status.idle": "2024-10-06T03:29:57.155641Z",
     "shell.execute_reply": "2024-10-06T03:29:57.154432Z"
    },
    "papermill": {
     "duration": 0.027229,
     "end_time": "2024-10-06T03:29:57.158372",
     "exception": false,
     "start_time": "2024-10-06T03:29:57.131143",
     "status": "completed"
    },
    "tags": []
   },
   "outputs": [
    {
     "data": {
      "text/plain": [
       "0         11:48.6\n",
       "1         01:45.2\n",
       "2         55:06.2\n",
       "3         28:03.1\n",
       "4         52:26.2\n",
       "           ...   \n",
       "294473    28:38.6\n",
       "294474    51:57.1\n",
       "294475    45:03.4\n",
       "294476    20:29.0\n",
       "294477    40:24.5\n",
       "Name: timestamp, Length: 290584, dtype: object"
      ]
     },
     "execution_count": 24,
     "metadata": {},
     "output_type": "execute_result"
    }
   ],
   "source": [
    "df['timestamp']"
   ]
  },
  {
   "cell_type": "code",
   "execution_count": 25,
   "id": "85d09aed",
   "metadata": {
    "execution": {
     "iopub.execute_input": "2024-10-06T03:29:57.182901Z",
     "iopub.status.busy": "2024-10-06T03:29:57.182423Z",
     "iopub.status.idle": "2024-10-06T03:29:57.921779Z",
     "shell.execute_reply": "2024-10-06T03:29:57.920727Z"
    },
    "papermill": {
     "duration": 0.754978,
     "end_time": "2024-10-06T03:29:57.924690",
     "exception": false,
     "start_time": "2024-10-06T03:29:57.169712",
     "status": "completed"
    },
    "tags": []
   },
   "outputs": [],
   "source": [
    "df['timestamp']=df['timestamp'].str.split(':').str[0].astype(int)"
   ]
  },
  {
   "cell_type": "code",
   "execution_count": 26,
   "id": "42805f83",
   "metadata": {
    "execution": {
     "iopub.execute_input": "2024-10-06T03:29:57.949394Z",
     "iopub.status.busy": "2024-10-06T03:29:57.948958Z",
     "iopub.status.idle": "2024-10-06T03:29:57.958292Z",
     "shell.execute_reply": "2024-10-06T03:29:57.957033Z"
    },
    "papermill": {
     "duration": 0.024829,
     "end_time": "2024-10-06T03:29:57.960925",
     "exception": false,
     "start_time": "2024-10-06T03:29:57.936096",
     "status": "completed"
    },
    "tags": []
   },
   "outputs": [
    {
     "data": {
      "text/plain": [
       "0         11\n",
       "1          1\n",
       "2         55\n",
       "3         28\n",
       "4         52\n",
       "          ..\n",
       "294473    28\n",
       "294474    51\n",
       "294475    45\n",
       "294476    20\n",
       "294477    40\n",
       "Name: timestamp, Length: 290584, dtype: int64"
      ]
     },
     "execution_count": 26,
     "metadata": {},
     "output_type": "execute_result"
    }
   ],
   "source": [
    "df['timestamp']"
   ]
  },
  {
   "cell_type": "code",
   "execution_count": 27,
   "id": "9b270398",
   "metadata": {
    "execution": {
     "iopub.execute_input": "2024-10-06T03:29:57.986753Z",
     "iopub.status.busy": "2024-10-06T03:29:57.985704Z",
     "iopub.status.idle": "2024-10-06T03:29:58.072792Z",
     "shell.execute_reply": "2024-10-06T03:29:58.071587Z"
    },
    "papermill": {
     "duration": 0.102947,
     "end_time": "2024-10-06T03:29:58.075354",
     "exception": false,
     "start_time": "2024-10-06T03:29:57.972407",
     "status": "completed"
    },
    "tags": []
   },
   "outputs": [
    {
     "data": {
      "text/html": [
       "<div>\n",
       "<style scoped>\n",
       "    .dataframe tbody tr th:only-of-type {\n",
       "        vertical-align: middle;\n",
       "    }\n",
       "\n",
       "    .dataframe tbody tr th {\n",
       "        vertical-align: top;\n",
       "    }\n",
       "\n",
       "    .dataframe thead th {\n",
       "        text-align: right;\n",
       "    }\n",
       "</style>\n",
       "<table border=\"1\" class=\"dataframe\">\n",
       "  <thead>\n",
       "    <tr style=\"text-align: right;\">\n",
       "      <th></th>\n",
       "      <th>timestamp</th>\n",
       "      <th>group</th>\n",
       "      <th>converted</th>\n",
       "      <th>Conversion %</th>\n",
       "    </tr>\n",
       "  </thead>\n",
       "  <tbody>\n",
       "    <tr>\n",
       "      <th>0</th>\n",
       "      <td>0</td>\n",
       "      <td>control</td>\n",
       "      <td>0.118893</td>\n",
       "      <td>11.89%</td>\n",
       "    </tr>\n",
       "    <tr>\n",
       "      <th>1</th>\n",
       "      <td>0</td>\n",
       "      <td>treatment</td>\n",
       "      <td>0.122311</td>\n",
       "      <td>12.23%</td>\n",
       "    </tr>\n",
       "    <tr>\n",
       "      <th>2</th>\n",
       "      <td>1</td>\n",
       "      <td>control</td>\n",
       "      <td>0.128778</td>\n",
       "      <td>12.88%</td>\n",
       "    </tr>\n",
       "    <tr>\n",
       "      <th>3</th>\n",
       "      <td>1</td>\n",
       "      <td>treatment</td>\n",
       "      <td>0.116889</td>\n",
       "      <td>11.69%</td>\n",
       "    </tr>\n",
       "    <tr>\n",
       "      <th>4</th>\n",
       "      <td>2</td>\n",
       "      <td>control</td>\n",
       "      <td>0.119730</td>\n",
       "      <td>11.97%</td>\n",
       "    </tr>\n",
       "  </tbody>\n",
       "</table>\n",
       "</div>"
      ],
      "text/plain": [
       "   timestamp      group  converted Conversion %\n",
       "0          0    control   0.118893       11.89%\n",
       "1          0  treatment   0.122311       12.23%\n",
       "2          1    control   0.128778       12.88%\n",
       "3          1  treatment   0.116889       11.69%\n",
       "4          2    control   0.119730       11.97%"
      ]
     },
     "execution_count": 27,
     "metadata": {},
     "output_type": "execute_result"
    }
   ],
   "source": [
    "df_time = df.groupby(['timestamp', 'group'])['converted'].mean().reset_index()\n",
    "df_time['Conversion %'] = df_time['converted'].apply(lambda x: f\"{np.round(x * 100, 2)}%\")\n",
    "df_time.head()"
   ]
  },
  {
   "cell_type": "code",
   "execution_count": 28,
   "id": "dacd2156",
   "metadata": {
    "execution": {
     "iopub.execute_input": "2024-10-06T03:29:58.100662Z",
     "iopub.status.busy": "2024-10-06T03:29:58.100218Z",
     "iopub.status.idle": "2024-10-06T03:29:58.118507Z",
     "shell.execute_reply": "2024-10-06T03:29:58.117461Z"
    },
    "papermill": {
     "duration": 0.033661,
     "end_time": "2024-10-06T03:29:58.120763",
     "exception": false,
     "start_time": "2024-10-06T03:29:58.087102",
     "status": "completed"
    },
    "tags": []
   },
   "outputs": [
    {
     "data": {
      "text/html": [
       "<div>\n",
       "<style scoped>\n",
       "    .dataframe tbody tr th:only-of-type {\n",
       "        vertical-align: middle;\n",
       "    }\n",
       "\n",
       "    .dataframe tbody tr th {\n",
       "        vertical-align: top;\n",
       "    }\n",
       "\n",
       "    .dataframe thead th {\n",
       "        text-align: right;\n",
       "    }\n",
       "</style>\n",
       "<table border=\"1\" class=\"dataframe\">\n",
       "  <thead>\n",
       "    <tr style=\"text-align: right;\">\n",
       "      <th>group</th>\n",
       "      <th>control</th>\n",
       "      <th>treatment</th>\n",
       "    </tr>\n",
       "    <tr>\n",
       "      <th>timestamp</th>\n",
       "      <th></th>\n",
       "      <th></th>\n",
       "    </tr>\n",
       "  </thead>\n",
       "  <tbody>\n",
       "    <tr>\n",
       "      <th>0</th>\n",
       "      <td>11.89%</td>\n",
       "      <td>12.23%</td>\n",
       "    </tr>\n",
       "    <tr>\n",
       "      <th>1</th>\n",
       "      <td>12.88%</td>\n",
       "      <td>11.69%</td>\n",
       "    </tr>\n",
       "    <tr>\n",
       "      <th>2</th>\n",
       "      <td>11.97%</td>\n",
       "      <td>12.78%</td>\n",
       "    </tr>\n",
       "    <tr>\n",
       "      <th>3</th>\n",
       "      <td>12.58%</td>\n",
       "      <td>13.11%</td>\n",
       "    </tr>\n",
       "    <tr>\n",
       "      <th>4</th>\n",
       "      <td>12.41%</td>\n",
       "      <td>11.08%</td>\n",
       "    </tr>\n",
       "  </tbody>\n",
       "</table>\n",
       "</div>"
      ],
      "text/plain": [
       "group     control treatment\n",
       "timestamp                  \n",
       "0          11.89%    12.23%\n",
       "1          12.88%    11.69%\n",
       "2          11.97%    12.78%\n",
       "3          12.58%    13.11%\n",
       "4          12.41%    11.08%"
      ]
     },
     "execution_count": 28,
     "metadata": {},
     "output_type": "execute_result"
    }
   ],
   "source": [
    "df_pivot = df_time.pivot(index='timestamp', columns='group', values='Conversion %')\n",
    "df_pivot.head()"
   ]
  },
  {
   "cell_type": "code",
   "execution_count": 29,
   "id": "d1ddd44d",
   "metadata": {
    "execution": {
     "iopub.execute_input": "2024-10-06T03:29:58.146335Z",
     "iopub.status.busy": "2024-10-06T03:29:58.145736Z",
     "iopub.status.idle": "2024-10-06T03:29:58.675101Z",
     "shell.execute_reply": "2024-10-06T03:29:58.673929Z"
    },
    "papermill": {
     "duration": 0.545948,
     "end_time": "2024-10-06T03:29:58.678403",
     "exception": false,
     "start_time": "2024-10-06T03:29:58.132455",
     "status": "completed"
    },
    "tags": []
   },
   "outputs": [
    {
     "data": {
      "image/png": "[encoded data removed]",
      "text/plain": [
       "<Figure size 1000x600 with 1 Axes>"
      ]
     },
     "metadata": {},
     "output_type": "display_data"
    }
   ],
   "source": [
    "plt.figure(figsize=(10,6))\n",
    "plt.plot(df_pivot.index, df_pivot['control'], label='Control Group (Old Page)', marker='o')\n",
    "plt.plot(df_pivot.index, df_pivot['treatment'], label='Treatment Group (New Page)', marker='o')\n",
    "\n",
    "\n",
    "plt.title('Conversion Rate Over Time (Grouped by Minutes)')\n",
    "plt.xlabel('Minutes(m)')\n",
    "plt.ylabel('Conversion Rate (%)')\n",
    "plt.xticks(rotation=45)\n",
    "plt.yticks(np.arange(0, 100, 5))\n",
    "plt.legend()\n",
    "\n",
    "plt.tight_layout()\n",
    "plt.show()"
   ]
  }
 ],
 "metadata": {
  "kaggle": {
   "accelerator": "none",
   "dataSources": [
    {
     "datasetId": 5813240,
     "sourceId": 9542520,
     "sourceType": "datasetVersion"
    }
   ],
   "dockerImageVersionId": 30786,
   "isGpuEnabled": false,
   "isInternetEnabled": true,
   "language": "python",
   "sourceType": "notebook"
  },
  "kernelspec": {
   "display_name": "Python 3",
   "language": "python",
   "name": "python3"
  },
  "language_info": {
   "codemirror_mode": {
    "name": "ipython",
    "version": 3
   },
   "file_extension": ".py",
   "mimetype": "text/x-python",
   "name": "python",
   "nbconvert_exporter": "python",
   "pygments_lexer": "ipython3",
   "version": "3.10.14"
  },
  "papermill": {
   "default_parameters": {},
   "duration": 11.893474,
   "end_time": "2024-10-06T03:29:59.416749",
   "environment_variables": {},
   "exception": null,
   "input_path": "__notebook__.ipynb",
   "output_path": "__notebook__.ipynb",
   "parameters": {},
   "start_time": "2024-10-06T03:29:47.523275",
   "version": "2.6.0"
  }
 },
 "nbformat": 4,
 "nbformat_minor": 5
}
